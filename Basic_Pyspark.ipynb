{
  "nbformat": 4,
  "nbformat_minor": 0,
  "metadata": {
    "colab": {
      "provenance": [],
      "mount_file_id": "1uxBgCHXOGMfOvvi-TxgCTPl5YV_JT8a1",
      "authorship_tag": "ABX9TyNqsP4xX1eJipFCBKcJBl5g",
      "include_colab_link": true
    },
    "kernelspec": {
      "name": "python3",
      "display_name": "Python 3"
    },
    "language_info": {
      "name": "python"
    }
  },
  "cells": [
    {
      "cell_type": "markdown",
      "metadata": {
        "id": "view-in-github",
        "colab_type": "text"
      },
      "source": [
        "<a href=\"https://colab.research.google.com/github/Akashpandey1507/Interview-Preparation/blob/main/Basic_Pyspark.ipynb\" target=\"_parent\"><img src=\"https://colab.research.google.com/assets/colab-badge.svg\" alt=\"Open In Colab\"/></a>"
      ]
    },
    {
      "cell_type": "code",
      "source": [
        "!pip install pyspark"
      ],
      "metadata": {
        "colab": {
          "base_uri": "https://localhost:8080/"
        },
        "id": "wXLHdyLlhzaD",
        "outputId": "3d847440-1222-422d-9fb4-3e49312fb01c"
      },
      "execution_count": 1,
      "outputs": [
        {
          "output_type": "stream",
          "name": "stdout",
          "text": [
            "Collecting pyspark\n",
            "  Downloading pyspark-3.4.1.tar.gz (310.8 MB)\n",
            "\u001b[2K     \u001b[90m━━━━━━━━━━━━━━━━━━━━━━━━━━━━━━━━━━━━━━━\u001b[0m \u001b[32m310.8/310.8 MB\u001b[0m \u001b[31m3.9 MB/s\u001b[0m eta \u001b[36m0:00:00\u001b[0m\n",
            "\u001b[?25h  Preparing metadata (setup.py) ... \u001b[?25l\u001b[?25hdone\n",
            "Requirement already satisfied: py4j==0.10.9.7 in /usr/local/lib/python3.10/dist-packages (from pyspark) (0.10.9.7)\n",
            "Building wheels for collected packages: pyspark\n",
            "  Building wheel for pyspark (setup.py) ... \u001b[?25l\u001b[?25hdone\n",
            "  Created wheel for pyspark: filename=pyspark-3.4.1-py2.py3-none-any.whl size=311285387 sha256=0af33a5f82314ca2599f74a51e5e6bf68b3c2f83002a2423e6e0fd7e9a8322d2\n",
            "  Stored in directory: /root/.cache/pip/wheels/0d/77/a3/ff2f74cc9ab41f8f594dabf0579c2a7c6de920d584206e0834\n",
            "Successfully built pyspark\n",
            "Installing collected packages: pyspark\n",
            "Successfully installed pyspark-3.4.1\n"
          ]
        }
      ]
    },
    {
      "cell_type": "code",
      "source": [
        "file = r\"/content/drive/MyDrive/Data Analysis Files/Global Population Trends(2016-2022).csv\""
      ],
      "metadata": {
        "id": "6DO25lAaiNBV"
      },
      "execution_count": 6,
      "outputs": []
    },
    {
      "cell_type": "code",
      "source": [
        "from pyspark.sql import SparkSession\n",
        "import pyspark\n",
        "\n",
        "# Create a SparkSession\n",
        "spark = SparkSession.builder \\\n",
        "    .appName(\"MySparkApp\") \\\n",
        "    .config(\"spark.some.config.option\", \"config-value\") \\\n",
        "    .getOrCreate()\n",
        "\n",
        "# Now you can use the 'spark' object to work with Spark APIs.\n"
      ],
      "metadata": {
        "id": "H2L0QWO0iQo0"
      },
      "execution_count": 3,
      "outputs": []
    },
    {
      "cell_type": "code",
      "source": [
        "df = spark.read.csv(file, header=True, inferSchema=True)\n",
        "df.show()"
      ],
      "metadata": {
        "colab": {
          "base_uri": "https://localhost:8080/"
        },
        "id": "D9nPJThiiT5s",
        "outputId": "f7951699-554a-4416-c431-8a889cfad5c5"
      },
      "execution_count": 7,
      "outputs": [
        {
          "output_type": "stream",
          "name": "stdout",
          "text": [
            "+--------------+----+----------------+----------------+----------------+------------------+---------------+----------+----------+--------------+---------------------+-----------+\n",
            "|       Country|Year|Total Population|Urban Population|Rural Population|Population Density|Life Expectancy|Birth Rate|Death Rate|Fertility Rate|Infant Mortality Rate|Growth Rate|\n",
            "+--------------+----+----------------+----------------+----------------+------------------+---------------+----------+----------+--------------+---------------------+-----------+\n",
            "|   Afghanistan|2017|               -|               -|               -|                55|           63.0|    37.342|     7.027|         5.129|                 49.4|          -|\n",
            "|   Afghanistan|2018|      36,686,784|       9,353,296|      27,333,488|                56|           63.0|    36.927|     6.981|         5.002|                 47.8|        3.0|\n",
            "|   Afghanistan|2019|      37,769,499|       9,727,157|      28,042,342|                58|           64.0|    36.466|     6.791|          4.87|                 46.3|        3.0|\n",
            "|   Afghanistan|2020|      38,972,230|      10,142,913|      28,829,317|                60|           63.0|    36.051|     7.113|          4.75|                 44.8|        3.0|\n",
            "|   Afghanistan|2021|      40,099,462|      10,551,772|      29,547,690|                 -|           62.0|    35.842|     7.344|         4.643|                 43.4|        3.0|\n",
            "|       Albania|2017|               -|               -|               -|               105|           79.0|     10.87|      8.15|         1.491|                  8.3|          -|\n",
            "|       Albania|2018|       2,866,376|       1,728,969|       1,137,407|               105|           79.0|    10.517|     8.308|          1.44|                  8.3|        0.0|\n",
            "|       Albania|2019|       2,854,191|       1,747,593|       1,106,598|               104|           79.0|    10.343|      8.48|         1.414|                  8.4|        0.0|\n",
            "|       Albania|2020|       2,837,849|       1,762,645|       1,075,204|               104|           77.0|    10.285|    10.785|           1.4|                  8.4|       -1.0|\n",
            "|       Albania|2021|       2,811,666|       1,770,478|       1,041,188|                 -|           76.0|     10.24|    11.325|          1.39|                  8.4|       -1.0|\n",
            "|       Algeria|2017|               -|               -|               -|                17|           76.0|    24.755|     4.542|          3.05|                 21.0|          -|\n",
            "|       Algeria|2018|      41,927,007|      30,451,166|      11,475,841|                18|           76.0|    24.074|     4.482|         3.023|                 20.6|        2.0|\n",
            "|       Algeria|2019|      42,705,368|      31,255,632|      11,449,736|                18|           76.0|    23.298|     4.392|         2.988|                 20.1|        2.0|\n",
            "|       Algeria|2020|      43,451,666|      32,038,217|      11,413,449|                18|           74.0|    22.431|     5.398|         2.942|                 19.6|        2.0|\n",
            "|       Algeria|2021|      44,177,969|      32,807,002|      11,370,967|                 -|           76.0|    21.524|     4.546|         2.889|                 19.2|        2.0|\n",
            "|American Samoa|2018|          48,424|          42,203|           6,221|               242|              -|       0.0|       0.0|             -|                    -|       -2.0|\n",
            "|American Samoa|2019|          47,321|          41,239|           6,082|               237|              -|       0.0|       0.0|             -|                    -|       -2.0|\n",
            "|American Samoa|2020|          46,189|          40,255|           5,934|               231|              -|      12.7|       5.6|             -|                    -|       -2.0|\n",
            "|American Samoa|2021|          45,035|          39,257|           5,778|                 -|              -|       0.0|       0.0|             -|                    -|       -3.0|\n",
            "|       Andorra|2018|          75,013|          66,058|           8,955|               160|              -|       7.2|       4.4|             -|                  2.9|        2.0|\n",
            "+--------------+----+----------------+----------------+----------------+------------------+---------------+----------+----------+--------------+---------------------+-----------+\n",
            "only showing top 20 rows\n",
            "\n"
          ]
        }
      ]
    },
    {
      "cell_type": "code",
      "source": [
        "df.columns"
      ],
      "metadata": {
        "colab": {
          "base_uri": "https://localhost:8080/"
        },
        "id": "RG2ja-Bg3eEY",
        "outputId": "24d3eaf9-b966-4a88-be94-330b4ada3c48"
      },
      "execution_count": 8,
      "outputs": [
        {
          "output_type": "execute_result",
          "data": {
            "text/plain": [
              "['Country',\n",
              " 'Year',\n",
              " 'Total Population',\n",
              " 'Urban Population',\n",
              " 'Rural Population',\n",
              " 'Population Density',\n",
              " 'Life Expectancy',\n",
              " 'Birth Rate',\n",
              " 'Death Rate',\n",
              " 'Fertility Rate',\n",
              " 'Infant Mortality Rate',\n",
              " 'Growth Rate']"
            ]
          },
          "metadata": {},
          "execution_count": 8
        }
      ]
    },
    {
      "cell_type": "code",
      "source": [
        "len(df.columns)"
      ],
      "metadata": {
        "id": "QaPym3VL3eBu"
      },
      "execution_count": 9,
      "outputs": []
    },
    {
      "cell_type": "code",
      "source": [
        "df.tail"
      ],
      "metadata": {
        "colab": {
          "base_uri": "https://localhost:8080/"
        },
        "id": "z4e-Wdmt3d_F",
        "outputId": "d25980ef-d5d4-46b0-9bc5-57e258bcbfc6"
      },
      "execution_count": 11,
      "outputs": [
        {
          "output_type": "execute_result",
          "data": {
            "text/plain": [
              "<bound method DataFrame.tail of DataFrame[Country: string, Year: int, Total Population: string, Urban Population: string, Rural Population: string, Population Density: string, Life Expectancy: string, Birth Rate: double, Death Rate: double, Fertility Rate: string, Infant Mortality Rate: string, Growth Rate: string]>"
            ]
          },
          "metadata": {},
          "execution_count": 11
        }
      ]
    },
    {
      "cell_type": "code",
      "source": [
        "df.show(9)"
      ],
      "metadata": {
        "colab": {
          "base_uri": "https://localhost:8080/"
        },
        "id": "CeVRbvAC3d8l",
        "outputId": "e37a7c77-ef7f-455f-cd38-a56d18290e27"
      },
      "execution_count": 10,
      "outputs": [
        {
          "output_type": "stream",
          "name": "stdout",
          "text": [
            "+-----------+----+----------------+----------------+----------------+------------------+---------------+----------+----------+--------------+---------------------+-----------+\n",
            "|    Country|Year|Total Population|Urban Population|Rural Population|Population Density|Life Expectancy|Birth Rate|Death Rate|Fertility Rate|Infant Mortality Rate|Growth Rate|\n",
            "+-----------+----+----------------+----------------+----------------+------------------+---------------+----------+----------+--------------+---------------------+-----------+\n",
            "|Afghanistan|2017|               -|               -|               -|                55|           63.0|    37.342|     7.027|         5.129|                 49.4|          -|\n",
            "|Afghanistan|2018|      36,686,784|       9,353,296|      27,333,488|                56|           63.0|    36.927|     6.981|         5.002|                 47.8|        3.0|\n",
            "|Afghanistan|2019|      37,769,499|       9,727,157|      28,042,342|                58|           64.0|    36.466|     6.791|          4.87|                 46.3|        3.0|\n",
            "|Afghanistan|2020|      38,972,230|      10,142,913|      28,829,317|                60|           63.0|    36.051|     7.113|          4.75|                 44.8|        3.0|\n",
            "|Afghanistan|2021|      40,099,462|      10,551,772|      29,547,690|                 -|           62.0|    35.842|     7.344|         4.643|                 43.4|        3.0|\n",
            "|    Albania|2017|               -|               -|               -|               105|           79.0|     10.87|      8.15|         1.491|                  8.3|          -|\n",
            "|    Albania|2018|       2,866,376|       1,728,969|       1,137,407|               105|           79.0|    10.517|     8.308|          1.44|                  8.3|        0.0|\n",
            "|    Albania|2019|       2,854,191|       1,747,593|       1,106,598|               104|           79.0|    10.343|      8.48|         1.414|                  8.4|        0.0|\n",
            "|    Albania|2020|       2,837,849|       1,762,645|       1,075,204|               104|           77.0|    10.285|    10.785|           1.4|                  8.4|       -1.0|\n",
            "+-----------+----+----------------+----------------+----------------+------------------+---------------+----------+----------+--------------+---------------------+-----------+\n",
            "only showing top 9 rows\n",
            "\n"
          ]
        }
      ]
    },
    {
      "cell_type": "code",
      "source": [
        "df.select('Total Population','Year').show()"
      ],
      "metadata": {
        "colab": {
          "base_uri": "https://localhost:8080/"
        },
        "id": "B4gw_BTC3d59",
        "outputId": "1a0ac80e-e341-412f-c566-5e456edced54"
      },
      "execution_count": 12,
      "outputs": [
        {
          "output_type": "stream",
          "name": "stdout",
          "text": [
            "+----------------+----+\n",
            "|Total Population|Year|\n",
            "+----------------+----+\n",
            "|               -|2017|\n",
            "|      36,686,784|2018|\n",
            "|      37,769,499|2019|\n",
            "|      38,972,230|2020|\n",
            "|      40,099,462|2021|\n",
            "|               -|2017|\n",
            "|       2,866,376|2018|\n",
            "|       2,854,191|2019|\n",
            "|       2,837,849|2020|\n",
            "|       2,811,666|2021|\n",
            "|               -|2017|\n",
            "|      41,927,007|2018|\n",
            "|      42,705,368|2019|\n",
            "|      43,451,666|2020|\n",
            "|      44,177,969|2021|\n",
            "|          48,424|2018|\n",
            "|          47,321|2019|\n",
            "|          46,189|2020|\n",
            "|          45,035|2021|\n",
            "|          75,013|2018|\n",
            "+----------------+----+\n",
            "only showing top 20 rows\n",
            "\n"
          ]
        }
      ]
    },
    {
      "cell_type": "code",
      "source": [
        "df.columns"
      ],
      "metadata": {
        "colab": {
          "base_uri": "https://localhost:8080/"
        },
        "id": "cN_dy2hx3d3N",
        "outputId": "8411820f-f50c-4581-aab7-a2c910745a67"
      },
      "execution_count": 13,
      "outputs": [
        {
          "output_type": "execute_result",
          "data": {
            "text/plain": [
              "['Country',\n",
              " 'Year',\n",
              " 'Total Population',\n",
              " 'Urban Population',\n",
              " 'Rural Population',\n",
              " 'Population Density',\n",
              " 'Life Expectancy',\n",
              " 'Birth Rate',\n",
              " 'Death Rate',\n",
              " 'Fertility Rate',\n",
              " 'Infant Mortality Rate',\n",
              " 'Growth Rate']"
            ]
          },
          "metadata": {},
          "execution_count": 13
        }
      ]
    },
    {
      "cell_type": "code",
      "source": [
        "df.select(df.columns[2:]).show()"
      ],
      "metadata": {
        "colab": {
          "base_uri": "https://localhost:8080/"
        },
        "id": "Y7KL85zp3d0l",
        "outputId": "8f62838a-efaa-4127-9b02-442f1c140d67"
      },
      "execution_count": 14,
      "outputs": [
        {
          "output_type": "stream",
          "name": "stdout",
          "text": [
            "+----------------+----------------+----------------+------------------+---------------+----------+----------+--------------+---------------------+-----------+\n",
            "|Total Population|Urban Population|Rural Population|Population Density|Life Expectancy|Birth Rate|Death Rate|Fertility Rate|Infant Mortality Rate|Growth Rate|\n",
            "+----------------+----------------+----------------+------------------+---------------+----------+----------+--------------+---------------------+-----------+\n",
            "|               -|               -|               -|                55|           63.0|    37.342|     7.027|         5.129|                 49.4|          -|\n",
            "|      36,686,784|       9,353,296|      27,333,488|                56|           63.0|    36.927|     6.981|         5.002|                 47.8|        3.0|\n",
            "|      37,769,499|       9,727,157|      28,042,342|                58|           64.0|    36.466|     6.791|          4.87|                 46.3|        3.0|\n",
            "|      38,972,230|      10,142,913|      28,829,317|                60|           63.0|    36.051|     7.113|          4.75|                 44.8|        3.0|\n",
            "|      40,099,462|      10,551,772|      29,547,690|                 -|           62.0|    35.842|     7.344|         4.643|                 43.4|        3.0|\n",
            "|               -|               -|               -|               105|           79.0|     10.87|      8.15|         1.491|                  8.3|          -|\n",
            "|       2,866,376|       1,728,969|       1,137,407|               105|           79.0|    10.517|     8.308|          1.44|                  8.3|        0.0|\n",
            "|       2,854,191|       1,747,593|       1,106,598|               104|           79.0|    10.343|      8.48|         1.414|                  8.4|        0.0|\n",
            "|       2,837,849|       1,762,645|       1,075,204|               104|           77.0|    10.285|    10.785|           1.4|                  8.4|       -1.0|\n",
            "|       2,811,666|       1,770,478|       1,041,188|                 -|           76.0|     10.24|    11.325|          1.39|                  8.4|       -1.0|\n",
            "|               -|               -|               -|                17|           76.0|    24.755|     4.542|          3.05|                 21.0|          -|\n",
            "|      41,927,007|      30,451,166|      11,475,841|                18|           76.0|    24.074|     4.482|         3.023|                 20.6|        2.0|\n",
            "|      42,705,368|      31,255,632|      11,449,736|                18|           76.0|    23.298|     4.392|         2.988|                 20.1|        2.0|\n",
            "|      43,451,666|      32,038,217|      11,413,449|                18|           74.0|    22.431|     5.398|         2.942|                 19.6|        2.0|\n",
            "|      44,177,969|      32,807,002|      11,370,967|                 -|           76.0|    21.524|     4.546|         2.889|                 19.2|        2.0|\n",
            "|          48,424|          42,203|           6,221|               242|              -|       0.0|       0.0|             -|                    -|       -2.0|\n",
            "|          47,321|          41,239|           6,082|               237|              -|       0.0|       0.0|             -|                    -|       -2.0|\n",
            "|          46,189|          40,255|           5,934|               231|              -|      12.7|       5.6|             -|                    -|       -2.0|\n",
            "|          45,035|          39,257|           5,778|                 -|              -|       0.0|       0.0|             -|                    -|       -3.0|\n",
            "|          75,013|          66,058|           8,955|               160|              -|       7.2|       4.4|             -|                  2.9|        2.0|\n",
            "+----------------+----------------+----------------+------------------+---------------+----------+----------+--------------+---------------------+-----------+\n",
            "only showing top 20 rows\n",
            "\n"
          ]
        }
      ]
    },
    {
      "cell_type": "code",
      "source": [
        "df.withColumnRenamed('Total Population', 'Total_Population').columns[2]"
      ],
      "metadata": {
        "colab": {
          "base_uri": "https://localhost:8080/",
          "height": 36
        },
        "id": "wtxVLyJU3dx9",
        "outputId": "45a10203-fb65-47ce-f79a-d964b38aa944"
      },
      "execution_count": 15,
      "outputs": [
        {
          "output_type": "execute_result",
          "data": {
            "text/plain": [
              "'Total_Population'"
            ],
            "application/vnd.google.colaboratory.intrinsic+json": {
              "type": "string"
            }
          },
          "metadata": {},
          "execution_count": 15
        }
      ]
    },
    {
      "cell_type": "code",
      "source": [
        "old_col = df.columns[2:5]\n",
        "old_col"
      ],
      "metadata": {
        "colab": {
          "base_uri": "https://localhost:8080/"
        },
        "id": "PIJFmE3b3dvd",
        "outputId": "87ea023c-713f-4d8f-b72a-9d967f4090b9"
      },
      "execution_count": 16,
      "outputs": [
        {
          "output_type": "execute_result",
          "data": {
            "text/plain": [
              "['Total Population', 'Urban Population', 'Rural Population']"
            ]
          },
          "metadata": {},
          "execution_count": 16
        }
      ]
    },
    {
      "cell_type": "code",
      "source": [
        "new_col = ['Total_Population','Urban_Population','Rural_Population']\n",
        "new_col"
      ],
      "metadata": {
        "colab": {
          "base_uri": "https://localhost:8080/"
        },
        "id": "vv_Yu0Wg3ds9",
        "outputId": "3ccfcb0a-6996-4916-8a51-69981a3a7019"
      },
      "execution_count": 17,
      "outputs": [
        {
          "output_type": "execute_result",
          "data": {
            "text/plain": [
              "['Total_Population', 'Urban_Population', 'Rural_Population']"
            ]
          },
          "metadata": {},
          "execution_count": 17
        }
      ]
    },
    {
      "cell_type": "code",
      "source": [
        "from pyspark.sql import functions as f"
      ],
      "metadata": {
        "id": "7mtTygb55RNR"
      },
      "execution_count": 18,
      "outputs": []
    },
    {
      "cell_type": "code",
      "source": [
        "for i, v in zip(old_col, new_col):\n",
        "    print(i,\":\", v)"
      ],
      "metadata": {
        "colab": {
          "base_uri": "https://localhost:8080/"
        },
        "id": "rywNoMxF6gg6",
        "outputId": "1043f103-4106-4085-de77-9a7056c1507c"
      },
      "execution_count": 19,
      "outputs": [
        {
          "output_type": "stream",
          "name": "stdout",
          "text": [
            "Total Population : Total_Population\n",
            "Urban Population : Urban_Population\n",
            "Rural Population : Rural_Population\n"
          ]
        }
      ]
    },
    {
      "cell_type": "code",
      "source": [
        "[print(i,\"-\", v) for i, v in zip(old_col, new_col)]"
      ],
      "metadata": {
        "colab": {
          "base_uri": "https://localhost:8080/"
        },
        "id": "6OU70Lkz6pfK",
        "outputId": "c9b9dd6e-0cb0-4f27-8078-eaa8c51f6dbb"
      },
      "execution_count": 20,
      "outputs": [
        {
          "output_type": "stream",
          "name": "stdout",
          "text": [
            "Total Population - Total_Population\n",
            "Urban Population - Urban_Population\n",
            "Rural Population - Rural_Population\n"
          ]
        },
        {
          "output_type": "execute_result",
          "data": {
            "text/plain": [
              "[None, None, None]"
            ]
          },
          "metadata": {},
          "execution_count": 20
        }
      ]
    },
    {
      "cell_type": "code",
      "source": [
        "df.select([df[i].alias(v) for i, v in zip(old_col, new_col)])"
      ],
      "metadata": {
        "colab": {
          "base_uri": "https://localhost:8080/"
        },
        "id": "7pJP8tMP5OwB",
        "outputId": "bccd2ef5-5403-4b57-fb11-e2633807de5f"
      },
      "execution_count": 21,
      "outputs": [
        {
          "output_type": "execute_result",
          "data": {
            "text/plain": [
              "DataFrame[Total_Population: string, Urban_Population: string, Rural_Population: string]"
            ]
          },
          "metadata": {},
          "execution_count": 21
        }
      ]
    },
    {
      "cell_type": "code",
      "source": [
        "df.select('Country')"
      ],
      "metadata": {
        "colab": {
          "base_uri": "https://localhost:8080/"
        },
        "id": "ZeUBx9tI66Ix",
        "outputId": "43dae918-0cbf-4061-859e-095d47aa3136"
      },
      "execution_count": 22,
      "outputs": [
        {
          "output_type": "execute_result",
          "data": {
            "text/plain": [
              "DataFrame[Country: string]"
            ]
          },
          "metadata": {},
          "execution_count": 22
        }
      ]
    },
    {
      "cell_type": "code",
      "source": [
        "df.groupBy('Country').count().show()"
      ],
      "metadata": {
        "colab": {
          "base_uri": "https://localhost:8080/"
        },
        "id": "5nlJaY1p7Tz8",
        "outputId": "189eade1-d101-413f-af6c-468229b7b153"
      },
      "execution_count": 23,
      "outputs": [
        {
          "output_type": "stream",
          "name": "stdout",
          "text": [
            "+-----------+-----+\n",
            "|    Country|count|\n",
            "+-----------+-----+\n",
            "|       Chad|    5|\n",
            "|   Paraguay|    5|\n",
            "|     Russia|    5|\n",
            "|      Macao|    5|\n",
            "|      Yemen|    5|\n",
            "|    Senegal|    5|\n",
            "| Cabo Verde|    5|\n",
            "|     Sweden|    5|\n",
            "|   Kiribati|    5|\n",
            "|     Guyana|    5|\n",
            "|    Eritrea|    5|\n",
            "|Philippines|    5|\n",
            "|   Djibouti|    5|\n",
            "|      Tonga|    5|\n",
            "|   Malaysia|    5|\n",
            "|  Singapore|    5|\n",
            "|       Fiji|    5|\n",
            "|     Turkey|    5|\n",
            "|     Malawi|    5|\n",
            "|       Iraq|    5|\n",
            "+-----------+-----+\n",
            "only showing top 20 rows\n",
            "\n"
          ]
        }
      ]
    },
    {
      "cell_type": "code",
      "source": [
        "df.printSchema()"
      ],
      "metadata": {
        "colab": {
          "base_uri": "https://localhost:8080/"
        },
        "id": "JmYadJj27dw9",
        "outputId": "e0be9ed4-df51-4e19-cca8-0cf45b0669d8"
      },
      "execution_count": 24,
      "outputs": [
        {
          "output_type": "stream",
          "name": "stdout",
          "text": [
            "root\n",
            " |-- Country: string (nullable = true)\n",
            " |-- Year: integer (nullable = true)\n",
            " |-- Total Population: string (nullable = true)\n",
            " |-- Urban Population: string (nullable = true)\n",
            " |-- Rural Population: string (nullable = true)\n",
            " |-- Population Density: string (nullable = true)\n",
            " |-- Life Expectancy: string (nullable = true)\n",
            " |-- Birth Rate: double (nullable = true)\n",
            " |-- Death Rate: double (nullable = true)\n",
            " |-- Fertility Rate: string (nullable = true)\n",
            " |-- Infant Mortality Rate: string (nullable = true)\n",
            " |-- Growth Rate: string (nullable = true)\n",
            "\n"
          ]
        }
      ]
    },
    {
      "cell_type": "code",
      "source": [
        "df.select('Total population')"
      ],
      "metadata": {
        "colab": {
          "base_uri": "https://localhost:8080/"
        },
        "id": "U-FbMmxy7oIt",
        "outputId": "aac9fc03-6ed3-4864-ca9e-fc0bf15afc94"
      },
      "execution_count": 25,
      "outputs": [
        {
          "output_type": "execute_result",
          "data": {
            "text/plain": [
              "DataFrame[Total population: string]"
            ]
          },
          "metadata": {},
          "execution_count": 25
        }
      ]
    },
    {
      "cell_type": "code",
      "source": [
        "df.withColumn('Total Population', f.regexp_replace(f.col('Total Population'),',','')).show()"
      ],
      "metadata": {
        "colab": {
          "base_uri": "https://localhost:8080/"
        },
        "id": "FZ3wWx3B8g-s",
        "outputId": "ee8ada05-0d96-463f-be09-6c861990e11b"
      },
      "execution_count": 26,
      "outputs": [
        {
          "output_type": "stream",
          "name": "stdout",
          "text": [
            "+--------------+----+----------------+----------------+----------------+------------------+---------------+----------+----------+--------------+---------------------+-----------+\n",
            "|       Country|Year|Total Population|Urban Population|Rural Population|Population Density|Life Expectancy|Birth Rate|Death Rate|Fertility Rate|Infant Mortality Rate|Growth Rate|\n",
            "+--------------+----+----------------+----------------+----------------+------------------+---------------+----------+----------+--------------+---------------------+-----------+\n",
            "|   Afghanistan|2017|               -|               -|               -|                55|           63.0|    37.342|     7.027|         5.129|                 49.4|          -|\n",
            "|   Afghanistan|2018|        36686784|       9,353,296|      27,333,488|                56|           63.0|    36.927|     6.981|         5.002|                 47.8|        3.0|\n",
            "|   Afghanistan|2019|        37769499|       9,727,157|      28,042,342|                58|           64.0|    36.466|     6.791|          4.87|                 46.3|        3.0|\n",
            "|   Afghanistan|2020|        38972230|      10,142,913|      28,829,317|                60|           63.0|    36.051|     7.113|          4.75|                 44.8|        3.0|\n",
            "|   Afghanistan|2021|        40099462|      10,551,772|      29,547,690|                 -|           62.0|    35.842|     7.344|         4.643|                 43.4|        3.0|\n",
            "|       Albania|2017|               -|               -|               -|               105|           79.0|     10.87|      8.15|         1.491|                  8.3|          -|\n",
            "|       Albania|2018|         2866376|       1,728,969|       1,137,407|               105|           79.0|    10.517|     8.308|          1.44|                  8.3|        0.0|\n",
            "|       Albania|2019|         2854191|       1,747,593|       1,106,598|               104|           79.0|    10.343|      8.48|         1.414|                  8.4|        0.0|\n",
            "|       Albania|2020|         2837849|       1,762,645|       1,075,204|               104|           77.0|    10.285|    10.785|           1.4|                  8.4|       -1.0|\n",
            "|       Albania|2021|         2811666|       1,770,478|       1,041,188|                 -|           76.0|     10.24|    11.325|          1.39|                  8.4|       -1.0|\n",
            "|       Algeria|2017|               -|               -|               -|                17|           76.0|    24.755|     4.542|          3.05|                 21.0|          -|\n",
            "|       Algeria|2018|        41927007|      30,451,166|      11,475,841|                18|           76.0|    24.074|     4.482|         3.023|                 20.6|        2.0|\n",
            "|       Algeria|2019|        42705368|      31,255,632|      11,449,736|                18|           76.0|    23.298|     4.392|         2.988|                 20.1|        2.0|\n",
            "|       Algeria|2020|        43451666|      32,038,217|      11,413,449|                18|           74.0|    22.431|     5.398|         2.942|                 19.6|        2.0|\n",
            "|       Algeria|2021|        44177969|      32,807,002|      11,370,967|                 -|           76.0|    21.524|     4.546|         2.889|                 19.2|        2.0|\n",
            "|American Samoa|2018|           48424|          42,203|           6,221|               242|              -|       0.0|       0.0|             -|                    -|       -2.0|\n",
            "|American Samoa|2019|           47321|          41,239|           6,082|               237|              -|       0.0|       0.0|             -|                    -|       -2.0|\n",
            "|American Samoa|2020|           46189|          40,255|           5,934|               231|              -|      12.7|       5.6|             -|                    -|       -2.0|\n",
            "|American Samoa|2021|           45035|          39,257|           5,778|                 -|              -|       0.0|       0.0|             -|                    -|       -3.0|\n",
            "|       Andorra|2018|           75013|          66,058|           8,955|               160|              -|       7.2|       4.4|             -|                  2.9|        2.0|\n",
            "+--------------+----+----------------+----------------+----------------+------------------+---------------+----------+----------+--------------+---------------------+-----------+\n",
            "only showing top 20 rows\n",
            "\n"
          ]
        }
      ]
    },
    {
      "cell_type": "code",
      "source": [
        "\n",
        "columns_to_clean = df.columns[2:]\n",
        "\n",
        "columns_to_clean"
      ],
      "metadata": {
        "colab": {
          "base_uri": "https://localhost:8080/"
        },
        "id": "OlmWWq7kgRUU",
        "outputId": "96d21b39-b8fc-4839-9aa4-be1ab22733f5"
      },
      "execution_count": 45,
      "outputs": [
        {
          "output_type": "execute_result",
          "data": {
            "text/plain": [
              "['Total Population',\n",
              " 'Urban Population',\n",
              " 'Rural Population',\n",
              " 'Population Density',\n",
              " 'Life Expectancy',\n",
              " 'Birth Rate',\n",
              " 'Death Rate',\n",
              " 'Fertility Rate',\n",
              " 'Infant Mortality Rate',\n",
              " 'Growth Rate']"
            ]
          },
          "metadata": {},
          "execution_count": 45
        }
      ]
    },
    {
      "cell_type": "code",
      "source": [
        "for column in columns_to_clean:\n",
        "    df = df.withColumn(column, f.regexp_replace(f.col(column), ',', ''))"
      ],
      "metadata": {
        "id": "T35G37zlhRnf"
      },
      "execution_count": 46,
      "outputs": []
    },
    {
      "cell_type": "code",
      "source": [
        "for column in columns_to_clean:\n",
        "    df = df.withColumn(column, f.regexp_replace(f.col(column), '-', '0'))"
      ],
      "metadata": {
        "id": "xZc0fZsogavk"
      },
      "execution_count": 48,
      "outputs": []
    },
    {
      "cell_type": "code",
      "source": [
        "df.withColumn('Total Population',f.col('Total Population').cast('int')).printSchema()\n"
      ],
      "metadata": {
        "colab": {
          "base_uri": "https://localhost:8080/"
        },
        "id": "nUWPjq_2hp_K",
        "outputId": "0b95cac1-faad-4948-db9c-e5ebc7dc31d9"
      },
      "execution_count": 53,
      "outputs": [
        {
          "output_type": "stream",
          "name": "stdout",
          "text": [
            "root\n",
            " |-- Country: string (nullable = true)\n",
            " |-- Year: integer (nullable = true)\n",
            " |-- Total Population: integer (nullable = true)\n",
            " |-- Urban Population: string (nullable = true)\n",
            " |-- Rural Population: string (nullable = true)\n",
            " |-- Population Density: string (nullable = true)\n",
            " |-- Life Expectancy: string (nullable = true)\n",
            " |-- Birth Rate: string (nullable = true)\n",
            " |-- Death Rate: string (nullable = true)\n",
            " |-- Fertility Rate: string (nullable = true)\n",
            " |-- Infant Mortality Rate: string (nullable = true)\n",
            " |-- Growth Rate: string (nullable = true)\n",
            "\n"
          ]
        }
      ]
    },
    {
      "cell_type": "code",
      "source": [
        "df.printSchema()"
      ],
      "metadata": {
        "colab": {
          "base_uri": "https://localhost:8080/"
        },
        "id": "PB9FUhD-iiEF",
        "outputId": "89ab910d-c84d-4554-d123-118bbab70b83"
      },
      "execution_count": 56,
      "outputs": [
        {
          "output_type": "stream",
          "name": "stdout",
          "text": [
            "root\n",
            " |-- Country: string (nullable = true)\n",
            " |-- Year: integer (nullable = true)\n",
            " |-- Total Population: integer (nullable = true)\n",
            " |-- Urban Population: string (nullable = true)\n",
            " |-- Rural Population: string (nullable = true)\n",
            " |-- Population Density: string (nullable = true)\n",
            " |-- Life Expectancy: string (nullable = true)\n",
            " |-- Birth Rate: string (nullable = true)\n",
            " |-- Death Rate: string (nullable = true)\n",
            " |-- Fertility Rate: string (nullable = true)\n",
            " |-- Infant Mortality Rate: string (nullable = true)\n",
            " |-- Growth Rate: string (nullable = true)\n",
            "\n"
          ]
        }
      ]
    },
    {
      "cell_type": "code",
      "source": [
        "df.show()"
      ],
      "metadata": {
        "colab": {
          "base_uri": "https://localhost:8080/"
        },
        "outputId": "beb82c1b-fed7-4047-9338-b4d9606c688b",
        "id": "5j8spfpH7qJP"
      },
      "execution_count": 55,
      "outputs": [
        {
          "output_type": "stream",
          "name": "stdout",
          "text": [
            "+--------------+----+----------------+----------------+----------------+------------------+---------------+----------+----------+--------------+---------------------+-----------+\n",
            "|       Country|Year|Total Population|Urban Population|Rural Population|Population Density|Life Expectancy|Birth Rate|Death Rate|Fertility Rate|Infant Mortality Rate|Growth Rate|\n",
            "+--------------+----+----------------+----------------+----------------+------------------+---------------+----------+----------+--------------+---------------------+-----------+\n",
            "|   Afghanistan|2017|               0|               0|               0|                55|           63.0|    37.342|     7.027|         5.129|                 49.4|          0|\n",
            "|   Afghanistan|2018|        36686784|         9353296|        27333488|                56|           63.0|    36.927|     6.981|         5.002|                 47.8|        3.0|\n",
            "|   Afghanistan|2019|        37769499|         9727157|        28042342|                58|           64.0|    36.466|     6.791|          4.87|                 46.3|        3.0|\n",
            "|   Afghanistan|2020|        38972230|        10142913|        28829317|                60|           63.0|    36.051|     7.113|          4.75|                 44.8|        3.0|\n",
            "|   Afghanistan|2021|        40099462|        10551772|        29547690|                 0|           62.0|    35.842|     7.344|         4.643|                 43.4|        3.0|\n",
            "|       Albania|2017|               0|               0|               0|               105|           79.0|     10.87|      8.15|         1.491|                  8.3|          0|\n",
            "|       Albania|2018|         2866376|         1728969|         1137407|               105|           79.0|    10.517|     8.308|          1.44|                  8.3|        0.0|\n",
            "|       Albania|2019|         2854191|         1747593|         1106598|               104|           79.0|    10.343|      8.48|         1.414|                  8.4|        0.0|\n",
            "|       Albania|2020|         2837849|         1762645|         1075204|               104|           77.0|    10.285|    10.785|           1.4|                  8.4|       01.0|\n",
            "|       Albania|2021|         2811666|         1770478|         1041188|                 0|           76.0|     10.24|    11.325|          1.39|                  8.4|       01.0|\n",
            "|       Algeria|2017|               0|               0|               0|                17|           76.0|    24.755|     4.542|          3.05|                 21.0|          0|\n",
            "|       Algeria|2018|        41927007|        30451166|        11475841|                18|           76.0|    24.074|     4.482|         3.023|                 20.6|        2.0|\n",
            "|       Algeria|2019|        42705368|        31255632|        11449736|                18|           76.0|    23.298|     4.392|         2.988|                 20.1|        2.0|\n",
            "|       Algeria|2020|        43451666|        32038217|        11413449|                18|           74.0|    22.431|     5.398|         2.942|                 19.6|        2.0|\n",
            "|       Algeria|2021|        44177969|        32807002|        11370967|                 0|           76.0|    21.524|     4.546|         2.889|                 19.2|        2.0|\n",
            "|American Samoa|2018|           48424|           42203|            6221|               242|              0|       0.0|       0.0|             0|                    0|       02.0|\n",
            "|American Samoa|2019|           47321|           41239|            6082|               237|              0|       0.0|       0.0|             0|                    0|       02.0|\n",
            "|American Samoa|2020|           46189|           40255|            5934|               231|              0|      12.7|       5.6|             0|                    0|       02.0|\n",
            "|American Samoa|2021|           45035|           39257|            5778|                 0|              0|       0.0|       0.0|             0|                    0|       03.0|\n",
            "|       Andorra|2018|           75013|           66058|            8955|               160|              0|       7.2|       4.4|             0|                  2.9|        2.0|\n",
            "+--------------+----+----------------+----------------+----------------+------------------+---------------+----------+----------+--------------+---------------------+-----------+\n",
            "only showing top 20 rows\n",
            "\n"
          ]
        }
      ]
    }
  ]
}