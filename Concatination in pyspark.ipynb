{
 "cells": [
  {
   "cell_type": "code",
   "execution_count": 0,
   "metadata": {
    "application/vnd.databricks.v1+cell": {
     "cellMetadata": {
      "byteLimit": 2048000,
      "rowLimit": 10000
     },
     "inputWidgets": {},
     "nuid": "b0ebf404-593e-4802-b796-b32bc5e42d8c",
     "showTitle": false,
     "title": ""
    }
   },
   "outputs": [],
   "source": [
    "path = \"dbfs:/FileStore/tables/Sales_Data\"\n",
    "# folder path"
   ]
  },
  {
   "cell_type": "code",
   "execution_count": 0,
   "metadata": {
    "application/vnd.databricks.v1+cell": {
     "cellMetadata": {
      "byteLimit": 2048000,
      "rowLimit": 10000
     },
     "inputWidgets": {},
     "nuid": "40d8fdf0-4413-4793-b3ca-618aa87ba234",
     "showTitle": false,
     "title": ""
    }
   },
   "outputs": [
    {
     "output_type": "display_data",
     "data": {
      "text/html": [
       "<style scoped>\n",
       "  .table-result-container {\n",
       "    max-height: 300px;\n",
       "    overflow: auto;\n",
       "  }\n",
       "  table, th, td {\n",
       "    border: 1px solid black;\n",
       "    border-collapse: collapse;\n",
       "  }\n",
       "  th, td {\n",
       "    padding: 5px;\n",
       "  }\n",
       "  th {\n",
       "    text-align: left;\n",
       "  }\n",
       "</style><div class='table-result-container'><table class='table-result'><thead style='background-color: white'><tr><th>path</th><th>name</th><th>size</th><th>modificationTime</th></tr></thead><tbody><tr><td>dbfs:/FileStore/tables/Sales_Data/Sales_April_2019.csv</td><td>Sales_April_2019.csv</td><td>1595953</td><td>1687878906000</td></tr><tr><td>dbfs:/FileStore/tables/Sales_Data/Sales_August_2019.csv</td><td>Sales_August_2019.csv</td><td>1043593</td><td>1687878884000</td></tr><tr><td>dbfs:/FileStore/tables/Sales_Data/Sales_December_2019.csv</td><td>Sales_December_2019.csv</td><td>2181642</td><td>1687878968000</td></tr><tr><td>dbfs:/FileStore/tables/Sales_Data/Sales_February_2019.csv</td><td>Sales_February_2019.csv</td><td>1046495</td><td>1687878942000</td></tr><tr><td>dbfs:/FileStore/tables/Sales_Data/Sales_January_2019.csv</td><td>Sales_January_2019.csv</td><td>843098</td><td>1687878975000</td></tr><tr><td>dbfs:/FileStore/tables/Sales_Data/Sales_July_2019.csv</td><td>Sales_July_2019.csv</td><td>1248753</td><td>1687879011000</td></tr><tr><td>dbfs:/FileStore/tables/Sales_Data/Sales_June_2019.csv</td><td>Sales_June_2019.csv</td><td>1182508</td><td>1687879012000</td></tr><tr><td>dbfs:/FileStore/tables/Sales_Data/Sales_March_2019.csv</td><td>Sales_March_2019.csv</td><td>1323497</td><td>1687879056000</td></tr><tr><td>dbfs:/FileStore/tables/Sales_Data/Sales_May_2019.csv</td><td>Sales_May_2019.csv</td><td>1443965</td><td>1687879061000</td></tr><tr><td>dbfs:/FileStore/tables/Sales_Data/Sales_November_2019.csv</td><td>Sales_November_2019.csv</td><td>1534677</td><td>1687879103000</td></tr><tr><td>dbfs:/FileStore/tables/Sales_Data/Sales_October_2019.csv</td><td>Sales_October_2019.csv</td><td>1770338</td><td>1687879117000</td></tr><tr><td>dbfs:/FileStore/tables/Sales_Data/Sales_September_2019.csv</td><td>Sales_September_2019.csv</td><td>1014958</td><td>1687879127000</td></tr></tbody></table></div>"
      ]
     },
     "metadata": {
      "application/vnd.databricks.v1+output": {
       "addedWidgets": {},
       "aggData": [],
       "aggError": "",
       "aggOverflow": false,
       "aggSchema": [],
       "aggSeriesLimitReached": false,
       "aggType": "",
       "arguments": {},
       "columnCustomDisplayInfos": {},
       "data": [
        [
         "dbfs:/FileStore/tables/Sales_Data/Sales_April_2019.csv",
         "Sales_April_2019.csv",
         1595953,
         1687878906000
        ],
        [
         "dbfs:/FileStore/tables/Sales_Data/Sales_August_2019.csv",
         "Sales_August_2019.csv",
         1043593,
         1687878884000
        ],
        [
         "dbfs:/FileStore/tables/Sales_Data/Sales_December_2019.csv",
         "Sales_December_2019.csv",
         2181642,
         1687878968000
        ],
        [
         "dbfs:/FileStore/tables/Sales_Data/Sales_February_2019.csv",
         "Sales_February_2019.csv",
         1046495,
         1687878942000
        ],
        [
         "dbfs:/FileStore/tables/Sales_Data/Sales_January_2019.csv",
         "Sales_January_2019.csv",
         843098,
         1687878975000
        ],
        [
         "dbfs:/FileStore/tables/Sales_Data/Sales_July_2019.csv",
         "Sales_July_2019.csv",
         1248753,
         1687879011000
        ],
        [
         "dbfs:/FileStore/tables/Sales_Data/Sales_June_2019.csv",
         "Sales_June_2019.csv",
         1182508,
         1687879012000
        ],
        [
         "dbfs:/FileStore/tables/Sales_Data/Sales_March_2019.csv",
         "Sales_March_2019.csv",
         1323497,
         1687879056000
        ],
        [
         "dbfs:/FileStore/tables/Sales_Data/Sales_May_2019.csv",
         "Sales_May_2019.csv",
         1443965,
         1687879061000
        ],
        [
         "dbfs:/FileStore/tables/Sales_Data/Sales_November_2019.csv",
         "Sales_November_2019.csv",
         1534677,
         1687879103000
        ],
        [
         "dbfs:/FileStore/tables/Sales_Data/Sales_October_2019.csv",
         "Sales_October_2019.csv",
         1770338,
         1687879117000
        ],
        [
         "dbfs:/FileStore/tables/Sales_Data/Sales_September_2019.csv",
         "Sales_September_2019.csv",
         1014958,
         1687879127000
        ]
       ],
       "datasetInfos": [],
       "dbfsResultPath": null,
       "isJsonSchema": true,
       "metadata": {},
       "overflow": false,
       "plotOptions": {
        "customPlotOptions": {},
        "displayType": "table",
        "pivotAggregation": null,
        "pivotColumns": null,
        "xColumns": null,
        "yColumns": null
       },
       "removedWidgets": [],
       "schema": [
        {
         "metadata": "{}",
         "name": "path",
         "type": "\"string\""
        },
        {
         "metadata": "{}",
         "name": "name",
         "type": "\"string\""
        },
        {
         "metadata": "{}",
         "name": "size",
         "type": "\"long\""
        },
        {
         "metadata": "{}",
         "name": "modificationTime",
         "type": "\"long\""
        }
       ],
       "type": "table"
      }
     },
     "output_type": "display_data"
    }
   ],
   "source": [
    "display(dbutils.fs.ls(path))"
   ]
  },
  {
   "cell_type": "code",
   "execution_count": 0,
   "metadata": {
    "application/vnd.databricks.v1+cell": {
     "cellMetadata": {
      "byteLimit": 2048000,
      "rowLimit": 10000
     },
     "inputWidgets": {},
     "nuid": "6032bdbc-302f-4d97-8a2a-d1fea6d6e069",
     "showTitle": false,
     "title": ""
    }
   },
   "outputs": [
    {
     "output_type": "stream",
     "name": "stdout",
     "output_type": "stream",
     "text": [
      "dbfs:/FileStore/tables/Sales_Data/Sales_April_2019.csv\ndbfs:/FileStore/tables/Sales_Data/Sales_August_2019.csv\ndbfs:/FileStore/tables/Sales_Data/Sales_December_2019.csv\ndbfs:/FileStore/tables/Sales_Data/Sales_February_2019.csv\ndbfs:/FileStore/tables/Sales_Data/Sales_January_2019.csv\ndbfs:/FileStore/tables/Sales_Data/Sales_July_2019.csv\ndbfs:/FileStore/tables/Sales_Data/Sales_June_2019.csv\ndbfs:/FileStore/tables/Sales_Data/Sales_March_2019.csv\ndbfs:/FileStore/tables/Sales_Data/Sales_May_2019.csv\ndbfs:/FileStore/tables/Sales_Data/Sales_November_2019.csv\ndbfs:/FileStore/tables/Sales_Data/Sales_October_2019.csv\ndbfs:/FileStore/tables/Sales_Data/Sales_September_2019.csv\n"
     ]
    }
   ],
   "source": [
    "for i in dbutils.fs.ls(path):\n",
    "    print(i[0])"
   ]
  },
  {
   "cell_type": "code",
   "execution_count": 0,
   "metadata": {
    "application/vnd.databricks.v1+cell": {
     "cellMetadata": {
      "byteLimit": 2048000,
      "rowLimit": 10000
     },
     "inputWidgets": {},
     "nuid": "58bed26f-e3b8-4f69-9dd0-05ddbf04b101",
     "showTitle": false,
     "title": ""
    }
   },
   "outputs": [
    {
     "output_type": "stream",
     "name": "stdout",
     "output_type": "stream",
     "text": [
      "Out[25]: ['dbfs:/FileStore/tables/Sales_Data/Sales_April_2019.csv',\n 'dbfs:/FileStore/tables/Sales_Data/Sales_August_2019.csv',\n 'dbfs:/FileStore/tables/Sales_Data/Sales_December_2019.csv',\n 'dbfs:/FileStore/tables/Sales_Data/Sales_February_2019.csv',\n 'dbfs:/FileStore/tables/Sales_Data/Sales_January_2019.csv',\n 'dbfs:/FileStore/tables/Sales_Data/Sales_July_2019.csv',\n 'dbfs:/FileStore/tables/Sales_Data/Sales_June_2019.csv',\n 'dbfs:/FileStore/tables/Sales_Data/Sales_March_2019.csv',\n 'dbfs:/FileStore/tables/Sales_Data/Sales_May_2019.csv',\n 'dbfs:/FileStore/tables/Sales_Data/Sales_November_2019.csv',\n 'dbfs:/FileStore/tables/Sales_Data/Sales_October_2019.csv',\n 'dbfs:/FileStore/tables/Sales_Data/Sales_September_2019.csv']"
     ]
    }
   ],
   "source": [
    "file_paths = [file.path for file in dbutils.fs.ls(path) if file.path.endswith(\".csv\")]\n",
    "file_paths"
   ]
  },
  {
   "cell_type": "code",
   "execution_count": 0,
   "metadata": {
    "application/vnd.databricks.v1+cell": {
     "cellMetadata": {
      "byteLimit": 2048000,
      "rowLimit": 10000
     },
     "inputWidgets": {},
     "nuid": "df61f98d-0998-4ca3-a804-e6dfad121da5",
     "showTitle": false,
     "title": ""
    }
   },
   "outputs": [],
   "source": [
    "if file_paths:\n",
    "    df = spark.read.csv(\n",
    "                                file_paths[0],\n",
    "                                inferSchema=True,\n",
    "                                header=True\n",
    "    )"
   ]
  },
  {
   "cell_type": "code",
   "execution_count": 0,
   "metadata": {
    "application/vnd.databricks.v1+cell": {
     "cellMetadata": {
      "byteLimit": 2048000,
      "rowLimit": 10000
     },
     "inputWidgets": {},
     "nuid": "fda6e97a-69f0-4aec-9c7a-c9df82697cce",
     "showTitle": false,
     "title": ""
    }
   },
   "outputs": [
    {
     "output_type": "stream",
     "name": "stdout",
     "output_type": "stream",
     "text": [
      "+--------+--------------------+----------------+----------+--------------+--------------------+\n|Order ID|             Product|Quantity Ordered|Price Each|    Order Date|    Purchase Address|\n+--------+--------------------+----------------+----------+--------------+--------------------+\n|  176558|USB-C Charging Cable|               2|     11.95|04/19/19 08:46|917 1st St, Dalla...|\n|    null|                null|            null|      null|          null|                null|\n|  176559|Bose SoundSport H...|               1|     99.99|04/07/19 22:30|682 Chestnut St, ...|\n|  176560|        Google Phone|               1|     600.0|04/12/19 14:38|669 Spruce St, Lo...|\n|  176560|    Wired Headphones|               1|     11.99|04/12/19 14:38|669 Spruce St, Lo...|\n|  176561|    Wired Headphones|               1|     11.99|04/30/19 09:27|333 8th St, Los A...|\n|  176562|USB-C Charging Cable|               1|     11.95|04/29/19 13:03|381 Wilson St, Sa...|\n|  176563|Bose SoundSport H...|               1|     99.99|04/02/19 07:46|668 Center St, Se...|\n|  176564|USB-C Charging Cable|               1|     11.95|04/12/19 10:58|790 Ridge St, Atl...|\n|  176565|  Macbook Pro Laptop|               1|    1700.0|04/24/19 10:38|915 Willow St, Sa...|\n|  176566|    Wired Headphones|               1|     11.99|04/08/19 14:05|83 7th St, Boston...|\n|  176567|        Google Phone|               1|     600.0|04/18/19 17:18|444 7th St, Los A...|\n|  176568|Lightning Chargin...|               1|     14.95|04/15/19 12:18|438 Elm St, Seatt...|\n|  176569|27in 4K Gaming Mo...|               1|    389.99|04/16/19 19:23|657 Hill St, Dall...|\n|  176570|AA Batteries (4-p...|               1|      3.84|04/22/19 15:09|186 12th St, Dall...|\n|  176571|Lightning Chargin...|               1|     14.95|04/19/19 14:29|253 Johnson St, A...|\n|  176572|Apple Airpods Hea...|               1|     150.0|04/04/19 20:30|149 Dogwood St, N...|\n|  176573|USB-C Charging Cable|               1|     11.95|04/27/19 18:41|214 Chestnut St, ...|\n|  176574|        Google Phone|               1|     600.0|04/03/19 19:42|20 Hill St, Los A...|\n|  176574|USB-C Charging Cable|               1|     11.95|04/03/19 19:42|20 Hill St, Los A...|\n+--------+--------------------+----------------+----------+--------------+--------------------+\nonly showing top 20 rows\n\n"
     ]
    }
   ],
   "source": [
    "df.show()"
   ]
  },
  {
   "cell_type": "code",
   "execution_count": 0,
   "metadata": {
    "application/vnd.databricks.v1+cell": {
     "cellMetadata": {
      "byteLimit": 2048000,
      "rowLimit": 10000
     },
     "inputWidgets": {},
     "nuid": "5e49920d-dcf1-49c4-8b41-6e875fa956c1",
     "showTitle": false,
     "title": ""
    }
   },
   "outputs": [
    {
     "output_type": "stream",
     "name": "stdout",
     "output_type": "stream",
     "text": [
      "dbfs:/FileStore/tables/Sales_Data/Sales_April_2019.csv\ndbfs:/FileStore/tables/Sales_Data/Sales_August_2019.csv\ndbfs:/FileStore/tables/Sales_Data/Sales_December_2019.csv\ndbfs:/FileStore/tables/Sales_Data/Sales_February_2019.csv\ndbfs:/FileStore/tables/Sales_Data/Sales_January_2019.csv\ndbfs:/FileStore/tables/Sales_Data/Sales_July_2019.csv\ndbfs:/FileStore/tables/Sales_Data/Sales_June_2019.csv\ndbfs:/FileStore/tables/Sales_Data/Sales_March_2019.csv\ndbfs:/FileStore/tables/Sales_Data/Sales_May_2019.csv\ndbfs:/FileStore/tables/Sales_Data/Sales_November_2019.csv\ndbfs:/FileStore/tables/Sales_Data/Sales_October_2019.csv\ndbfs:/FileStore/tables/Sales_Data/Sales_September_2019.csv\n"
     ]
    }
   ],
   "source": [
    "for i in file_paths:\n",
    "    print(i)"
   ]
  },
  {
   "cell_type": "code",
   "execution_count": 0,
   "metadata": {
    "application/vnd.databricks.v1+cell": {
     "cellMetadata": {
      "byteLimit": 2048000,
      "rowLimit": 10000
     },
     "inputWidgets": {},
     "nuid": "b83d5c61-36ad-46c0-a592-cbff521a2c69",
     "showTitle": false,
     "title": ""
    }
   },
   "outputs": [],
   "source": [
    "for i in file_paths[1:]:\n",
    "    df = df.union(spark.read.csv(\n",
    "                               i, \n",
    "                               inferSchema=True,\n",
    "                               header=True \n",
    "    ))\n",
    "    "
   ]
  },
  {
   "cell_type": "code",
   "execution_count": 0,
   "metadata": {
    "application/vnd.databricks.v1+cell": {
     "cellMetadata": {
      "byteLimit": 2048000,
      "rowLimit": 10000
     },
     "inputWidgets": {},
     "nuid": "2e93b4e4-750d-4e5c-9b51-1fe2023716b9",
     "showTitle": false,
     "title": ""
    }
   },
   "outputs": [
    {
     "output_type": "stream",
     "name": "stdout",
     "output_type": "stream",
     "text": [
      "+--------+--------------------+----------------+----------+--------------+--------------------+\n|Order ID|             Product|Quantity Ordered|Price Each|    Order Date|    Purchase Address|\n+--------+--------------------+----------------+----------+--------------+--------------------+\n|  176558|USB-C Charging Cable|               2|     11.95|04/19/19 08:46|917 1st St, Dalla...|\n|    null|                null|            null|      null|          null|                null|\n|  176559|Bose SoundSport H...|               1|     99.99|04/07/19 22:30|682 Chestnut St, ...|\n|  176560|        Google Phone|               1|     600.0|04/12/19 14:38|669 Spruce St, Lo...|\n|  176560|    Wired Headphones|               1|     11.99|04/12/19 14:38|669 Spruce St, Lo...|\n|  176561|    Wired Headphones|               1|     11.99|04/30/19 09:27|333 8th St, Los A...|\n|  176562|USB-C Charging Cable|               1|     11.95|04/29/19 13:03|381 Wilson St, Sa...|\n|  176563|Bose SoundSport H...|               1|     99.99|04/02/19 07:46|668 Center St, Se...|\n|  176564|USB-C Charging Cable|               1|     11.95|04/12/19 10:58|790 Ridge St, Atl...|\n|  176565|  Macbook Pro Laptop|               1|    1700.0|04/24/19 10:38|915 Willow St, Sa...|\n|  176566|    Wired Headphones|               1|     11.99|04/08/19 14:05|83 7th St, Boston...|\n|  176567|        Google Phone|               1|     600.0|04/18/19 17:18|444 7th St, Los A...|\n|  176568|Lightning Chargin...|               1|     14.95|04/15/19 12:18|438 Elm St, Seatt...|\n|  176569|27in 4K Gaming Mo...|               1|    389.99|04/16/19 19:23|657 Hill St, Dall...|\n|  176570|AA Batteries (4-p...|               1|      3.84|04/22/19 15:09|186 12th St, Dall...|\n|  176571|Lightning Chargin...|               1|     14.95|04/19/19 14:29|253 Johnson St, A...|\n|  176572|Apple Airpods Hea...|               1|     150.0|04/04/19 20:30|149 Dogwood St, N...|\n|  176573|USB-C Charging Cable|               1|     11.95|04/27/19 18:41|214 Chestnut St, ...|\n|  176574|        Google Phone|               1|     600.0|04/03/19 19:42|20 Hill St, Los A...|\n|  176574|USB-C Charging Cable|               1|     11.95|04/03/19 19:42|20 Hill St, Los A...|\n+--------+--------------------+----------------+----------+--------------+--------------------+\nonly showing top 20 rows\n\n"
     ]
    }
   ],
   "source": [
    "df.show()"
   ]
  },
  {
   "cell_type": "code",
   "execution_count": 0,
   "metadata": {
    "application/vnd.databricks.v1+cell": {
     "cellMetadata": {
      "byteLimit": 2048000,
      "rowLimit": 10000
     },
     "inputWidgets": {},
     "nuid": "962f9843-88eb-473a-9eb9-1ff8bb20f85f",
     "showTitle": false,
     "title": ""
    }
   },
   "outputs": [
    {
     "output_type": "stream",
     "name": "stdout",
     "output_type": "stream",
     "text": [
      "Out[37]: 186850"
     ]
    }
   ],
   "source": [
    "df.count()"
   ]
  }
 ],
 "metadata": {
  "application/vnd.databricks.v1+notebook": {
   "dashboards": [],
   "language": "python",
   "notebookMetadata": {
    "pythonIndentUnit": 4
   },
   "notebookName": "Concatination in pyspark",
   "widgets": {}
  }
 },
 "nbformat": 4,
 "nbformat_minor": 0
}
