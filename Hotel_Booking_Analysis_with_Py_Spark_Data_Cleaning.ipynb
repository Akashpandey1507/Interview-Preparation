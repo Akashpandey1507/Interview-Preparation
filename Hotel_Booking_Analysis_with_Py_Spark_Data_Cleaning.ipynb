{
  "cells": [
    {
      "cell_type": "markdown",
      "metadata": {
        "id": "view-in-github",
        "colab_type": "text"
      },
      "source": [
        "<a href=\"https://colab.research.google.com/github/Akashpandey1507/Interview-Preparation/blob/main/Hotel_Booking_Analysis_with_Py_Spark_Data_Cleaning.ipynb\" target=\"_parent\"><img src=\"https://colab.research.google.com/assets/colab-badge.svg\" alt=\"Open In Colab\"/></a>"
      ]
    },
    {
      "cell_type": "markdown",
      "source": [
        "# Hotel Booking Demand with Economic Indicators"
      ],
      "metadata": {
        "id": "Ri9fH18iOu8o"
      }
    },
    {
      "cell_type": "markdown",
      "source": [
        "# About Dataset\n",
        "* This dataset contains 119390 observations for a City Hotel and a Resort Hotel. Each observation represents a hotel booking between the 1st of July 2015 and 31st of August 2017. I have coupled each month of booking with leading economic indicators for the United States for that timeframe using the FRED.\n",
        "\n",
        "* While this dataset does not specify the location of the hotels, I have gone with the assumption of both being located in the United States for ease of applying economic data for learning purposes\n",
        "\n",
        "# Acknowledgments\n",
        "* The data is originally from the article Hotel Booking Demand Datasets, written by Nuno Antonio, Ana Almeida, and Luis Nunes for Data in Brief, Volume 22, February 2019. The original cleaned version was uploaded to Kaggle by by Thomas Mock and Antoine Bichat. I used that dataset to couple with various indicators:\n",
        "\n",
        "* GDP\n",
        "* CPI\n",
        "* CPI for Hotels\n",
        "* Fuel Prices\n",
        "* Disposable income per capita\n",
        "* Inflation\n",
        "* Consumer Sentiment\n",
        "* GINI Indicator"
      ],
      "metadata": {
        "id": "hJsZMYTBOodE"
      }
    },
    {
      "cell_type": "code",
      "source": [
        "!pip install pyspark\n",
        "#installing the pyspark"
      ],
      "metadata": {
        "colab": {
          "base_uri": "https://localhost:8080/"
        },
        "id": "6jsSQWKv6M-V",
        "outputId": "d3470eee-c05c-4e11-96eb-08a10ce42164"
      },
      "execution_count": 1,
      "outputs": [
        {
          "output_type": "stream",
          "name": "stdout",
          "text": [
            "Collecting pyspark\n",
            "  Downloading pyspark-3.4.1.tar.gz (310.8 MB)\n",
            "\u001b[2K     \u001b[90m━━━━━━━━━━━━━━━━━━━━━━━━━━━━━━━━━━━━━━━\u001b[0m \u001b[32m310.8/310.8 MB\u001b[0m \u001b[31m2.1 MB/s\u001b[0m eta \u001b[36m0:00:00\u001b[0m\n",
            "\u001b[?25h  Preparing metadata (setup.py) ... \u001b[?25l\u001b[?25hdone\n",
            "Requirement already satisfied: py4j==0.10.9.7 in /usr/local/lib/python3.10/dist-packages (from pyspark) (0.10.9.7)\n",
            "Building wheels for collected packages: pyspark\n",
            "  Building wheel for pyspark (setup.py) ... \u001b[?25l\u001b[?25hdone\n",
            "  Created wheel for pyspark: filename=pyspark-3.4.1-py2.py3-none-any.whl size=311285387 sha256=de30b62e3fa35b42f4ff330c0af120f0f700277ffc185a843396d699b4e264ab\n",
            "  Stored in directory: /root/.cache/pip/wheels/0d/77/a3/ff2f74cc9ab41f8f594dabf0579c2a7c6de920d584206e0834\n",
            "Successfully built pyspark\n",
            "Installing collected packages: pyspark\n",
            "Successfully installed pyspark-3.4.1\n"
          ]
        }
      ]
    },
    {
      "cell_type": "code",
      "source": [
        "# Importing libraries\n",
        "import pyspark\n",
        "from pyspark.sql import SparkSession\n",
        "from pyspark.sql import functions as f\n",
        "import pandas as pd\n",
        "import numpy as np\n",
        "import seaborn as sns\n",
        "import matplotlib.pyplot as plt"
      ],
      "metadata": {
        "id": "9GmTmLsU7cnx"
      },
      "execution_count": 2,
      "outputs": []
    },
    {
      "cell_type": "code",
      "source": [
        "spark = SparkSession.builder.appName(\"Hotel Booking\").getOrCreate()"
      ],
      "metadata": {
        "id": "kJEvSADE7imA"
      },
      "execution_count": 3,
      "outputs": []
    },
    {
      "cell_type": "code",
      "source": [
        "file = \"/content/drive/MyDrive/Data Analysis Files/hotel_bookings_raw.csv\""
      ],
      "metadata": {
        "id": "UR1l61xQ7ijZ"
      },
      "execution_count": 4,
      "outputs": []
    },
    {
      "cell_type": "code",
      "source": [
        "original_datasets = spark.read.csv(\n",
        "    file,\n",
        "    header=True,\n",
        "    inferSchema=True\n",
        ")"
      ],
      "metadata": {
        "id": "ZmAOs9Ng7ihJ"
      },
      "execution_count": 5,
      "outputs": []
    },
    {
      "cell_type": "code",
      "source": [
        "df = original_datasets.alias(\"copy\")"
      ],
      "metadata": {
        "id": "n8e576Jz7ie4"
      },
      "execution_count": 6,
      "outputs": []
    },
    {
      "cell_type": "code",
      "source": [
        "df.show()"
      ],
      "metadata": {
        "colab": {
          "base_uri": "https://localhost:8080/"
        },
        "id": "pWFusyKgRedR",
        "outputId": "5e3b469f-7d3e-4a02-c4e9-8e33fc7065fc"
      },
      "execution_count": 7,
      "outputs": [
        {
          "output_type": "stream",
          "name": "stdout",
          "text": [
            "+------------+-----------+---------+-----------------+------------------+------------------------+-------------------------+-----------------------+--------------------+------+--------+------+----+-------+--------------+--------------------+-----------------+----------------------+------------------------------+------------------+------------------+---------------+------------+-----+--------------------+-------------+------+---------------------------+-------------------------+------------------+-----------------------+------+-------+---------+-------------+---------+------+-------+---------+---------+-----------+-------+-------+\n",
            "|       hotel|is_canceled|lead_time|arrival_date_year|arrival_date_month|arrival_date_week_number|arrival_date_day_of_month|stays_in_weekend_nights|stays_in_week_nights|adults|children|babies|meal|country|market_segment|distribution_channel|is_repeated_guest|previous_cancellations|previous_bookings_not_canceled|reserved_room_type|assigned_room_type|booking_changes|deposit_type|agent|days_in_waiting_list|customer_type|   adr|required_car_parking_spaces|total_of_special_requests|reservation_status|reservation_status_date| MO_YR|CPI_AVG|INFLATION|INFLATION_CHG|CSMR_SENT|UNRATE|INTRSRT|      GDP|FUEL_PRCS| CPI_HOTELS|US_GINI|DIS_INC|\n",
            "+------------+-----------+---------+-----------------+------------------+------------------------+-------------------------+-----------------------+--------------------+------+--------+------+----+-------+--------------+--------------------+-----------------+----------------------+------------------------------+------------------+------------------+---------------+------------+-----+--------------------+-------------+------+---------------------------+-------------------------+------------------+-----------------------+------+-------+---------+-------------+---------+------+-------+---------+---------+-----------+-------+-------+\n",
            "|Resort Hotel|          0|      342|             2015|              July|                      27|                        1|                      0|                   0|     2|       0|     0|  BB|    PRT|        Direct|              Direct|                0|                     0|                             0|                 C|                 C|              3|  No Deposit| NULL|                   0|    Transient|   0.0|                          0|                        0|         Check-Out|               7/1/2015|7-2015|238.034|      1.8|            0|     93.1|   5.3|   0.75| 18306.96|      194|0.187566339|   41.2|  41355|\n",
            "|Resort Hotel|          0|      737|             2015|              July|                      27|                        1|                      0|                   0|     2|       0|     0|  BB|    PRT|        Direct|              Direct|                0|                     0|                             0|                 C|                 C|              4|  No Deposit| NULL|                   0|    Transient|   0.0|                          0|                        0|         Check-Out|               7/1/2015|7-2015|238.034|      1.8|            0|     93.1|   5.3|   0.75| 18306.96|      194|0.187566339|   41.2|  41355|\n",
            "|Resort Hotel|          0|        7|             2015|              July|                      27|                        1|                      0|                   1|     1|       0|     0|  BB|    GBR|        Direct|              Direct|                0|                     0|                             0|                 A|                 C|              0|  No Deposit| NULL|                   0|    Transient|  75.0|                          0|                        0|         Check-Out|               7/2/2015|7-2015|238.034|      1.8|            0|     93.1|   5.3|   0.75| 18306.96|      194|0.187566339|   41.2|  41355|\n",
            "|Resort Hotel|          0|       13|             2015|              July|                      27|                        1|                      0|                   1|     1|       0|     0|  BB|    GBR|     Corporate|           Corporate|                0|                     0|                             0|                 A|                 A|              0|  No Deposit|  304|                   0|    Transient|  75.0|                          0|                        0|         Check-Out|               7/2/2015|7-2015|238.034|      1.8|            0|     93.1|   5.3|   0.75| 18306.96|      194|0.187566339|   41.2|  41355|\n",
            "|Resort Hotel|          0|       14|             2015|              July|                      27|                        1|                      0|                   2|     2|       0|     0|  BB|    GBR|     Online TA|               TA/TO|                0|                     0|                             0|                 A|                 A|              0|  No Deposit|  240|                   0|    Transient|  98.0|                          0|                        1|         Check-Out|               7/3/2015|7-2015|238.034|      1.8|            0|     93.1|   5.3|   0.75| 18306.96|      194|0.187566339|   41.2|  41355|\n",
            "|Resort Hotel|          0|       14|             2015|              July|                      27|                        1|                      0|                   2|     2|       0|     0|  BB|    GBR|     Online TA|               TA/TO|                0|                     0|                             0|                 A|                 A|              0|  No Deposit|  240|                   0|    Transient|  98.0|                          0|                        1|         Check-Out|               7/3/2015|7-2015|238.034|      1.8|            0|     93.1|   5.3|   0.75| 18306.96|      194|0.187566339|   41.2|  41355|\n",
            "|Resort Hotel|          0|        0|             2015|              July|                      27|                        1|                      0|                   2|     2|       0|     0|  BB|    PRT|        Direct|              Direct|                0|                     0|                             0|                 C|                 C|              0|  No Deposit| NULL|                   0|    Transient| 107.0|                          0|                        0|         Check-Out|               7/3/2015|7-2015|238.034|      1.8|            0|     93.1|   5.3|   0.75| 18306.96|      194|0.187566339|   41.2|  41355|\n",
            "|Resort Hotel|          0|        9|             2015|              July|                      27|                        1|                      0|                   2|     2|       0|     0|  FB|    PRT|        Direct|              Direct|                0|                     0|                             0|                 C|                 C|              0|  No Deposit|  303|                   0|    Transient| 103.0|                          0|                        1|         Check-Out|               7/3/2015|7-2015|238.034|      1.8|            0|     93.1|   5.3|   0.75| 18306.96|      194|0.187566339|   41.2|  41355|\n",
            "|Resort Hotel|          1|       85|             2015|              July|                      27|                        1|                      0|                   3|     2|       0|     0|  BB|    PRT|     Online TA|               TA/TO|                0|                     0|                             0|                 A|                 A|              0|  No Deposit|  240|                   0|    Transient|  82.0|                          0|                        1|          Canceled|               5/6/2015|5-2015|237.001|      1.7|         -0.1|     90.7|   5.4|   0.75|18193.707|    202.6|0.185619641|   41.2|  41290|\n",
            "|Resort Hotel|          1|       75|             2015|              July|                      27|                        1|                      0|                   3|     2|       0|     0|  HB|    PRT| Offline TA/TO|               TA/TO|                0|                     0|                             0|                 D|                 D|              0|  No Deposit|   15|                   0|    Transient| 105.5|                          0|                        0|          Canceled|              4/22/2015|4-2015|236.222|      1.8|            0|     95.9|   5.4|   0.75|18193.707|    183.8|0.216699359|   41.2|  41248|\n",
            "|Resort Hotel|          1|       23|             2015|              July|                      27|                        1|                      0|                   4|     2|       0|     0|  BB|    PRT|     Online TA|               TA/TO|                0|                     0|                             0|                 E|                 E|              0|  No Deposit|  240|                   0|    Transient| 123.0|                          0|                        0|          Canceled|              6/23/2015|6-2015|237.657|      1.8|          0.1|     96.1|   5.6|   0.75|18193.707|    198.7| 0.18253402|   41.2|  41288|\n",
            "|Resort Hotel|          0|       35|             2015|              July|                      27|                        1|                      0|                   4|     2|       0|     0|  HB|    PRT|     Online TA|               TA/TO|                0|                     0|                             0|                 D|                 D|              0|  No Deposit|  240|                   0|    Transient| 145.0|                          0|                        0|         Check-Out|               7/5/2015|7-2015|238.034|      1.8|            0|     93.1|   5.3|   0.75| 18306.96|      194|0.187566339|   41.2|  41355|\n",
            "|Resort Hotel|          0|       68|             2015|              July|                      27|                        1|                      0|                   4|     2|       0|     0|  BB|    USA|     Online TA|               TA/TO|                0|                     0|                             0|                 D|                 E|              0|  No Deposit|  240|                   0|    Transient|  97.0|                          0|                        3|         Check-Out|               7/5/2015|7-2015|238.034|      1.8|            0|     93.1|   5.3|   0.75| 18306.96|      194|0.187566339|   41.2|  41355|\n",
            "|Resort Hotel|          0|       18|             2015|              July|                      27|                        1|                      0|                   4|     2|       1|     0|  HB|    ESP|     Online TA|               TA/TO|                0|                     0|                             0|                 G|                 G|              1|  No Deposit|  241|                   0|    Transient|154.77|                          0|                        1|         Check-Out|               7/5/2015|7-2015|238.034|      1.8|            0|     93.1|   5.3|   0.75| 18306.96|      194|0.187566339|   41.2|  41355|\n",
            "|Resort Hotel|          0|       37|             2015|              July|                      27|                        1|                      0|                   4|     2|       0|     0|  BB|    PRT|     Online TA|               TA/TO|                0|                     0|                             0|                 E|                 E|              0|  No Deposit|  241|                   0|    Transient| 94.71|                          0|                        0|         Check-Out|               7/5/2015|7-2015|238.034|      1.8|            0|     93.1|   5.3|   0.75| 18306.96|      194|0.187566339|   41.2|  41355|\n",
            "|Resort Hotel|          0|       68|             2015|              July|                      27|                        1|                      0|                   4|     2|       0|     0|  BB|    IRL|     Online TA|               TA/TO|                0|                     0|                             0|                 D|                 E|              0|  No Deposit|  240|                   0|    Transient|  97.0|                          0|                        3|         Check-Out|               7/5/2015|7-2015|238.034|      1.8|            0|     93.1|   5.3|   0.75| 18306.96|      194|0.187566339|   41.2|  41355|\n",
            "|Resort Hotel|          0|       37|             2015|              July|                      27|                        1|                      0|                   4|     2|       0|     0|  BB|    PRT| Offline TA/TO|               TA/TO|                0|                     0|                             0|                 E|                 E|              0|  No Deposit|    8|                   0|     Contract|  97.5|                          0|                        0|         Check-Out|               7/5/2015|7-2015|238.034|      1.8|            0|     93.1|   5.3|   0.75| 18306.96|      194|0.187566339|   41.2|  41355|\n",
            "|Resort Hotel|          0|       12|             2015|              July|                      27|                        1|                      0|                   1|     2|       0|     0|  BB|    IRL|     Online TA|               TA/TO|                0|                     0|                             0|                 A|                 E|              0|  No Deposit|  240|                   0|    Transient|  88.2|                          0|                        0|         Check-Out|               7/2/2015|7-2015|238.034|      1.8|            0|     93.1|   5.3|   0.75| 18306.96|      194|0.187566339|   41.2|  41355|\n",
            "|Resort Hotel|          0|        0|             2015|              July|                      27|                        1|                      0|                   1|     2|       0|     0|  BB|    FRA|     Corporate|           Corporate|                0|                     0|                             0|                 A|                 G|              0|  No Deposit| NULL|                   0|    Transient|107.42|                          0|                        0|         Check-Out|               7/2/2015|7-2015|238.034|      1.8|            0|     93.1|   5.3|   0.75| 18306.96|      194|0.187566339|   41.2|  41355|\n",
            "|Resort Hotel|          0|        7|             2015|              July|                      27|                        1|                      0|                   4|     2|       0|     0|  BB|    GBR|        Direct|              Direct|                0|                     0|                             0|                 G|                 G|              0|  No Deposit|  250|                   0|    Transient| 153.0|                          0|                        1|         Check-Out|               7/5/2015|7-2015|238.034|      1.8|            0|     93.1|   5.3|   0.75| 18306.96|      194|0.187566339|   41.2|  41355|\n",
            "+------------+-----------+---------+-----------------+------------------+------------------------+-------------------------+-----------------------+--------------------+------+--------+------+----+-------+--------------+--------------------+-----------------+----------------------+------------------------------+------------------+------------------+---------------+------------+-----+--------------------+-------------+------+---------------------------+-------------------------+------------------+-----------------------+------+-------+---------+-------------+---------+------+-------+---------+---------+-----------+-------+-------+\n",
            "only showing top 20 rows\n",
            "\n"
          ]
        }
      ]
    },
    {
      "cell_type": "code",
      "source": [
        "df.count()"
      ],
      "metadata": {
        "colab": {
          "base_uri": "https://localhost:8080/"
        },
        "id": "eY39Lx1jReaY",
        "outputId": "fc759192-03ff-4cd7-f9be-8ae37416ce15"
      },
      "execution_count": 8,
      "outputs": [
        {
          "output_type": "execute_result",
          "data": {
            "text/plain": [
              "119390"
            ]
          },
          "metadata": {},
          "execution_count": 8
        }
      ]
    },
    {
      "cell_type": "code",
      "source": [
        "df.columns"
      ],
      "metadata": {
        "colab": {
          "base_uri": "https://localhost:8080/"
        },
        "id": "h6f0evKOReXw",
        "outputId": "9a83c0e4-2b8c-49c4-abbf-9042e416fbb9"
      },
      "execution_count": 9,
      "outputs": [
        {
          "output_type": "execute_result",
          "data": {
            "text/plain": [
              "['hotel',\n",
              " 'is_canceled',\n",
              " 'lead_time',\n",
              " 'arrival_date_year',\n",
              " 'arrival_date_month',\n",
              " 'arrival_date_week_number',\n",
              " 'arrival_date_day_of_month',\n",
              " 'stays_in_weekend_nights',\n",
              " 'stays_in_week_nights',\n",
              " 'adults',\n",
              " 'children',\n",
              " 'babies',\n",
              " 'meal',\n",
              " 'country',\n",
              " 'market_segment',\n",
              " 'distribution_channel',\n",
              " 'is_repeated_guest',\n",
              " 'previous_cancellations',\n",
              " 'previous_bookings_not_canceled',\n",
              " 'reserved_room_type',\n",
              " 'assigned_room_type',\n",
              " 'booking_changes',\n",
              " 'deposit_type',\n",
              " 'agent',\n",
              " 'days_in_waiting_list',\n",
              " 'customer_type',\n",
              " 'adr',\n",
              " 'required_car_parking_spaces',\n",
              " 'total_of_special_requests',\n",
              " 'reservation_status',\n",
              " 'reservation_status_date',\n",
              " 'MO_YR',\n",
              " 'CPI_AVG',\n",
              " 'INFLATION',\n",
              " 'INFLATION_CHG',\n",
              " 'CSMR_SENT',\n",
              " 'UNRATE',\n",
              " 'INTRSRT',\n",
              " 'GDP',\n",
              " 'FUEL_PRCS',\n",
              " 'CPI_HOTELS',\n",
              " 'US_GINI',\n",
              " 'DIS_INC']"
            ]
          },
          "metadata": {},
          "execution_count": 9
        }
      ]
    },
    {
      "cell_type": "code",
      "source": [
        "len(df.columns)"
      ],
      "metadata": {
        "colab": {
          "base_uri": "https://localhost:8080/"
        },
        "id": "MNIJfI9KReU4",
        "outputId": "88919089-8f6f-4659-ab1e-ce31711790fd"
      },
      "execution_count": 10,
      "outputs": [
        {
          "output_type": "execute_result",
          "data": {
            "text/plain": [
              "43"
            ]
          },
          "metadata": {},
          "execution_count": 10
        }
      ]
    },
    {
      "cell_type": "code",
      "source": [
        "print(f\"The Datasets is having {df.count()} rows and {len(df.columns)} columns.\")"
      ],
      "metadata": {
        "colab": {
          "base_uri": "https://localhost:8080/"
        },
        "id": "M9jxdldgReSZ",
        "outputId": "e09ef7c1-d639-405f-b22f-3800a3e2de3d"
      },
      "execution_count": 11,
      "outputs": [
        {
          "output_type": "stream",
          "name": "stdout",
          "text": [
            "The Datasets is having 119390 rows and 43 columns.\n"
          ]
        }
      ]
    },
    {
      "cell_type": "code",
      "source": [
        "df.select([f.sum(f.col(i).isNull().cast('int')).alias(i) for i in df.columns]).show()"
      ],
      "metadata": {
        "colab": {
          "base_uri": "https://localhost:8080/"
        },
        "id": "bhOcp311RePz",
        "outputId": "16fb4318-fdec-4351-f14d-0d6d35b12f2d"
      },
      "execution_count": 12,
      "outputs": [
        {
          "output_type": "stream",
          "name": "stdout",
          "text": [
            "+-----+-----------+---------+-----------------+------------------+------------------------+-------------------------+-----------------------+--------------------+------+--------+------+----+-------+--------------+--------------------+-----------------+----------------------+------------------------------+------------------+------------------+---------------+------------+-----+--------------------+-------------+---+---------------------------+-------------------------+------------------+-----------------------+-----+-------+---------+-------------+---------+------+-------+---+---------+----------+-------+-------+\n",
            "|hotel|is_canceled|lead_time|arrival_date_year|arrival_date_month|arrival_date_week_number|arrival_date_day_of_month|stays_in_weekend_nights|stays_in_week_nights|adults|children|babies|meal|country|market_segment|distribution_channel|is_repeated_guest|previous_cancellations|previous_bookings_not_canceled|reserved_room_type|assigned_room_type|booking_changes|deposit_type|agent|days_in_waiting_list|customer_type|adr|required_car_parking_spaces|total_of_special_requests|reservation_status|reservation_status_date|MO_YR|CPI_AVG|INFLATION|INFLATION_CHG|CSMR_SENT|UNRATE|INTRSRT|GDP|FUEL_PRCS|CPI_HOTELS|US_GINI|DIS_INC|\n",
            "+-----+-----------+---------+-----------------+------------------+------------------------+-------------------------+-----------------------+--------------------+------+--------+------+----+-------+--------------+--------------------+-----------------+----------------------+------------------------------+------------------+------------------+---------------+------------+-----+--------------------+-------------+---+---------------------------+-------------------------+------------------+-----------------------+-----+-------+---------+-------------+---------+------+-------+---+---------+----------+-------+-------+\n",
            "|    0|          0|        0|                0|                 0|                       0|                        0|                      0|                   0|     0|       0|     0|   0|      0|             0|                   0|                0|                     0|                             0|                 0|                 0|              0|           0|    0|                   0|            0|  0|                          0|                        0|                 0|                      0|    0|      0|        0|            0|        0|     0|      0|  0|        0|         0|      0|      0|\n",
            "+-----+-----------+---------+-----------------+------------------+------------------------+-------------------------+-----------------------+--------------------+------+--------+------+----+-------+--------------+--------------------+-----------------+----------------------+------------------------------+------------------+------------------+---------------+------------+-----+--------------------+-------------+---+---------------------------+-------------------------+------------------+-----------------------+-----+-------+---------+-------------+---------+------+-------+---+---------+----------+-------+-------+\n",
            "\n"
          ]
        }
      ]
    },
    {
      "cell_type": "code",
      "source": [
        "df.printSchema()"
      ],
      "metadata": {
        "id": "bsyC4bzsReNA",
        "colab": {
          "base_uri": "https://localhost:8080/"
        },
        "outputId": "a1d10f06-bf44-446e-ef8f-fb10307516b6"
      },
      "execution_count": 13,
      "outputs": [
        {
          "output_type": "stream",
          "name": "stdout",
          "text": [
            "root\n",
            " |-- hotel: string (nullable = true)\n",
            " |-- is_canceled: integer (nullable = true)\n",
            " |-- lead_time: integer (nullable = true)\n",
            " |-- arrival_date_year: integer (nullable = true)\n",
            " |-- arrival_date_month: string (nullable = true)\n",
            " |-- arrival_date_week_number: integer (nullable = true)\n",
            " |-- arrival_date_day_of_month: integer (nullable = true)\n",
            " |-- stays_in_weekend_nights: integer (nullable = true)\n",
            " |-- stays_in_week_nights: integer (nullable = true)\n",
            " |-- adults: integer (nullable = true)\n",
            " |-- children: string (nullable = true)\n",
            " |-- babies: integer (nullable = true)\n",
            " |-- meal: string (nullable = true)\n",
            " |-- country: string (nullable = true)\n",
            " |-- market_segment: string (nullable = true)\n",
            " |-- distribution_channel: string (nullable = true)\n",
            " |-- is_repeated_guest: integer (nullable = true)\n",
            " |-- previous_cancellations: integer (nullable = true)\n",
            " |-- previous_bookings_not_canceled: integer (nullable = true)\n",
            " |-- reserved_room_type: string (nullable = true)\n",
            " |-- assigned_room_type: string (nullable = true)\n",
            " |-- booking_changes: integer (nullable = true)\n",
            " |-- deposit_type: string (nullable = true)\n",
            " |-- agent: string (nullable = true)\n",
            " |-- days_in_waiting_list: integer (nullable = true)\n",
            " |-- customer_type: string (nullable = true)\n",
            " |-- adr: double (nullable = true)\n",
            " |-- required_car_parking_spaces: integer (nullable = true)\n",
            " |-- total_of_special_requests: integer (nullable = true)\n",
            " |-- reservation_status: string (nullable = true)\n",
            " |-- reservation_status_date: string (nullable = true)\n",
            " |-- MO_YR: string (nullable = true)\n",
            " |-- CPI_AVG: string (nullable = true)\n",
            " |-- INFLATION: string (nullable = true)\n",
            " |-- INFLATION_CHG: string (nullable = true)\n",
            " |-- CSMR_SENT: string (nullable = true)\n",
            " |-- UNRATE: string (nullable = true)\n",
            " |-- INTRSRT: string (nullable = true)\n",
            " |-- GDP: string (nullable = true)\n",
            " |-- FUEL_PRCS: string (nullable = true)\n",
            " |-- CPI_HOTELS: string (nullable = true)\n",
            " |-- US_GINI: string (nullable = true)\n",
            " |-- DIS_INC: string (nullable = true)\n",
            "\n"
          ]
        }
      ]
    },
    {
      "cell_type": "code",
      "source": [
        "[i for i,v in df.dtypes if v in ['string']]"
      ],
      "metadata": {
        "id": "jQH7nCoDReKI",
        "colab": {
          "base_uri": "https://localhost:8080/"
        },
        "outputId": "a23a12f9-c46e-45ae-c178-b7fe7dd80bd6"
      },
      "execution_count": 14,
      "outputs": [
        {
          "output_type": "execute_result",
          "data": {
            "text/plain": [
              "['hotel',\n",
              " 'arrival_date_month',\n",
              " 'children',\n",
              " 'meal',\n",
              " 'country',\n",
              " 'market_segment',\n",
              " 'distribution_channel',\n",
              " 'reserved_room_type',\n",
              " 'assigned_room_type',\n",
              " 'deposit_type',\n",
              " 'agent',\n",
              " 'customer_type',\n",
              " 'reservation_status',\n",
              " 'reservation_status_date',\n",
              " 'MO_YR',\n",
              " 'CPI_AVG',\n",
              " 'INFLATION',\n",
              " 'INFLATION_CHG',\n",
              " 'CSMR_SENT',\n",
              " 'UNRATE',\n",
              " 'INTRSRT',\n",
              " 'GDP',\n",
              " 'FUEL_PRCS',\n",
              " 'CPI_HOTELS',\n",
              " 'US_GINI',\n",
              " 'DIS_INC']"
            ]
          },
          "metadata": {},
          "execution_count": 14
        }
      ]
    },
    {
      "cell_type": "code",
      "source": [
        "df.select([i for i,v in df.dtypes if v in ['string']]).show()"
      ],
      "metadata": {
        "id": "BY_0t-8OReHn",
        "colab": {
          "base_uri": "https://localhost:8080/"
        },
        "outputId": "c7817454-bede-4246-c059-f73f4af1bf43"
      },
      "execution_count": 15,
      "outputs": [
        {
          "output_type": "stream",
          "name": "stdout",
          "text": [
            "+------------+------------------+--------+----+-------+--------------+--------------------+------------------+------------------+------------+-----+-------------+------------------+-----------------------+------+-------+---------+-------------+---------+------+-------+---------+---------+-----------+-------+-------+\n",
            "|       hotel|arrival_date_month|children|meal|country|market_segment|distribution_channel|reserved_room_type|assigned_room_type|deposit_type|agent|customer_type|reservation_status|reservation_status_date| MO_YR|CPI_AVG|INFLATION|INFLATION_CHG|CSMR_SENT|UNRATE|INTRSRT|      GDP|FUEL_PRCS| CPI_HOTELS|US_GINI|DIS_INC|\n",
            "+------------+------------------+--------+----+-------+--------------+--------------------+------------------+------------------+------------+-----+-------------+------------------+-----------------------+------+-------+---------+-------------+---------+------+-------+---------+---------+-----------+-------+-------+\n",
            "|Resort Hotel|              July|       0|  BB|    PRT|        Direct|              Direct|                 C|                 C|  No Deposit| NULL|    Transient|         Check-Out|               7/1/2015|7-2015|238.034|      1.8|            0|     93.1|   5.3|   0.75| 18306.96|      194|0.187566339|   41.2|  41355|\n",
            "|Resort Hotel|              July|       0|  BB|    PRT|        Direct|              Direct|                 C|                 C|  No Deposit| NULL|    Transient|         Check-Out|               7/1/2015|7-2015|238.034|      1.8|            0|     93.1|   5.3|   0.75| 18306.96|      194|0.187566339|   41.2|  41355|\n",
            "|Resort Hotel|              July|       0|  BB|    GBR|        Direct|              Direct|                 A|                 C|  No Deposit| NULL|    Transient|         Check-Out|               7/2/2015|7-2015|238.034|      1.8|            0|     93.1|   5.3|   0.75| 18306.96|      194|0.187566339|   41.2|  41355|\n",
            "|Resort Hotel|              July|       0|  BB|    GBR|     Corporate|           Corporate|                 A|                 A|  No Deposit|  304|    Transient|         Check-Out|               7/2/2015|7-2015|238.034|      1.8|            0|     93.1|   5.3|   0.75| 18306.96|      194|0.187566339|   41.2|  41355|\n",
            "|Resort Hotel|              July|       0|  BB|    GBR|     Online TA|               TA/TO|                 A|                 A|  No Deposit|  240|    Transient|         Check-Out|               7/3/2015|7-2015|238.034|      1.8|            0|     93.1|   5.3|   0.75| 18306.96|      194|0.187566339|   41.2|  41355|\n",
            "|Resort Hotel|              July|       0|  BB|    GBR|     Online TA|               TA/TO|                 A|                 A|  No Deposit|  240|    Transient|         Check-Out|               7/3/2015|7-2015|238.034|      1.8|            0|     93.1|   5.3|   0.75| 18306.96|      194|0.187566339|   41.2|  41355|\n",
            "|Resort Hotel|              July|       0|  BB|    PRT|        Direct|              Direct|                 C|                 C|  No Deposit| NULL|    Transient|         Check-Out|               7/3/2015|7-2015|238.034|      1.8|            0|     93.1|   5.3|   0.75| 18306.96|      194|0.187566339|   41.2|  41355|\n",
            "|Resort Hotel|              July|       0|  FB|    PRT|        Direct|              Direct|                 C|                 C|  No Deposit|  303|    Transient|         Check-Out|               7/3/2015|7-2015|238.034|      1.8|            0|     93.1|   5.3|   0.75| 18306.96|      194|0.187566339|   41.2|  41355|\n",
            "|Resort Hotel|              July|       0|  BB|    PRT|     Online TA|               TA/TO|                 A|                 A|  No Deposit|  240|    Transient|          Canceled|               5/6/2015|5-2015|237.001|      1.7|         -0.1|     90.7|   5.4|   0.75|18193.707|    202.6|0.185619641|   41.2|  41290|\n",
            "|Resort Hotel|              July|       0|  HB|    PRT| Offline TA/TO|               TA/TO|                 D|                 D|  No Deposit|   15|    Transient|          Canceled|              4/22/2015|4-2015|236.222|      1.8|            0|     95.9|   5.4|   0.75|18193.707|    183.8|0.216699359|   41.2|  41248|\n",
            "|Resort Hotel|              July|       0|  BB|    PRT|     Online TA|               TA/TO|                 E|                 E|  No Deposit|  240|    Transient|          Canceled|              6/23/2015|6-2015|237.657|      1.8|          0.1|     96.1|   5.6|   0.75|18193.707|    198.7| 0.18253402|   41.2|  41288|\n",
            "|Resort Hotel|              July|       0|  HB|    PRT|     Online TA|               TA/TO|                 D|                 D|  No Deposit|  240|    Transient|         Check-Out|               7/5/2015|7-2015|238.034|      1.8|            0|     93.1|   5.3|   0.75| 18306.96|      194|0.187566339|   41.2|  41355|\n",
            "|Resort Hotel|              July|       0|  BB|    USA|     Online TA|               TA/TO|                 D|                 E|  No Deposit|  240|    Transient|         Check-Out|               7/5/2015|7-2015|238.034|      1.8|            0|     93.1|   5.3|   0.75| 18306.96|      194|0.187566339|   41.2|  41355|\n",
            "|Resort Hotel|              July|       1|  HB|    ESP|     Online TA|               TA/TO|                 G|                 G|  No Deposit|  241|    Transient|         Check-Out|               7/5/2015|7-2015|238.034|      1.8|            0|     93.1|   5.3|   0.75| 18306.96|      194|0.187566339|   41.2|  41355|\n",
            "|Resort Hotel|              July|       0|  BB|    PRT|     Online TA|               TA/TO|                 E|                 E|  No Deposit|  241|    Transient|         Check-Out|               7/5/2015|7-2015|238.034|      1.8|            0|     93.1|   5.3|   0.75| 18306.96|      194|0.187566339|   41.2|  41355|\n",
            "|Resort Hotel|              July|       0|  BB|    IRL|     Online TA|               TA/TO|                 D|                 E|  No Deposit|  240|    Transient|         Check-Out|               7/5/2015|7-2015|238.034|      1.8|            0|     93.1|   5.3|   0.75| 18306.96|      194|0.187566339|   41.2|  41355|\n",
            "|Resort Hotel|              July|       0|  BB|    PRT| Offline TA/TO|               TA/TO|                 E|                 E|  No Deposit|    8|     Contract|         Check-Out|               7/5/2015|7-2015|238.034|      1.8|            0|     93.1|   5.3|   0.75| 18306.96|      194|0.187566339|   41.2|  41355|\n",
            "|Resort Hotel|              July|       0|  BB|    IRL|     Online TA|               TA/TO|                 A|                 E|  No Deposit|  240|    Transient|         Check-Out|               7/2/2015|7-2015|238.034|      1.8|            0|     93.1|   5.3|   0.75| 18306.96|      194|0.187566339|   41.2|  41355|\n",
            "|Resort Hotel|              July|       0|  BB|    FRA|     Corporate|           Corporate|                 A|                 G|  No Deposit| NULL|    Transient|         Check-Out|               7/2/2015|7-2015|238.034|      1.8|            0|     93.1|   5.3|   0.75| 18306.96|      194|0.187566339|   41.2|  41355|\n",
            "|Resort Hotel|              July|       0|  BB|    GBR|        Direct|              Direct|                 G|                 G|  No Deposit|  250|    Transient|         Check-Out|               7/5/2015|7-2015|238.034|      1.8|            0|     93.1|   5.3|   0.75| 18306.96|      194|0.187566339|   41.2|  41355|\n",
            "+------------+------------------+--------+----+-------+--------------+--------------------+------------------+------------------+------------+-----+-------------+------------------+-----------------------+------+-------+---------+-------------+---------+------+-------+---------+---------+-----------+-------+-------+\n",
            "only showing top 20 rows\n",
            "\n"
          ]
        }
      ]
    },
    {
      "cell_type": "code",
      "source": [
        "df.groupBy(f.col('CPI_AVG')).count().show()"
      ],
      "metadata": {
        "colab": {
          "base_uri": "https://localhost:8080/"
        },
        "id": "FyPgmi6P9oVh",
        "outputId": "4b974fcb-1781-4960-a26a-e37c0cde7177"
      },
      "execution_count": 16,
      "outputs": [
        {
          "output_type": "stream",
          "name": "stdout",
          "text": [
            "+-------+-----+\n",
            "|CPI_AVG|count|\n",
            "+-------+-----+\n",
            "|243.892| 4826|\n",
            "|244.193| 4634|\n",
            "|244.243| 4038|\n",
            "|238.034| 3615|\n",
            "|237.733| 5742|\n",
            "|237.652| 4482|\n",
            "|237.001|  275|\n",
            "|244.006| 4858|\n",
            "|238.017| 3077|\n",
            "|237.761| 3062|\n",
            "|245.183| 3417|\n",
            "|236.222|  151|\n",
            "|235.342|   44|\n",
            "|240.222| 4552|\n",
            "|244.004| 5006|\n",
            "|242.026| 5021|\n",
            "|244.163| 4060|\n",
            "|241.176| 4993|\n",
            "|242.637| 4338|\n",
            "|246.435|  393|\n",
            "+-------+-----+\n",
            "only showing top 20 rows\n",
            "\n"
          ]
        }
      ]
    },
    {
      "cell_type": "code",
      "source": [
        "df = df.withColumn(\"CPI_AVG\", f.col(\"CPI_AVG\").cast(\"double\"))\n",
        "df = df.withColumn(\"INFLATION_CHG\", f.col(\"INFLATION_CHG\").cast(\"double\"))\n",
        "df = df.withColumn(\"CSMR_SENT\", f.col(\"CSMR_SENT\").cast(\"double\"))\n",
        "df = df.withColumn(\"UNRATE\", f.col(\"UNRATE\").cast(\"double\"))\n",
        "df = df.withColumn(\"INTRSRT\", f.col(\"INTRSRT\").cast(\"double\"))\n",
        "df = df.withColumn(\"GDP\", f.col(\"GDP\").cast(\"double\"))\n",
        "df = df.withColumn(\"FUEL_PRCS\", f.col(\"FUEL_PRCS\").cast(\"double\"))\n",
        "df = df.withColumn(\"CPI_HOTELS\", f.col(\"CPI_HOTELS\").cast(\"double\"))\n",
        "df = df.withColumn(\"US_GINI\", f.col(\"US_GINI\").cast(\"double\"))\n",
        "df = df.withColumn(\"DIS_INC\", f.col(\"DIS_INC\").cast(\"double\"))\n",
        "df = df.withColumn(\"INFLATION\", f.col(\"INFLATION\").cast(\"double\"))\n",
        "df = df.withColumn(\"children\", f.col(\"children\").cast(\"double\"))\n",
        "df = df.withColumn(\"agent\", (f.when(f.col(\"agent\")== \"NULL\", \"0\").otherwise(f.col(\"agent\"))).cast('double'))"
      ],
      "metadata": {
        "id": "fC_fSX1h9arv"
      },
      "execution_count": 17,
      "outputs": []
    },
    {
      "cell_type": "code",
      "source": [
        "[i for i,v in df.dtypes if v in ['string']]"
      ],
      "metadata": {
        "id": "Mshw6Nz9ReFP",
        "colab": {
          "base_uri": "https://localhost:8080/"
        },
        "outputId": "8a3894fb-445d-42dc-d3eb-1f3b9bd02ddf"
      },
      "execution_count": 18,
      "outputs": [
        {
          "output_type": "execute_result",
          "data": {
            "text/plain": [
              "['hotel',\n",
              " 'arrival_date_month',\n",
              " 'meal',\n",
              " 'country',\n",
              " 'market_segment',\n",
              " 'distribution_channel',\n",
              " 'reserved_room_type',\n",
              " 'assigned_room_type',\n",
              " 'deposit_type',\n",
              " 'customer_type',\n",
              " 'reservation_status',\n",
              " 'reservation_status_date',\n",
              " 'MO_YR']"
            ]
          },
          "metadata": {},
          "execution_count": 18
        }
      ]
    },
    {
      "cell_type": "code",
      "source": [
        "df.select([i for i,v in df.dtypes if v in ['string']]).show()"
      ],
      "metadata": {
        "id": "F79G6JHZReC3",
        "colab": {
          "base_uri": "https://localhost:8080/"
        },
        "outputId": "c51a279a-f84b-4a3a-c5f7-706cd807b4ee"
      },
      "execution_count": 19,
      "outputs": [
        {
          "output_type": "stream",
          "name": "stdout",
          "text": [
            "+------------+------------------+----+-------+--------------+--------------------+------------------+------------------+------------+-------------+------------------+-----------------------+------+\n",
            "|       hotel|arrival_date_month|meal|country|market_segment|distribution_channel|reserved_room_type|assigned_room_type|deposit_type|customer_type|reservation_status|reservation_status_date| MO_YR|\n",
            "+------------+------------------+----+-------+--------------+--------------------+------------------+------------------+------------+-------------+------------------+-----------------------+------+\n",
            "|Resort Hotel|              July|  BB|    PRT|        Direct|              Direct|                 C|                 C|  No Deposit|    Transient|         Check-Out|               7/1/2015|7-2015|\n",
            "|Resort Hotel|              July|  BB|    PRT|        Direct|              Direct|                 C|                 C|  No Deposit|    Transient|         Check-Out|               7/1/2015|7-2015|\n",
            "|Resort Hotel|              July|  BB|    GBR|        Direct|              Direct|                 A|                 C|  No Deposit|    Transient|         Check-Out|               7/2/2015|7-2015|\n",
            "|Resort Hotel|              July|  BB|    GBR|     Corporate|           Corporate|                 A|                 A|  No Deposit|    Transient|         Check-Out|               7/2/2015|7-2015|\n",
            "|Resort Hotel|              July|  BB|    GBR|     Online TA|               TA/TO|                 A|                 A|  No Deposit|    Transient|         Check-Out|               7/3/2015|7-2015|\n",
            "|Resort Hotel|              July|  BB|    GBR|     Online TA|               TA/TO|                 A|                 A|  No Deposit|    Transient|         Check-Out|               7/3/2015|7-2015|\n",
            "|Resort Hotel|              July|  BB|    PRT|        Direct|              Direct|                 C|                 C|  No Deposit|    Transient|         Check-Out|               7/3/2015|7-2015|\n",
            "|Resort Hotel|              July|  FB|    PRT|        Direct|              Direct|                 C|                 C|  No Deposit|    Transient|         Check-Out|               7/3/2015|7-2015|\n",
            "|Resort Hotel|              July|  BB|    PRT|     Online TA|               TA/TO|                 A|                 A|  No Deposit|    Transient|          Canceled|               5/6/2015|5-2015|\n",
            "|Resort Hotel|              July|  HB|    PRT| Offline TA/TO|               TA/TO|                 D|                 D|  No Deposit|    Transient|          Canceled|              4/22/2015|4-2015|\n",
            "|Resort Hotel|              July|  BB|    PRT|     Online TA|               TA/TO|                 E|                 E|  No Deposit|    Transient|          Canceled|              6/23/2015|6-2015|\n",
            "|Resort Hotel|              July|  HB|    PRT|     Online TA|               TA/TO|                 D|                 D|  No Deposit|    Transient|         Check-Out|               7/5/2015|7-2015|\n",
            "|Resort Hotel|              July|  BB|    USA|     Online TA|               TA/TO|                 D|                 E|  No Deposit|    Transient|         Check-Out|               7/5/2015|7-2015|\n",
            "|Resort Hotel|              July|  HB|    ESP|     Online TA|               TA/TO|                 G|                 G|  No Deposit|    Transient|         Check-Out|               7/5/2015|7-2015|\n",
            "|Resort Hotel|              July|  BB|    PRT|     Online TA|               TA/TO|                 E|                 E|  No Deposit|    Transient|         Check-Out|               7/5/2015|7-2015|\n",
            "|Resort Hotel|              July|  BB|    IRL|     Online TA|               TA/TO|                 D|                 E|  No Deposit|    Transient|         Check-Out|               7/5/2015|7-2015|\n",
            "|Resort Hotel|              July|  BB|    PRT| Offline TA/TO|               TA/TO|                 E|                 E|  No Deposit|     Contract|         Check-Out|               7/5/2015|7-2015|\n",
            "|Resort Hotel|              July|  BB|    IRL|     Online TA|               TA/TO|                 A|                 E|  No Deposit|    Transient|         Check-Out|               7/2/2015|7-2015|\n",
            "|Resort Hotel|              July|  BB|    FRA|     Corporate|           Corporate|                 A|                 G|  No Deposit|    Transient|         Check-Out|               7/2/2015|7-2015|\n",
            "|Resort Hotel|              July|  BB|    GBR|        Direct|              Direct|                 G|                 G|  No Deposit|    Transient|         Check-Out|               7/5/2015|7-2015|\n",
            "+------------+------------------+----+-------+--------------+--------------------+------------------+------------------+------------+-------------+------------------+-----------------------+------+\n",
            "only showing top 20 rows\n",
            "\n"
          ]
        }
      ]
    },
    {
      "cell_type": "code",
      "source": [
        "from pyspark.sql import types as t"
      ],
      "metadata": {
        "id": "ivRJjZqj_pd0"
      },
      "execution_count": 20,
      "outputs": []
    },
    {
      "cell_type": "code",
      "source": [
        "[i for i,v in df.dtypes if v in ['string']]"
      ],
      "metadata": {
        "id": "ib6JUllLReAI",
        "colab": {
          "base_uri": "https://localhost:8080/"
        },
        "outputId": "224fe3b1-f359-45c5-d8fe-3bad695787ce"
      },
      "execution_count": 21,
      "outputs": [
        {
          "output_type": "execute_result",
          "data": {
            "text/plain": [
              "['hotel',\n",
              " 'arrival_date_month',\n",
              " 'meal',\n",
              " 'country',\n",
              " 'market_segment',\n",
              " 'distribution_channel',\n",
              " 'reserved_room_type',\n",
              " 'assigned_room_type',\n",
              " 'deposit_type',\n",
              " 'customer_type',\n",
              " 'reservation_status',\n",
              " 'reservation_status_date',\n",
              " 'MO_YR']"
            ]
          },
          "metadata": {},
          "execution_count": 21
        }
      ]
    },
    {
      "cell_type": "code",
      "source": [
        "df.select([i for i,v in df.dtypes if v in ['string']]).show()"
      ],
      "metadata": {
        "id": "uFMqcc34Rd63",
        "colab": {
          "base_uri": "https://localhost:8080/"
        },
        "outputId": "a4b28ea9-aec1-4385-a96d-4081cfaa38ae"
      },
      "execution_count": 22,
      "outputs": [
        {
          "output_type": "stream",
          "name": "stdout",
          "text": [
            "+------------+------------------+----+-------+--------------+--------------------+------------------+------------------+------------+-------------+------------------+-----------------------+------+\n",
            "|       hotel|arrival_date_month|meal|country|market_segment|distribution_channel|reserved_room_type|assigned_room_type|deposit_type|customer_type|reservation_status|reservation_status_date| MO_YR|\n",
            "+------------+------------------+----+-------+--------------+--------------------+------------------+------------------+------------+-------------+------------------+-----------------------+------+\n",
            "|Resort Hotel|              July|  BB|    PRT|        Direct|              Direct|                 C|                 C|  No Deposit|    Transient|         Check-Out|               7/1/2015|7-2015|\n",
            "|Resort Hotel|              July|  BB|    PRT|        Direct|              Direct|                 C|                 C|  No Deposit|    Transient|         Check-Out|               7/1/2015|7-2015|\n",
            "|Resort Hotel|              July|  BB|    GBR|        Direct|              Direct|                 A|                 C|  No Deposit|    Transient|         Check-Out|               7/2/2015|7-2015|\n",
            "|Resort Hotel|              July|  BB|    GBR|     Corporate|           Corporate|                 A|                 A|  No Deposit|    Transient|         Check-Out|               7/2/2015|7-2015|\n",
            "|Resort Hotel|              July|  BB|    GBR|     Online TA|               TA/TO|                 A|                 A|  No Deposit|    Transient|         Check-Out|               7/3/2015|7-2015|\n",
            "|Resort Hotel|              July|  BB|    GBR|     Online TA|               TA/TO|                 A|                 A|  No Deposit|    Transient|         Check-Out|               7/3/2015|7-2015|\n",
            "|Resort Hotel|              July|  BB|    PRT|        Direct|              Direct|                 C|                 C|  No Deposit|    Transient|         Check-Out|               7/3/2015|7-2015|\n",
            "|Resort Hotel|              July|  FB|    PRT|        Direct|              Direct|                 C|                 C|  No Deposit|    Transient|         Check-Out|               7/3/2015|7-2015|\n",
            "|Resort Hotel|              July|  BB|    PRT|     Online TA|               TA/TO|                 A|                 A|  No Deposit|    Transient|          Canceled|               5/6/2015|5-2015|\n",
            "|Resort Hotel|              July|  HB|    PRT| Offline TA/TO|               TA/TO|                 D|                 D|  No Deposit|    Transient|          Canceled|              4/22/2015|4-2015|\n",
            "|Resort Hotel|              July|  BB|    PRT|     Online TA|               TA/TO|                 E|                 E|  No Deposit|    Transient|          Canceled|              6/23/2015|6-2015|\n",
            "|Resort Hotel|              July|  HB|    PRT|     Online TA|               TA/TO|                 D|                 D|  No Deposit|    Transient|         Check-Out|               7/5/2015|7-2015|\n",
            "|Resort Hotel|              July|  BB|    USA|     Online TA|               TA/TO|                 D|                 E|  No Deposit|    Transient|         Check-Out|               7/5/2015|7-2015|\n",
            "|Resort Hotel|              July|  HB|    ESP|     Online TA|               TA/TO|                 G|                 G|  No Deposit|    Transient|         Check-Out|               7/5/2015|7-2015|\n",
            "|Resort Hotel|              July|  BB|    PRT|     Online TA|               TA/TO|                 E|                 E|  No Deposit|    Transient|         Check-Out|               7/5/2015|7-2015|\n",
            "|Resort Hotel|              July|  BB|    IRL|     Online TA|               TA/TO|                 D|                 E|  No Deposit|    Transient|         Check-Out|               7/5/2015|7-2015|\n",
            "|Resort Hotel|              July|  BB|    PRT| Offline TA/TO|               TA/TO|                 E|                 E|  No Deposit|     Contract|         Check-Out|               7/5/2015|7-2015|\n",
            "|Resort Hotel|              July|  BB|    IRL|     Online TA|               TA/TO|                 A|                 E|  No Deposit|    Transient|         Check-Out|               7/2/2015|7-2015|\n",
            "|Resort Hotel|              July|  BB|    FRA|     Corporate|           Corporate|                 A|                 G|  No Deposit|    Transient|         Check-Out|               7/2/2015|7-2015|\n",
            "|Resort Hotel|              July|  BB|    GBR|        Direct|              Direct|                 G|                 G|  No Deposit|    Transient|         Check-Out|               7/5/2015|7-2015|\n",
            "+------------+------------------+----+-------+--------------+--------------------+------------------+------------------+------------+-------------+------------------+-----------------------+------+\n",
            "only showing top 20 rows\n",
            "\n"
          ]
        }
      ]
    },
    {
      "cell_type": "code",
      "source": [
        "df.select(\"reservation_status_date\").show()"
      ],
      "metadata": {
        "id": "88G__YEiRd4X",
        "colab": {
          "base_uri": "https://localhost:8080/"
        },
        "outputId": "fac45249-5664-46ec-9c9d-fff2c0122fab"
      },
      "execution_count": 23,
      "outputs": [
        {
          "output_type": "stream",
          "name": "stdout",
          "text": [
            "+-----------------------+\n",
            "|reservation_status_date|\n",
            "+-----------------------+\n",
            "|               7/1/2015|\n",
            "|               7/1/2015|\n",
            "|               7/2/2015|\n",
            "|               7/2/2015|\n",
            "|               7/3/2015|\n",
            "|               7/3/2015|\n",
            "|               7/3/2015|\n",
            "|               7/3/2015|\n",
            "|               5/6/2015|\n",
            "|              4/22/2015|\n",
            "|              6/23/2015|\n",
            "|               7/5/2015|\n",
            "|               7/5/2015|\n",
            "|               7/5/2015|\n",
            "|               7/5/2015|\n",
            "|               7/5/2015|\n",
            "|               7/5/2015|\n",
            "|               7/2/2015|\n",
            "|               7/2/2015|\n",
            "|               7/5/2015|\n",
            "+-----------------------+\n",
            "only showing top 20 rows\n",
            "\n"
          ]
        }
      ]
    },
    {
      "cell_type": "code",
      "source": [
        "df.groupBy(f.col(\"reservation_status_date\")).count().show()"
      ],
      "metadata": {
        "id": "L55R1eQIRd15",
        "colab": {
          "base_uri": "https://localhost:8080/"
        },
        "outputId": "1121c4a5-b8fc-4def-a8d0-b6dee9ab1378"
      },
      "execution_count": 24,
      "outputs": [
        {
          "output_type": "stream",
          "name": "stdout",
          "text": [
            "+-----------------------+-----+\n",
            "|reservation_status_date|count|\n",
            "+-----------------------+-----+\n",
            "|             11/14/2015|   80|\n",
            "|              6/29/2016|  113|\n",
            "|              7/31/2016|  125|\n",
            "|              8/21/2016|  139|\n",
            "|              12/8/2016|  153|\n",
            "|              3/20/2017|  194|\n",
            "|              2/27/2015|    1|\n",
            "|              8/31/2015|  116|\n",
            "|               8/9/2016|  121|\n",
            "|             11/24/2016|  172|\n",
            "|               5/7/2017|  146|\n",
            "|             11/26/2015|  135|\n",
            "|              8/28/2016|  134|\n",
            "|              2/14/2017|  121|\n",
            "|              4/10/2017|  164|\n",
            "|              6/11/2016|   89|\n",
            "|              8/31/2016|  155|\n",
            "|             11/30/2016|  137|\n",
            "|              7/20/2017|  104|\n",
            "|              6/15/2015|   53|\n",
            "+-----------------------+-----+\n",
            "only showing top 20 rows\n",
            "\n"
          ]
        }
      ]
    },
    {
      "cell_type": "code",
      "source": [
        "df = df.withColumn(\"reservation_status_date\", f.to_date(df[\"reservation_status_date\"], \"M/d/yyyy\"))"
      ],
      "metadata": {
        "id": "3v-WrIc8RdzQ"
      },
      "execution_count": 25,
      "outputs": []
    },
    {
      "cell_type": "code",
      "source": [
        "df.select(\"reservation_status_date\").show()"
      ],
      "metadata": {
        "id": "UdZNRkCuRdw4",
        "colab": {
          "base_uri": "https://localhost:8080/"
        },
        "outputId": "feaa5235-e5ac-41c6-d472-8c0ea93edc00"
      },
      "execution_count": 26,
      "outputs": [
        {
          "output_type": "stream",
          "name": "stdout",
          "text": [
            "+-----------------------+\n",
            "|reservation_status_date|\n",
            "+-----------------------+\n",
            "|             2015-07-01|\n",
            "|             2015-07-01|\n",
            "|             2015-07-02|\n",
            "|             2015-07-02|\n",
            "|             2015-07-03|\n",
            "|             2015-07-03|\n",
            "|             2015-07-03|\n",
            "|             2015-07-03|\n",
            "|             2015-05-06|\n",
            "|             2015-04-22|\n",
            "|             2015-06-23|\n",
            "|             2015-07-05|\n",
            "|             2015-07-05|\n",
            "|             2015-07-05|\n",
            "|             2015-07-05|\n",
            "|             2015-07-05|\n",
            "|             2015-07-05|\n",
            "|             2015-07-02|\n",
            "|             2015-07-02|\n",
            "|             2015-07-05|\n",
            "+-----------------------+\n",
            "only showing top 20 rows\n",
            "\n"
          ]
        }
      ]
    },
    {
      "cell_type": "code",
      "source": [
        "[i for i,v in df.dtypes if v in ['string']]"
      ],
      "metadata": {
        "colab": {
          "base_uri": "https://localhost:8080/"
        },
        "id": "0sKJoIOiRBdf",
        "outputId": "5f24bb60-469f-49fd-dc1b-46194890b51c"
      },
      "execution_count": 27,
      "outputs": [
        {
          "output_type": "execute_result",
          "data": {
            "text/plain": [
              "['hotel',\n",
              " 'arrival_date_month',\n",
              " 'meal',\n",
              " 'country',\n",
              " 'market_segment',\n",
              " 'distribution_channel',\n",
              " 'reserved_room_type',\n",
              " 'assigned_room_type',\n",
              " 'deposit_type',\n",
              " 'customer_type',\n",
              " 'reservation_status',\n",
              " 'MO_YR']"
            ]
          },
          "metadata": {},
          "execution_count": 27
        }
      ]
    },
    {
      "cell_type": "code",
      "source": [
        "df.select([i for i,v in df.dtypes if v in ['string']]).show()"
      ],
      "metadata": {
        "id": "U-NK2-ku7icR",
        "colab": {
          "base_uri": "https://localhost:8080/"
        },
        "outputId": "f0410a8e-f6ef-4e69-aa94-993ff63eafd0"
      },
      "execution_count": 28,
      "outputs": [
        {
          "output_type": "stream",
          "name": "stdout",
          "text": [
            "+------------+------------------+----+-------+--------------+--------------------+------------------+------------------+------------+-------------+------------------+------+\n",
            "|       hotel|arrival_date_month|meal|country|market_segment|distribution_channel|reserved_room_type|assigned_room_type|deposit_type|customer_type|reservation_status| MO_YR|\n",
            "+------------+------------------+----+-------+--------------+--------------------+------------------+------------------+------------+-------------+------------------+------+\n",
            "|Resort Hotel|              July|  BB|    PRT|        Direct|              Direct|                 C|                 C|  No Deposit|    Transient|         Check-Out|7-2015|\n",
            "|Resort Hotel|              July|  BB|    PRT|        Direct|              Direct|                 C|                 C|  No Deposit|    Transient|         Check-Out|7-2015|\n",
            "|Resort Hotel|              July|  BB|    GBR|        Direct|              Direct|                 A|                 C|  No Deposit|    Transient|         Check-Out|7-2015|\n",
            "|Resort Hotel|              July|  BB|    GBR|     Corporate|           Corporate|                 A|                 A|  No Deposit|    Transient|         Check-Out|7-2015|\n",
            "|Resort Hotel|              July|  BB|    GBR|     Online TA|               TA/TO|                 A|                 A|  No Deposit|    Transient|         Check-Out|7-2015|\n",
            "|Resort Hotel|              July|  BB|    GBR|     Online TA|               TA/TO|                 A|                 A|  No Deposit|    Transient|         Check-Out|7-2015|\n",
            "|Resort Hotel|              July|  BB|    PRT|        Direct|              Direct|                 C|                 C|  No Deposit|    Transient|         Check-Out|7-2015|\n",
            "|Resort Hotel|              July|  FB|    PRT|        Direct|              Direct|                 C|                 C|  No Deposit|    Transient|         Check-Out|7-2015|\n",
            "|Resort Hotel|              July|  BB|    PRT|     Online TA|               TA/TO|                 A|                 A|  No Deposit|    Transient|          Canceled|5-2015|\n",
            "|Resort Hotel|              July|  HB|    PRT| Offline TA/TO|               TA/TO|                 D|                 D|  No Deposit|    Transient|          Canceled|4-2015|\n",
            "|Resort Hotel|              July|  BB|    PRT|     Online TA|               TA/TO|                 E|                 E|  No Deposit|    Transient|          Canceled|6-2015|\n",
            "|Resort Hotel|              July|  HB|    PRT|     Online TA|               TA/TO|                 D|                 D|  No Deposit|    Transient|         Check-Out|7-2015|\n",
            "|Resort Hotel|              July|  BB|    USA|     Online TA|               TA/TO|                 D|                 E|  No Deposit|    Transient|         Check-Out|7-2015|\n",
            "|Resort Hotel|              July|  HB|    ESP|     Online TA|               TA/TO|                 G|                 G|  No Deposit|    Transient|         Check-Out|7-2015|\n",
            "|Resort Hotel|              July|  BB|    PRT|     Online TA|               TA/TO|                 E|                 E|  No Deposit|    Transient|         Check-Out|7-2015|\n",
            "|Resort Hotel|              July|  BB|    IRL|     Online TA|               TA/TO|                 D|                 E|  No Deposit|    Transient|         Check-Out|7-2015|\n",
            "|Resort Hotel|              July|  BB|    PRT| Offline TA/TO|               TA/TO|                 E|                 E|  No Deposit|     Contract|         Check-Out|7-2015|\n",
            "|Resort Hotel|              July|  BB|    IRL|     Online TA|               TA/TO|                 A|                 E|  No Deposit|    Transient|         Check-Out|7-2015|\n",
            "|Resort Hotel|              July|  BB|    FRA|     Corporate|           Corporate|                 A|                 G|  No Deposit|    Transient|         Check-Out|7-2015|\n",
            "|Resort Hotel|              July|  BB|    GBR|        Direct|              Direct|                 G|                 G|  No Deposit|    Transient|         Check-Out|7-2015|\n",
            "+------------+------------------+----+-------+--------------+--------------------+------------------+------------------+------------+-------------+------------------+------+\n",
            "only showing top 20 rows\n",
            "\n"
          ]
        }
      ]
    },
    {
      "cell_type": "code",
      "source": [
        "[i for i,v in df.dtypes if v in ['int', 'double']]"
      ],
      "metadata": {
        "colab": {
          "base_uri": "https://localhost:8080/"
        },
        "id": "CjxxV4yFRIJv",
        "outputId": "65faca2d-eec5-497c-f3d4-1fd294c7c109"
      },
      "execution_count": 29,
      "outputs": [
        {
          "output_type": "execute_result",
          "data": {
            "text/plain": [
              "['is_canceled',\n",
              " 'lead_time',\n",
              " 'arrival_date_year',\n",
              " 'arrival_date_week_number',\n",
              " 'arrival_date_day_of_month',\n",
              " 'stays_in_weekend_nights',\n",
              " 'stays_in_week_nights',\n",
              " 'adults',\n",
              " 'children',\n",
              " 'babies',\n",
              " 'is_repeated_guest',\n",
              " 'previous_cancellations',\n",
              " 'previous_bookings_not_canceled',\n",
              " 'booking_changes',\n",
              " 'agent',\n",
              " 'days_in_waiting_list',\n",
              " 'adr',\n",
              " 'required_car_parking_spaces',\n",
              " 'total_of_special_requests',\n",
              " 'CPI_AVG',\n",
              " 'INFLATION',\n",
              " 'INFLATION_CHG',\n",
              " 'CSMR_SENT',\n",
              " 'UNRATE',\n",
              " 'INTRSRT',\n",
              " 'GDP',\n",
              " 'FUEL_PRCS',\n",
              " 'CPI_HOTELS',\n",
              " 'US_GINI',\n",
              " 'DIS_INC']"
            ]
          },
          "metadata": {},
          "execution_count": 29
        }
      ]
    },
    {
      "cell_type": "code",
      "source": [
        "df.select([i for i,v in df.dtypes if v in ['int', 'double']]).show()"
      ],
      "metadata": {
        "colab": {
          "base_uri": "https://localhost:8080/"
        },
        "id": "9QdhlttSRIEg",
        "outputId": "dce1d0bf-faef-49c3-a67b-ea29ff2f01cf"
      },
      "execution_count": 30,
      "outputs": [
        {
          "output_type": "stream",
          "name": "stdout",
          "text": [
            "+-----------+---------+-----------------+------------------------+-------------------------+-----------------------+--------------------+------+--------+------+-----------------+----------------------+------------------------------+---------------+-----+--------------------+------+---------------------------+-------------------------+-------+---------+-------------+---------+------+-------+---------+---------+-----------+-------+-------+\n",
            "|is_canceled|lead_time|arrival_date_year|arrival_date_week_number|arrival_date_day_of_month|stays_in_weekend_nights|stays_in_week_nights|adults|children|babies|is_repeated_guest|previous_cancellations|previous_bookings_not_canceled|booking_changes|agent|days_in_waiting_list|   adr|required_car_parking_spaces|total_of_special_requests|CPI_AVG|INFLATION|INFLATION_CHG|CSMR_SENT|UNRATE|INTRSRT|      GDP|FUEL_PRCS| CPI_HOTELS|US_GINI|DIS_INC|\n",
            "+-----------+---------+-----------------+------------------------+-------------------------+-----------------------+--------------------+------+--------+------+-----------------+----------------------+------------------------------+---------------+-----+--------------------+------+---------------------------+-------------------------+-------+---------+-------------+---------+------+-------+---------+---------+-----------+-------+-------+\n",
            "|          0|      342|             2015|                      27|                        1|                      0|                   0|     2|     0.0|     0|                0|                     0|                             0|              3|  0.0|                   0|   0.0|                          0|                        0|238.034|      1.8|          0.0|     93.1|   5.3|   0.75| 18306.96|    194.0|0.187566339|   41.2|41355.0|\n",
            "|          0|      737|             2015|                      27|                        1|                      0|                   0|     2|     0.0|     0|                0|                     0|                             0|              4|  0.0|                   0|   0.0|                          0|                        0|238.034|      1.8|          0.0|     93.1|   5.3|   0.75| 18306.96|    194.0|0.187566339|   41.2|41355.0|\n",
            "|          0|        7|             2015|                      27|                        1|                      0|                   1|     1|     0.0|     0|                0|                     0|                             0|              0|  0.0|                   0|  75.0|                          0|                        0|238.034|      1.8|          0.0|     93.1|   5.3|   0.75| 18306.96|    194.0|0.187566339|   41.2|41355.0|\n",
            "|          0|       13|             2015|                      27|                        1|                      0|                   1|     1|     0.0|     0|                0|                     0|                             0|              0|304.0|                   0|  75.0|                          0|                        0|238.034|      1.8|          0.0|     93.1|   5.3|   0.75| 18306.96|    194.0|0.187566339|   41.2|41355.0|\n",
            "|          0|       14|             2015|                      27|                        1|                      0|                   2|     2|     0.0|     0|                0|                     0|                             0|              0|240.0|                   0|  98.0|                          0|                        1|238.034|      1.8|          0.0|     93.1|   5.3|   0.75| 18306.96|    194.0|0.187566339|   41.2|41355.0|\n",
            "|          0|       14|             2015|                      27|                        1|                      0|                   2|     2|     0.0|     0|                0|                     0|                             0|              0|240.0|                   0|  98.0|                          0|                        1|238.034|      1.8|          0.0|     93.1|   5.3|   0.75| 18306.96|    194.0|0.187566339|   41.2|41355.0|\n",
            "|          0|        0|             2015|                      27|                        1|                      0|                   2|     2|     0.0|     0|                0|                     0|                             0|              0|  0.0|                   0| 107.0|                          0|                        0|238.034|      1.8|          0.0|     93.1|   5.3|   0.75| 18306.96|    194.0|0.187566339|   41.2|41355.0|\n",
            "|          0|        9|             2015|                      27|                        1|                      0|                   2|     2|     0.0|     0|                0|                     0|                             0|              0|303.0|                   0| 103.0|                          0|                        1|238.034|      1.8|          0.0|     93.1|   5.3|   0.75| 18306.96|    194.0|0.187566339|   41.2|41355.0|\n",
            "|          1|       85|             2015|                      27|                        1|                      0|                   3|     2|     0.0|     0|                0|                     0|                             0|              0|240.0|                   0|  82.0|                          0|                        1|237.001|      1.7|         -0.1|     90.7|   5.4|   0.75|18193.707|    202.6|0.185619641|   41.2|41290.0|\n",
            "|          1|       75|             2015|                      27|                        1|                      0|                   3|     2|     0.0|     0|                0|                     0|                             0|              0| 15.0|                   0| 105.5|                          0|                        0|236.222|      1.8|          0.0|     95.9|   5.4|   0.75|18193.707|    183.8|0.216699359|   41.2|41248.0|\n",
            "|          1|       23|             2015|                      27|                        1|                      0|                   4|     2|     0.0|     0|                0|                     0|                             0|              0|240.0|                   0| 123.0|                          0|                        0|237.657|      1.8|          0.1|     96.1|   5.6|   0.75|18193.707|    198.7| 0.18253402|   41.2|41288.0|\n",
            "|          0|       35|             2015|                      27|                        1|                      0|                   4|     2|     0.0|     0|                0|                     0|                             0|              0|240.0|                   0| 145.0|                          0|                        0|238.034|      1.8|          0.0|     93.1|   5.3|   0.75| 18306.96|    194.0|0.187566339|   41.2|41355.0|\n",
            "|          0|       68|             2015|                      27|                        1|                      0|                   4|     2|     0.0|     0|                0|                     0|                             0|              0|240.0|                   0|  97.0|                          0|                        3|238.034|      1.8|          0.0|     93.1|   5.3|   0.75| 18306.96|    194.0|0.187566339|   41.2|41355.0|\n",
            "|          0|       18|             2015|                      27|                        1|                      0|                   4|     2|     1.0|     0|                0|                     0|                             0|              1|241.0|                   0|154.77|                          0|                        1|238.034|      1.8|          0.0|     93.1|   5.3|   0.75| 18306.96|    194.0|0.187566339|   41.2|41355.0|\n",
            "|          0|       37|             2015|                      27|                        1|                      0|                   4|     2|     0.0|     0|                0|                     0|                             0|              0|241.0|                   0| 94.71|                          0|                        0|238.034|      1.8|          0.0|     93.1|   5.3|   0.75| 18306.96|    194.0|0.187566339|   41.2|41355.0|\n",
            "|          0|       68|             2015|                      27|                        1|                      0|                   4|     2|     0.0|     0|                0|                     0|                             0|              0|240.0|                   0|  97.0|                          0|                        3|238.034|      1.8|          0.0|     93.1|   5.3|   0.75| 18306.96|    194.0|0.187566339|   41.2|41355.0|\n",
            "|          0|       37|             2015|                      27|                        1|                      0|                   4|     2|     0.0|     0|                0|                     0|                             0|              0|  8.0|                   0|  97.5|                          0|                        0|238.034|      1.8|          0.0|     93.1|   5.3|   0.75| 18306.96|    194.0|0.187566339|   41.2|41355.0|\n",
            "|          0|       12|             2015|                      27|                        1|                      0|                   1|     2|     0.0|     0|                0|                     0|                             0|              0|240.0|                   0|  88.2|                          0|                        0|238.034|      1.8|          0.0|     93.1|   5.3|   0.75| 18306.96|    194.0|0.187566339|   41.2|41355.0|\n",
            "|          0|        0|             2015|                      27|                        1|                      0|                   1|     2|     0.0|     0|                0|                     0|                             0|              0|  0.0|                   0|107.42|                          0|                        0|238.034|      1.8|          0.0|     93.1|   5.3|   0.75| 18306.96|    194.0|0.187566339|   41.2|41355.0|\n",
            "|          0|        7|             2015|                      27|                        1|                      0|                   4|     2|     0.0|     0|                0|                     0|                             0|              0|250.0|                   0| 153.0|                          0|                        1|238.034|      1.8|          0.0|     93.1|   5.3|   0.75| 18306.96|    194.0|0.187566339|   41.2|41355.0|\n",
            "+-----------+---------+-----------------+------------------------+-------------------------+-----------------------+--------------------+------+--------+------+-----------------+----------------------+------------------------------+---------------+-----+--------------------+------+---------------------------+-------------------------+-------+---------+-------------+---------+------+-------+---------+---------+-----------+-------+-------+\n",
            "only showing top 20 rows\n",
            "\n"
          ]
        }
      ]
    },
    {
      "cell_type": "code",
      "source": [
        "[i for i,v in df.dtypes if v in ['date']]"
      ],
      "metadata": {
        "colab": {
          "base_uri": "https://localhost:8080/"
        },
        "id": "zJHi9EtPRfPv",
        "outputId": "e7cae1de-815a-4646-da1b-008b9a0b7980"
      },
      "execution_count": 31,
      "outputs": [
        {
          "output_type": "execute_result",
          "data": {
            "text/plain": [
              "['reservation_status_date']"
            ]
          },
          "metadata": {},
          "execution_count": 31
        }
      ]
    },
    {
      "cell_type": "code",
      "source": [
        "df.select([i for i,v in df.dtypes if v in ['date']]).show()"
      ],
      "metadata": {
        "colab": {
          "base_uri": "https://localhost:8080/"
        },
        "id": "neu5cyhDRfNP",
        "outputId": "b9864621-ac80-410d-dd69-c342035a76ea"
      },
      "execution_count": 32,
      "outputs": [
        {
          "output_type": "stream",
          "name": "stdout",
          "text": [
            "+-----------------------+\n",
            "|reservation_status_date|\n",
            "+-----------------------+\n",
            "|             2015-07-01|\n",
            "|             2015-07-01|\n",
            "|             2015-07-02|\n",
            "|             2015-07-02|\n",
            "|             2015-07-03|\n",
            "|             2015-07-03|\n",
            "|             2015-07-03|\n",
            "|             2015-07-03|\n",
            "|             2015-05-06|\n",
            "|             2015-04-22|\n",
            "|             2015-06-23|\n",
            "|             2015-07-05|\n",
            "|             2015-07-05|\n",
            "|             2015-07-05|\n",
            "|             2015-07-05|\n",
            "|             2015-07-05|\n",
            "|             2015-07-05|\n",
            "|             2015-07-02|\n",
            "|             2015-07-02|\n",
            "|             2015-07-05|\n",
            "+-----------------------+\n",
            "only showing top 20 rows\n",
            "\n"
          ]
        }
      ]
    },
    {
      "cell_type": "code",
      "source": [
        "df.printSchema()"
      ],
      "metadata": {
        "colab": {
          "base_uri": "https://localhost:8080/"
        },
        "id": "dWO6l5bjRICQ",
        "outputId": "5f8aa0bf-420c-4a69-c48e-ef16ceaa7506"
      },
      "execution_count": 33,
      "outputs": [
        {
          "output_type": "stream",
          "name": "stdout",
          "text": [
            "root\n",
            " |-- hotel: string (nullable = true)\n",
            " |-- is_canceled: integer (nullable = true)\n",
            " |-- lead_time: integer (nullable = true)\n",
            " |-- arrival_date_year: integer (nullable = true)\n",
            " |-- arrival_date_month: string (nullable = true)\n",
            " |-- arrival_date_week_number: integer (nullable = true)\n",
            " |-- arrival_date_day_of_month: integer (nullable = true)\n",
            " |-- stays_in_weekend_nights: integer (nullable = true)\n",
            " |-- stays_in_week_nights: integer (nullable = true)\n",
            " |-- adults: integer (nullable = true)\n",
            " |-- children: double (nullable = true)\n",
            " |-- babies: integer (nullable = true)\n",
            " |-- meal: string (nullable = true)\n",
            " |-- country: string (nullable = true)\n",
            " |-- market_segment: string (nullable = true)\n",
            " |-- distribution_channel: string (nullable = true)\n",
            " |-- is_repeated_guest: integer (nullable = true)\n",
            " |-- previous_cancellations: integer (nullable = true)\n",
            " |-- previous_bookings_not_canceled: integer (nullable = true)\n",
            " |-- reserved_room_type: string (nullable = true)\n",
            " |-- assigned_room_type: string (nullable = true)\n",
            " |-- booking_changes: integer (nullable = true)\n",
            " |-- deposit_type: string (nullable = true)\n",
            " |-- agent: double (nullable = true)\n",
            " |-- days_in_waiting_list: integer (nullable = true)\n",
            " |-- customer_type: string (nullable = true)\n",
            " |-- adr: double (nullable = true)\n",
            " |-- required_car_parking_spaces: integer (nullable = true)\n",
            " |-- total_of_special_requests: integer (nullable = true)\n",
            " |-- reservation_status: string (nullable = true)\n",
            " |-- reservation_status_date: date (nullable = true)\n",
            " |-- MO_YR: string (nullable = true)\n",
            " |-- CPI_AVG: double (nullable = true)\n",
            " |-- INFLATION: double (nullable = true)\n",
            " |-- INFLATION_CHG: double (nullable = true)\n",
            " |-- CSMR_SENT: double (nullable = true)\n",
            " |-- UNRATE: double (nullable = true)\n",
            " |-- INTRSRT: double (nullable = true)\n",
            " |-- GDP: double (nullable = true)\n",
            " |-- FUEL_PRCS: double (nullable = true)\n",
            " |-- CPI_HOTELS: double (nullable = true)\n",
            " |-- US_GINI: double (nullable = true)\n",
            " |-- DIS_INC: double (nullable = true)\n",
            "\n"
          ]
        }
      ]
    },
    {
      "cell_type": "code",
      "source": [
        "df.show()"
      ],
      "metadata": {
        "colab": {
          "base_uri": "https://localhost:8080/"
        },
        "id": "Wia1wvp4RH_v",
        "outputId": "bdbb4780-f1a1-4bfb-c9ab-c66e7388cc9b"
      },
      "execution_count": 34,
      "outputs": [
        {
          "output_type": "stream",
          "name": "stdout",
          "text": [
            "+------------+-----------+---------+-----------------+------------------+------------------------+-------------------------+-----------------------+--------------------+------+--------+------+----+-------+--------------+--------------------+-----------------+----------------------+------------------------------+------------------+------------------+---------------+------------+-----+--------------------+-------------+------+---------------------------+-------------------------+------------------+-----------------------+------+-------+---------+-------------+---------+------+-------+---------+---------+-----------+-------+-------+\n",
            "|       hotel|is_canceled|lead_time|arrival_date_year|arrival_date_month|arrival_date_week_number|arrival_date_day_of_month|stays_in_weekend_nights|stays_in_week_nights|adults|children|babies|meal|country|market_segment|distribution_channel|is_repeated_guest|previous_cancellations|previous_bookings_not_canceled|reserved_room_type|assigned_room_type|booking_changes|deposit_type|agent|days_in_waiting_list|customer_type|   adr|required_car_parking_spaces|total_of_special_requests|reservation_status|reservation_status_date| MO_YR|CPI_AVG|INFLATION|INFLATION_CHG|CSMR_SENT|UNRATE|INTRSRT|      GDP|FUEL_PRCS| CPI_HOTELS|US_GINI|DIS_INC|\n",
            "+------------+-----------+---------+-----------------+------------------+------------------------+-------------------------+-----------------------+--------------------+------+--------+------+----+-------+--------------+--------------------+-----------------+----------------------+------------------------------+------------------+------------------+---------------+------------+-----+--------------------+-------------+------+---------------------------+-------------------------+------------------+-----------------------+------+-------+---------+-------------+---------+------+-------+---------+---------+-----------+-------+-------+\n",
            "|Resort Hotel|          0|      342|             2015|              July|                      27|                        1|                      0|                   0|     2|     0.0|     0|  BB|    PRT|        Direct|              Direct|                0|                     0|                             0|                 C|                 C|              3|  No Deposit|  0.0|                   0|    Transient|   0.0|                          0|                        0|         Check-Out|             2015-07-01|7-2015|238.034|      1.8|          0.0|     93.1|   5.3|   0.75| 18306.96|    194.0|0.187566339|   41.2|41355.0|\n",
            "|Resort Hotel|          0|      737|             2015|              July|                      27|                        1|                      0|                   0|     2|     0.0|     0|  BB|    PRT|        Direct|              Direct|                0|                     0|                             0|                 C|                 C|              4|  No Deposit|  0.0|                   0|    Transient|   0.0|                          0|                        0|         Check-Out|             2015-07-01|7-2015|238.034|      1.8|          0.0|     93.1|   5.3|   0.75| 18306.96|    194.0|0.187566339|   41.2|41355.0|\n",
            "|Resort Hotel|          0|        7|             2015|              July|                      27|                        1|                      0|                   1|     1|     0.0|     0|  BB|    GBR|        Direct|              Direct|                0|                     0|                             0|                 A|                 C|              0|  No Deposit|  0.0|                   0|    Transient|  75.0|                          0|                        0|         Check-Out|             2015-07-02|7-2015|238.034|      1.8|          0.0|     93.1|   5.3|   0.75| 18306.96|    194.0|0.187566339|   41.2|41355.0|\n",
            "|Resort Hotel|          0|       13|             2015|              July|                      27|                        1|                      0|                   1|     1|     0.0|     0|  BB|    GBR|     Corporate|           Corporate|                0|                     0|                             0|                 A|                 A|              0|  No Deposit|304.0|                   0|    Transient|  75.0|                          0|                        0|         Check-Out|             2015-07-02|7-2015|238.034|      1.8|          0.0|     93.1|   5.3|   0.75| 18306.96|    194.0|0.187566339|   41.2|41355.0|\n",
            "|Resort Hotel|          0|       14|             2015|              July|                      27|                        1|                      0|                   2|     2|     0.0|     0|  BB|    GBR|     Online TA|               TA/TO|                0|                     0|                             0|                 A|                 A|              0|  No Deposit|240.0|                   0|    Transient|  98.0|                          0|                        1|         Check-Out|             2015-07-03|7-2015|238.034|      1.8|          0.0|     93.1|   5.3|   0.75| 18306.96|    194.0|0.187566339|   41.2|41355.0|\n",
            "|Resort Hotel|          0|       14|             2015|              July|                      27|                        1|                      0|                   2|     2|     0.0|     0|  BB|    GBR|     Online TA|               TA/TO|                0|                     0|                             0|                 A|                 A|              0|  No Deposit|240.0|                   0|    Transient|  98.0|                          0|                        1|         Check-Out|             2015-07-03|7-2015|238.034|      1.8|          0.0|     93.1|   5.3|   0.75| 18306.96|    194.0|0.187566339|   41.2|41355.0|\n",
            "|Resort Hotel|          0|        0|             2015|              July|                      27|                        1|                      0|                   2|     2|     0.0|     0|  BB|    PRT|        Direct|              Direct|                0|                     0|                             0|                 C|                 C|              0|  No Deposit|  0.0|                   0|    Transient| 107.0|                          0|                        0|         Check-Out|             2015-07-03|7-2015|238.034|      1.8|          0.0|     93.1|   5.3|   0.75| 18306.96|    194.0|0.187566339|   41.2|41355.0|\n",
            "|Resort Hotel|          0|        9|             2015|              July|                      27|                        1|                      0|                   2|     2|     0.0|     0|  FB|    PRT|        Direct|              Direct|                0|                     0|                             0|                 C|                 C|              0|  No Deposit|303.0|                   0|    Transient| 103.0|                          0|                        1|         Check-Out|             2015-07-03|7-2015|238.034|      1.8|          0.0|     93.1|   5.3|   0.75| 18306.96|    194.0|0.187566339|   41.2|41355.0|\n",
            "|Resort Hotel|          1|       85|             2015|              July|                      27|                        1|                      0|                   3|     2|     0.0|     0|  BB|    PRT|     Online TA|               TA/TO|                0|                     0|                             0|                 A|                 A|              0|  No Deposit|240.0|                   0|    Transient|  82.0|                          0|                        1|          Canceled|             2015-05-06|5-2015|237.001|      1.7|         -0.1|     90.7|   5.4|   0.75|18193.707|    202.6|0.185619641|   41.2|41290.0|\n",
            "|Resort Hotel|          1|       75|             2015|              July|                      27|                        1|                      0|                   3|     2|     0.0|     0|  HB|    PRT| Offline TA/TO|               TA/TO|                0|                     0|                             0|                 D|                 D|              0|  No Deposit| 15.0|                   0|    Transient| 105.5|                          0|                        0|          Canceled|             2015-04-22|4-2015|236.222|      1.8|          0.0|     95.9|   5.4|   0.75|18193.707|    183.8|0.216699359|   41.2|41248.0|\n",
            "|Resort Hotel|          1|       23|             2015|              July|                      27|                        1|                      0|                   4|     2|     0.0|     0|  BB|    PRT|     Online TA|               TA/TO|                0|                     0|                             0|                 E|                 E|              0|  No Deposit|240.0|                   0|    Transient| 123.0|                          0|                        0|          Canceled|             2015-06-23|6-2015|237.657|      1.8|          0.1|     96.1|   5.6|   0.75|18193.707|    198.7| 0.18253402|   41.2|41288.0|\n",
            "|Resort Hotel|          0|       35|             2015|              July|                      27|                        1|                      0|                   4|     2|     0.0|     0|  HB|    PRT|     Online TA|               TA/TO|                0|                     0|                             0|                 D|                 D|              0|  No Deposit|240.0|                   0|    Transient| 145.0|                          0|                        0|         Check-Out|             2015-07-05|7-2015|238.034|      1.8|          0.0|     93.1|   5.3|   0.75| 18306.96|    194.0|0.187566339|   41.2|41355.0|\n",
            "|Resort Hotel|          0|       68|             2015|              July|                      27|                        1|                      0|                   4|     2|     0.0|     0|  BB|    USA|     Online TA|               TA/TO|                0|                     0|                             0|                 D|                 E|              0|  No Deposit|240.0|                   0|    Transient|  97.0|                          0|                        3|         Check-Out|             2015-07-05|7-2015|238.034|      1.8|          0.0|     93.1|   5.3|   0.75| 18306.96|    194.0|0.187566339|   41.2|41355.0|\n",
            "|Resort Hotel|          0|       18|             2015|              July|                      27|                        1|                      0|                   4|     2|     1.0|     0|  HB|    ESP|     Online TA|               TA/TO|                0|                     0|                             0|                 G|                 G|              1|  No Deposit|241.0|                   0|    Transient|154.77|                          0|                        1|         Check-Out|             2015-07-05|7-2015|238.034|      1.8|          0.0|     93.1|   5.3|   0.75| 18306.96|    194.0|0.187566339|   41.2|41355.0|\n",
            "|Resort Hotel|          0|       37|             2015|              July|                      27|                        1|                      0|                   4|     2|     0.0|     0|  BB|    PRT|     Online TA|               TA/TO|                0|                     0|                             0|                 E|                 E|              0|  No Deposit|241.0|                   0|    Transient| 94.71|                          0|                        0|         Check-Out|             2015-07-05|7-2015|238.034|      1.8|          0.0|     93.1|   5.3|   0.75| 18306.96|    194.0|0.187566339|   41.2|41355.0|\n",
            "|Resort Hotel|          0|       68|             2015|              July|                      27|                        1|                      0|                   4|     2|     0.0|     0|  BB|    IRL|     Online TA|               TA/TO|                0|                     0|                             0|                 D|                 E|              0|  No Deposit|240.0|                   0|    Transient|  97.0|                          0|                        3|         Check-Out|             2015-07-05|7-2015|238.034|      1.8|          0.0|     93.1|   5.3|   0.75| 18306.96|    194.0|0.187566339|   41.2|41355.0|\n",
            "|Resort Hotel|          0|       37|             2015|              July|                      27|                        1|                      0|                   4|     2|     0.0|     0|  BB|    PRT| Offline TA/TO|               TA/TO|                0|                     0|                             0|                 E|                 E|              0|  No Deposit|  8.0|                   0|     Contract|  97.5|                          0|                        0|         Check-Out|             2015-07-05|7-2015|238.034|      1.8|          0.0|     93.1|   5.3|   0.75| 18306.96|    194.0|0.187566339|   41.2|41355.0|\n",
            "|Resort Hotel|          0|       12|             2015|              July|                      27|                        1|                      0|                   1|     2|     0.0|     0|  BB|    IRL|     Online TA|               TA/TO|                0|                     0|                             0|                 A|                 E|              0|  No Deposit|240.0|                   0|    Transient|  88.2|                          0|                        0|         Check-Out|             2015-07-02|7-2015|238.034|      1.8|          0.0|     93.1|   5.3|   0.75| 18306.96|    194.0|0.187566339|   41.2|41355.0|\n",
            "|Resort Hotel|          0|        0|             2015|              July|                      27|                        1|                      0|                   1|     2|     0.0|     0|  BB|    FRA|     Corporate|           Corporate|                0|                     0|                             0|                 A|                 G|              0|  No Deposit|  0.0|                   0|    Transient|107.42|                          0|                        0|         Check-Out|             2015-07-02|7-2015|238.034|      1.8|          0.0|     93.1|   5.3|   0.75| 18306.96|    194.0|0.187566339|   41.2|41355.0|\n",
            "|Resort Hotel|          0|        7|             2015|              July|                      27|                        1|                      0|                   4|     2|     0.0|     0|  BB|    GBR|        Direct|              Direct|                0|                     0|                             0|                 G|                 G|              0|  No Deposit|250.0|                   0|    Transient| 153.0|                          0|                        1|         Check-Out|             2015-07-05|7-2015|238.034|      1.8|          0.0|     93.1|   5.3|   0.75| 18306.96|    194.0|0.187566339|   41.2|41355.0|\n",
            "+------------+-----------+---------+-----------------+------------------+------------------------+-------------------------+-----------------------+--------------------+------+--------+------+----+-------+--------------+--------------------+-----------------+----------------------+------------------------------+------------------+------------------+---------------+------------+-----+--------------------+-------------+------+---------------------------+-------------------------+------------------+-----------------------+------+-------+---------+-------------+---------+------+-------+---------+---------+-----------+-------+-------+\n",
            "only showing top 20 rows\n",
            "\n"
          ]
        }
      ]
    },
    {
      "cell_type": "code",
      "source": [],
      "metadata": {
        "id": "axuLhyTIRH6f"
      },
      "execution_count": 34,
      "outputs": []
    },
    {
      "cell_type": "code",
      "source": [],
      "metadata": {
        "id": "4l7Skqp_RH3v"
      },
      "execution_count": 34,
      "outputs": []
    },
    {
      "cell_type": "code",
      "source": [],
      "metadata": {
        "id": "Dusoc2JXRH1X"
      },
      "execution_count": 34,
      "outputs": []
    },
    {
      "cell_type": "code",
      "source": [],
      "metadata": {
        "id": "1Ue5g0n_RHy3"
      },
      "execution_count": 34,
      "outputs": []
    }
  ],
  "metadata": {
    "colab": {
      "provenance": [],
      "mount_file_id": "1vorzhgRLmzBogiO7CgVVTZMO_fOIaMNk",
      "authorship_tag": "ABX9TyOId/AWxj8yPrCzBj7Q5jIi",
      "include_colab_link": true
    },
    "kernelspec": {
      "display_name": "Python 3",
      "name": "python3"
    },
    "language_info": {
      "name": "python"
    }
  },
  "nbformat": 4,
  "nbformat_minor": 0
}