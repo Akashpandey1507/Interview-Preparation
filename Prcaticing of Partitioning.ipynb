{
 "cells": [
  {
   "cell_type": "code",
   "execution_count": 0,
   "metadata": {
    "application/vnd.databricks.v1+cell": {
     "cellMetadata": {
      "byteLimit": 2048000,
      "rowLimit": 10000
     },
     "inputWidgets": {},
     "nuid": "bb8b7113-cfcc-4205-ba8b-dee72b197a3e",
     "showTitle": false,
     "title": ""
    }
   },
   "outputs": [
    {
     "output_type": "display_data",
     "data": {
      "text/html": [
       "<style scoped>\n",
       "  .table-result-container {\n",
       "    max-height: 300px;\n",
       "    overflow: auto;\n",
       "  }\n",
       "  table, th, td {\n",
       "    border: 1px solid black;\n",
       "    border-collapse: collapse;\n",
       "  }\n",
       "  th, td {\n",
       "    padding: 5px;\n",
       "  }\n",
       "  th {\n",
       "    text-align: left;\n",
       "  }\n",
       "</style><div class='table-result-container'><table class='table-result'><thead style='background-color: white'><tr><th>path</th><th>name</th><th>size</th><th>modificationTime</th></tr></thead><tbody><tr><td>dbfs:/FileStore/tables/BigDataSet/</td><td>BigDataSet/</td><td>0</td><td>0</td></tr><tr><td>dbfs:/FileStore/tables/Covid-19/</td><td>Covid-19/</td><td>0</td><td>0</td></tr><tr><td>dbfs:/FileStore/tables/Datasets-1.csv</td><td>Datasets-1.csv</td><td>864813</td><td>1692099350000</td></tr><tr><td>dbfs:/FileStore/tables/Datasets-2.csv</td><td>Datasets-2.csv</td><td>864813</td><td>1692099758000</td></tr><tr><td>dbfs:/FileStore/tables/Datasets.csv</td><td>Datasets.csv</td><td>864813</td><td>1692096320000</td></tr><tr><td>dbfs:/FileStore/tables/Ecommerce.csv</td><td>Ecommerce.csv</td><td>231599</td><td>1684814738000</td></tr><tr><td>dbfs:/FileStore/tables/Financials.csv</td><td>Financials.csv</td><td>121839</td><td>1693897705000</td></tr><tr><td>dbfs:/FileStore/tables/IPL/</td><td>IPL/</td><td>0</td><td>0</td></tr><tr><td>dbfs:/FileStore/tables/ML_Files/</td><td>ML_Files/</td><td>0</td><td>0</td></tr><tr><td>dbfs:/FileStore/tables/Sales_Data/</td><td>Sales_Data/</td><td>0</td><td>0</td></tr><tr><td>dbfs:/FileStore/tables/SampleSuperstore-1.csv</td><td>SampleSuperstore-1.csv</td><td>1113007</td><td>1693799525000</td></tr><tr><td>dbfs:/FileStore/tables/SampleSuperstore.csv</td><td>SampleSuperstore.csv</td><td>1113007</td><td>1690380914000</td></tr><tr><td>dbfs:/FileStore/tables/Walmart_Data.csv</td><td>Walmart_Data.csv</td><td>17569313</td><td>1685507857000</td></tr><tr><td>dbfs:/FileStore/tables/application_data-1.csv</td><td>application_data-1.csv</td><td>166133370</td><td>1688137635000</td></tr><tr><td>dbfs:/FileStore/tables/application_data.csv</td><td>application_data.csv</td><td>166133370</td><td>1688052731000</td></tr><tr><td>dbfs:/FileStore/tables/chocolate_bars.csv</td><td>chocolate_bars.csv</td><td>256021</td><td>1686381114000</td></tr><tr><td>dbfs:/FileStore/tables/foodhub_order.csv</td><td>foodhub_order.csv</td><td>123933</td><td>1694518699000</td></tr><tr><td>dbfs:/FileStore/tables/hotel_bookings_raw.csv</td><td>hotel_bookings_raw.csv</td><td>24965455</td><td>1695443456000</td></tr><tr><td>dbfs:/FileStore/tables/online_retail.csv</td><td>online_retail.csv</td><td>44496850</td><td>1694330651000</td></tr><tr><td>dbfs:/FileStore/tables/review_data.csv</td><td>review_data.csv</td><td>7669276</td><td>1684814531000</td></tr></tbody></table></div>"
      ]
     },
     "metadata": {
      "application/vnd.databricks.v1+output": {
       "addedWidgets": {},
       "aggData": [],
       "aggError": "",
       "aggOverflow": false,
       "aggSchema": [],
       "aggSeriesLimitReached": false,
       "aggType": "",
       "arguments": {},
       "columnCustomDisplayInfos": {},
       "data": [
        [
         "dbfs:/FileStore/tables/BigDataSet/",
         "BigDataSet/",
         0,
         0
        ],
        [
         "dbfs:/FileStore/tables/Covid-19/",
         "Covid-19/",
         0,
         0
        ],
        [
         "dbfs:/FileStore/tables/Datasets-1.csv",
         "Datasets-1.csv",
         864813,
         1692099350000
        ],
        [
         "dbfs:/FileStore/tables/Datasets-2.csv",
         "Datasets-2.csv",
         864813,
         1692099758000
        ],
        [
         "dbfs:/FileStore/tables/Datasets.csv",
         "Datasets.csv",
         864813,
         1692096320000
        ],
        [
         "dbfs:/FileStore/tables/Ecommerce.csv",
         "Ecommerce.csv",
         231599,
         1684814738000
        ],
        [
         "dbfs:/FileStore/tables/Financials.csv",
         "Financials.csv",
         121839,
         1693897705000
        ],
        [
         "dbfs:/FileStore/tables/IPL/",
         "IPL/",
         0,
         0
        ],
        [
         "dbfs:/FileStore/tables/ML_Files/",
         "ML_Files/",
         0,
         0
        ],
        [
         "dbfs:/FileStore/tables/Sales_Data/",
         "Sales_Data/",
         0,
         0
        ],
        [
         "dbfs:/FileStore/tables/SampleSuperstore-1.csv",
         "SampleSuperstore-1.csv",
         1113007,
         1693799525000
        ],
        [
         "dbfs:/FileStore/tables/SampleSuperstore.csv",
         "SampleSuperstore.csv",
         1113007,
         1690380914000
        ],
        [
         "dbfs:/FileStore/tables/Walmart_Data.csv",
         "Walmart_Data.csv",
         17569313,
         1685507857000
        ],
        [
         "dbfs:/FileStore/tables/application_data-1.csv",
         "application_data-1.csv",
         166133370,
         1688137635000
        ],
        [
         "dbfs:/FileStore/tables/application_data.csv",
         "application_data.csv",
         166133370,
         1688052731000
        ],
        [
         "dbfs:/FileStore/tables/chocolate_bars.csv",
         "chocolate_bars.csv",
         256021,
         1686381114000
        ],
        [
         "dbfs:/FileStore/tables/foodhub_order.csv",
         "foodhub_order.csv",
         123933,
         1694518699000
        ],
        [
         "dbfs:/FileStore/tables/hotel_bookings_raw.csv",
         "hotel_bookings_raw.csv",
         24965455,
         1695443456000
        ],
        [
         "dbfs:/FileStore/tables/online_retail.csv",
         "online_retail.csv",
         44496850,
         1694330651000
        ],
        [
         "dbfs:/FileStore/tables/review_data.csv",
         "review_data.csv",
         7669276,
         1684814531000
        ]
       ],
       "datasetInfos": [],
       "dbfsResultPath": null,
       "isJsonSchema": true,
       "metadata": {
        "isDbfsCommandResult": false
       },
       "overflow": false,
       "plotOptions": {
        "customPlotOptions": {},
        "displayType": "table",
        "pivotAggregation": null,
        "pivotColumns": null,
        "xColumns": null,
        "yColumns": null
       },
       "removedWidgets": [],
       "schema": [
        {
         "metadata": "{}",
         "name": "path",
         "type": "\"string\""
        },
        {
         "metadata": "{}",
         "name": "name",
         "type": "\"string\""
        },
        {
         "metadata": "{}",
         "name": "size",
         "type": "\"long\""
        },
        {
         "metadata": "{}",
         "name": "modificationTime",
         "type": "\"long\""
        }
       ],
       "type": "table"
      }
     },
     "output_type": "display_data"
    }
   ],
   "source": [
    "%fs\n",
    "\n",
    "ls dbfs:/FileStore/tables/"
   ]
  },
  {
   "cell_type": "code",
   "execution_count": 0,
   "metadata": {
    "application/vnd.databricks.v1+cell": {
     "cellMetadata": {
      "byteLimit": 2048000,
      "rowLimit": 10000
     },
     "inputWidgets": {},
     "nuid": "1dccdfe5-eb61-4543-a812-31fbf5064a7a",
     "showTitle": false,
     "title": ""
    }
   },
   "outputs": [
    {
     "output_type": "stream",
     "name": "stdout",
     "output_type": "stream",
     "text": [
      "+----+-------------------+---------+--------------------+-----+-----------+-------------+--------------------+--------------------+-------------+\n|  ID|               Area|     City|          Restaurant|Price|Avg ratings|Total ratings|           Food type|             Address|Delivery time|\n+----+-------------------+---------+--------------------+-----+-----------+-------------+--------------------+--------------------+-------------+\n| 211|        Koramangala|Bangalore|         Tandoor Hut|  300|        4.4|          100|Biryani,Chinese,N...|           5Th Block|           59|\n| 221|        Koramangala|Bangalore|       Tunday Kababi|  300|        4.1|          100|    Mughlai,Lucknowi|           5Th Block|           56|\n| 246|          Jogupalya|Bangalore|             Kim Lee|  650|        4.4|          100|             Chinese|         Double Road|           50|\n| 248|        Indiranagar|Bangalore|   New Punjabi Hotel|  250|        3.9|          500|North Indian,Punj...|        80 Feet Road|           57|\n| 249|        Indiranagar|Bangalore|                 Nh8|  350|        4.0|           50|Rajasthani,Gujara...|        80 Feet Road|           63|\n| 254|        Indiranagar|Bangalore|               Treat|  800|        4.5|          100|Mughlai,North Indian|       100 Feet Road|           56|\n| 258|        Indiranagar|Bangalore|Chinita Real Mexi...| 1000|        4.5|          500|Mexican,Beverages...|         Double Road|           53|\n| 263|        Koramangala|Bangalore|Cupcake Noggins -...|  150|        4.3|          100|Desserts,British,...|           4Th Block|           57|\n| 267|             Domlur|Bangalore|            Tea Brew|  350|        4.1|          100|American,Italian,...|         Double Road|           57|\n| 308|        Koramangala|Bangalore|          Bangaliana|  300|        4.0|          500|             Bengali|           7Th Block|           57|\n| 435|        Koramangala|Bangalore| Bamey'S Restro Cafe|  400|        4.4|          100|Chinese,Thai,Nepa...|           5Th Block|           56|\n| 446|         Cooke Town|Bangalore|Altaf'S Chillies ...|  250|        4.3|          500|North Indian,Chinese|          Cooke Town|           55|\n| 453|    Pulikeshi Nagar|Bangalore|       Chichabas Taj|  532|        4.2|          100|Mughlai,North Ind...|             Mm Road|           54|\n| 464|Sivanchetti Gardens|Bangalore|        Urban Solace|  500|        2.9|           80|American,Continental|         Ulsoor Lake|           48|\n| 504|          Kodihalli|Bangalore|Kaati Zone Rolls ...|  150|        4.3|          100|Fast Food,Beverag...|       Domlur Layout|           59|\n| 604|        Koramangala|Bangalore|Aalishan Restaura...|  290|        4.3|          100|Mughlai,North Indian|           7Th Block|           52|\n| 608|             Domlur|Bangalore|     Kerala Pavilion|  300|        4.1|          100|      Kerala,Seafood|       Domlur Layout|           55|\n| 621|        Indiranagar|Bangalore|      Kitchen Of Joy|  250|        4.4|          100|Bengali,Fast Food...|              Domlur|           55|\n|1050|          Jayanagar|Bangalore|   Nagarjuna Chimney|  800|        4.2|         1000|Seafood,Andhra,Bi...|           3Rd Block|           48|\n|1299|         Film Nagar|Hyderabad| So. The Sky Kitchen|  800|        2.9|           80|Mughlai,North Ind...|Near Apollo Healt...|           90|\n+----+-------------------+---------+--------------------+-----+-----------+-------------+--------------------+--------------------+-------------+\nonly showing top 20 rows\n\n"
     ]
    }
   ],
   "source": [
    "df = spark.read.csv(\"dbfs:/FileStore/tables/Datasets.csv\",\n",
    "               header=True,\n",
    "               inferSchema=True)\n",
    "\n",
    "df.show()"
   ]
  },
  {
   "cell_type": "code",
   "execution_count": 0,
   "metadata": {
    "application/vnd.databricks.v1+cell": {
     "cellMetadata": {
      "byteLimit": 2048000,
      "rowLimit": 10000
     },
     "inputWidgets": {},
     "nuid": "12a8e941-6d3f-4df5-88ea-94998ee17eff",
     "showTitle": false,
     "title": ""
    }
   },
   "outputs": [],
   "source": [
    "df.write.format(\"csv\").option(\"header\", \"true\").partitionBy('City').mode('overwrite').save(\"/mydata/part\")\n"
   ]
  },
  {
   "cell_type": "code",
   "execution_count": 0,
   "metadata": {
    "application/vnd.databricks.v1+cell": {
     "cellMetadata": {
      "byteLimit": 2048000,
      "rowLimit": 10000
     },
     "inputWidgets": {},
     "nuid": "c13d3f06-042d-44d8-95c8-4cceba4702ea",
     "showTitle": false,
     "title": ""
    }
   },
   "outputs": [],
   "source": [
    "data = spark.read.csv(\"/mydata/part\", header=True)"
   ]
  },
  {
   "cell_type": "code",
   "execution_count": 0,
   "metadata": {
    "application/vnd.databricks.v1+cell": {
     "cellMetadata": {
      "byteLimit": 2048000,
      "rowLimit": 10000
     },
     "inputWidgets": {},
     "nuid": "47a5c6cb-1dcd-4b00-b1ff-fe73e0edcf9e",
     "showTitle": false,
     "title": ""
    }
   },
   "outputs": [
    {
     "output_type": "stream",
     "name": "stdout",
     "output_type": "stream",
     "text": [
      "+----+----------------+--------------------+-----+-----------+-------------+--------------------+--------------------+-------------+-------+\n|  ID|            Area|          Restaurant|Price|Avg ratings|Total ratings|           Food type|             Address|Delivery time|   City|\n+----+----------------+--------------------+-----+-----------+-------------+--------------------+--------------------+-------------+-------+\n|3007|     Bhowanipore|     Tandoori Darbar|  500|        4.4|          100|North Indian,Chin...|          Hazra Road|           71|Kolkata|\n|3010|      Ballygunge|    Ballygunge Dhaba|  500|        4.3|          500|North Indian,Biry...|          Ballygunge|           59|Kolkata|\n|3018|        Gariahat|         Tero Parbon|  500|        4.3|          100|             Bengali|Purna Das Road Hi...|           72|Kolkata|\n|3020|      Ballygunge|Wise Owl The Coff...|  700|        4.3|          100|Continental,Ameri...|       Purnadas Road|           76|Kolkata|\n|3022|        Gariahat|Aminia Restaurant...|  500|        4.3|         1000|Biryani,Mughlai,N...|  Ballygunge Gardens|           67|Kolkata|\n|3025|        Gariahat|Bedouin - Sher E ...|  500|        2.9|           80|North Indian,Chin...|Gariahat Road Gar...|           70|Kolkata|\n|3031|      Ballygunge|        Sharma Dhaba|  300|        4.2|         1000|North Indian  Fas...|Ballygunge Circul...|           54|Kolkata|\n|3071|     Bhowanipore|      Jai Hind Dhaba|  500|        4.3|         1000|North Indian,Indi...|Sarat Bose Road P...|           60|Kolkata|\n|3074|        Kalighat|            Tamarind| 1100|        4.4|          100|North Indian,Sout...|Sarat Bose Road D...|           73|Kolkata|\n|3439|         Golpark|       The Grub Club|  400|        4.3|         1000|Italian,Chinese,Thai|             Golpark|           69|Kolkata|\n|3813|        Gariahat|               Kimli|  600|        4.4|          100|     Chinese,Seafood|       Purnadas Road|           69|Kolkata|\n|4429|Park Street Area|      Sip & Sandwich|  300|        2.9|           80|Pastas  Beverages...|         Park Street|           60|Kolkata|\n|4430|      Beniapukur|Shiraz Golden Res...|  500|        4.4|         1000|Biryani,Mughlai,N...|         Park Street|           52|Kolkata|\n|4484|Park Street Area|             Mocambo| 1500|        4.4|         1000|North Indian,Biry...|         Park Street|           62|Kolkata|\n|4558|     Bidhannagar|           The Scoop|  400|        4.1|          100|North Indian,Chin...|            Sector 1|           70|Kolkata|\n|4565|     Bidhannagar|             Kaafila| 1600|        3.9|           50|Mughlai,North Indian|            Sector 1|           71|Kolkata|\n|4587|     Bidhannagar|            Ranjan'S|  200|        4.2|          100|North Indian,Chinese|            Sector 3|           56|Kolkata|\n|4599|     Bidhannagar|   Balle Balle Dhaba|  500|        4.1|         1000|North Indian,Punj...|            Sector 1|           59|Kolkata|\n|4600|     Bidhannagar|     Le Coffee Creme|  600|        3.9|           50|Combo,Chinese,Con...|            Sector 1|           68|Kolkata|\n|5251|        Kalighat|      Bachan'S Dhaba|  250|        4.3|         5000|North Indian,Chinese|Near Kalighat Met...|           61|Kolkata|\n+----+----------------+--------------------+-----+-----------+-------------+--------------------+--------------------+-------------+-------+\nonly showing top 20 rows\n\n"
     ]
    }
   ],
   "source": [
    "data.show()"
   ]
  },
  {
   "cell_type": "code",
   "execution_count": 0,
   "metadata": {
    "application/vnd.databricks.v1+cell": {
     "cellMetadata": {
      "byteLimit": 2048000,
      "rowLimit": 10000
     },
     "inputWidgets": {},
     "nuid": "f22146da-b72f-4b17-8aec-1187716a94a8",
     "showTitle": false,
     "title": ""
    }
   },
   "outputs": [
    {
     "output_type": "stream",
     "name": "stdout",
     "output_type": "stream",
     "text": [
      "+-----+--------------------+--------------------+-----+-----------+-------------+--------------------+--------------------+-------------+-----+\n|   ID|                Area|          Restaurant|Price|Avg ratings|Total ratings|           Food type|             Address|Delivery time| City|\n+-----+--------------------+--------------------+-----+-----------+-------------+--------------------+--------------------+-------------+-----+\n| 5208|       Paschim Vihar|             Deli 63|  400|        2.9|           80|Street Food,Fast ...|        Punjabi Bagh|           60|Delhi|\n| 6075|       Paschim Vihar|     London Grill Co|  500|        4.0|         1000|American,Healthy ...|       Paschim Vihar|           50|Delhi|\n| 7626|       Vishnu Garden|    Sethi Restaurant|  300|        4.0|         1000|        North Indian|        Pacific Mall|           63|Delhi|\n| 7859|Central Markt Pun...|   Wok In The Clouds| 1500|        4.5|           50|North Indian,Chin...|        Punjabi Bagh|           72|Delhi|\n| 8175|       Paschim Vihar|      Chawla Kitchen|  500|        3.8|          500|Chinese,Mughlai,I...|        Punjabi Bagh|           48|Delhi|\n| 8323|        Punjabi Bagh|   Blue Water Grille|  600|        3.9|          100|North Indian,Chin...|        Punjabi Bagh|           68|Delhi|\n| 9739|           Pitampura|Mikky Peshawari C...|  250|        4.0|          100|North Indian,Mugh...|                 Nsp|           53|Delhi|\n| 9755|          Pitam Pura|        Shake Square|  250|        3.9|           50|Ice Cream,Beverag...|Jd Block Ashiana ...|           50|Delhi|\n| 9757|          Pitam Pura|       Shut Up & Eat|  250|        4.1|          100|              Indian|                 Nsp|           27|Delhi|\n|10208|              Rohini|         Burger King|  350|        4.3|         1000|  American,Fast Food|D Mall Twin Distr...|           35|Delhi|\n|10285|              Rohini|Bombay Indianese ...|  300|        2.9|           80|             Chinese|      Prashant Vihar|           61|Delhi|\n|10298|     Sector 7 Rohini|Chalte Firte Momo...|  200|        3.8|          100|Chinese,Fast Food...|            Sector 7|           36|Delhi|\n|10312|     Sector 8 Rohini|Patiala Shahi Chi...|  400|        4.1|          100|North Indian,Beve...|            Sector 8|           36|Delhi|\n|10323|Prashant Vihar Ro...|              Subway|  350|        4.1|          500|Fast Food,Salads,...|Fun City Mall Pra...|           53|Delhi|\n|10327|    Sector 14 Rohini|Pooran'S Ambala Wale|  250|        4.0|          100|North Indian,Chinese|           Sector 14|           48|Delhi|\n|10336|              Rohini|           Chit Chat|  300|        4.3|           20|North Indian,Chinese|Dda Market Sector 13|           50|Delhi|\n|10389|Prashant Vihar Ro...|   Bombay Bar-Be-Que|  400|        4.2|          100|              Indian|      Prashant Vihar|           57|Delhi|\n|11834|        Punjabi Bagh|      Grillz N Gravy|  500|        2.9|           80|Chinese,Mughlai,I...|           Club Road|           69|Delhi|\n|12020|    Sector 11 Rohini|   U.S. Burger Point|  200|        3.7|           50|             Italian|Near Himalya Publ...|           56|Delhi|\n|12785|    Sector 10 Rohini|       Pind Balluchi|  400|        3.8|          100|Mughlai,North Indian|     Metro Walk Mall|           40|Delhi|\n+-----+--------------------+--------------------+-----+-----------+-------------+--------------------+--------------------+-------------+-----+\nonly showing top 20 rows\n\n"
     ]
    }
   ],
   "source": [
    "data.filter(data[\"City\"] == \"Delhi\").show()"
   ]
  },
  {
   "cell_type": "code",
   "execution_count": 0,
   "metadata": {
    "application/vnd.databricks.v1+cell": {
     "cellMetadata": {
      "byteLimit": 2048000,
      "rowLimit": 10000
     },
     "inputWidgets": {},
     "nuid": "30edae18-67f4-4974-9532-cb946317740e",
     "showTitle": false,
     "title": ""
    }
   },
   "outputs": [],
   "source": [
    "df.write.format(\"csv\").option(\"header\", \"true\").partitionBy('City','Area').mode('overwrite').save(\"/mydata/2part\")"
   ]
  },
  {
   "cell_type": "code",
   "execution_count": 0,
   "metadata": {
    "application/vnd.databricks.v1+cell": {
     "cellMetadata": {
      "byteLimit": 2048000,
      "rowLimit": 10000
     },
     "inputWidgets": {},
     "nuid": "9fc2c6dd-3701-490b-aa72-9b203e0773e5",
     "showTitle": false,
     "title": ""
    }
   },
   "outputs": [
    {
     "output_type": "stream",
     "name": "stdout",
     "output_type": "stream",
     "text": [
      "+-----+--------------------+-----+-----------+-------------+--------------------+--------------------+-------------+-----+------+\n|   ID|          Restaurant|Price|Avg ratings|Total ratings|           Food type|             Address|Delivery time| City|  Area|\n+-----+--------------------+-----+-----------+-------------+--------------------+--------------------+-------------+-----+------+\n|10208|         Burger King|  350|        4.3|         1000|  American,Fast Food|D Mall Twin Distr...|           35|Delhi|Rohini|\n|10285|Bombay Indianese ...|  300|        2.9|           80|             Chinese|      Prashant Vihar|           61|Delhi|Rohini|\n|10336|           Chit Chat|  300|        4.3|           20|North Indian,Chinese|Dda Market Sector 13|           50|Delhi|Rohini|\n|15666|     Behrouz Biryani|  500|        4.2|          500|Biryani,Mughlai,L...|            Sector 8|           38|Delhi|Rohini|\n|15846|              Faasos|  200|        4.1|          100|Combo,Snacks,Beve...|            Sector 8|           46|Delhi|Rohini|\n|16866|           Pizza Hut|  350|        3.6|          100|              Pizzas|Aggarwal City Pla...|           37|Delhi|Rohini|\n|20760|      Kukki Da Dhaba|  300|        4.2|           50|        North Indian|              Rohini|           55|Delhi|Rohini|\n|20970|    Oven Story Pizza|  600|        3.6|          100|      Pizzas,Italian|            Sector 8|           47|Delhi|Rohini|\n|21552|         Metro Grill|  500|        2.9|           80|North Indian,Chinese|              Rohini|           45|Delhi|Rohini|\n|24162|      Domino'S Pizza|  400|        4.3|          500|              Pizzas|   Nn Mall Sector- 3|           30|Delhi|Rohini|\n|26723|                 Kfc|  400|        4.3|          100|     American,Snacks|District Centre M...|           35|Delhi|Rohini|\n|29851|        Firangi Bake|  400|        4.1|           50|Italian,Mexican,P...|            Sector 8|           46|Delhi|Rohini|\n|35835|Sweet Truth - Cak...|  450|        4.3|          100|Ice Cream,Bakery,...|            Sector 8|           37|Delhi|Rohini|\n|36520|           Ase China|  150|        3.8|           50|             Chinese|Shaheed Colonel G...|           45|Delhi|Rohini|\n|42380|Lala'S(Khao Or Kh...|  400|        2.9|           80|Italian,Chinese,F...|      Sector 9Rohini|           44|Delhi|Rohini|\n|46864|China Town Kathi ...|  250|        4.6|           20|           Fast Food|              Rohini|           44|Delhi|Rohini|\n|51932|        Khalsa Dhaba|  500|        2.9|           80|        North Indian|            Sector 2|           35|Delhi|Rohini|\n|52566|        Jw Solitaire|  800|        2.9|           80|North Indian,Chin...|       Adjoining M2K|           37|Delhi|Rohini|\n|62876|            Lunchbox|  200|        4.1|          100|North Indian,Punj...|            Sector 8|           40|Delhi|Rohini|\n|81776|             Bonfire|  200|        3.5|           50|        North Indian|           Sector-16|           55|Delhi|Rohini|\n+-----+--------------------+-----+-----------+-------------+--------------------+--------------------+-------------+-----+------+\nonly showing top 20 rows\n\n"
     ]
    }
   ],
   "source": [
    "data1 = spark.read.csv(\"/mydata/2part\", header=True, inferSchema=True)\n",
    "data1.show()"
   ]
  },
  {
   "cell_type": "code",
   "execution_count": 0,
   "metadata": {
    "application/vnd.databricks.v1+cell": {
     "cellMetadata": {
      "byteLimit": 2048000,
      "rowLimit": 10000
     },
     "inputWidgets": {},
     "nuid": "3b1f3a7f-f867-4b9e-88c0-cfdbe2ab4b90",
     "showTitle": false,
     "title": ""
    }
   },
   "outputs": [
    {
     "output_type": "stream",
     "name": "stdout",
     "output_type": "stream",
     "text": [
      "+-----+--------------------+-----+-----------+-------------+--------------------+--------------------+-------------+-----+------+\n|   ID|          Restaurant|Price|Avg ratings|Total ratings|           Food type|             Address|Delivery time| City|  Area|\n+-----+--------------------+-----+-----------+-------------+--------------------+--------------------+-------------+-----+------+\n|10208|         Burger King|  350|        4.3|         1000|  American,Fast Food|D Mall Twin Distr...|           35|Delhi|Rohini|\n|10285|Bombay Indianese ...|  300|        2.9|           80|             Chinese|      Prashant Vihar|           61|Delhi|Rohini|\n|10336|           Chit Chat|  300|        4.3|           20|North Indian,Chinese|Dda Market Sector 13|           50|Delhi|Rohini|\n|15666|     Behrouz Biryani|  500|        4.2|          500|Biryani,Mughlai,L...|            Sector 8|           38|Delhi|Rohini|\n|15846|              Faasos|  200|        4.1|          100|Combo,Snacks,Beve...|            Sector 8|           46|Delhi|Rohini|\n|16866|           Pizza Hut|  350|        3.6|          100|              Pizzas|Aggarwal City Pla...|           37|Delhi|Rohini|\n|20760|      Kukki Da Dhaba|  300|        4.2|           50|        North Indian|              Rohini|           55|Delhi|Rohini|\n|20970|    Oven Story Pizza|  600|        3.6|          100|      Pizzas,Italian|            Sector 8|           47|Delhi|Rohini|\n|21552|         Metro Grill|  500|        2.9|           80|North Indian,Chinese|              Rohini|           45|Delhi|Rohini|\n|24162|      Domino'S Pizza|  400|        4.3|          500|              Pizzas|   Nn Mall Sector- 3|           30|Delhi|Rohini|\n|26723|                 Kfc|  400|        4.3|          100|     American,Snacks|District Centre M...|           35|Delhi|Rohini|\n|29851|        Firangi Bake|  400|        4.1|           50|Italian,Mexican,P...|            Sector 8|           46|Delhi|Rohini|\n|35835|Sweet Truth - Cak...|  450|        4.3|          100|Ice Cream,Bakery,...|            Sector 8|           37|Delhi|Rohini|\n|36520|           Ase China|  150|        3.8|           50|             Chinese|Shaheed Colonel G...|           45|Delhi|Rohini|\n|42380|Lala'S(Khao Or Kh...|  400|        2.9|           80|Italian,Chinese,F...|      Sector 9Rohini|           44|Delhi|Rohini|\n|46864|China Town Kathi ...|  250|        4.6|           20|           Fast Food|              Rohini|           44|Delhi|Rohini|\n|51932|        Khalsa Dhaba|  500|        2.9|           80|        North Indian|            Sector 2|           35|Delhi|Rohini|\n|52566|        Jw Solitaire|  800|        2.9|           80|North Indian,Chin...|       Adjoining M2K|           37|Delhi|Rohini|\n|62876|            Lunchbox|  200|        4.1|          100|North Indian,Punj...|            Sector 8|           40|Delhi|Rohini|\n|81776|             Bonfire|  200|        3.5|           50|        North Indian|           Sector-16|           55|Delhi|Rohini|\n+-----+--------------------+-----+-----------+-------------+--------------------+--------------------+-------------+-----+------+\nonly showing top 20 rows\n\n"
     ]
    }
   ],
   "source": [
    "data1.filter((data1[\"City\"] == \"Delhi\") & (data1[\"Area\"] == \"Rohini\")).show()"
   ]
  }
 ],
 "metadata": {
  "application/vnd.databricks.v1+notebook": {
   "dashboards": [],
   "language": "python",
   "notebookMetadata": {
    "mostRecentlyExecutedCommandWithImplicitDF": {
     "commandId": 2939098054608822,
     "dataframes": [
      "_sqldf"
     ]
    },
    "pythonIndentUnit": 4
   },
   "notebookName": "Prcaticing of Partitioning",
   "widgets": {}
  }
 },
 "nbformat": 4,
 "nbformat_minor": 0
}
