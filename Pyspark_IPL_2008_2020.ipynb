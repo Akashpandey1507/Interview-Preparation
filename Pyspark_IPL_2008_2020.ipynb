{
  "nbformat": 4,
  "nbformat_minor": 0,
  "metadata": {
    "colab": {
      "provenance": [],
      "mount_file_id": "1uxBgCHXOGMfOvvi-TxgCTPl5YV_JT8a1",
      "authorship_tag": "ABX9TyMhBwHomEQVNS5KU9vujRdC",
      "include_colab_link": true
    },
    "kernelspec": {
      "name": "python3",
      "display_name": "Python 3"
    },
    "language_info": {
      "name": "python"
    }
  },
  "cells": [
    {
      "cell_type": "markdown",
      "metadata": {
        "id": "view-in-github",
        "colab_type": "text"
      },
      "source": [
        "<a href=\"https://colab.research.google.com/github/Akashpandey1507/Interview-Preparation/blob/main/Pyspark_IPL_2008_2020.ipynb\" target=\"_parent\"><img src=\"https://colab.research.google.com/assets/colab-badge.svg\" alt=\"Open In Colab\"/></a>"
      ]
    },
    {
      "cell_type": "code",
      "source": [
        "!pip install pyspark"
      ],
      "metadata": {
        "colab": {
          "base_uri": "https://localhost:8080/"
        },
        "id": "wXLHdyLlhzaD",
        "outputId": "5080b940-f7e6-434c-9625-fada5858b66c"
      },
      "execution_count": 1,
      "outputs": [
        {
          "output_type": "stream",
          "name": "stdout",
          "text": [
            "Collecting pyspark\n",
            "  Downloading pyspark-3.4.1.tar.gz (310.8 MB)\n",
            "\u001b[2K     \u001b[90m━━━━━━━━━━━━━━━━━━━━━━━━━━━━━━━━━━━━━━━\u001b[0m \u001b[32m310.8/310.8 MB\u001b[0m \u001b[31m2.5 MB/s\u001b[0m eta \u001b[36m0:00:00\u001b[0m\n",
            "\u001b[?25h  Preparing metadata (setup.py) ... \u001b[?25l\u001b[?25hdone\n",
            "Requirement already satisfied: py4j==0.10.9.7 in /usr/local/lib/python3.10/dist-packages (from pyspark) (0.10.9.7)\n",
            "Building wheels for collected packages: pyspark\n",
            "  Building wheel for pyspark (setup.py) ... \u001b[?25l\u001b[?25hdone\n",
            "  Created wheel for pyspark: filename=pyspark-3.4.1-py2.py3-none-any.whl size=311285387 sha256=eadd62fa8dcf9cbb4c5bbc83e337eba72ed3ec7f7dae7d661c7256900527798e\n",
            "  Stored in directory: /root/.cache/pip/wheels/0d/77/a3/ff2f74cc9ab41f8f594dabf0579c2a7c6de920d584206e0834\n",
            "Successfully built pyspark\n",
            "Installing collected packages: pyspark\n",
            "Successfully installed pyspark-3.4.1\n"
          ]
        }
      ]
    },
    {
      "cell_type": "code",
      "source": [
        "file = r\"/content/drive/MyDrive/Data Analysis Files/Indian Premier League\""
      ],
      "metadata": {
        "id": "6DO25lAaiNBV"
      },
      "execution_count": 80,
      "outputs": []
    },
    {
      "cell_type": "code",
      "source": [
        "from pyspark.sql import SparkSession\n",
        "import pyspark\n",
        "\n",
        "# Create a SparkSession\n",
        "spark = SparkSession.builder \\\n",
        "    .appName(\"MySparkApp\") \\\n",
        "    .config(\"spark.some.config.option\", \"config-value\") \\\n",
        "    .getOrCreate()\n",
        "\n",
        "# Now you can use the 'spark' object to work with Spark APIs.\n"
      ],
      "metadata": {
        "id": "H2L0QWO0iQo0"
      },
      "execution_count": 3,
      "outputs": []
    },
    {
      "cell_type": "code",
      "source": [
        "import os\n",
        "\n",
        "files = os.listdir(file)\n",
        "files"
      ],
      "metadata": {
        "colab": {
          "base_uri": "https://localhost:8080/"
        },
        "id": "yP_npKthxvEN",
        "outputId": "d310961c-7006-4ad6-a002-5d0aad34eb11"
      },
      "execution_count": 83,
      "outputs": [
        {
          "output_type": "execute_result",
          "data": {
            "text/plain": [
              "['matches.csv', 'deliveries.csv']"
            ]
          },
          "metadata": {},
          "execution_count": 83
        }
      ]
    },
    {
      "cell_type": "code",
      "source": [
        "match_datasets = spark.read.csv(\n",
        "    f\"{file}/{files[0]}\",\n",
        "    header=True,\n",
        "                inferSchema=True\n",
        "                                )\n",
        "deliveries_datasets = spark.read.csv(\n",
        "    f\"{file}/{files[1]}\",\n",
        "    header=True,\n",
        "    inferSchema=True\n",
        "    )"
      ],
      "metadata": {
        "id": "VvCiile_x00B"
      },
      "execution_count": 85,
      "outputs": []
    },
    {
      "cell_type": "code",
      "source": [
        "df1 = match_datasets.alias('copy')\n",
        "df2 = deliveries_datasets.alias('copy')"
      ],
      "metadata": {
        "id": "q9i0VUysx5kJ"
      },
      "execution_count": 86,
      "outputs": []
    },
    {
      "cell_type": "code",
      "source": [
        "df1.show()"
      ],
      "metadata": {
        "colab": {
          "base_uri": "https://localhost:8080/"
        },
        "id": "9wQtohWMx5hh",
        "outputId": "b1fc55b1-44cc-4032-dd2a-a0cfbe39c118"
      },
      "execution_count": 87,
      "outputs": [
        {
          "output_type": "stream",
          "name": "stdout",
          "text": [
            "+---+------+---------+----------+--------------------+--------------------+--------------------+-------------+------+----------+--------------------+-----------+--------------+---------------+--------------------+--------------------+-------------+-------+\n",
            "| id|season|     city|      date|               team1|               team2|         toss_winner|toss_decision|result|dl_applied|              winner|win_by_runs|win_by_wickets|player_of_match|               venue|             umpire1|      umpire2|umpire3|\n",
            "+---+------+---------+----------+--------------------+--------------------+--------------------+-------------+------+----------+--------------------+-----------+--------------+---------------+--------------------+--------------------+-------------+-------+\n",
            "|  1|  2017|Hyderabad|2017-04-05| Sunrisers Hyderabad|Royal Challengers...|Royal Challengers...|        field|normal|         0| Sunrisers Hyderabad|         35|             0|   Yuvraj Singh|Rajiv Gandhi Inte...|         AY Dandekar|     NJ Llong|   null|\n",
            "|  2|  2017|     Pune|2017-04-06|      Mumbai Indians|Rising Pune Super...|Rising Pune Super...|        field|normal|         0|Rising Pune Super...|          0|             7|      SPD Smith|Maharashtra Crick...|      A Nand Kishore|       S Ravi|   null|\n",
            "|  3|  2017|   Rajkot|2017-04-07|       Gujarat Lions|Kolkata Knight Ri...|Kolkata Knight Ri...|        field|normal|         0|Kolkata Knight Ri...|          0|            10|        CA Lynn|Saurashtra Cricke...|         Nitin Menon|    CK Nandan|   null|\n",
            "|  4|  2017|   Indore|2017-04-08|Rising Pune Super...|     Kings XI Punjab|     Kings XI Punjab|        field|normal|         0|     Kings XI Punjab|          0|             6|     GJ Maxwell|Holkar Cricket St...|        AK Chaudhary|C Shamshuddin|   null|\n",
            "|  5|  2017|Bangalore|2017-04-08|Royal Challengers...|    Delhi Daredevils|Royal Challengers...|          bat|normal|         0|Royal Challengers...|         15|             0|      KM Jadhav|M Chinnaswamy Sta...|                null|         null|   null|\n",
            "|  6|  2017|Hyderabad|2017-04-09|       Gujarat Lions| Sunrisers Hyderabad| Sunrisers Hyderabad|        field|normal|         0| Sunrisers Hyderabad|          0|             9|    Rashid Khan|Rajiv Gandhi Inte...|          A Deshmukh|     NJ Llong|   null|\n",
            "|  7|  2017|   Mumbai|2017-04-09|Kolkata Knight Ri...|      Mumbai Indians|      Mumbai Indians|        field|normal|         0|      Mumbai Indians|          0|             4|         N Rana|    Wankhede Stadium|         Nitin Menon|    CK Nandan|   null|\n",
            "|  8|  2017|   Indore|2017-04-10|Royal Challengers...|     Kings XI Punjab|Royal Challengers...|          bat|normal|         0|     Kings XI Punjab|          0|             8|       AR Patel|Holkar Cricket St...|        AK Chaudhary|C Shamshuddin|   null|\n",
            "|  9|  2017|     Pune|2017-04-11|    Delhi Daredevils|Rising Pune Super...|Rising Pune Super...|        field|normal|         0|    Delhi Daredevils|         97|             0|      SV Samson|Maharashtra Crick...|         AY Dandekar|       S Ravi|   null|\n",
            "| 10|  2017|   Mumbai|2017-04-12| Sunrisers Hyderabad|      Mumbai Indians|      Mumbai Indians|        field|normal|         0|      Mumbai Indians|          0|             4|      JJ Bumrah|    Wankhede Stadium|         Nitin Menon|    CK Nandan|   null|\n",
            "| 11|  2017|  Kolkata|2017-04-13|     Kings XI Punjab|Kolkata Knight Ri...|Kolkata Knight Ri...|        field|normal|         0|Kolkata Knight Ri...|          0|             8|      SP Narine|        Eden Gardens|          A Deshmukh|     NJ Llong|   null|\n",
            "| 12|  2017|Bangalore|2017-04-14|Royal Challengers...|      Mumbai Indians|      Mumbai Indians|        field|normal|         0|      Mumbai Indians|          0|             4|     KA Pollard|M Chinnaswamy Sta...|KN Ananthapadmana...| AK Chaudhary|   null|\n",
            "| 13|  2017|   Rajkot|2017-04-14|Rising Pune Super...|       Gujarat Lions|       Gujarat Lions|        field|normal|         0|       Gujarat Lions|          0|             7|         AJ Tye|Saurashtra Cricke...|      A Nand Kishore|       S Ravi|   null|\n",
            "| 14|  2017|  Kolkata|2017-04-15|Kolkata Knight Ri...| Sunrisers Hyderabad| Sunrisers Hyderabad|        field|normal|         0|Kolkata Knight Ri...|         17|             0|     RV Uthappa|        Eden Gardens|         AY Dandekar|     NJ Llong|   null|\n",
            "| 15|  2017|    Delhi|2017-04-15|    Delhi Daredevils|     Kings XI Punjab|    Delhi Daredevils|          bat|normal|         0|    Delhi Daredevils|         51|             0|    CJ Anderson|    Feroz Shah Kotla|            YC Barde|  Nitin Menon|   null|\n",
            "| 16|  2017|   Mumbai|2017-04-16|       Gujarat Lions|      Mumbai Indians|      Mumbai Indians|        field|normal|         0|      Mumbai Indians|          0|             6|         N Rana|    Wankhede Stadium|      A Nand Kishore|       S Ravi|   null|\n",
            "| 17|  2017|Bangalore|2017-04-16|Rising Pune Super...|Royal Challengers...|Royal Challengers...|        field|normal|         0|Rising Pune Super...|         27|             0|      BA Stokes|M Chinnaswamy Sta...|KN Ananthapadmana...|C Shamshuddin|   null|\n",
            "| 18|  2017|    Delhi|2017-04-17|    Delhi Daredevils|Kolkata Knight Ri...|    Delhi Daredevils|          bat|normal|         0|Kolkata Knight Ri...|          0|             4|NM Coulter-Nile|    Feroz Shah Kotla|         Nitin Menon|    CK Nandan|   null|\n",
            "| 19|  2017|Hyderabad|2017-04-17| Sunrisers Hyderabad|     Kings XI Punjab|     Kings XI Punjab|        field|normal|         0| Sunrisers Hyderabad|          5|             0|        B Kumar|Rajiv Gandhi Inte...|         AY Dandekar|   A Deshmukh|   null|\n",
            "| 20|  2017|   Rajkot|2017-04-18|Royal Challengers...|       Gujarat Lions|       Gujarat Lions|        field|normal|         0|Royal Challengers...|         21|             0|       CH Gayle|Saurashtra Cricke...|              S Ravi|    VK Sharma|   null|\n",
            "+---+------+---------+----------+--------------------+--------------------+--------------------+-------------+------+----------+--------------------+-----------+--------------+---------------+--------------------+--------------------+-------------+-------+\n",
            "only showing top 20 rows\n",
            "\n"
          ]
        }
      ]
    },
    {
      "cell_type": "code",
      "source": [
        "df2.show()"
      ],
      "metadata": {
        "colab": {
          "base_uri": "https://localhost:8080/"
        },
        "id": "j8IqvdJ6x5e5",
        "outputId": "f0477959-e894-4684-e793-a75bbcb5e285"
      },
      "execution_count": 88,
      "outputs": [
        {
          "output_type": "stream",
          "name": "stdout",
          "text": [
            "+--------+------+-------------------+--------------------+----+----+------------+------------+-----------+-------------+---------+--------+-----------+-----------+------------+------------+----------+----------+----------------+--------------+-------------+\n",
            "|match_id|inning|       batting_team|        bowling_team|over|ball|     batsman| non_striker|     bowler|is_super_over|wide_runs|bye_runs|legbye_runs|noball_runs|penalty_runs|batsman_runs|extra_runs|total_runs|player_dismissed|dismissal_kind|      fielder|\n",
            "+--------+------+-------------------+--------------------+----+----+------------+------------+-----------+-------------+---------+--------+-----------+-----------+------------+------------+----------+----------+----------------+--------------+-------------+\n",
            "|       1|     1|Sunrisers Hyderabad|Royal Challengers...|   1|   1|   DA Warner|    S Dhawan|   TS Mills|            0|        0|       0|          0|          0|           0|           0|         0|         0|            null|          null|         null|\n",
            "|       1|     1|Sunrisers Hyderabad|Royal Challengers...|   1|   2|   DA Warner|    S Dhawan|   TS Mills|            0|        0|       0|          0|          0|           0|           0|         0|         0|            null|          null|         null|\n",
            "|       1|     1|Sunrisers Hyderabad|Royal Challengers...|   1|   3|   DA Warner|    S Dhawan|   TS Mills|            0|        0|       0|          0|          0|           0|           4|         0|         4|            null|          null|         null|\n",
            "|       1|     1|Sunrisers Hyderabad|Royal Challengers...|   1|   4|   DA Warner|    S Dhawan|   TS Mills|            0|        0|       0|          0|          0|           0|           0|         0|         0|            null|          null|         null|\n",
            "|       1|     1|Sunrisers Hyderabad|Royal Challengers...|   1|   5|   DA Warner|    S Dhawan|   TS Mills|            0|        2|       0|          0|          0|           0|           0|         2|         2|            null|          null|         null|\n",
            "|       1|     1|Sunrisers Hyderabad|Royal Challengers...|   1|   6|    S Dhawan|   DA Warner|   TS Mills|            0|        0|       0|          0|          0|           0|           0|         0|         0|            null|          null|         null|\n",
            "|       1|     1|Sunrisers Hyderabad|Royal Challengers...|   1|   7|    S Dhawan|   DA Warner|   TS Mills|            0|        0|       0|          1|          0|           0|           0|         1|         1|            null|          null|         null|\n",
            "|       1|     1|Sunrisers Hyderabad|Royal Challengers...|   2|   1|    S Dhawan|   DA Warner|A Choudhary|            0|        0|       0|          0|          0|           0|           1|         0|         1|            null|          null|         null|\n",
            "|       1|     1|Sunrisers Hyderabad|Royal Challengers...|   2|   2|   DA Warner|    S Dhawan|A Choudhary|            0|        0|       0|          0|          0|           0|           4|         0|         4|            null|          null|         null|\n",
            "|       1|     1|Sunrisers Hyderabad|Royal Challengers...|   2|   3|   DA Warner|    S Dhawan|A Choudhary|            0|        0|       0|          0|          1|           0|           0|         1|         1|            null|          null|         null|\n",
            "|       1|     1|Sunrisers Hyderabad|Royal Challengers...|   2|   4|   DA Warner|    S Dhawan|A Choudhary|            0|        0|       0|          0|          0|           0|           6|         0|         6|            null|          null|         null|\n",
            "|       1|     1|Sunrisers Hyderabad|Royal Challengers...|   2|   5|   DA Warner|    S Dhawan|A Choudhary|            0|        0|       0|          0|          0|           0|           0|         0|         0|       DA Warner|        caught|Mandeep Singh|\n",
            "|       1|     1|Sunrisers Hyderabad|Royal Challengers...|   2|   6|MC Henriques|    S Dhawan|A Choudhary|            0|        0|       0|          0|          0|           0|           0|         0|         0|            null|          null|         null|\n",
            "|       1|     1|Sunrisers Hyderabad|Royal Challengers...|   2|   7|MC Henriques|    S Dhawan|A Choudhary|            0|        0|       0|          0|          0|           0|           4|         0|         4|            null|          null|         null|\n",
            "|       1|     1|Sunrisers Hyderabad|Royal Challengers...|   3|   1|    S Dhawan|MC Henriques|   TS Mills|            0|        0|       0|          0|          0|           0|           1|         0|         1|            null|          null|         null|\n",
            "|       1|     1|Sunrisers Hyderabad|Royal Challengers...|   3|   2|MC Henriques|    S Dhawan|   TS Mills|            0|        0|       0|          0|          0|           0|           0|         0|         0|            null|          null|         null|\n",
            "|       1|     1|Sunrisers Hyderabad|Royal Challengers...|   3|   3|MC Henriques|    S Dhawan|   TS Mills|            0|        0|       0|          0|          0|           0|           0|         0|         0|            null|          null|         null|\n",
            "|       1|     1|Sunrisers Hyderabad|Royal Challengers...|   3|   4|MC Henriques|    S Dhawan|   TS Mills|            0|        0|       0|          0|          0|           0|           3|         0|         3|            null|          null|         null|\n",
            "|       1|     1|Sunrisers Hyderabad|Royal Challengers...|   3|   5|    S Dhawan|MC Henriques|   TS Mills|            0|        0|       0|          0|          0|           0|           1|         0|         1|            null|          null|         null|\n",
            "|       1|     1|Sunrisers Hyderabad|Royal Challengers...|   3|   6|MC Henriques|    S Dhawan|   TS Mills|            0|        0|       0|          0|          0|           0|           1|         0|         1|            null|          null|         null|\n",
            "+--------+------+-------------------+--------------------+----+----+------------+------------+-----------+-------------+---------+--------+-----------+-----------+------------+------------+----------+----------+----------------+--------------+-------------+\n",
            "only showing top 20 rows\n",
            "\n"
          ]
        }
      ]
    },
    {
      "cell_type": "code",
      "source": [
        "\n",
        "df2 = df2.withColumnRenamed(\"match_id\", \"id\")\n",
        "\n",
        "df2.columns"
      ],
      "metadata": {
        "colab": {
          "base_uri": "https://localhost:8080/"
        },
        "id": "WL8Lt7pCy-05",
        "outputId": "0510f81e-1553-46ba-8d72-39fe3918c7bf"
      },
      "execution_count": 90,
      "outputs": [
        {
          "output_type": "execute_result",
          "data": {
            "text/plain": [
              "['id',\n",
              " 'inning',\n",
              " 'batting_team',\n",
              " 'bowling_team',\n",
              " 'over',\n",
              " 'ball',\n",
              " 'batsman',\n",
              " 'non_striker',\n",
              " 'bowler',\n",
              " 'is_super_over',\n",
              " 'wide_runs',\n",
              " 'bye_runs',\n",
              " 'legbye_runs',\n",
              " 'noball_runs',\n",
              " 'penalty_runs',\n",
              " 'batsman_runs',\n",
              " 'extra_runs',\n",
              " 'total_runs',\n",
              " 'player_dismissed',\n",
              " 'dismissal_kind',\n",
              " 'fielder']"
            ]
          },
          "metadata": {},
          "execution_count": 90
        }
      ]
    },
    {
      "cell_type": "code",
      "source": [
        "df = df1.join(df2, on= 'id')"
      ],
      "metadata": {
        "id": "3G1-PdTZx5cR"
      },
      "execution_count": 91,
      "outputs": []
    },
    {
      "cell_type": "code",
      "source": [
        "df.show()"
      ],
      "metadata": {
        "colab": {
          "base_uri": "https://localhost:8080/"
        },
        "id": "nVb7d_Tix5Zi",
        "outputId": "637dd160-6329-4be4-c3f1-bb6a4b2a7a9f"
      },
      "execution_count": 93,
      "outputs": [
        {
          "output_type": "stream",
          "name": "stdout",
          "text": [
            "+---+------+---------+----------+-------------------+--------------------+--------------------+-------------+------+----------+-------------------+-----------+--------------+---------------+--------------------+-----------+--------+-------+------+-------------------+--------------------+----+----+------------+------------+-----------+-------------+---------+--------+-----------+-----------+------------+------------+----------+----------+----------------+--------------+-------------+\n",
            "| id|season|     city|      date|              team1|               team2|         toss_winner|toss_decision|result|dl_applied|             winner|win_by_runs|win_by_wickets|player_of_match|               venue|    umpire1| umpire2|umpire3|inning|       batting_team|        bowling_team|over|ball|     batsman| non_striker|     bowler|is_super_over|wide_runs|bye_runs|legbye_runs|noball_runs|penalty_runs|batsman_runs|extra_runs|total_runs|player_dismissed|dismissal_kind|      fielder|\n",
            "+---+------+---------+----------+-------------------+--------------------+--------------------+-------------+------+----------+-------------------+-----------+--------------+---------------+--------------------+-----------+--------+-------+------+-------------------+--------------------+----+----+------------+------------+-----------+-------------+---------+--------+-----------+-----------+------------+------------+----------+----------+----------------+--------------+-------------+\n",
            "|  1|  2017|Hyderabad|2017-04-05|Sunrisers Hyderabad|Royal Challengers...|Royal Challengers...|        field|normal|         0|Sunrisers Hyderabad|         35|             0|   Yuvraj Singh|Rajiv Gandhi Inte...|AY Dandekar|NJ Llong|   null|     1|Sunrisers Hyderabad|Royal Challengers...|   1|   1|   DA Warner|    S Dhawan|   TS Mills|            0|        0|       0|          0|          0|           0|           0|         0|         0|            null|          null|         null|\n",
            "|  1|  2017|Hyderabad|2017-04-05|Sunrisers Hyderabad|Royal Challengers...|Royal Challengers...|        field|normal|         0|Sunrisers Hyderabad|         35|             0|   Yuvraj Singh|Rajiv Gandhi Inte...|AY Dandekar|NJ Llong|   null|     1|Sunrisers Hyderabad|Royal Challengers...|   1|   2|   DA Warner|    S Dhawan|   TS Mills|            0|        0|       0|          0|          0|           0|           0|         0|         0|            null|          null|         null|\n",
            "|  1|  2017|Hyderabad|2017-04-05|Sunrisers Hyderabad|Royal Challengers...|Royal Challengers...|        field|normal|         0|Sunrisers Hyderabad|         35|             0|   Yuvraj Singh|Rajiv Gandhi Inte...|AY Dandekar|NJ Llong|   null|     1|Sunrisers Hyderabad|Royal Challengers...|   1|   3|   DA Warner|    S Dhawan|   TS Mills|            0|        0|       0|          0|          0|           0|           4|         0|         4|            null|          null|         null|\n",
            "|  1|  2017|Hyderabad|2017-04-05|Sunrisers Hyderabad|Royal Challengers...|Royal Challengers...|        field|normal|         0|Sunrisers Hyderabad|         35|             0|   Yuvraj Singh|Rajiv Gandhi Inte...|AY Dandekar|NJ Llong|   null|     1|Sunrisers Hyderabad|Royal Challengers...|   1|   4|   DA Warner|    S Dhawan|   TS Mills|            0|        0|       0|          0|          0|           0|           0|         0|         0|            null|          null|         null|\n",
            "|  1|  2017|Hyderabad|2017-04-05|Sunrisers Hyderabad|Royal Challengers...|Royal Challengers...|        field|normal|         0|Sunrisers Hyderabad|         35|             0|   Yuvraj Singh|Rajiv Gandhi Inte...|AY Dandekar|NJ Llong|   null|     1|Sunrisers Hyderabad|Royal Challengers...|   1|   5|   DA Warner|    S Dhawan|   TS Mills|            0|        2|       0|          0|          0|           0|           0|         2|         2|            null|          null|         null|\n",
            "|  1|  2017|Hyderabad|2017-04-05|Sunrisers Hyderabad|Royal Challengers...|Royal Challengers...|        field|normal|         0|Sunrisers Hyderabad|         35|             0|   Yuvraj Singh|Rajiv Gandhi Inte...|AY Dandekar|NJ Llong|   null|     1|Sunrisers Hyderabad|Royal Challengers...|   1|   6|    S Dhawan|   DA Warner|   TS Mills|            0|        0|       0|          0|          0|           0|           0|         0|         0|            null|          null|         null|\n",
            "|  1|  2017|Hyderabad|2017-04-05|Sunrisers Hyderabad|Royal Challengers...|Royal Challengers...|        field|normal|         0|Sunrisers Hyderabad|         35|             0|   Yuvraj Singh|Rajiv Gandhi Inte...|AY Dandekar|NJ Llong|   null|     1|Sunrisers Hyderabad|Royal Challengers...|   1|   7|    S Dhawan|   DA Warner|   TS Mills|            0|        0|       0|          1|          0|           0|           0|         1|         1|            null|          null|         null|\n",
            "|  1|  2017|Hyderabad|2017-04-05|Sunrisers Hyderabad|Royal Challengers...|Royal Challengers...|        field|normal|         0|Sunrisers Hyderabad|         35|             0|   Yuvraj Singh|Rajiv Gandhi Inte...|AY Dandekar|NJ Llong|   null|     1|Sunrisers Hyderabad|Royal Challengers...|   2|   1|    S Dhawan|   DA Warner|A Choudhary|            0|        0|       0|          0|          0|           0|           1|         0|         1|            null|          null|         null|\n",
            "|  1|  2017|Hyderabad|2017-04-05|Sunrisers Hyderabad|Royal Challengers...|Royal Challengers...|        field|normal|         0|Sunrisers Hyderabad|         35|             0|   Yuvraj Singh|Rajiv Gandhi Inte...|AY Dandekar|NJ Llong|   null|     1|Sunrisers Hyderabad|Royal Challengers...|   2|   2|   DA Warner|    S Dhawan|A Choudhary|            0|        0|       0|          0|          0|           0|           4|         0|         4|            null|          null|         null|\n",
            "|  1|  2017|Hyderabad|2017-04-05|Sunrisers Hyderabad|Royal Challengers...|Royal Challengers...|        field|normal|         0|Sunrisers Hyderabad|         35|             0|   Yuvraj Singh|Rajiv Gandhi Inte...|AY Dandekar|NJ Llong|   null|     1|Sunrisers Hyderabad|Royal Challengers...|   2|   3|   DA Warner|    S Dhawan|A Choudhary|            0|        0|       0|          0|          1|           0|           0|         1|         1|            null|          null|         null|\n",
            "|  1|  2017|Hyderabad|2017-04-05|Sunrisers Hyderabad|Royal Challengers...|Royal Challengers...|        field|normal|         0|Sunrisers Hyderabad|         35|             0|   Yuvraj Singh|Rajiv Gandhi Inte...|AY Dandekar|NJ Llong|   null|     1|Sunrisers Hyderabad|Royal Challengers...|   2|   4|   DA Warner|    S Dhawan|A Choudhary|            0|        0|       0|          0|          0|           0|           6|         0|         6|            null|          null|         null|\n",
            "|  1|  2017|Hyderabad|2017-04-05|Sunrisers Hyderabad|Royal Challengers...|Royal Challengers...|        field|normal|         0|Sunrisers Hyderabad|         35|             0|   Yuvraj Singh|Rajiv Gandhi Inte...|AY Dandekar|NJ Llong|   null|     1|Sunrisers Hyderabad|Royal Challengers...|   2|   5|   DA Warner|    S Dhawan|A Choudhary|            0|        0|       0|          0|          0|           0|           0|         0|         0|       DA Warner|        caught|Mandeep Singh|\n",
            "|  1|  2017|Hyderabad|2017-04-05|Sunrisers Hyderabad|Royal Challengers...|Royal Challengers...|        field|normal|         0|Sunrisers Hyderabad|         35|             0|   Yuvraj Singh|Rajiv Gandhi Inte...|AY Dandekar|NJ Llong|   null|     1|Sunrisers Hyderabad|Royal Challengers...|   2|   6|MC Henriques|    S Dhawan|A Choudhary|            0|        0|       0|          0|          0|           0|           0|         0|         0|            null|          null|         null|\n",
            "|  1|  2017|Hyderabad|2017-04-05|Sunrisers Hyderabad|Royal Challengers...|Royal Challengers...|        field|normal|         0|Sunrisers Hyderabad|         35|             0|   Yuvraj Singh|Rajiv Gandhi Inte...|AY Dandekar|NJ Llong|   null|     1|Sunrisers Hyderabad|Royal Challengers...|   2|   7|MC Henriques|    S Dhawan|A Choudhary|            0|        0|       0|          0|          0|           0|           4|         0|         4|            null|          null|         null|\n",
            "|  1|  2017|Hyderabad|2017-04-05|Sunrisers Hyderabad|Royal Challengers...|Royal Challengers...|        field|normal|         0|Sunrisers Hyderabad|         35|             0|   Yuvraj Singh|Rajiv Gandhi Inte...|AY Dandekar|NJ Llong|   null|     1|Sunrisers Hyderabad|Royal Challengers...|   3|   1|    S Dhawan|MC Henriques|   TS Mills|            0|        0|       0|          0|          0|           0|           1|         0|         1|            null|          null|         null|\n",
            "|  1|  2017|Hyderabad|2017-04-05|Sunrisers Hyderabad|Royal Challengers...|Royal Challengers...|        field|normal|         0|Sunrisers Hyderabad|         35|             0|   Yuvraj Singh|Rajiv Gandhi Inte...|AY Dandekar|NJ Llong|   null|     1|Sunrisers Hyderabad|Royal Challengers...|   3|   2|MC Henriques|    S Dhawan|   TS Mills|            0|        0|       0|          0|          0|           0|           0|         0|         0|            null|          null|         null|\n",
            "|  1|  2017|Hyderabad|2017-04-05|Sunrisers Hyderabad|Royal Challengers...|Royal Challengers...|        field|normal|         0|Sunrisers Hyderabad|         35|             0|   Yuvraj Singh|Rajiv Gandhi Inte...|AY Dandekar|NJ Llong|   null|     1|Sunrisers Hyderabad|Royal Challengers...|   3|   3|MC Henriques|    S Dhawan|   TS Mills|            0|        0|       0|          0|          0|           0|           0|         0|         0|            null|          null|         null|\n",
            "|  1|  2017|Hyderabad|2017-04-05|Sunrisers Hyderabad|Royal Challengers...|Royal Challengers...|        field|normal|         0|Sunrisers Hyderabad|         35|             0|   Yuvraj Singh|Rajiv Gandhi Inte...|AY Dandekar|NJ Llong|   null|     1|Sunrisers Hyderabad|Royal Challengers...|   3|   4|MC Henriques|    S Dhawan|   TS Mills|            0|        0|       0|          0|          0|           0|           3|         0|         3|            null|          null|         null|\n",
            "|  1|  2017|Hyderabad|2017-04-05|Sunrisers Hyderabad|Royal Challengers...|Royal Challengers...|        field|normal|         0|Sunrisers Hyderabad|         35|             0|   Yuvraj Singh|Rajiv Gandhi Inte...|AY Dandekar|NJ Llong|   null|     1|Sunrisers Hyderabad|Royal Challengers...|   3|   5|    S Dhawan|MC Henriques|   TS Mills|            0|        0|       0|          0|          0|           0|           1|         0|         1|            null|          null|         null|\n",
            "|  1|  2017|Hyderabad|2017-04-05|Sunrisers Hyderabad|Royal Challengers...|Royal Challengers...|        field|normal|         0|Sunrisers Hyderabad|         35|             0|   Yuvraj Singh|Rajiv Gandhi Inte...|AY Dandekar|NJ Llong|   null|     1|Sunrisers Hyderabad|Royal Challengers...|   3|   6|MC Henriques|    S Dhawan|   TS Mills|            0|        0|       0|          0|          0|           0|           1|         0|         1|            null|          null|         null|\n",
            "+---+------+---------+----------+-------------------+--------------------+--------------------+-------------+------+----------+-------------------+-----------+--------------+---------------+--------------------+-----------+--------+-------+------+-------------------+--------------------+----+----+------------+------------+-----------+-------------+---------+--------+-----------+-----------+------------+------------+----------+----------+----------------+--------------+-------------+\n",
            "only showing top 20 rows\n",
            "\n"
          ]
        }
      ]
    },
    {
      "cell_type": "code",
      "source": [
        "df1.count()"
      ],
      "metadata": {
        "colab": {
          "base_uri": "https://localhost:8080/"
        },
        "id": "q_YECAEAx5W5",
        "outputId": "e92776a7-9444-4009-ca02-b094c9f1588e"
      },
      "execution_count": 94,
      "outputs": [
        {
          "output_type": "execute_result",
          "data": {
            "text/plain": [
              "756"
            ]
          },
          "metadata": {},
          "execution_count": 94
        }
      ]
    },
    {
      "cell_type": "code",
      "source": [
        "len(df1.columns)"
      ],
      "metadata": {
        "colab": {
          "base_uri": "https://localhost:8080/"
        },
        "id": "6u7d4jRyx5UR",
        "outputId": "bfe0076c-196f-448d-df55-46196985daa0"
      },
      "execution_count": 95,
      "outputs": [
        {
          "output_type": "execute_result",
          "data": {
            "text/plain": [
              "18"
            ]
          },
          "metadata": {},
          "execution_count": 95
        }
      ]
    },
    {
      "cell_type": "code",
      "source": [
        "df2.count()"
      ],
      "metadata": {
        "colab": {
          "base_uri": "https://localhost:8080/"
        },
        "id": "YXCFbnPVx5Rp",
        "outputId": "179cb3c6-270d-45b9-b63d-c03d9d2c03ae"
      },
      "execution_count": 96,
      "outputs": [
        {
          "output_type": "execute_result",
          "data": {
            "text/plain": [
              "179078"
            ]
          },
          "metadata": {},
          "execution_count": 96
        }
      ]
    },
    {
      "cell_type": "code",
      "source": [
        "len(df2.columns)"
      ],
      "metadata": {
        "colab": {
          "base_uri": "https://localhost:8080/"
        },
        "id": "WD9Fdnv-x5PK",
        "outputId": "43a89001-1491-470c-da21-31956e508c80"
      },
      "execution_count": 97,
      "outputs": [
        {
          "output_type": "execute_result",
          "data": {
            "text/plain": [
              "21"
            ]
          },
          "metadata": {},
          "execution_count": 97
        }
      ]
    },
    {
      "cell_type": "code",
      "source": [
        "df.count()"
      ],
      "metadata": {
        "colab": {
          "base_uri": "https://localhost:8080/"
        },
        "id": "TYgymY_8x5Mk",
        "outputId": "f4a61bfb-60eb-46c8-ea18-a357b5bb04a5"
      },
      "execution_count": 98,
      "outputs": [
        {
          "output_type": "execute_result",
          "data": {
            "text/plain": [
              "179078"
            ]
          },
          "metadata": {},
          "execution_count": 98
        }
      ]
    },
    {
      "cell_type": "code",
      "source": [
        "len(df.columns)"
      ],
      "metadata": {
        "colab": {
          "base_uri": "https://localhost:8080/"
        },
        "id": "MreTiufqx5KB",
        "outputId": "b2b0b1ae-4771-48cd-a7e8-a15ee0a31b7e"
      },
      "execution_count": 99,
      "outputs": [
        {
          "output_type": "execute_result",
          "data": {
            "text/plain": [
              "38"
            ]
          },
          "metadata": {},
          "execution_count": 99
        }
      ]
    },
    {
      "cell_type": "code",
      "source": [
        "from pyspark.sql import functions as f\n",
        "\n"
      ],
      "metadata": {
        "id": "3azFU_U7x5Hh"
      },
      "execution_count": 100,
      "outputs": []
    },
    {
      "cell_type": "code",
      "source": [
        "df.select([f.sum(f.col(i).isNull().cast('int')).alias(i) for i in df.columns]).show()"
      ],
      "metadata": {
        "colab": {
          "base_uri": "https://localhost:8080/"
        },
        "id": "aQ0VMXeAx5E5",
        "outputId": "46bc2e62-d2bf-406b-fda9-4565c336b628"
      },
      "execution_count": 102,
      "outputs": [
        {
          "output_type": "stream",
          "name": "stdout",
          "text": [
            "+---+------+----+----+-----+-----+-----------+-------------+------+----------+------+-----------+--------------+---------------+-----+-------+-------+-------+------+------------+------------+----+----+-------+-----------+------+-------------+---------+--------+-----------+-----------+------------+------------+----------+----------+----------------+--------------+-------+\n",
            "| id|season|city|date|team1|team2|toss_winner|toss_decision|result|dl_applied|winner|win_by_runs|win_by_wickets|player_of_match|venue|umpire1|umpire2|umpire3|inning|batting_team|bowling_team|over|ball|batsman|non_striker|bowler|is_super_over|wide_runs|bye_runs|legbye_runs|noball_runs|penalty_runs|batsman_runs|extra_runs|total_runs|player_dismissed|dismissal_kind|fielder|\n",
            "+---+------+----+----+-----+-----+-----------+-------------+------+----------+------+-----------+--------------+---------------+-----+-------+-------+-------+------+------------+------------+----+----+-------+-----------+------+-------------+---------+--------+-----------+-----------+------------+------------+----------+----------+----------------+--------------+-------+\n",
            "|  0|     0|1700|   0|    0|    0|          0|            0|     0|         0|   372|          0|             0|            372|    0|    500|    500| 150712|     0|           0|           0|   0|   0|      0|          0|     0|            0|        0|       0|          0|          0|           0|           0|         0|         0|          170244|        170244| 172630|\n",
            "+---+------+----+----+-----+-----+-----------+-------------+------+----------+------+-----------+--------------+---------------+-----+-------+-------+-------+------+------------+------------+----+----+-------+-----------+------+-------------+---------+--------+-----------+-----------+------------+------------+----------+----------+----------------+--------------+-------+\n",
            "\n"
          ]
        }
      ]
    },
    {
      "cell_type": "code",
      "source": [
        "[type_col for type_col,type_datatype in df.dtypes if type_datatype in ['int', 'double']]"
      ],
      "metadata": {
        "colab": {
          "base_uri": "https://localhost:8080/"
        },
        "id": "LhCHA3u0x5Ch",
        "outputId": "08cd1a07-d997-4a19-b7f6-512847d9bbbd"
      },
      "execution_count": 103,
      "outputs": [
        {
          "output_type": "execute_result",
          "data": {
            "text/plain": [
              "['id',\n",
              " 'season',\n",
              " 'dl_applied',\n",
              " 'win_by_runs',\n",
              " 'win_by_wickets',\n",
              " 'inning',\n",
              " 'over',\n",
              " 'ball',\n",
              " 'is_super_over',\n",
              " 'wide_runs',\n",
              " 'bye_runs',\n",
              " 'legbye_runs',\n",
              " 'noball_runs',\n",
              " 'penalty_runs',\n",
              " 'batsman_runs',\n",
              " 'extra_runs',\n",
              " 'total_runs']"
            ]
          },
          "metadata": {},
          "execution_count": 103
        }
      ]
    },
    {
      "cell_type": "code",
      "source": [
        "intiger_data = df.select([type_col for type_col,type_datatype in df.dtypes if type_datatype in ['int', 'double']])\n",
        "intiger_data.show()"
      ],
      "metadata": {
        "colab": {
          "base_uri": "https://localhost:8080/"
        },
        "id": "6ZI5u6gnx4_0",
        "outputId": "7111135e-7c22-4755-ba87-8701d0bf8cce"
      },
      "execution_count": 108,
      "outputs": [
        {
          "output_type": "stream",
          "name": "stdout",
          "text": [
            "+---+------+----------+-----------+--------------+------+----+----+-------------+---------+--------+-----------+-----------+------------+------------+----------+----------+\n",
            "| id|season|dl_applied|win_by_runs|win_by_wickets|inning|over|ball|is_super_over|wide_runs|bye_runs|legbye_runs|noball_runs|penalty_runs|batsman_runs|extra_runs|total_runs|\n",
            "+---+------+----------+-----------+--------------+------+----+----+-------------+---------+--------+-----------+-----------+------------+------------+----------+----------+\n",
            "|  1|  2017|         0|         35|             0|     1|   1|   1|            0|        0|       0|          0|          0|           0|           0|         0|         0|\n",
            "|  1|  2017|         0|         35|             0|     1|   1|   2|            0|        0|       0|          0|          0|           0|           0|         0|         0|\n",
            "|  1|  2017|         0|         35|             0|     1|   1|   3|            0|        0|       0|          0|          0|           0|           4|         0|         4|\n",
            "|  1|  2017|         0|         35|             0|     1|   1|   4|            0|        0|       0|          0|          0|           0|           0|         0|         0|\n",
            "|  1|  2017|         0|         35|             0|     1|   1|   5|            0|        2|       0|          0|          0|           0|           0|         2|         2|\n",
            "|  1|  2017|         0|         35|             0|     1|   1|   6|            0|        0|       0|          0|          0|           0|           0|         0|         0|\n",
            "|  1|  2017|         0|         35|             0|     1|   1|   7|            0|        0|       0|          1|          0|           0|           0|         1|         1|\n",
            "|  1|  2017|         0|         35|             0|     1|   2|   1|            0|        0|       0|          0|          0|           0|           1|         0|         1|\n",
            "|  1|  2017|         0|         35|             0|     1|   2|   2|            0|        0|       0|          0|          0|           0|           4|         0|         4|\n",
            "|  1|  2017|         0|         35|             0|     1|   2|   3|            0|        0|       0|          0|          1|           0|           0|         1|         1|\n",
            "|  1|  2017|         0|         35|             0|     1|   2|   4|            0|        0|       0|          0|          0|           0|           6|         0|         6|\n",
            "|  1|  2017|         0|         35|             0|     1|   2|   5|            0|        0|       0|          0|          0|           0|           0|         0|         0|\n",
            "|  1|  2017|         0|         35|             0|     1|   2|   6|            0|        0|       0|          0|          0|           0|           0|         0|         0|\n",
            "|  1|  2017|         0|         35|             0|     1|   2|   7|            0|        0|       0|          0|          0|           0|           4|         0|         4|\n",
            "|  1|  2017|         0|         35|             0|     1|   3|   1|            0|        0|       0|          0|          0|           0|           1|         0|         1|\n",
            "|  1|  2017|         0|         35|             0|     1|   3|   2|            0|        0|       0|          0|          0|           0|           0|         0|         0|\n",
            "|  1|  2017|         0|         35|             0|     1|   3|   3|            0|        0|       0|          0|          0|           0|           0|         0|         0|\n",
            "|  1|  2017|         0|         35|             0|     1|   3|   4|            0|        0|       0|          0|          0|           0|           3|         0|         3|\n",
            "|  1|  2017|         0|         35|             0|     1|   3|   5|            0|        0|       0|          0|          0|           0|           1|         0|         1|\n",
            "|  1|  2017|         0|         35|             0|     1|   3|   6|            0|        0|       0|          0|          0|           0|           1|         0|         1|\n",
            "+---+------+----------+-----------+--------------+------+----+----+-------------+---------+--------+-----------+-----------+------------+------------+----------+----------+\n",
            "only showing top 20 rows\n",
            "\n"
          ]
        }
      ]
    },
    {
      "cell_type": "code",
      "source": [
        "intiger_data.select([f.sum(f.col(i).isNull().cast('int')).alias(i) for i in intiger_data.columns]).show()"
      ],
      "metadata": {
        "colab": {
          "base_uri": "https://localhost:8080/"
        },
        "id": "cAL0Xtsp2rEP",
        "outputId": "7ed56c2e-6ff5-4d3f-f4e6-18bf6218357c"
      },
      "execution_count": 109,
      "outputs": [
        {
          "output_type": "stream",
          "name": "stdout",
          "text": [
            "+---+------+----------+-----------+--------------+------+----+----+-------------+---------+--------+-----------+-----------+------------+------------+----------+----------+\n",
            "| id|season|dl_applied|win_by_runs|win_by_wickets|inning|over|ball|is_super_over|wide_runs|bye_runs|legbye_runs|noball_runs|penalty_runs|batsman_runs|extra_runs|total_runs|\n",
            "+---+------+----------+-----------+--------------+------+----+----+-------------+---------+--------+-----------+-----------+------------+------------+----------+----------+\n",
            "|  0|     0|         0|          0|             0|     0|   0|   0|            0|        0|       0|          0|          0|           0|           0|         0|         0|\n",
            "+---+------+----------+-----------+--------------+------+----+----+-------------+---------+--------+-----------+-----------+------------+------------+----------+----------+\n",
            "\n"
          ]
        }
      ]
    },
    {
      "cell_type": "code",
      "source": [
        "[type_col for type_col,type_datatype in df.dtypes if type_datatype in ['string']]"
      ],
      "metadata": {
        "colab": {
          "base_uri": "https://localhost:8080/"
        },
        "id": "MiXCH1EEx49Z",
        "outputId": "290689c7-6c8f-432f-81c6-3e1d7e341fa1"
      },
      "execution_count": 105,
      "outputs": [
        {
          "output_type": "execute_result",
          "data": {
            "text/plain": [
              "['city',\n",
              " 'date',\n",
              " 'team1',\n",
              " 'team2',\n",
              " 'toss_winner',\n",
              " 'toss_decision',\n",
              " 'result',\n",
              " 'winner',\n",
              " 'player_of_match',\n",
              " 'venue',\n",
              " 'umpire1',\n",
              " 'umpire2',\n",
              " 'umpire3',\n",
              " 'batting_team',\n",
              " 'bowling_team',\n",
              " 'batsman',\n",
              " 'non_striker',\n",
              " 'bowler',\n",
              " 'player_dismissed',\n",
              " 'dismissal_kind',\n",
              " 'fielder']"
            ]
          },
          "metadata": {},
          "execution_count": 105
        }
      ]
    },
    {
      "cell_type": "code",
      "source": [
        "string_datasets = df.select([type_col for type_col,type_datatype in df.dtypes if type_datatype in ['string']])\n",
        "string_datasets.show()"
      ],
      "metadata": {
        "colab": {
          "base_uri": "https://localhost:8080/"
        },
        "id": "ZJ_kM1pM2dQA",
        "outputId": "97a63da9-ca27-4aaa-f28e-5ecf3d4a90b4"
      },
      "execution_count": 110,
      "outputs": [
        {
          "output_type": "stream",
          "name": "stdout",
          "text": [
            "+---------+----------+-------------------+--------------------+--------------------+-------------+------+-------------------+---------------+--------------------+-----------+--------+-------+-------------------+--------------------+------------+------------+-----------+----------------+--------------+-------------+\n",
            "|     city|      date|              team1|               team2|         toss_winner|toss_decision|result|             winner|player_of_match|               venue|    umpire1| umpire2|umpire3|       batting_team|        bowling_team|     batsman| non_striker|     bowler|player_dismissed|dismissal_kind|      fielder|\n",
            "+---------+----------+-------------------+--------------------+--------------------+-------------+------+-------------------+---------------+--------------------+-----------+--------+-------+-------------------+--------------------+------------+------------+-----------+----------------+--------------+-------------+\n",
            "|Hyderabad|2017-04-05|Sunrisers Hyderabad|Royal Challengers...|Royal Challengers...|        field|normal|Sunrisers Hyderabad|   Yuvraj Singh|Rajiv Gandhi Inte...|AY Dandekar|NJ Llong|   null|Sunrisers Hyderabad|Royal Challengers...|   DA Warner|    S Dhawan|   TS Mills|            null|          null|         null|\n",
            "|Hyderabad|2017-04-05|Sunrisers Hyderabad|Royal Challengers...|Royal Challengers...|        field|normal|Sunrisers Hyderabad|   Yuvraj Singh|Rajiv Gandhi Inte...|AY Dandekar|NJ Llong|   null|Sunrisers Hyderabad|Royal Challengers...|   DA Warner|    S Dhawan|   TS Mills|            null|          null|         null|\n",
            "|Hyderabad|2017-04-05|Sunrisers Hyderabad|Royal Challengers...|Royal Challengers...|        field|normal|Sunrisers Hyderabad|   Yuvraj Singh|Rajiv Gandhi Inte...|AY Dandekar|NJ Llong|   null|Sunrisers Hyderabad|Royal Challengers...|   DA Warner|    S Dhawan|   TS Mills|            null|          null|         null|\n",
            "|Hyderabad|2017-04-05|Sunrisers Hyderabad|Royal Challengers...|Royal Challengers...|        field|normal|Sunrisers Hyderabad|   Yuvraj Singh|Rajiv Gandhi Inte...|AY Dandekar|NJ Llong|   null|Sunrisers Hyderabad|Royal Challengers...|   DA Warner|    S Dhawan|   TS Mills|            null|          null|         null|\n",
            "|Hyderabad|2017-04-05|Sunrisers Hyderabad|Royal Challengers...|Royal Challengers...|        field|normal|Sunrisers Hyderabad|   Yuvraj Singh|Rajiv Gandhi Inte...|AY Dandekar|NJ Llong|   null|Sunrisers Hyderabad|Royal Challengers...|   DA Warner|    S Dhawan|   TS Mills|            null|          null|         null|\n",
            "|Hyderabad|2017-04-05|Sunrisers Hyderabad|Royal Challengers...|Royal Challengers...|        field|normal|Sunrisers Hyderabad|   Yuvraj Singh|Rajiv Gandhi Inte...|AY Dandekar|NJ Llong|   null|Sunrisers Hyderabad|Royal Challengers...|    S Dhawan|   DA Warner|   TS Mills|            null|          null|         null|\n",
            "|Hyderabad|2017-04-05|Sunrisers Hyderabad|Royal Challengers...|Royal Challengers...|        field|normal|Sunrisers Hyderabad|   Yuvraj Singh|Rajiv Gandhi Inte...|AY Dandekar|NJ Llong|   null|Sunrisers Hyderabad|Royal Challengers...|    S Dhawan|   DA Warner|   TS Mills|            null|          null|         null|\n",
            "|Hyderabad|2017-04-05|Sunrisers Hyderabad|Royal Challengers...|Royal Challengers...|        field|normal|Sunrisers Hyderabad|   Yuvraj Singh|Rajiv Gandhi Inte...|AY Dandekar|NJ Llong|   null|Sunrisers Hyderabad|Royal Challengers...|    S Dhawan|   DA Warner|A Choudhary|            null|          null|         null|\n",
            "|Hyderabad|2017-04-05|Sunrisers Hyderabad|Royal Challengers...|Royal Challengers...|        field|normal|Sunrisers Hyderabad|   Yuvraj Singh|Rajiv Gandhi Inte...|AY Dandekar|NJ Llong|   null|Sunrisers Hyderabad|Royal Challengers...|   DA Warner|    S Dhawan|A Choudhary|            null|          null|         null|\n",
            "|Hyderabad|2017-04-05|Sunrisers Hyderabad|Royal Challengers...|Royal Challengers...|        field|normal|Sunrisers Hyderabad|   Yuvraj Singh|Rajiv Gandhi Inte...|AY Dandekar|NJ Llong|   null|Sunrisers Hyderabad|Royal Challengers...|   DA Warner|    S Dhawan|A Choudhary|            null|          null|         null|\n",
            "|Hyderabad|2017-04-05|Sunrisers Hyderabad|Royal Challengers...|Royal Challengers...|        field|normal|Sunrisers Hyderabad|   Yuvraj Singh|Rajiv Gandhi Inte...|AY Dandekar|NJ Llong|   null|Sunrisers Hyderabad|Royal Challengers...|   DA Warner|    S Dhawan|A Choudhary|            null|          null|         null|\n",
            "|Hyderabad|2017-04-05|Sunrisers Hyderabad|Royal Challengers...|Royal Challengers...|        field|normal|Sunrisers Hyderabad|   Yuvraj Singh|Rajiv Gandhi Inte...|AY Dandekar|NJ Llong|   null|Sunrisers Hyderabad|Royal Challengers...|   DA Warner|    S Dhawan|A Choudhary|       DA Warner|        caught|Mandeep Singh|\n",
            "|Hyderabad|2017-04-05|Sunrisers Hyderabad|Royal Challengers...|Royal Challengers...|        field|normal|Sunrisers Hyderabad|   Yuvraj Singh|Rajiv Gandhi Inte...|AY Dandekar|NJ Llong|   null|Sunrisers Hyderabad|Royal Challengers...|MC Henriques|    S Dhawan|A Choudhary|            null|          null|         null|\n",
            "|Hyderabad|2017-04-05|Sunrisers Hyderabad|Royal Challengers...|Royal Challengers...|        field|normal|Sunrisers Hyderabad|   Yuvraj Singh|Rajiv Gandhi Inte...|AY Dandekar|NJ Llong|   null|Sunrisers Hyderabad|Royal Challengers...|MC Henriques|    S Dhawan|A Choudhary|            null|          null|         null|\n",
            "|Hyderabad|2017-04-05|Sunrisers Hyderabad|Royal Challengers...|Royal Challengers...|        field|normal|Sunrisers Hyderabad|   Yuvraj Singh|Rajiv Gandhi Inte...|AY Dandekar|NJ Llong|   null|Sunrisers Hyderabad|Royal Challengers...|    S Dhawan|MC Henriques|   TS Mills|            null|          null|         null|\n",
            "|Hyderabad|2017-04-05|Sunrisers Hyderabad|Royal Challengers...|Royal Challengers...|        field|normal|Sunrisers Hyderabad|   Yuvraj Singh|Rajiv Gandhi Inte...|AY Dandekar|NJ Llong|   null|Sunrisers Hyderabad|Royal Challengers...|MC Henriques|    S Dhawan|   TS Mills|            null|          null|         null|\n",
            "|Hyderabad|2017-04-05|Sunrisers Hyderabad|Royal Challengers...|Royal Challengers...|        field|normal|Sunrisers Hyderabad|   Yuvraj Singh|Rajiv Gandhi Inte...|AY Dandekar|NJ Llong|   null|Sunrisers Hyderabad|Royal Challengers...|MC Henriques|    S Dhawan|   TS Mills|            null|          null|         null|\n",
            "|Hyderabad|2017-04-05|Sunrisers Hyderabad|Royal Challengers...|Royal Challengers...|        field|normal|Sunrisers Hyderabad|   Yuvraj Singh|Rajiv Gandhi Inte...|AY Dandekar|NJ Llong|   null|Sunrisers Hyderabad|Royal Challengers...|MC Henriques|    S Dhawan|   TS Mills|            null|          null|         null|\n",
            "|Hyderabad|2017-04-05|Sunrisers Hyderabad|Royal Challengers...|Royal Challengers...|        field|normal|Sunrisers Hyderabad|   Yuvraj Singh|Rajiv Gandhi Inte...|AY Dandekar|NJ Llong|   null|Sunrisers Hyderabad|Royal Challengers...|    S Dhawan|MC Henriques|   TS Mills|            null|          null|         null|\n",
            "|Hyderabad|2017-04-05|Sunrisers Hyderabad|Royal Challengers...|Royal Challengers...|        field|normal|Sunrisers Hyderabad|   Yuvraj Singh|Rajiv Gandhi Inte...|AY Dandekar|NJ Llong|   null|Sunrisers Hyderabad|Royal Challengers...|MC Henriques|    S Dhawan|   TS Mills|            null|          null|         null|\n",
            "+---------+----------+-------------------+--------------------+--------------------+-------------+------+-------------------+---------------+--------------------+-----------+--------+-------+-------------------+--------------------+------------+------------+-----------+----------------+--------------+-------------+\n",
            "only showing top 20 rows\n",
            "\n"
          ]
        }
      ]
    },
    {
      "cell_type": "code",
      "source": [
        "string_datasets = string_datasets.select([f.sum(f.col(i).isNull().cast('int')).alias(i) for i in string_datasets.columns])\n",
        "string_datasets.show()"
      ],
      "metadata": {
        "colab": {
          "base_uri": "https://localhost:8080/"
        },
        "id": "UB8IPI4I2dNI",
        "outputId": "5185cd46-4768-4459-841e-526c40c0040e"
      },
      "execution_count": 112,
      "outputs": [
        {
          "output_type": "stream",
          "name": "stdout",
          "text": [
            "+----+----+-----+-----+-----------+-------------+------+------+---------------+-----+-------+-------+-------+------------+------------+-------+-----------+------+----------------+--------------+-------+\n",
            "|city|date|team1|team2|toss_winner|toss_decision|result|winner|player_of_match|venue|umpire1|umpire2|umpire3|batting_team|bowling_team|batsman|non_striker|bowler|player_dismissed|dismissal_kind|fielder|\n",
            "+----+----+-----+-----+-----------+-------------+------+------+---------------+-----+-------+-------+-------+------------+------------+-------+-----------+------+----------------+--------------+-------+\n",
            "|1700|   0|    0|    0|          0|            0|     0|   372|            372|    0|    500|    500| 150712|           0|           0|      0|          0|     0|          170244|        170244| 172630|\n",
            "+----+----+-----+-----+-----------+-------------+------+------+---------------+-----+-------+-------+-------+------------+------------+-------+-----------+------+----------------+--------------+-------+\n",
            "\n"
          ]
        }
      ]
    },
    {
      "cell_type": "code",
      "source": [
        "df = df.drop(*['umpire3', 'player_dismissed', 'player_dismissed', 'fielder',\"dismissal_kind\"])"
      ],
      "metadata": {
        "id": "msZFhwes4gh_"
      },
      "execution_count": 138,
      "outputs": []
    },
    {
      "cell_type": "code",
      "source": [
        "df.select([f.sum(f.col(i).isNull().cast('int')).alias(i) for i in df.columns]).show()"
      ],
      "metadata": {
        "colab": {
          "base_uri": "https://localhost:8080/"
        },
        "id": "P7mZeNZQ42NA",
        "outputId": "b258b534-cc69-442b-e202-1c9174993afc"
      },
      "execution_count": 139,
      "outputs": [
        {
          "output_type": "stream",
          "name": "stdout",
          "text": [
            "+---+------+----+----+-----+-----+-----------+-------------+------+----------+------+-----------+--------------+---------------+-----+-------+-------+------+------------+------------+----+----+-------+-----------+------+-------------+---------+--------+-----------+-----------+------------+------------+----------+----------+\n",
            "| id|season|city|date|team1|team2|toss_winner|toss_decision|result|dl_applied|winner|win_by_runs|win_by_wickets|player_of_match|venue|umpire1|umpire2|inning|batting_team|bowling_team|over|ball|batsman|non_striker|bowler|is_super_over|wide_runs|bye_runs|legbye_runs|noball_runs|penalty_runs|batsman_runs|extra_runs|total_runs|\n",
            "+---+------+----+----+-----+-----+-----------+-------------+------+----------+------+-----------+--------------+---------------+-----+-------+-------+------+------------+------------+----+----+-------+-----------+------+-------------+---------+--------+-----------+-----------+------------+------------+----------+----------+\n",
            "|  0|     0|1700|   0|    0|    0|          0|            0|     0|         0|   372|          0|             0|            372|    0|    500|    500|     0|           0|           0|   0|   0|      0|          0|     0|            0|        0|       0|          0|          0|           0|           0|         0|         0|\n",
            "+---+------+----+----+-----+-----+-----------+-------------+------+----------+------+-----------+--------------+---------------+-----+-------+-------+------+------------+------------+----+----+-------+-----------+------+-------------+---------+--------+-----------+-----------+------------+------------+----------+----------+\n",
            "\n"
          ]
        }
      ]
    },
    {
      "cell_type": "code",
      "source": [
        "string_datasets = df.select([type_col for type_col,type_datatype in df.dtypes if type_datatype in ['string']])\n",
        "string_datasets.show()"
      ],
      "metadata": {
        "colab": {
          "base_uri": "https://localhost:8080/"
        },
        "id": "ECGp1oAP42Ko",
        "outputId": "4422fe1a-c7cc-4452-e937-50bcadbfef6a"
      },
      "execution_count": 140,
      "outputs": [
        {
          "output_type": "stream",
          "name": "stdout",
          "text": [
            "+---------+----------+-------------------+--------------------+--------------------+-------------+------+-------------------+---------------+--------------------+-----------+--------+-------------------+--------------------+------------+------------+-----------+\n",
            "|     city|      date|              team1|               team2|         toss_winner|toss_decision|result|             winner|player_of_match|               venue|    umpire1| umpire2|       batting_team|        bowling_team|     batsman| non_striker|     bowler|\n",
            "+---------+----------+-------------------+--------------------+--------------------+-------------+------+-------------------+---------------+--------------------+-----------+--------+-------------------+--------------------+------------+------------+-----------+\n",
            "|Hyderabad|2017-04-05|Sunrisers Hyderabad|Royal Challengers...|Royal Challengers...|        field|normal|Sunrisers Hyderabad|   Yuvraj Singh|Rajiv Gandhi Inte...|AY Dandekar|NJ Llong|Sunrisers Hyderabad|Royal Challengers...|   DA Warner|    S Dhawan|   TS Mills|\n",
            "|Hyderabad|2017-04-05|Sunrisers Hyderabad|Royal Challengers...|Royal Challengers...|        field|normal|Sunrisers Hyderabad|   Yuvraj Singh|Rajiv Gandhi Inte...|AY Dandekar|NJ Llong|Sunrisers Hyderabad|Royal Challengers...|   DA Warner|    S Dhawan|   TS Mills|\n",
            "|Hyderabad|2017-04-05|Sunrisers Hyderabad|Royal Challengers...|Royal Challengers...|        field|normal|Sunrisers Hyderabad|   Yuvraj Singh|Rajiv Gandhi Inte...|AY Dandekar|NJ Llong|Sunrisers Hyderabad|Royal Challengers...|   DA Warner|    S Dhawan|   TS Mills|\n",
            "|Hyderabad|2017-04-05|Sunrisers Hyderabad|Royal Challengers...|Royal Challengers...|        field|normal|Sunrisers Hyderabad|   Yuvraj Singh|Rajiv Gandhi Inte...|AY Dandekar|NJ Llong|Sunrisers Hyderabad|Royal Challengers...|   DA Warner|    S Dhawan|   TS Mills|\n",
            "|Hyderabad|2017-04-05|Sunrisers Hyderabad|Royal Challengers...|Royal Challengers...|        field|normal|Sunrisers Hyderabad|   Yuvraj Singh|Rajiv Gandhi Inte...|AY Dandekar|NJ Llong|Sunrisers Hyderabad|Royal Challengers...|   DA Warner|    S Dhawan|   TS Mills|\n",
            "|Hyderabad|2017-04-05|Sunrisers Hyderabad|Royal Challengers...|Royal Challengers...|        field|normal|Sunrisers Hyderabad|   Yuvraj Singh|Rajiv Gandhi Inte...|AY Dandekar|NJ Llong|Sunrisers Hyderabad|Royal Challengers...|    S Dhawan|   DA Warner|   TS Mills|\n",
            "|Hyderabad|2017-04-05|Sunrisers Hyderabad|Royal Challengers...|Royal Challengers...|        field|normal|Sunrisers Hyderabad|   Yuvraj Singh|Rajiv Gandhi Inte...|AY Dandekar|NJ Llong|Sunrisers Hyderabad|Royal Challengers...|    S Dhawan|   DA Warner|   TS Mills|\n",
            "|Hyderabad|2017-04-05|Sunrisers Hyderabad|Royal Challengers...|Royal Challengers...|        field|normal|Sunrisers Hyderabad|   Yuvraj Singh|Rajiv Gandhi Inte...|AY Dandekar|NJ Llong|Sunrisers Hyderabad|Royal Challengers...|    S Dhawan|   DA Warner|A Choudhary|\n",
            "|Hyderabad|2017-04-05|Sunrisers Hyderabad|Royal Challengers...|Royal Challengers...|        field|normal|Sunrisers Hyderabad|   Yuvraj Singh|Rajiv Gandhi Inte...|AY Dandekar|NJ Llong|Sunrisers Hyderabad|Royal Challengers...|   DA Warner|    S Dhawan|A Choudhary|\n",
            "|Hyderabad|2017-04-05|Sunrisers Hyderabad|Royal Challengers...|Royal Challengers...|        field|normal|Sunrisers Hyderabad|   Yuvraj Singh|Rajiv Gandhi Inte...|AY Dandekar|NJ Llong|Sunrisers Hyderabad|Royal Challengers...|   DA Warner|    S Dhawan|A Choudhary|\n",
            "|Hyderabad|2017-04-05|Sunrisers Hyderabad|Royal Challengers...|Royal Challengers...|        field|normal|Sunrisers Hyderabad|   Yuvraj Singh|Rajiv Gandhi Inte...|AY Dandekar|NJ Llong|Sunrisers Hyderabad|Royal Challengers...|   DA Warner|    S Dhawan|A Choudhary|\n",
            "|Hyderabad|2017-04-05|Sunrisers Hyderabad|Royal Challengers...|Royal Challengers...|        field|normal|Sunrisers Hyderabad|   Yuvraj Singh|Rajiv Gandhi Inte...|AY Dandekar|NJ Llong|Sunrisers Hyderabad|Royal Challengers...|   DA Warner|    S Dhawan|A Choudhary|\n",
            "|Hyderabad|2017-04-05|Sunrisers Hyderabad|Royal Challengers...|Royal Challengers...|        field|normal|Sunrisers Hyderabad|   Yuvraj Singh|Rajiv Gandhi Inte...|AY Dandekar|NJ Llong|Sunrisers Hyderabad|Royal Challengers...|MC Henriques|    S Dhawan|A Choudhary|\n",
            "|Hyderabad|2017-04-05|Sunrisers Hyderabad|Royal Challengers...|Royal Challengers...|        field|normal|Sunrisers Hyderabad|   Yuvraj Singh|Rajiv Gandhi Inte...|AY Dandekar|NJ Llong|Sunrisers Hyderabad|Royal Challengers...|MC Henriques|    S Dhawan|A Choudhary|\n",
            "|Hyderabad|2017-04-05|Sunrisers Hyderabad|Royal Challengers...|Royal Challengers...|        field|normal|Sunrisers Hyderabad|   Yuvraj Singh|Rajiv Gandhi Inte...|AY Dandekar|NJ Llong|Sunrisers Hyderabad|Royal Challengers...|    S Dhawan|MC Henriques|   TS Mills|\n",
            "|Hyderabad|2017-04-05|Sunrisers Hyderabad|Royal Challengers...|Royal Challengers...|        field|normal|Sunrisers Hyderabad|   Yuvraj Singh|Rajiv Gandhi Inte...|AY Dandekar|NJ Llong|Sunrisers Hyderabad|Royal Challengers...|MC Henriques|    S Dhawan|   TS Mills|\n",
            "|Hyderabad|2017-04-05|Sunrisers Hyderabad|Royal Challengers...|Royal Challengers...|        field|normal|Sunrisers Hyderabad|   Yuvraj Singh|Rajiv Gandhi Inte...|AY Dandekar|NJ Llong|Sunrisers Hyderabad|Royal Challengers...|MC Henriques|    S Dhawan|   TS Mills|\n",
            "|Hyderabad|2017-04-05|Sunrisers Hyderabad|Royal Challengers...|Royal Challengers...|        field|normal|Sunrisers Hyderabad|   Yuvraj Singh|Rajiv Gandhi Inte...|AY Dandekar|NJ Llong|Sunrisers Hyderabad|Royal Challengers...|MC Henriques|    S Dhawan|   TS Mills|\n",
            "|Hyderabad|2017-04-05|Sunrisers Hyderabad|Royal Challengers...|Royal Challengers...|        field|normal|Sunrisers Hyderabad|   Yuvraj Singh|Rajiv Gandhi Inte...|AY Dandekar|NJ Llong|Sunrisers Hyderabad|Royal Challengers...|    S Dhawan|MC Henriques|   TS Mills|\n",
            "|Hyderabad|2017-04-05|Sunrisers Hyderabad|Royal Challengers...|Royal Challengers...|        field|normal|Sunrisers Hyderabad|   Yuvraj Singh|Rajiv Gandhi Inte...|AY Dandekar|NJ Llong|Sunrisers Hyderabad|Royal Challengers...|MC Henriques|    S Dhawan|   TS Mills|\n",
            "+---------+----------+-------------------+--------------------+--------------------+-------------+------+-------------------+---------------+--------------------+-----------+--------+-------------------+--------------------+------------+------------+-----------+\n",
            "only showing top 20 rows\n",
            "\n"
          ]
        }
      ]
    },
    {
      "cell_type": "code",
      "source": [
        "string_datasets.select([f.sum(f.col(i).isNull().cast('int')).alias(i) for i in string_datasets.columns]).show()"
      ],
      "metadata": {
        "colab": {
          "base_uri": "https://localhost:8080/"
        },
        "id": "KWpcrssG42GQ",
        "outputId": "a99004f1-25de-4514-b7f0-8fed6366aa2f"
      },
      "execution_count": 141,
      "outputs": [
        {
          "output_type": "stream",
          "name": "stdout",
          "text": [
            "+----+----+-----+-----+-----------+-------------+------+------+---------------+-----+-------+-------+------------+------------+-------+-----------+------+\n",
            "|city|date|team1|team2|toss_winner|toss_decision|result|winner|player_of_match|venue|umpire1|umpire2|batting_team|bowling_team|batsman|non_striker|bowler|\n",
            "+----+----+-----+-----+-----------+-------------+------+------+---------------+-----+-------+-------+------------+------------+-------+-----------+------+\n",
            "|1700|   0|    0|    0|          0|            0|     0|   372|            372|    0|    500|    500|           0|           0|      0|          0|     0|\n",
            "+----+----+-----+-----+-----------+-------------+------+------+---------------+-----+-------+-------+------------+------------+-------+-----------+------+\n",
            "\n"
          ]
        }
      ]
    },
    {
      "cell_type": "code",
      "source": [
        "df = df.fillna('Unknown')\n",
        "df.show()"
      ],
      "metadata": {
        "colab": {
          "base_uri": "https://localhost:8080/"
        },
        "id": "LEZfPkem42Dz",
        "outputId": "1b53473c-f33d-4f90-c8c6-d3b4e25d726a"
      },
      "execution_count": 142,
      "outputs": [
        {
          "output_type": "stream",
          "name": "stdout",
          "text": [
            "+---+------+---------+----------+-------------------+--------------------+--------------------+-------------+------+----------+-------------------+-----------+--------------+---------------+--------------------+-----------+--------+------+-------------------+--------------------+----+----+------------+------------+-----------+-------------+---------+--------+-----------+-----------+------------+------------+----------+----------+\n",
            "| id|season|     city|      date|              team1|               team2|         toss_winner|toss_decision|result|dl_applied|             winner|win_by_runs|win_by_wickets|player_of_match|               venue|    umpire1| umpire2|inning|       batting_team|        bowling_team|over|ball|     batsman| non_striker|     bowler|is_super_over|wide_runs|bye_runs|legbye_runs|noball_runs|penalty_runs|batsman_runs|extra_runs|total_runs|\n",
            "+---+------+---------+----------+-------------------+--------------------+--------------------+-------------+------+----------+-------------------+-----------+--------------+---------------+--------------------+-----------+--------+------+-------------------+--------------------+----+----+------------+------------+-----------+-------------+---------+--------+-----------+-----------+------------+------------+----------+----------+\n",
            "|  1|  2017|Hyderabad|2017-04-05|Sunrisers Hyderabad|Royal Challengers...|Royal Challengers...|        field|normal|         0|Sunrisers Hyderabad|         35|             0|   Yuvraj Singh|Rajiv Gandhi Inte...|AY Dandekar|NJ Llong|     1|Sunrisers Hyderabad|Royal Challengers...|   1|   1|   DA Warner|    S Dhawan|   TS Mills|            0|        0|       0|          0|          0|           0|           0|         0|         0|\n",
            "|  1|  2017|Hyderabad|2017-04-05|Sunrisers Hyderabad|Royal Challengers...|Royal Challengers...|        field|normal|         0|Sunrisers Hyderabad|         35|             0|   Yuvraj Singh|Rajiv Gandhi Inte...|AY Dandekar|NJ Llong|     1|Sunrisers Hyderabad|Royal Challengers...|   1|   2|   DA Warner|    S Dhawan|   TS Mills|            0|        0|       0|          0|          0|           0|           0|         0|         0|\n",
            "|  1|  2017|Hyderabad|2017-04-05|Sunrisers Hyderabad|Royal Challengers...|Royal Challengers...|        field|normal|         0|Sunrisers Hyderabad|         35|             0|   Yuvraj Singh|Rajiv Gandhi Inte...|AY Dandekar|NJ Llong|     1|Sunrisers Hyderabad|Royal Challengers...|   1|   3|   DA Warner|    S Dhawan|   TS Mills|            0|        0|       0|          0|          0|           0|           4|         0|         4|\n",
            "|  1|  2017|Hyderabad|2017-04-05|Sunrisers Hyderabad|Royal Challengers...|Royal Challengers...|        field|normal|         0|Sunrisers Hyderabad|         35|             0|   Yuvraj Singh|Rajiv Gandhi Inte...|AY Dandekar|NJ Llong|     1|Sunrisers Hyderabad|Royal Challengers...|   1|   4|   DA Warner|    S Dhawan|   TS Mills|            0|        0|       0|          0|          0|           0|           0|         0|         0|\n",
            "|  1|  2017|Hyderabad|2017-04-05|Sunrisers Hyderabad|Royal Challengers...|Royal Challengers...|        field|normal|         0|Sunrisers Hyderabad|         35|             0|   Yuvraj Singh|Rajiv Gandhi Inte...|AY Dandekar|NJ Llong|     1|Sunrisers Hyderabad|Royal Challengers...|   1|   5|   DA Warner|    S Dhawan|   TS Mills|            0|        2|       0|          0|          0|           0|           0|         2|         2|\n",
            "|  1|  2017|Hyderabad|2017-04-05|Sunrisers Hyderabad|Royal Challengers...|Royal Challengers...|        field|normal|         0|Sunrisers Hyderabad|         35|             0|   Yuvraj Singh|Rajiv Gandhi Inte...|AY Dandekar|NJ Llong|     1|Sunrisers Hyderabad|Royal Challengers...|   1|   6|    S Dhawan|   DA Warner|   TS Mills|            0|        0|       0|          0|          0|           0|           0|         0|         0|\n",
            "|  1|  2017|Hyderabad|2017-04-05|Sunrisers Hyderabad|Royal Challengers...|Royal Challengers...|        field|normal|         0|Sunrisers Hyderabad|         35|             0|   Yuvraj Singh|Rajiv Gandhi Inte...|AY Dandekar|NJ Llong|     1|Sunrisers Hyderabad|Royal Challengers...|   1|   7|    S Dhawan|   DA Warner|   TS Mills|            0|        0|       0|          1|          0|           0|           0|         1|         1|\n",
            "|  1|  2017|Hyderabad|2017-04-05|Sunrisers Hyderabad|Royal Challengers...|Royal Challengers...|        field|normal|         0|Sunrisers Hyderabad|         35|             0|   Yuvraj Singh|Rajiv Gandhi Inte...|AY Dandekar|NJ Llong|     1|Sunrisers Hyderabad|Royal Challengers...|   2|   1|    S Dhawan|   DA Warner|A Choudhary|            0|        0|       0|          0|          0|           0|           1|         0|         1|\n",
            "|  1|  2017|Hyderabad|2017-04-05|Sunrisers Hyderabad|Royal Challengers...|Royal Challengers...|        field|normal|         0|Sunrisers Hyderabad|         35|             0|   Yuvraj Singh|Rajiv Gandhi Inte...|AY Dandekar|NJ Llong|     1|Sunrisers Hyderabad|Royal Challengers...|   2|   2|   DA Warner|    S Dhawan|A Choudhary|            0|        0|       0|          0|          0|           0|           4|         0|         4|\n",
            "|  1|  2017|Hyderabad|2017-04-05|Sunrisers Hyderabad|Royal Challengers...|Royal Challengers...|        field|normal|         0|Sunrisers Hyderabad|         35|             0|   Yuvraj Singh|Rajiv Gandhi Inte...|AY Dandekar|NJ Llong|     1|Sunrisers Hyderabad|Royal Challengers...|   2|   3|   DA Warner|    S Dhawan|A Choudhary|            0|        0|       0|          0|          1|           0|           0|         1|         1|\n",
            "|  1|  2017|Hyderabad|2017-04-05|Sunrisers Hyderabad|Royal Challengers...|Royal Challengers...|        field|normal|         0|Sunrisers Hyderabad|         35|             0|   Yuvraj Singh|Rajiv Gandhi Inte...|AY Dandekar|NJ Llong|     1|Sunrisers Hyderabad|Royal Challengers...|   2|   4|   DA Warner|    S Dhawan|A Choudhary|            0|        0|       0|          0|          0|           0|           6|         0|         6|\n",
            "|  1|  2017|Hyderabad|2017-04-05|Sunrisers Hyderabad|Royal Challengers...|Royal Challengers...|        field|normal|         0|Sunrisers Hyderabad|         35|             0|   Yuvraj Singh|Rajiv Gandhi Inte...|AY Dandekar|NJ Llong|     1|Sunrisers Hyderabad|Royal Challengers...|   2|   5|   DA Warner|    S Dhawan|A Choudhary|            0|        0|       0|          0|          0|           0|           0|         0|         0|\n",
            "|  1|  2017|Hyderabad|2017-04-05|Sunrisers Hyderabad|Royal Challengers...|Royal Challengers...|        field|normal|         0|Sunrisers Hyderabad|         35|             0|   Yuvraj Singh|Rajiv Gandhi Inte...|AY Dandekar|NJ Llong|     1|Sunrisers Hyderabad|Royal Challengers...|   2|   6|MC Henriques|    S Dhawan|A Choudhary|            0|        0|       0|          0|          0|           0|           0|         0|         0|\n",
            "|  1|  2017|Hyderabad|2017-04-05|Sunrisers Hyderabad|Royal Challengers...|Royal Challengers...|        field|normal|         0|Sunrisers Hyderabad|         35|             0|   Yuvraj Singh|Rajiv Gandhi Inte...|AY Dandekar|NJ Llong|     1|Sunrisers Hyderabad|Royal Challengers...|   2|   7|MC Henriques|    S Dhawan|A Choudhary|            0|        0|       0|          0|          0|           0|           4|         0|         4|\n",
            "|  1|  2017|Hyderabad|2017-04-05|Sunrisers Hyderabad|Royal Challengers...|Royal Challengers...|        field|normal|         0|Sunrisers Hyderabad|         35|             0|   Yuvraj Singh|Rajiv Gandhi Inte...|AY Dandekar|NJ Llong|     1|Sunrisers Hyderabad|Royal Challengers...|   3|   1|    S Dhawan|MC Henriques|   TS Mills|            0|        0|       0|          0|          0|           0|           1|         0|         1|\n",
            "|  1|  2017|Hyderabad|2017-04-05|Sunrisers Hyderabad|Royal Challengers...|Royal Challengers...|        field|normal|         0|Sunrisers Hyderabad|         35|             0|   Yuvraj Singh|Rajiv Gandhi Inte...|AY Dandekar|NJ Llong|     1|Sunrisers Hyderabad|Royal Challengers...|   3|   2|MC Henriques|    S Dhawan|   TS Mills|            0|        0|       0|          0|          0|           0|           0|         0|         0|\n",
            "|  1|  2017|Hyderabad|2017-04-05|Sunrisers Hyderabad|Royal Challengers...|Royal Challengers...|        field|normal|         0|Sunrisers Hyderabad|         35|             0|   Yuvraj Singh|Rajiv Gandhi Inte...|AY Dandekar|NJ Llong|     1|Sunrisers Hyderabad|Royal Challengers...|   3|   3|MC Henriques|    S Dhawan|   TS Mills|            0|        0|       0|          0|          0|           0|           0|         0|         0|\n",
            "|  1|  2017|Hyderabad|2017-04-05|Sunrisers Hyderabad|Royal Challengers...|Royal Challengers...|        field|normal|         0|Sunrisers Hyderabad|         35|             0|   Yuvraj Singh|Rajiv Gandhi Inte...|AY Dandekar|NJ Llong|     1|Sunrisers Hyderabad|Royal Challengers...|   3|   4|MC Henriques|    S Dhawan|   TS Mills|            0|        0|       0|          0|          0|           0|           3|         0|         3|\n",
            "|  1|  2017|Hyderabad|2017-04-05|Sunrisers Hyderabad|Royal Challengers...|Royal Challengers...|        field|normal|         0|Sunrisers Hyderabad|         35|             0|   Yuvraj Singh|Rajiv Gandhi Inte...|AY Dandekar|NJ Llong|     1|Sunrisers Hyderabad|Royal Challengers...|   3|   5|    S Dhawan|MC Henriques|   TS Mills|            0|        0|       0|          0|          0|           0|           1|         0|         1|\n",
            "|  1|  2017|Hyderabad|2017-04-05|Sunrisers Hyderabad|Royal Challengers...|Royal Challengers...|        field|normal|         0|Sunrisers Hyderabad|         35|             0|   Yuvraj Singh|Rajiv Gandhi Inte...|AY Dandekar|NJ Llong|     1|Sunrisers Hyderabad|Royal Challengers...|   3|   6|MC Henriques|    S Dhawan|   TS Mills|            0|        0|       0|          0|          0|           0|           1|         0|         1|\n",
            "+---+------+---------+----------+-------------------+--------------------+--------------------+-------------+------+----------+-------------------+-----------+--------------+---------------+--------------------+-----------+--------+------+-------------------+--------------------+----+----+------------+------------+-----------+-------------+---------+--------+-----------+-----------+------------+------------+----------+----------+\n",
            "only showing top 20 rows\n",
            "\n"
          ]
        }
      ]
    },
    {
      "cell_type": "code",
      "source": [
        "df.select([f.sum(f.col(i).isNull().cast('int')).alias(i) for i in df.columns]).show()"
      ],
      "metadata": {
        "colab": {
          "base_uri": "https://localhost:8080/"
        },
        "id": "T5mLIu7942BY",
        "outputId": "87941d92-1901-4c69-d9b1-05a400e761af"
      },
      "execution_count": 143,
      "outputs": [
        {
          "output_type": "stream",
          "name": "stdout",
          "text": [
            "+---+------+----+----+-----+-----+-----------+-------------+------+----------+------+-----------+--------------+---------------+-----+-------+-------+------+------------+------------+----+----+-------+-----------+------+-------------+---------+--------+-----------+-----------+------------+------------+----------+----------+\n",
            "| id|season|city|date|team1|team2|toss_winner|toss_decision|result|dl_applied|winner|win_by_runs|win_by_wickets|player_of_match|venue|umpire1|umpire2|inning|batting_team|bowling_team|over|ball|batsman|non_striker|bowler|is_super_over|wide_runs|bye_runs|legbye_runs|noball_runs|penalty_runs|batsman_runs|extra_runs|total_runs|\n",
            "+---+------+----+----+-----+-----+-----------+-------------+------+----------+------+-----------+--------------+---------------+-----+-------+-------+------+------------+------------+----+----+-------+-----------+------+-------------+---------+--------+-----------+-----------+------------+------------+----------+----------+\n",
            "|  0|     0|   0|   0|    0|    0|          0|            0|     0|         0|     0|          0|             0|              0|    0|      0|      0|     0|           0|           0|   0|   0|      0|          0|     0|            0|        0|       0|          0|          0|           0|           0|         0|         0|\n",
            "+---+------+----+----+-----+-----+-----------+-------------+------+----------+------+-----------+--------------+---------------+-----+-------+-------+------+------------+------------+----+----+-------+-----------+------+-------------+---------+--------+-----------+-----------+------------+------------+----------+----------+\n",
            "\n"
          ]
        }
      ]
    },
    {
      "cell_type": "code",
      "source": [
        "df.count()"
      ],
      "metadata": {
        "colab": {
          "base_uri": "https://localhost:8080/"
        },
        "id": "yHtg8GDJ41-3",
        "outputId": "0bcb9687-e880-4628-e4aa-72669faa8171"
      },
      "execution_count": 144,
      "outputs": [
        {
          "output_type": "execute_result",
          "data": {
            "text/plain": [
              "179078"
            ]
          },
          "metadata": {},
          "execution_count": 144
        }
      ]
    },
    {
      "cell_type": "code",
      "source": [
        "len(df.columns)"
      ],
      "metadata": {
        "colab": {
          "base_uri": "https://localhost:8080/"
        },
        "id": "W8dce4nr418Y",
        "outputId": "21d0a6bb-325e-40c9-9a1e-03963bf94e08"
      },
      "execution_count": 145,
      "outputs": [
        {
          "output_type": "execute_result",
          "data": {
            "text/plain": [
              "34"
            ]
          },
          "metadata": {},
          "execution_count": 145
        }
      ]
    },
    {
      "cell_type": "code",
      "source": [
        "df.columns"
      ],
      "metadata": {
        "colab": {
          "base_uri": "https://localhost:8080/"
        },
        "id": "QOl99tGb4156",
        "outputId": "fd1c1c6e-1fef-4b13-9286-cda0db19a3d8"
      },
      "execution_count": 146,
      "outputs": [
        {
          "output_type": "execute_result",
          "data": {
            "text/plain": [
              "['id',\n",
              " 'season',\n",
              " 'city',\n",
              " 'date',\n",
              " 'team1',\n",
              " 'team2',\n",
              " 'toss_winner',\n",
              " 'toss_decision',\n",
              " 'result',\n",
              " 'dl_applied',\n",
              " 'winner',\n",
              " 'win_by_runs',\n",
              " 'win_by_wickets',\n",
              " 'player_of_match',\n",
              " 'venue',\n",
              " 'umpire1',\n",
              " 'umpire2',\n",
              " 'inning',\n",
              " 'batting_team',\n",
              " 'bowling_team',\n",
              " 'over',\n",
              " 'ball',\n",
              " 'batsman',\n",
              " 'non_striker',\n",
              " 'bowler',\n",
              " 'is_super_over',\n",
              " 'wide_runs',\n",
              " 'bye_runs',\n",
              " 'legbye_runs',\n",
              " 'noball_runs',\n",
              " 'penalty_runs',\n",
              " 'batsman_runs',\n",
              " 'extra_runs',\n",
              " 'total_runs']"
            ]
          },
          "metadata": {},
          "execution_count": 146
        }
      ]
    },
    {
      "cell_type": "code",
      "source": [
        "df.dtypes"
      ],
      "metadata": {
        "colab": {
          "base_uri": "https://localhost:8080/"
        },
        "id": "F0eZpyXA6F2S",
        "outputId": "213f26da-2d0a-4835-ebd7-26a33f4462fa"
      },
      "execution_count": 153,
      "outputs": [
        {
          "output_type": "execute_result",
          "data": {
            "text/plain": [
              "[('id', 'int'),\n",
              " ('season', 'int'),\n",
              " ('city', 'string'),\n",
              " ('date', 'string'),\n",
              " ('team1', 'string'),\n",
              " ('team2', 'string'),\n",
              " ('toss_winner', 'string'),\n",
              " ('toss_decision', 'string'),\n",
              " ('result', 'string'),\n",
              " ('dl_applied', 'int'),\n",
              " ('winner', 'string'),\n",
              " ('win_by_runs', 'int'),\n",
              " ('win_by_wickets', 'int'),\n",
              " ('player_of_match', 'string'),\n",
              " ('venue', 'string'),\n",
              " ('umpire1', 'string'),\n",
              " ('umpire2', 'string'),\n",
              " ('inning', 'int'),\n",
              " ('batting_team', 'string'),\n",
              " ('bowling_team', 'string'),\n",
              " ('over', 'int'),\n",
              " ('ball', 'int'),\n",
              " ('batsman', 'string'),\n",
              " ('non_striker', 'string'),\n",
              " ('bowler', 'string'),\n",
              " ('is_super_over', 'int'),\n",
              " ('wide_runs', 'int'),\n",
              " ('bye_runs', 'int'),\n",
              " ('legbye_runs', 'int'),\n",
              " ('noball_runs', 'int'),\n",
              " ('penalty_runs', 'int'),\n",
              " ('batsman_runs', 'int'),\n",
              " ('extra_runs', 'int'),\n",
              " ('total_runs', 'int')]"
            ]
          },
          "metadata": {},
          "execution_count": 153
        }
      ]
    },
    {
      "cell_type": "code",
      "source": [
        "#string columns\n",
        "\n",
        "[string_data for string_data, string_type in df.dtypes if string_type in ['string']]\n"
      ],
      "metadata": {
        "colab": {
          "base_uri": "https://localhost:8080/"
        },
        "id": "GBaEadU2413i",
        "outputId": "3e2005fd-f785-4275-a689-39a2496d9fb0"
      },
      "execution_count": 147,
      "outputs": [
        {
          "output_type": "execute_result",
          "data": {
            "text/plain": [
              "['city',\n",
              " 'date',\n",
              " 'team1',\n",
              " 'team2',\n",
              " 'toss_winner',\n",
              " 'toss_decision',\n",
              " 'result',\n",
              " 'winner',\n",
              " 'player_of_match',\n",
              " 'venue',\n",
              " 'umpire1',\n",
              " 'umpire2',\n",
              " 'batting_team',\n",
              " 'bowling_team',\n",
              " 'batsman',\n",
              " 'non_striker',\n",
              " 'bowler']"
            ]
          },
          "metadata": {},
          "execution_count": 147
        }
      ]
    },
    {
      "cell_type": "code",
      "source": [
        "df.select(\n",
        "[string_data for string_data, string_type in df.dtypes if string_type in ['string']]).show()"
      ],
      "metadata": {
        "colab": {
          "base_uri": "https://localhost:8080/"
        },
        "id": "uax6TwEE411A",
        "outputId": "bf042464-f040-4eb1-954f-a06620b3a413"
      },
      "execution_count": 148,
      "outputs": [
        {
          "output_type": "stream",
          "name": "stdout",
          "text": [
            "+---------+----------+-------------------+--------------------+--------------------+-------------+------+-------------------+---------------+--------------------+-----------+--------+-------------------+--------------------+------------+------------+-----------+\n",
            "|     city|      date|              team1|               team2|         toss_winner|toss_decision|result|             winner|player_of_match|               venue|    umpire1| umpire2|       batting_team|        bowling_team|     batsman| non_striker|     bowler|\n",
            "+---------+----------+-------------------+--------------------+--------------------+-------------+------+-------------------+---------------+--------------------+-----------+--------+-------------------+--------------------+------------+------------+-----------+\n",
            "|Hyderabad|2017-04-05|Sunrisers Hyderabad|Royal Challengers...|Royal Challengers...|        field|normal|Sunrisers Hyderabad|   Yuvraj Singh|Rajiv Gandhi Inte...|AY Dandekar|NJ Llong|Sunrisers Hyderabad|Royal Challengers...|   DA Warner|    S Dhawan|   TS Mills|\n",
            "|Hyderabad|2017-04-05|Sunrisers Hyderabad|Royal Challengers...|Royal Challengers...|        field|normal|Sunrisers Hyderabad|   Yuvraj Singh|Rajiv Gandhi Inte...|AY Dandekar|NJ Llong|Sunrisers Hyderabad|Royal Challengers...|   DA Warner|    S Dhawan|   TS Mills|\n",
            "|Hyderabad|2017-04-05|Sunrisers Hyderabad|Royal Challengers...|Royal Challengers...|        field|normal|Sunrisers Hyderabad|   Yuvraj Singh|Rajiv Gandhi Inte...|AY Dandekar|NJ Llong|Sunrisers Hyderabad|Royal Challengers...|   DA Warner|    S Dhawan|   TS Mills|\n",
            "|Hyderabad|2017-04-05|Sunrisers Hyderabad|Royal Challengers...|Royal Challengers...|        field|normal|Sunrisers Hyderabad|   Yuvraj Singh|Rajiv Gandhi Inte...|AY Dandekar|NJ Llong|Sunrisers Hyderabad|Royal Challengers...|   DA Warner|    S Dhawan|   TS Mills|\n",
            "|Hyderabad|2017-04-05|Sunrisers Hyderabad|Royal Challengers...|Royal Challengers...|        field|normal|Sunrisers Hyderabad|   Yuvraj Singh|Rajiv Gandhi Inte...|AY Dandekar|NJ Llong|Sunrisers Hyderabad|Royal Challengers...|   DA Warner|    S Dhawan|   TS Mills|\n",
            "|Hyderabad|2017-04-05|Sunrisers Hyderabad|Royal Challengers...|Royal Challengers...|        field|normal|Sunrisers Hyderabad|   Yuvraj Singh|Rajiv Gandhi Inte...|AY Dandekar|NJ Llong|Sunrisers Hyderabad|Royal Challengers...|    S Dhawan|   DA Warner|   TS Mills|\n",
            "|Hyderabad|2017-04-05|Sunrisers Hyderabad|Royal Challengers...|Royal Challengers...|        field|normal|Sunrisers Hyderabad|   Yuvraj Singh|Rajiv Gandhi Inte...|AY Dandekar|NJ Llong|Sunrisers Hyderabad|Royal Challengers...|    S Dhawan|   DA Warner|   TS Mills|\n",
            "|Hyderabad|2017-04-05|Sunrisers Hyderabad|Royal Challengers...|Royal Challengers...|        field|normal|Sunrisers Hyderabad|   Yuvraj Singh|Rajiv Gandhi Inte...|AY Dandekar|NJ Llong|Sunrisers Hyderabad|Royal Challengers...|    S Dhawan|   DA Warner|A Choudhary|\n",
            "|Hyderabad|2017-04-05|Sunrisers Hyderabad|Royal Challengers...|Royal Challengers...|        field|normal|Sunrisers Hyderabad|   Yuvraj Singh|Rajiv Gandhi Inte...|AY Dandekar|NJ Llong|Sunrisers Hyderabad|Royal Challengers...|   DA Warner|    S Dhawan|A Choudhary|\n",
            "|Hyderabad|2017-04-05|Sunrisers Hyderabad|Royal Challengers...|Royal Challengers...|        field|normal|Sunrisers Hyderabad|   Yuvraj Singh|Rajiv Gandhi Inte...|AY Dandekar|NJ Llong|Sunrisers Hyderabad|Royal Challengers...|   DA Warner|    S Dhawan|A Choudhary|\n",
            "|Hyderabad|2017-04-05|Sunrisers Hyderabad|Royal Challengers...|Royal Challengers...|        field|normal|Sunrisers Hyderabad|   Yuvraj Singh|Rajiv Gandhi Inte...|AY Dandekar|NJ Llong|Sunrisers Hyderabad|Royal Challengers...|   DA Warner|    S Dhawan|A Choudhary|\n",
            "|Hyderabad|2017-04-05|Sunrisers Hyderabad|Royal Challengers...|Royal Challengers...|        field|normal|Sunrisers Hyderabad|   Yuvraj Singh|Rajiv Gandhi Inte...|AY Dandekar|NJ Llong|Sunrisers Hyderabad|Royal Challengers...|   DA Warner|    S Dhawan|A Choudhary|\n",
            "|Hyderabad|2017-04-05|Sunrisers Hyderabad|Royal Challengers...|Royal Challengers...|        field|normal|Sunrisers Hyderabad|   Yuvraj Singh|Rajiv Gandhi Inte...|AY Dandekar|NJ Llong|Sunrisers Hyderabad|Royal Challengers...|MC Henriques|    S Dhawan|A Choudhary|\n",
            "|Hyderabad|2017-04-05|Sunrisers Hyderabad|Royal Challengers...|Royal Challengers...|        field|normal|Sunrisers Hyderabad|   Yuvraj Singh|Rajiv Gandhi Inte...|AY Dandekar|NJ Llong|Sunrisers Hyderabad|Royal Challengers...|MC Henriques|    S Dhawan|A Choudhary|\n",
            "|Hyderabad|2017-04-05|Sunrisers Hyderabad|Royal Challengers...|Royal Challengers...|        field|normal|Sunrisers Hyderabad|   Yuvraj Singh|Rajiv Gandhi Inte...|AY Dandekar|NJ Llong|Sunrisers Hyderabad|Royal Challengers...|    S Dhawan|MC Henriques|   TS Mills|\n",
            "|Hyderabad|2017-04-05|Sunrisers Hyderabad|Royal Challengers...|Royal Challengers...|        field|normal|Sunrisers Hyderabad|   Yuvraj Singh|Rajiv Gandhi Inte...|AY Dandekar|NJ Llong|Sunrisers Hyderabad|Royal Challengers...|MC Henriques|    S Dhawan|   TS Mills|\n",
            "|Hyderabad|2017-04-05|Sunrisers Hyderabad|Royal Challengers...|Royal Challengers...|        field|normal|Sunrisers Hyderabad|   Yuvraj Singh|Rajiv Gandhi Inte...|AY Dandekar|NJ Llong|Sunrisers Hyderabad|Royal Challengers...|MC Henriques|    S Dhawan|   TS Mills|\n",
            "|Hyderabad|2017-04-05|Sunrisers Hyderabad|Royal Challengers...|Royal Challengers...|        field|normal|Sunrisers Hyderabad|   Yuvraj Singh|Rajiv Gandhi Inte...|AY Dandekar|NJ Llong|Sunrisers Hyderabad|Royal Challengers...|MC Henriques|    S Dhawan|   TS Mills|\n",
            "|Hyderabad|2017-04-05|Sunrisers Hyderabad|Royal Challengers...|Royal Challengers...|        field|normal|Sunrisers Hyderabad|   Yuvraj Singh|Rajiv Gandhi Inte...|AY Dandekar|NJ Llong|Sunrisers Hyderabad|Royal Challengers...|    S Dhawan|MC Henriques|   TS Mills|\n",
            "|Hyderabad|2017-04-05|Sunrisers Hyderabad|Royal Challengers...|Royal Challengers...|        field|normal|Sunrisers Hyderabad|   Yuvraj Singh|Rajiv Gandhi Inte...|AY Dandekar|NJ Llong|Sunrisers Hyderabad|Royal Challengers...|MC Henriques|    S Dhawan|   TS Mills|\n",
            "+---------+----------+-------------------+--------------------+--------------------+-------------+------+-------------------+---------------+--------------------+-----------+--------+-------------------+--------------------+------------+------------+-----------+\n",
            "only showing top 20 rows\n",
            "\n"
          ]
        }
      ]
    },
    {
      "cell_type": "code",
      "source": [
        "# to show only numerical columns\n",
        "\n",
        "[num_data for num_data, num_type in df.dtypes if num_type in ['int', 'double']]"
      ],
      "metadata": {
        "colab": {
          "base_uri": "https://localhost:8080/"
        },
        "id": "892ujONu51Fj",
        "outputId": "61105d99-7ba3-48f1-c680-a663f320efde"
      },
      "execution_count": 151,
      "outputs": [
        {
          "output_type": "execute_result",
          "data": {
            "text/plain": [
              "['id',\n",
              " 'season',\n",
              " 'dl_applied',\n",
              " 'win_by_runs',\n",
              " 'win_by_wickets',\n",
              " 'inning',\n",
              " 'over',\n",
              " 'ball',\n",
              " 'is_super_over',\n",
              " 'wide_runs',\n",
              " 'bye_runs',\n",
              " 'legbye_runs',\n",
              " 'noball_runs',\n",
              " 'penalty_runs',\n",
              " 'batsman_runs',\n",
              " 'extra_runs',\n",
              " 'total_runs']"
            ]
          },
          "metadata": {},
          "execution_count": 151
        }
      ]
    },
    {
      "cell_type": "code",
      "source": [
        "df.select([num_data for num_data, num_type in df.dtypes if num_type in ['int', 'double']]).show()"
      ],
      "metadata": {
        "colab": {
          "base_uri": "https://localhost:8080/"
        },
        "id": "NFhVHdaB6CFV",
        "outputId": "28187bee-f893-41a5-b5b6-a65557e42216"
      },
      "execution_count": 152,
      "outputs": [
        {
          "output_type": "stream",
          "name": "stdout",
          "text": [
            "+---+------+----------+-----------+--------------+------+----+----+-------------+---------+--------+-----------+-----------+------------+------------+----------+----------+\n",
            "| id|season|dl_applied|win_by_runs|win_by_wickets|inning|over|ball|is_super_over|wide_runs|bye_runs|legbye_runs|noball_runs|penalty_runs|batsman_runs|extra_runs|total_runs|\n",
            "+---+------+----------+-----------+--------------+------+----+----+-------------+---------+--------+-----------+-----------+------------+------------+----------+----------+\n",
            "|  1|  2017|         0|         35|             0|     1|   1|   1|            0|        0|       0|          0|          0|           0|           0|         0|         0|\n",
            "|  1|  2017|         0|         35|             0|     1|   1|   2|            0|        0|       0|          0|          0|           0|           0|         0|         0|\n",
            "|  1|  2017|         0|         35|             0|     1|   1|   3|            0|        0|       0|          0|          0|           0|           4|         0|         4|\n",
            "|  1|  2017|         0|         35|             0|     1|   1|   4|            0|        0|       0|          0|          0|           0|           0|         0|         0|\n",
            "|  1|  2017|         0|         35|             0|     1|   1|   5|            0|        2|       0|          0|          0|           0|           0|         2|         2|\n",
            "|  1|  2017|         0|         35|             0|     1|   1|   6|            0|        0|       0|          0|          0|           0|           0|         0|         0|\n",
            "|  1|  2017|         0|         35|             0|     1|   1|   7|            0|        0|       0|          1|          0|           0|           0|         1|         1|\n",
            "|  1|  2017|         0|         35|             0|     1|   2|   1|            0|        0|       0|          0|          0|           0|           1|         0|         1|\n",
            "|  1|  2017|         0|         35|             0|     1|   2|   2|            0|        0|       0|          0|          0|           0|           4|         0|         4|\n",
            "|  1|  2017|         0|         35|             0|     1|   2|   3|            0|        0|       0|          0|          1|           0|           0|         1|         1|\n",
            "|  1|  2017|         0|         35|             0|     1|   2|   4|            0|        0|       0|          0|          0|           0|           6|         0|         6|\n",
            "|  1|  2017|         0|         35|             0|     1|   2|   5|            0|        0|       0|          0|          0|           0|           0|         0|         0|\n",
            "|  1|  2017|         0|         35|             0|     1|   2|   6|            0|        0|       0|          0|          0|           0|           0|         0|         0|\n",
            "|  1|  2017|         0|         35|             0|     1|   2|   7|            0|        0|       0|          0|          0|           0|           4|         0|         4|\n",
            "|  1|  2017|         0|         35|             0|     1|   3|   1|            0|        0|       0|          0|          0|           0|           1|         0|         1|\n",
            "|  1|  2017|         0|         35|             0|     1|   3|   2|            0|        0|       0|          0|          0|           0|           0|         0|         0|\n",
            "|  1|  2017|         0|         35|             0|     1|   3|   3|            0|        0|       0|          0|          0|           0|           0|         0|         0|\n",
            "|  1|  2017|         0|         35|             0|     1|   3|   4|            0|        0|       0|          0|          0|           0|           3|         0|         3|\n",
            "|  1|  2017|         0|         35|             0|     1|   3|   5|            0|        0|       0|          0|          0|           0|           1|         0|         1|\n",
            "|  1|  2017|         0|         35|             0|     1|   3|   6|            0|        0|       0|          0|          0|           0|           1|         0|         1|\n",
            "+---+------+----------+-----------+--------------+------+----+----+-------------+---------+--------+-----------+-----------+------------+------------+----------+----------+\n",
            "only showing top 20 rows\n",
            "\n"
          ]
        }
      ]
    },
    {
      "cell_type": "code",
      "source": [
        "df.show(truncate=False)"
      ],
      "metadata": {
        "colab": {
          "base_uri": "https://localhost:8080/"
        },
        "id": "4gzPk98I6CCh",
        "outputId": "20f7ac9b-feab-46eb-c40b-78130bdc1088"
      },
      "execution_count": 154,
      "outputs": [
        {
          "output_type": "stream",
          "name": "stdout",
          "text": [
            "+---+------+---------+----------+-------------------+---------------------------+---------------------------+-------------+------+----------+-------------------+-----------+--------------+---------------+-----------------------------------------+-----------+--------+------+-------------------+---------------------------+----+----+------------+------------+-----------+-------------+---------+--------+-----------+-----------+------------+------------+----------+----------+\n",
            "|id |season|city     |date      |team1              |team2                      |toss_winner                |toss_decision|result|dl_applied|winner             |win_by_runs|win_by_wickets|player_of_match|venue                                    |umpire1    |umpire2 |inning|batting_team       |bowling_team               |over|ball|batsman     |non_striker |bowler     |is_super_over|wide_runs|bye_runs|legbye_runs|noball_runs|penalty_runs|batsman_runs|extra_runs|total_runs|\n",
            "+---+------+---------+----------+-------------------+---------------------------+---------------------------+-------------+------+----------+-------------------+-----------+--------------+---------------+-----------------------------------------+-----------+--------+------+-------------------+---------------------------+----+----+------------+------------+-----------+-------------+---------+--------+-----------+-----------+------------+------------+----------+----------+\n",
            "|1  |2017  |Hyderabad|2017-04-05|Sunrisers Hyderabad|Royal Challengers Bangalore|Royal Challengers Bangalore|field        |normal|0         |Sunrisers Hyderabad|35         |0             |Yuvraj Singh   |Rajiv Gandhi International Stadium, Uppal|AY Dandekar|NJ Llong|1     |Sunrisers Hyderabad|Royal Challengers Bangalore|1   |1   |DA Warner   |S Dhawan    |TS Mills   |0            |0        |0       |0          |0          |0           |0           |0         |0         |\n",
            "|1  |2017  |Hyderabad|2017-04-05|Sunrisers Hyderabad|Royal Challengers Bangalore|Royal Challengers Bangalore|field        |normal|0         |Sunrisers Hyderabad|35         |0             |Yuvraj Singh   |Rajiv Gandhi International Stadium, Uppal|AY Dandekar|NJ Llong|1     |Sunrisers Hyderabad|Royal Challengers Bangalore|1   |2   |DA Warner   |S Dhawan    |TS Mills   |0            |0        |0       |0          |0          |0           |0           |0         |0         |\n",
            "|1  |2017  |Hyderabad|2017-04-05|Sunrisers Hyderabad|Royal Challengers Bangalore|Royal Challengers Bangalore|field        |normal|0         |Sunrisers Hyderabad|35         |0             |Yuvraj Singh   |Rajiv Gandhi International Stadium, Uppal|AY Dandekar|NJ Llong|1     |Sunrisers Hyderabad|Royal Challengers Bangalore|1   |3   |DA Warner   |S Dhawan    |TS Mills   |0            |0        |0       |0          |0          |0           |4           |0         |4         |\n",
            "|1  |2017  |Hyderabad|2017-04-05|Sunrisers Hyderabad|Royal Challengers Bangalore|Royal Challengers Bangalore|field        |normal|0         |Sunrisers Hyderabad|35         |0             |Yuvraj Singh   |Rajiv Gandhi International Stadium, Uppal|AY Dandekar|NJ Llong|1     |Sunrisers Hyderabad|Royal Challengers Bangalore|1   |4   |DA Warner   |S Dhawan    |TS Mills   |0            |0        |0       |0          |0          |0           |0           |0         |0         |\n",
            "|1  |2017  |Hyderabad|2017-04-05|Sunrisers Hyderabad|Royal Challengers Bangalore|Royal Challengers Bangalore|field        |normal|0         |Sunrisers Hyderabad|35         |0             |Yuvraj Singh   |Rajiv Gandhi International Stadium, Uppal|AY Dandekar|NJ Llong|1     |Sunrisers Hyderabad|Royal Challengers Bangalore|1   |5   |DA Warner   |S Dhawan    |TS Mills   |0            |2        |0       |0          |0          |0           |0           |2         |2         |\n",
            "|1  |2017  |Hyderabad|2017-04-05|Sunrisers Hyderabad|Royal Challengers Bangalore|Royal Challengers Bangalore|field        |normal|0         |Sunrisers Hyderabad|35         |0             |Yuvraj Singh   |Rajiv Gandhi International Stadium, Uppal|AY Dandekar|NJ Llong|1     |Sunrisers Hyderabad|Royal Challengers Bangalore|1   |6   |S Dhawan    |DA Warner   |TS Mills   |0            |0        |0       |0          |0          |0           |0           |0         |0         |\n",
            "|1  |2017  |Hyderabad|2017-04-05|Sunrisers Hyderabad|Royal Challengers Bangalore|Royal Challengers Bangalore|field        |normal|0         |Sunrisers Hyderabad|35         |0             |Yuvraj Singh   |Rajiv Gandhi International Stadium, Uppal|AY Dandekar|NJ Llong|1     |Sunrisers Hyderabad|Royal Challengers Bangalore|1   |7   |S Dhawan    |DA Warner   |TS Mills   |0            |0        |0       |1          |0          |0           |0           |1         |1         |\n",
            "|1  |2017  |Hyderabad|2017-04-05|Sunrisers Hyderabad|Royal Challengers Bangalore|Royal Challengers Bangalore|field        |normal|0         |Sunrisers Hyderabad|35         |0             |Yuvraj Singh   |Rajiv Gandhi International Stadium, Uppal|AY Dandekar|NJ Llong|1     |Sunrisers Hyderabad|Royal Challengers Bangalore|2   |1   |S Dhawan    |DA Warner   |A Choudhary|0            |0        |0       |0          |0          |0           |1           |0         |1         |\n",
            "|1  |2017  |Hyderabad|2017-04-05|Sunrisers Hyderabad|Royal Challengers Bangalore|Royal Challengers Bangalore|field        |normal|0         |Sunrisers Hyderabad|35         |0             |Yuvraj Singh   |Rajiv Gandhi International Stadium, Uppal|AY Dandekar|NJ Llong|1     |Sunrisers Hyderabad|Royal Challengers Bangalore|2   |2   |DA Warner   |S Dhawan    |A Choudhary|0            |0        |0       |0          |0          |0           |4           |0         |4         |\n",
            "|1  |2017  |Hyderabad|2017-04-05|Sunrisers Hyderabad|Royal Challengers Bangalore|Royal Challengers Bangalore|field        |normal|0         |Sunrisers Hyderabad|35         |0             |Yuvraj Singh   |Rajiv Gandhi International Stadium, Uppal|AY Dandekar|NJ Llong|1     |Sunrisers Hyderabad|Royal Challengers Bangalore|2   |3   |DA Warner   |S Dhawan    |A Choudhary|0            |0        |0       |0          |1          |0           |0           |1         |1         |\n",
            "|1  |2017  |Hyderabad|2017-04-05|Sunrisers Hyderabad|Royal Challengers Bangalore|Royal Challengers Bangalore|field        |normal|0         |Sunrisers Hyderabad|35         |0             |Yuvraj Singh   |Rajiv Gandhi International Stadium, Uppal|AY Dandekar|NJ Llong|1     |Sunrisers Hyderabad|Royal Challengers Bangalore|2   |4   |DA Warner   |S Dhawan    |A Choudhary|0            |0        |0       |0          |0          |0           |6           |0         |6         |\n",
            "|1  |2017  |Hyderabad|2017-04-05|Sunrisers Hyderabad|Royal Challengers Bangalore|Royal Challengers Bangalore|field        |normal|0         |Sunrisers Hyderabad|35         |0             |Yuvraj Singh   |Rajiv Gandhi International Stadium, Uppal|AY Dandekar|NJ Llong|1     |Sunrisers Hyderabad|Royal Challengers Bangalore|2   |5   |DA Warner   |S Dhawan    |A Choudhary|0            |0        |0       |0          |0          |0           |0           |0         |0         |\n",
            "|1  |2017  |Hyderabad|2017-04-05|Sunrisers Hyderabad|Royal Challengers Bangalore|Royal Challengers Bangalore|field        |normal|0         |Sunrisers Hyderabad|35         |0             |Yuvraj Singh   |Rajiv Gandhi International Stadium, Uppal|AY Dandekar|NJ Llong|1     |Sunrisers Hyderabad|Royal Challengers Bangalore|2   |6   |MC Henriques|S Dhawan    |A Choudhary|0            |0        |0       |0          |0          |0           |0           |0         |0         |\n",
            "|1  |2017  |Hyderabad|2017-04-05|Sunrisers Hyderabad|Royal Challengers Bangalore|Royal Challengers Bangalore|field        |normal|0         |Sunrisers Hyderabad|35         |0             |Yuvraj Singh   |Rajiv Gandhi International Stadium, Uppal|AY Dandekar|NJ Llong|1     |Sunrisers Hyderabad|Royal Challengers Bangalore|2   |7   |MC Henriques|S Dhawan    |A Choudhary|0            |0        |0       |0          |0          |0           |4           |0         |4         |\n",
            "|1  |2017  |Hyderabad|2017-04-05|Sunrisers Hyderabad|Royal Challengers Bangalore|Royal Challengers Bangalore|field        |normal|0         |Sunrisers Hyderabad|35         |0             |Yuvraj Singh   |Rajiv Gandhi International Stadium, Uppal|AY Dandekar|NJ Llong|1     |Sunrisers Hyderabad|Royal Challengers Bangalore|3   |1   |S Dhawan    |MC Henriques|TS Mills   |0            |0        |0       |0          |0          |0           |1           |0         |1         |\n",
            "|1  |2017  |Hyderabad|2017-04-05|Sunrisers Hyderabad|Royal Challengers Bangalore|Royal Challengers Bangalore|field        |normal|0         |Sunrisers Hyderabad|35         |0             |Yuvraj Singh   |Rajiv Gandhi International Stadium, Uppal|AY Dandekar|NJ Llong|1     |Sunrisers Hyderabad|Royal Challengers Bangalore|3   |2   |MC Henriques|S Dhawan    |TS Mills   |0            |0        |0       |0          |0          |0           |0           |0         |0         |\n",
            "|1  |2017  |Hyderabad|2017-04-05|Sunrisers Hyderabad|Royal Challengers Bangalore|Royal Challengers Bangalore|field        |normal|0         |Sunrisers Hyderabad|35         |0             |Yuvraj Singh   |Rajiv Gandhi International Stadium, Uppal|AY Dandekar|NJ Llong|1     |Sunrisers Hyderabad|Royal Challengers Bangalore|3   |3   |MC Henriques|S Dhawan    |TS Mills   |0            |0        |0       |0          |0          |0           |0           |0         |0         |\n",
            "|1  |2017  |Hyderabad|2017-04-05|Sunrisers Hyderabad|Royal Challengers Bangalore|Royal Challengers Bangalore|field        |normal|0         |Sunrisers Hyderabad|35         |0             |Yuvraj Singh   |Rajiv Gandhi International Stadium, Uppal|AY Dandekar|NJ Llong|1     |Sunrisers Hyderabad|Royal Challengers Bangalore|3   |4   |MC Henriques|S Dhawan    |TS Mills   |0            |0        |0       |0          |0          |0           |3           |0         |3         |\n",
            "|1  |2017  |Hyderabad|2017-04-05|Sunrisers Hyderabad|Royal Challengers Bangalore|Royal Challengers Bangalore|field        |normal|0         |Sunrisers Hyderabad|35         |0             |Yuvraj Singh   |Rajiv Gandhi International Stadium, Uppal|AY Dandekar|NJ Llong|1     |Sunrisers Hyderabad|Royal Challengers Bangalore|3   |5   |S Dhawan    |MC Henriques|TS Mills   |0            |0        |0       |0          |0          |0           |1           |0         |1         |\n",
            "|1  |2017  |Hyderabad|2017-04-05|Sunrisers Hyderabad|Royal Challengers Bangalore|Royal Challengers Bangalore|field        |normal|0         |Sunrisers Hyderabad|35         |0             |Yuvraj Singh   |Rajiv Gandhi International Stadium, Uppal|AY Dandekar|NJ Llong|1     |Sunrisers Hyderabad|Royal Challengers Bangalore|3   |6   |MC Henriques|S Dhawan    |TS Mills   |0            |0        |0       |0          |0          |0           |1           |0         |1         |\n",
            "+---+------+---------+----------+-------------------+---------------------------+---------------------------+-------------+------+----------+-------------------+-----------+--------------+---------------+-----------------------------------------+-----------+--------+------+-------------------+---------------------------+----+----+------------+------------+-----------+-------------+---------+--------+-----------+-----------+------------+------------+----------+----------+\n",
            "only showing top 20 rows\n",
            "\n"
          ]
        }
      ]
    },
    {
      "cell_type": "code",
      "source": [],
      "metadata": {
        "id": "QzWQ2HZV6CAD"
      },
      "execution_count": null,
      "outputs": []
    },
    {
      "cell_type": "code",
      "source": [],
      "metadata": {
        "id": "zg5mx7Wj6B9x"
      },
      "execution_count": null,
      "outputs": []
    },
    {
      "cell_type": "code",
      "source": [],
      "metadata": {
        "id": "5QGYuYMY6B7S"
      },
      "execution_count": null,
      "outputs": []
    },
    {
      "cell_type": "code",
      "source": [],
      "metadata": {
        "id": "4bHSBkww6B4q"
      },
      "execution_count": null,
      "outputs": []
    },
    {
      "cell_type": "code",
      "source": [],
      "metadata": {
        "id": "cBrWgJ-e6B2E"
      },
      "execution_count": null,
      "outputs": []
    },
    {
      "cell_type": "code",
      "source": [],
      "metadata": {
        "id": "QpiqC1Y96Bza"
      },
      "execution_count": null,
      "outputs": []
    },
    {
      "cell_type": "code",
      "source": [],
      "metadata": {
        "id": "DgFqJKGx6Bw6"
      },
      "execution_count": null,
      "outputs": []
    },
    {
      "cell_type": "code",
      "source": [],
      "metadata": {
        "id": "h7rNJESm6Bui"
      },
      "execution_count": null,
      "outputs": []
    },
    {
      "cell_type": "code",
      "source": [],
      "metadata": {
        "id": "vyhabLjJ6Br6"
      },
      "execution_count": null,
      "outputs": []
    }
  ]
}