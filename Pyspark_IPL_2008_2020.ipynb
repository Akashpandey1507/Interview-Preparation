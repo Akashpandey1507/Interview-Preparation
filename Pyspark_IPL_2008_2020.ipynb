{
  "nbformat": 4,
  "nbformat_minor": 0,
  "metadata": {
    "colab": {
      "provenance": [],
      "mount_file_id": "1uxBgCHXOGMfOvvi-TxgCTPl5YV_JT8a1",
      "authorship_tag": "ABX9TyM/XJ2Y24PClJ1GbghpbiXJ",
      "include_colab_link": true
    },
    "kernelspec": {
      "name": "python3",
      "display_name": "Python 3"
    },
    "language_info": {
      "name": "python"
    }
  },
  "cells": [
    {
      "cell_type": "markdown",
      "metadata": {
        "id": "view-in-github",
        "colab_type": "text"
      },
      "source": [
        "<a href=\"https://colab.research.google.com/github/Akashpandey1507/Interview-Preparation/blob/main/Pyspark_IPL_2008_2020.ipynb\" target=\"_parent\"><img src=\"https://colab.research.google.com/assets/colab-badge.svg\" alt=\"Open In Colab\"/></a>"
      ]
    },
    {
      "cell_type": "code",
      "source": [
        "!pip install pyspark"
      ],
      "metadata": {
        "colab": {
          "base_uri": "https://localhost:8080/"
        },
        "id": "wXLHdyLlhzaD",
        "outputId": "33877a3d-ed07-4e0b-fe6c-577fc11b1139"
      },
      "execution_count": null,
      "outputs": [
        {
          "output_type": "stream",
          "name": "stdout",
          "text": [
            "Collecting pyspark\n",
            "  Downloading pyspark-3.5.0.tar.gz (316.9 MB)\n",
            "\u001b[2K     \u001b[90m━━━━━━━━━━━━━━━━━━━━━━━━━━━━━━━━━━━━━━━\u001b[0m \u001b[32m316.9/316.9 MB\u001b[0m \u001b[31m4.5 MB/s\u001b[0m eta \u001b[36m0:00:00\u001b[0m\n",
            "\u001b[?25h  Preparing metadata (setup.py) ... \u001b[?25l\u001b[?25hdone\n",
            "Requirement already satisfied: py4j==0.10.9.7 in /usr/local/lib/python3.10/dist-packages (from pyspark) (0.10.9.7)\n",
            "Building wheels for collected packages: pyspark\n",
            "  Building wheel for pyspark (setup.py) ... \u001b[?25l\u001b[?25hdone\n",
            "  Created wheel for pyspark: filename=pyspark-3.5.0-py2.py3-none-any.whl size=317425344 sha256=71288da3b67f353a64d76b007a28d6f51f1daf167ca3813fdcb83483baed3327\n",
            "  Stored in directory: /root/.cache/pip/wheels/41/4e/10/c2cf2467f71c678cfc8a6b9ac9241e5e44a01940da8fbb17fc\n",
            "Successfully built pyspark\n",
            "Installing collected packages: pyspark\n",
            "Successfully installed pyspark-3.5.0\n"
          ]
        }
      ]
    },
    {
      "cell_type": "code",
      "source": [
        "file = r\"/content/drive/MyDrive/Data Analysis Files/Indian Premier League\""
      ],
      "metadata": {
        "id": "6DO25lAaiNBV"
      },
      "execution_count": null,
      "outputs": []
    },
    {
      "cell_type": "code",
      "source": [
        "from pyspark.sql import SparkSession\n",
        "import pyspark\n",
        "\n",
        "# Create a SparkSession\n",
        "spark = SparkSession.builder \\\n",
        "    .appName(\"MySparkApp\") \\\n",
        "    .config(\"spark.some.config.option\", \"config-value\") \\\n",
        "    .getOrCreate()\n",
        "\n",
        "# Now you can use the 'spark' object to work with Spark APIs.\n"
      ],
      "metadata": {
        "id": "H2L0QWO0iQo0"
      },
      "execution_count": null,
      "outputs": []
    },
    {
      "cell_type": "code",
      "source": [
        "import os\n",
        "\n",
        "files = os.listdir(file)\n",
        "files"
      ],
      "metadata": {
        "colab": {
          "base_uri": "https://localhost:8080/"
        },
        "id": "yP_npKthxvEN",
        "outputId": "97499cc1-4c92-4cef-9eca-c2831a9b728a"
      },
      "execution_count": null,
      "outputs": [
        {
          "output_type": "execute_result",
          "data": {
            "text/plain": [
              "['matches.csv', 'deliveries.csv']"
            ]
          },
          "metadata": {},
          "execution_count": 9
        }
      ]
    },
    {
      "cell_type": "code",
      "source": [
        "match_file = f\"{file}/{files[0]}\"\n",
        "deliveries_file = f\"{file}/{files[1]}\""
      ],
      "metadata": {
        "id": "LjfKbaZwcvG0"
      },
      "execution_count": null,
      "outputs": []
    },
    {
      "cell_type": "code",
      "source": [
        "match_df = spark.read.csv(\n",
        "                                        match_file,\n",
        "                                        header=True,\n",
        "                                        inferSchema=True\n",
        "                                        )\n",
        "\n",
        "\n",
        "\n",
        "deliveries_df = spark.read.csv(\n",
        "                                        deliveries_file,\n",
        "                                        header=True,\n",
        "                                        inferSchema=True\n",
        "                                        )"
      ],
      "metadata": {
        "id": "AXnDa7QOcvAt"
      },
      "execution_count": null,
      "outputs": []
    },
    {
      "cell_type": "code",
      "source": [
        "match_df.columns"
      ],
      "metadata": {
        "colab": {
          "base_uri": "https://localhost:8080/"
        },
        "id": "PKU-cXLjdaYQ",
        "outputId": "275e3076-a7f1-47f0-d966-d5bb88243322"
      },
      "execution_count": null,
      "outputs": [
        {
          "output_type": "execute_result",
          "data": {
            "text/plain": [
              "['id',\n",
              " 'season',\n",
              " 'city',\n",
              " 'date',\n",
              " 'team1',\n",
              " 'team2',\n",
              " 'toss_winner',\n",
              " 'toss_decision',\n",
              " 'result',\n",
              " 'dl_applied',\n",
              " 'winner',\n",
              " 'win_by_runs',\n",
              " 'win_by_wickets',\n",
              " 'player_of_match',\n",
              " 'venue',\n",
              " 'umpire1',\n",
              " 'umpire2',\n",
              " 'umpire3']"
            ]
          },
          "metadata": {},
          "execution_count": 12
        }
      ]
    },
    {
      "cell_type": "code",
      "source": [
        "deliveries_df = deliveries_df.withColumnRenamed(\"match_id\", \"id\")"
      ],
      "metadata": {
        "id": "ztidWo84df-w"
      },
      "execution_count": null,
      "outputs": []
    },
    {
      "cell_type": "code",
      "source": [
        "deliveries_df.columns"
      ],
      "metadata": {
        "colab": {
          "base_uri": "https://localhost:8080/"
        },
        "id": "mgrlmlORdaPg",
        "outputId": "f76e3ec5-6fa6-42c4-d28c-69bdb0aa639c"
      },
      "execution_count": null,
      "outputs": [
        {
          "output_type": "execute_result",
          "data": {
            "text/plain": [
              "['id',\n",
              " 'inning',\n",
              " 'batting_team',\n",
              " 'bowling_team',\n",
              " 'over',\n",
              " 'ball',\n",
              " 'batsman',\n",
              " 'non_striker',\n",
              " 'bowler',\n",
              " 'is_super_over',\n",
              " 'wide_runs',\n",
              " 'bye_runs',\n",
              " 'legbye_runs',\n",
              " 'noball_runs',\n",
              " 'penalty_runs',\n",
              " 'batsman_runs',\n",
              " 'extra_runs',\n",
              " 'total_runs',\n",
              " 'player_dismissed',\n",
              " 'dismissal_kind',\n",
              " 'fielder']"
            ]
          },
          "metadata": {},
          "execution_count": 15
        }
      ]
    },
    {
      "cell_type": "code",
      "source": [
        "merge_ipl_datasets = match_df.join(deliveries_df, on=\"id\")"
      ],
      "metadata": {
        "id": "WdGau6Necu98"
      },
      "execution_count": null,
      "outputs": []
    },
    {
      "cell_type": "code",
      "source": [
        "df = merge_ipl_datasets.alias('copy')\n",
        "df.show()"
      ],
      "metadata": {
        "colab": {
          "base_uri": "https://localhost:8080/"
        },
        "id": "gaAaa_0Zcu7M",
        "outputId": "d3116ac3-bf43-4509-ad9f-b804570c87b5"
      },
      "execution_count": null,
      "outputs": [
        {
          "output_type": "stream",
          "name": "stdout",
          "text": [
            "+---+------+---------+----------+-------------------+--------------------+--------------------+-------------+------+----------+-------------------+-----------+--------------+---------------+--------------------+-----------+--------+-------+------+-------------------+--------------------+----+----+------------+------------+-----------+-------------+---------+--------+-----------+-----------+------------+------------+----------+----------+----------------+--------------+-------------+\n",
            "| id|season|     city|      date|              team1|               team2|         toss_winner|toss_decision|result|dl_applied|             winner|win_by_runs|win_by_wickets|player_of_match|               venue|    umpire1| umpire2|umpire3|inning|       batting_team|        bowling_team|over|ball|     batsman| non_striker|     bowler|is_super_over|wide_runs|bye_runs|legbye_runs|noball_runs|penalty_runs|batsman_runs|extra_runs|total_runs|player_dismissed|dismissal_kind|      fielder|\n",
            "+---+------+---------+----------+-------------------+--------------------+--------------------+-------------+------+----------+-------------------+-----------+--------------+---------------+--------------------+-----------+--------+-------+------+-------------------+--------------------+----+----+------------+------------+-----------+-------------+---------+--------+-----------+-----------+------------+------------+----------+----------+----------------+--------------+-------------+\n",
            "|  1|  2017|Hyderabad|2017-04-05|Sunrisers Hyderabad|Royal Challengers...|Royal Challengers...|        field|normal|         0|Sunrisers Hyderabad|         35|             0|   Yuvraj Singh|Rajiv Gandhi Inte...|AY Dandekar|NJ Llong|   NULL|     1|Sunrisers Hyderabad|Royal Challengers...|   1|   1|   DA Warner|    S Dhawan|   TS Mills|            0|        0|       0|          0|          0|           0|           0|         0|         0|            NULL|          NULL|         NULL|\n",
            "|  1|  2017|Hyderabad|2017-04-05|Sunrisers Hyderabad|Royal Challengers...|Royal Challengers...|        field|normal|         0|Sunrisers Hyderabad|         35|             0|   Yuvraj Singh|Rajiv Gandhi Inte...|AY Dandekar|NJ Llong|   NULL|     1|Sunrisers Hyderabad|Royal Challengers...|   1|   2|   DA Warner|    S Dhawan|   TS Mills|            0|        0|       0|          0|          0|           0|           0|         0|         0|            NULL|          NULL|         NULL|\n",
            "|  1|  2017|Hyderabad|2017-04-05|Sunrisers Hyderabad|Royal Challengers...|Royal Challengers...|        field|normal|         0|Sunrisers Hyderabad|         35|             0|   Yuvraj Singh|Rajiv Gandhi Inte...|AY Dandekar|NJ Llong|   NULL|     1|Sunrisers Hyderabad|Royal Challengers...|   1|   3|   DA Warner|    S Dhawan|   TS Mills|            0|        0|       0|          0|          0|           0|           4|         0|         4|            NULL|          NULL|         NULL|\n",
            "|  1|  2017|Hyderabad|2017-04-05|Sunrisers Hyderabad|Royal Challengers...|Royal Challengers...|        field|normal|         0|Sunrisers Hyderabad|         35|             0|   Yuvraj Singh|Rajiv Gandhi Inte...|AY Dandekar|NJ Llong|   NULL|     1|Sunrisers Hyderabad|Royal Challengers...|   1|   4|   DA Warner|    S Dhawan|   TS Mills|            0|        0|       0|          0|          0|           0|           0|         0|         0|            NULL|          NULL|         NULL|\n",
            "|  1|  2017|Hyderabad|2017-04-05|Sunrisers Hyderabad|Royal Challengers...|Royal Challengers...|        field|normal|         0|Sunrisers Hyderabad|         35|             0|   Yuvraj Singh|Rajiv Gandhi Inte...|AY Dandekar|NJ Llong|   NULL|     1|Sunrisers Hyderabad|Royal Challengers...|   1|   5|   DA Warner|    S Dhawan|   TS Mills|            0|        2|       0|          0|          0|           0|           0|         2|         2|            NULL|          NULL|         NULL|\n",
            "|  1|  2017|Hyderabad|2017-04-05|Sunrisers Hyderabad|Royal Challengers...|Royal Challengers...|        field|normal|         0|Sunrisers Hyderabad|         35|             0|   Yuvraj Singh|Rajiv Gandhi Inte...|AY Dandekar|NJ Llong|   NULL|     1|Sunrisers Hyderabad|Royal Challengers...|   1|   6|    S Dhawan|   DA Warner|   TS Mills|            0|        0|       0|          0|          0|           0|           0|         0|         0|            NULL|          NULL|         NULL|\n",
            "|  1|  2017|Hyderabad|2017-04-05|Sunrisers Hyderabad|Royal Challengers...|Royal Challengers...|        field|normal|         0|Sunrisers Hyderabad|         35|             0|   Yuvraj Singh|Rajiv Gandhi Inte...|AY Dandekar|NJ Llong|   NULL|     1|Sunrisers Hyderabad|Royal Challengers...|   1|   7|    S Dhawan|   DA Warner|   TS Mills|            0|        0|       0|          1|          0|           0|           0|         1|         1|            NULL|          NULL|         NULL|\n",
            "|  1|  2017|Hyderabad|2017-04-05|Sunrisers Hyderabad|Royal Challengers...|Royal Challengers...|        field|normal|         0|Sunrisers Hyderabad|         35|             0|   Yuvraj Singh|Rajiv Gandhi Inte...|AY Dandekar|NJ Llong|   NULL|     1|Sunrisers Hyderabad|Royal Challengers...|   2|   1|    S Dhawan|   DA Warner|A Choudhary|            0|        0|       0|          0|          0|           0|           1|         0|         1|            NULL|          NULL|         NULL|\n",
            "|  1|  2017|Hyderabad|2017-04-05|Sunrisers Hyderabad|Royal Challengers...|Royal Challengers...|        field|normal|         0|Sunrisers Hyderabad|         35|             0|   Yuvraj Singh|Rajiv Gandhi Inte...|AY Dandekar|NJ Llong|   NULL|     1|Sunrisers Hyderabad|Royal Challengers...|   2|   2|   DA Warner|    S Dhawan|A Choudhary|            0|        0|       0|          0|          0|           0|           4|         0|         4|            NULL|          NULL|         NULL|\n",
            "|  1|  2017|Hyderabad|2017-04-05|Sunrisers Hyderabad|Royal Challengers...|Royal Challengers...|        field|normal|         0|Sunrisers Hyderabad|         35|             0|   Yuvraj Singh|Rajiv Gandhi Inte...|AY Dandekar|NJ Llong|   NULL|     1|Sunrisers Hyderabad|Royal Challengers...|   2|   3|   DA Warner|    S Dhawan|A Choudhary|            0|        0|       0|          0|          1|           0|           0|         1|         1|            NULL|          NULL|         NULL|\n",
            "|  1|  2017|Hyderabad|2017-04-05|Sunrisers Hyderabad|Royal Challengers...|Royal Challengers...|        field|normal|         0|Sunrisers Hyderabad|         35|             0|   Yuvraj Singh|Rajiv Gandhi Inte...|AY Dandekar|NJ Llong|   NULL|     1|Sunrisers Hyderabad|Royal Challengers...|   2|   4|   DA Warner|    S Dhawan|A Choudhary|            0|        0|       0|          0|          0|           0|           6|         0|         6|            NULL|          NULL|         NULL|\n",
            "|  1|  2017|Hyderabad|2017-04-05|Sunrisers Hyderabad|Royal Challengers...|Royal Challengers...|        field|normal|         0|Sunrisers Hyderabad|         35|             0|   Yuvraj Singh|Rajiv Gandhi Inte...|AY Dandekar|NJ Llong|   NULL|     1|Sunrisers Hyderabad|Royal Challengers...|   2|   5|   DA Warner|    S Dhawan|A Choudhary|            0|        0|       0|          0|          0|           0|           0|         0|         0|       DA Warner|        caught|Mandeep Singh|\n",
            "|  1|  2017|Hyderabad|2017-04-05|Sunrisers Hyderabad|Royal Challengers...|Royal Challengers...|        field|normal|         0|Sunrisers Hyderabad|         35|             0|   Yuvraj Singh|Rajiv Gandhi Inte...|AY Dandekar|NJ Llong|   NULL|     1|Sunrisers Hyderabad|Royal Challengers...|   2|   6|MC Henriques|    S Dhawan|A Choudhary|            0|        0|       0|          0|          0|           0|           0|         0|         0|            NULL|          NULL|         NULL|\n",
            "|  1|  2017|Hyderabad|2017-04-05|Sunrisers Hyderabad|Royal Challengers...|Royal Challengers...|        field|normal|         0|Sunrisers Hyderabad|         35|             0|   Yuvraj Singh|Rajiv Gandhi Inte...|AY Dandekar|NJ Llong|   NULL|     1|Sunrisers Hyderabad|Royal Challengers...|   2|   7|MC Henriques|    S Dhawan|A Choudhary|            0|        0|       0|          0|          0|           0|           4|         0|         4|            NULL|          NULL|         NULL|\n",
            "|  1|  2017|Hyderabad|2017-04-05|Sunrisers Hyderabad|Royal Challengers...|Royal Challengers...|        field|normal|         0|Sunrisers Hyderabad|         35|             0|   Yuvraj Singh|Rajiv Gandhi Inte...|AY Dandekar|NJ Llong|   NULL|     1|Sunrisers Hyderabad|Royal Challengers...|   3|   1|    S Dhawan|MC Henriques|   TS Mills|            0|        0|       0|          0|          0|           0|           1|         0|         1|            NULL|          NULL|         NULL|\n",
            "|  1|  2017|Hyderabad|2017-04-05|Sunrisers Hyderabad|Royal Challengers...|Royal Challengers...|        field|normal|         0|Sunrisers Hyderabad|         35|             0|   Yuvraj Singh|Rajiv Gandhi Inte...|AY Dandekar|NJ Llong|   NULL|     1|Sunrisers Hyderabad|Royal Challengers...|   3|   2|MC Henriques|    S Dhawan|   TS Mills|            0|        0|       0|          0|          0|           0|           0|         0|         0|            NULL|          NULL|         NULL|\n",
            "|  1|  2017|Hyderabad|2017-04-05|Sunrisers Hyderabad|Royal Challengers...|Royal Challengers...|        field|normal|         0|Sunrisers Hyderabad|         35|             0|   Yuvraj Singh|Rajiv Gandhi Inte...|AY Dandekar|NJ Llong|   NULL|     1|Sunrisers Hyderabad|Royal Challengers...|   3|   3|MC Henriques|    S Dhawan|   TS Mills|            0|        0|       0|          0|          0|           0|           0|         0|         0|            NULL|          NULL|         NULL|\n",
            "|  1|  2017|Hyderabad|2017-04-05|Sunrisers Hyderabad|Royal Challengers...|Royal Challengers...|        field|normal|         0|Sunrisers Hyderabad|         35|             0|   Yuvraj Singh|Rajiv Gandhi Inte...|AY Dandekar|NJ Llong|   NULL|     1|Sunrisers Hyderabad|Royal Challengers...|   3|   4|MC Henriques|    S Dhawan|   TS Mills|            0|        0|       0|          0|          0|           0|           3|         0|         3|            NULL|          NULL|         NULL|\n",
            "|  1|  2017|Hyderabad|2017-04-05|Sunrisers Hyderabad|Royal Challengers...|Royal Challengers...|        field|normal|         0|Sunrisers Hyderabad|         35|             0|   Yuvraj Singh|Rajiv Gandhi Inte...|AY Dandekar|NJ Llong|   NULL|     1|Sunrisers Hyderabad|Royal Challengers...|   3|   5|    S Dhawan|MC Henriques|   TS Mills|            0|        0|       0|          0|          0|           0|           1|         0|         1|            NULL|          NULL|         NULL|\n",
            "|  1|  2017|Hyderabad|2017-04-05|Sunrisers Hyderabad|Royal Challengers...|Royal Challengers...|        field|normal|         0|Sunrisers Hyderabad|         35|             0|   Yuvraj Singh|Rajiv Gandhi Inte...|AY Dandekar|NJ Llong|   NULL|     1|Sunrisers Hyderabad|Royal Challengers...|   3|   6|MC Henriques|    S Dhawan|   TS Mills|            0|        0|       0|          0|          0|           0|           1|         0|         1|            NULL|          NULL|         NULL|\n",
            "+---+------+---------+----------+-------------------+--------------------+--------------------+-------------+------+----------+-------------------+-----------+--------------+---------------+--------------------+-----------+--------+-------+------+-------------------+--------------------+----+----+------------+------------+-----------+-------------+---------+--------+-----------+-----------+------------+------------+----------+----------+----------------+--------------+-------------+\n",
            "only showing top 20 rows\n",
            "\n"
          ]
        }
      ]
    },
    {
      "cell_type": "code",
      "source": [
        "df.count()"
      ],
      "metadata": {
        "colab": {
          "base_uri": "https://localhost:8080/"
        },
        "id": "qqgHJbQndzo3",
        "outputId": "ac4d3813-0e40-44ac-f9a9-4cf1e2d1931d"
      },
      "execution_count": null,
      "outputs": [
        {
          "output_type": "execute_result",
          "data": {
            "text/plain": [
              "179078"
            ]
          },
          "metadata": {},
          "execution_count": 18
        }
      ]
    },
    {
      "cell_type": "code",
      "source": [
        "df.columns"
      ],
      "metadata": {
        "colab": {
          "base_uri": "https://localhost:8080/"
        },
        "id": "4b9_O_Djd0i3",
        "outputId": "1156537f-37e0-4583-896f-7513eb6b8a55"
      },
      "execution_count": null,
      "outputs": [
        {
          "output_type": "execute_result",
          "data": {
            "text/plain": [
              "['id',\n",
              " 'season',\n",
              " 'city',\n",
              " 'date',\n",
              " 'team1',\n",
              " 'team2',\n",
              " 'toss_winner',\n",
              " 'toss_decision',\n",
              " 'result',\n",
              " 'dl_applied',\n",
              " 'winner',\n",
              " 'win_by_runs',\n",
              " 'win_by_wickets',\n",
              " 'player_of_match',\n",
              " 'venue',\n",
              " 'umpire1',\n",
              " 'umpire2',\n",
              " 'umpire3',\n",
              " 'inning',\n",
              " 'batting_team',\n",
              " 'bowling_team',\n",
              " 'over',\n",
              " 'ball',\n",
              " 'batsman',\n",
              " 'non_striker',\n",
              " 'bowler',\n",
              " 'is_super_over',\n",
              " 'wide_runs',\n",
              " 'bye_runs',\n",
              " 'legbye_runs',\n",
              " 'noball_runs',\n",
              " 'penalty_runs',\n",
              " 'batsman_runs',\n",
              " 'extra_runs',\n",
              " 'total_runs',\n",
              " 'player_dismissed',\n",
              " 'dismissal_kind',\n",
              " 'fielder']"
            ]
          },
          "metadata": {},
          "execution_count": 19
        }
      ]
    },
    {
      "cell_type": "code",
      "source": [
        "len(df.columns)"
      ],
      "metadata": {
        "colab": {
          "base_uri": "https://localhost:8080/"
        },
        "id": "GM1YrBGGd3Xf",
        "outputId": "4ddb6ccb-7661-487a-b215-021d6ce54c28"
      },
      "execution_count": null,
      "outputs": [
        {
          "output_type": "execute_result",
          "data": {
            "text/plain": [
              "38"
            ]
          },
          "metadata": {},
          "execution_count": 20
        }
      ]
    },
    {
      "cell_type": "code",
      "source": [
        "from pyspark.sql.functions import *"
      ],
      "metadata": {
        "id": "sM1hhKU_d4zH"
      },
      "execution_count": null,
      "outputs": []
    },
    {
      "cell_type": "code",
      "source": [
        "df.select([sum(col(i).isNull().cast('int')).alias(i) for i in df.columns]).show()"
      ],
      "metadata": {
        "colab": {
          "base_uri": "https://localhost:8080/"
        },
        "id": "M7Yb8UCweGeS",
        "outputId": "5f034813-041b-490c-e54e-7e2eeed4e06c"
      },
      "execution_count": null,
      "outputs": [
        {
          "output_type": "stream",
          "name": "stdout",
          "text": [
            "+---+------+----+----+-----+-----+-----------+-------------+------+----------+------+-----------+--------------+---------------+-----+-------+-------+-------+------+------------+------------+----+----+-------+-----------+------+-------------+---------+--------+-----------+-----------+------------+------------+----------+----------+----------------+--------------+-------+\n",
            "| id|season|city|date|team1|team2|toss_winner|toss_decision|result|dl_applied|winner|win_by_runs|win_by_wickets|player_of_match|venue|umpire1|umpire2|umpire3|inning|batting_team|bowling_team|over|ball|batsman|non_striker|bowler|is_super_over|wide_runs|bye_runs|legbye_runs|noball_runs|penalty_runs|batsman_runs|extra_runs|total_runs|player_dismissed|dismissal_kind|fielder|\n",
            "+---+------+----+----+-----+-----+-----------+-------------+------+----------+------+-----------+--------------+---------------+-----+-------+-------+-------+------+------------+------------+----+----+-------+-----------+------+-------------+---------+--------+-----------+-----------+------------+------------+----------+----------+----------------+--------------+-------+\n",
            "|  0|     0|1700|   0|    0|    0|          0|            0|     0|         0|   372|          0|             0|            372|    0|    500|    500| 150712|     0|           0|           0|   0|   0|      0|          0|     0|            0|        0|       0|          0|          0|           0|           0|         0|         0|          170244|        170244| 172630|\n",
            "+---+------+----+----+-----+-----+-----------+-------------+------+----------+------+-----------+--------------+---------------+-----+-------+-------+-------+------+------------+------------+----+----+-------+-----------+------+-------------+---------+--------+-----------+-----------+------------+------------+----------+----------+----------------+--------------+-------+\n",
            "\n"
          ]
        }
      ]
    },
    {
      "cell_type": "code",
      "source": [
        "[column for column, datatypes in df.dtypes if datatypes in ['string']]"
      ],
      "metadata": {
        "colab": {
          "base_uri": "https://localhost:8080/"
        },
        "id": "2uWp11ImeNni",
        "outputId": "8dd2eb0e-c68e-462a-d7f6-a3920a0f9f2b"
      },
      "execution_count": null,
      "outputs": [
        {
          "output_type": "execute_result",
          "data": {
            "text/plain": [
              "['city',\n",
              " 'date',\n",
              " 'team1',\n",
              " 'team2',\n",
              " 'toss_winner',\n",
              " 'toss_decision',\n",
              " 'result',\n",
              " 'winner',\n",
              " 'player_of_match',\n",
              " 'venue',\n",
              " 'umpire1',\n",
              " 'umpire2',\n",
              " 'umpire3',\n",
              " 'batting_team',\n",
              " 'bowling_team',\n",
              " 'batsman',\n",
              " 'non_striker',\n",
              " 'bowler',\n",
              " 'player_dismissed',\n",
              " 'dismissal_kind',\n",
              " 'fielder']"
            ]
          },
          "metadata": {},
          "execution_count": 24
        }
      ]
    },
    {
      "cell_type": "code",
      "source": [
        "df.select([column for column, datatypes in df.dtypes if datatypes in ['string']]).show()"
      ],
      "metadata": {
        "colab": {
          "base_uri": "https://localhost:8080/"
        },
        "id": "KguvLVcjepPW",
        "outputId": "86a4a31c-2f4e-468d-eb66-0791b23f70f2"
      },
      "execution_count": null,
      "outputs": [
        {
          "output_type": "stream",
          "name": "stdout",
          "text": [
            "+---------+----------+-------------------+--------------------+--------------------+-------------+------+-------------------+---------------+--------------------+-----------+--------+-------+-------------------+--------------------+------------+------------+-----------+----------------+--------------+-------------+\n",
            "|     city|      date|              team1|               team2|         toss_winner|toss_decision|result|             winner|player_of_match|               venue|    umpire1| umpire2|umpire3|       batting_team|        bowling_team|     batsman| non_striker|     bowler|player_dismissed|dismissal_kind|      fielder|\n",
            "+---------+----------+-------------------+--------------------+--------------------+-------------+------+-------------------+---------------+--------------------+-----------+--------+-------+-------------------+--------------------+------------+------------+-----------+----------------+--------------+-------------+\n",
            "|Hyderabad|2017-04-05|Sunrisers Hyderabad|Royal Challengers...|Royal Challengers...|        field|normal|Sunrisers Hyderabad|   Yuvraj Singh|Rajiv Gandhi Inte...|AY Dandekar|NJ Llong|   NULL|Sunrisers Hyderabad|Royal Challengers...|   DA Warner|    S Dhawan|   TS Mills|            NULL|          NULL|         NULL|\n",
            "|Hyderabad|2017-04-05|Sunrisers Hyderabad|Royal Challengers...|Royal Challengers...|        field|normal|Sunrisers Hyderabad|   Yuvraj Singh|Rajiv Gandhi Inte...|AY Dandekar|NJ Llong|   NULL|Sunrisers Hyderabad|Royal Challengers...|   DA Warner|    S Dhawan|   TS Mills|            NULL|          NULL|         NULL|\n",
            "|Hyderabad|2017-04-05|Sunrisers Hyderabad|Royal Challengers...|Royal Challengers...|        field|normal|Sunrisers Hyderabad|   Yuvraj Singh|Rajiv Gandhi Inte...|AY Dandekar|NJ Llong|   NULL|Sunrisers Hyderabad|Royal Challengers...|   DA Warner|    S Dhawan|   TS Mills|            NULL|          NULL|         NULL|\n",
            "|Hyderabad|2017-04-05|Sunrisers Hyderabad|Royal Challengers...|Royal Challengers...|        field|normal|Sunrisers Hyderabad|   Yuvraj Singh|Rajiv Gandhi Inte...|AY Dandekar|NJ Llong|   NULL|Sunrisers Hyderabad|Royal Challengers...|   DA Warner|    S Dhawan|   TS Mills|            NULL|          NULL|         NULL|\n",
            "|Hyderabad|2017-04-05|Sunrisers Hyderabad|Royal Challengers...|Royal Challengers...|        field|normal|Sunrisers Hyderabad|   Yuvraj Singh|Rajiv Gandhi Inte...|AY Dandekar|NJ Llong|   NULL|Sunrisers Hyderabad|Royal Challengers...|   DA Warner|    S Dhawan|   TS Mills|            NULL|          NULL|         NULL|\n",
            "|Hyderabad|2017-04-05|Sunrisers Hyderabad|Royal Challengers...|Royal Challengers...|        field|normal|Sunrisers Hyderabad|   Yuvraj Singh|Rajiv Gandhi Inte...|AY Dandekar|NJ Llong|   NULL|Sunrisers Hyderabad|Royal Challengers...|    S Dhawan|   DA Warner|   TS Mills|            NULL|          NULL|         NULL|\n",
            "|Hyderabad|2017-04-05|Sunrisers Hyderabad|Royal Challengers...|Royal Challengers...|        field|normal|Sunrisers Hyderabad|   Yuvraj Singh|Rajiv Gandhi Inte...|AY Dandekar|NJ Llong|   NULL|Sunrisers Hyderabad|Royal Challengers...|    S Dhawan|   DA Warner|   TS Mills|            NULL|          NULL|         NULL|\n",
            "|Hyderabad|2017-04-05|Sunrisers Hyderabad|Royal Challengers...|Royal Challengers...|        field|normal|Sunrisers Hyderabad|   Yuvraj Singh|Rajiv Gandhi Inte...|AY Dandekar|NJ Llong|   NULL|Sunrisers Hyderabad|Royal Challengers...|    S Dhawan|   DA Warner|A Choudhary|            NULL|          NULL|         NULL|\n",
            "|Hyderabad|2017-04-05|Sunrisers Hyderabad|Royal Challengers...|Royal Challengers...|        field|normal|Sunrisers Hyderabad|   Yuvraj Singh|Rajiv Gandhi Inte...|AY Dandekar|NJ Llong|   NULL|Sunrisers Hyderabad|Royal Challengers...|   DA Warner|    S Dhawan|A Choudhary|            NULL|          NULL|         NULL|\n",
            "|Hyderabad|2017-04-05|Sunrisers Hyderabad|Royal Challengers...|Royal Challengers...|        field|normal|Sunrisers Hyderabad|   Yuvraj Singh|Rajiv Gandhi Inte...|AY Dandekar|NJ Llong|   NULL|Sunrisers Hyderabad|Royal Challengers...|   DA Warner|    S Dhawan|A Choudhary|            NULL|          NULL|         NULL|\n",
            "|Hyderabad|2017-04-05|Sunrisers Hyderabad|Royal Challengers...|Royal Challengers...|        field|normal|Sunrisers Hyderabad|   Yuvraj Singh|Rajiv Gandhi Inte...|AY Dandekar|NJ Llong|   NULL|Sunrisers Hyderabad|Royal Challengers...|   DA Warner|    S Dhawan|A Choudhary|            NULL|          NULL|         NULL|\n",
            "|Hyderabad|2017-04-05|Sunrisers Hyderabad|Royal Challengers...|Royal Challengers...|        field|normal|Sunrisers Hyderabad|   Yuvraj Singh|Rajiv Gandhi Inte...|AY Dandekar|NJ Llong|   NULL|Sunrisers Hyderabad|Royal Challengers...|   DA Warner|    S Dhawan|A Choudhary|       DA Warner|        caught|Mandeep Singh|\n",
            "|Hyderabad|2017-04-05|Sunrisers Hyderabad|Royal Challengers...|Royal Challengers...|        field|normal|Sunrisers Hyderabad|   Yuvraj Singh|Rajiv Gandhi Inte...|AY Dandekar|NJ Llong|   NULL|Sunrisers Hyderabad|Royal Challengers...|MC Henriques|    S Dhawan|A Choudhary|            NULL|          NULL|         NULL|\n",
            "|Hyderabad|2017-04-05|Sunrisers Hyderabad|Royal Challengers...|Royal Challengers...|        field|normal|Sunrisers Hyderabad|   Yuvraj Singh|Rajiv Gandhi Inte...|AY Dandekar|NJ Llong|   NULL|Sunrisers Hyderabad|Royal Challengers...|MC Henriques|    S Dhawan|A Choudhary|            NULL|          NULL|         NULL|\n",
            "|Hyderabad|2017-04-05|Sunrisers Hyderabad|Royal Challengers...|Royal Challengers...|        field|normal|Sunrisers Hyderabad|   Yuvraj Singh|Rajiv Gandhi Inte...|AY Dandekar|NJ Llong|   NULL|Sunrisers Hyderabad|Royal Challengers...|    S Dhawan|MC Henriques|   TS Mills|            NULL|          NULL|         NULL|\n",
            "|Hyderabad|2017-04-05|Sunrisers Hyderabad|Royal Challengers...|Royal Challengers...|        field|normal|Sunrisers Hyderabad|   Yuvraj Singh|Rajiv Gandhi Inte...|AY Dandekar|NJ Llong|   NULL|Sunrisers Hyderabad|Royal Challengers...|MC Henriques|    S Dhawan|   TS Mills|            NULL|          NULL|         NULL|\n",
            "|Hyderabad|2017-04-05|Sunrisers Hyderabad|Royal Challengers...|Royal Challengers...|        field|normal|Sunrisers Hyderabad|   Yuvraj Singh|Rajiv Gandhi Inte...|AY Dandekar|NJ Llong|   NULL|Sunrisers Hyderabad|Royal Challengers...|MC Henriques|    S Dhawan|   TS Mills|            NULL|          NULL|         NULL|\n",
            "|Hyderabad|2017-04-05|Sunrisers Hyderabad|Royal Challengers...|Royal Challengers...|        field|normal|Sunrisers Hyderabad|   Yuvraj Singh|Rajiv Gandhi Inte...|AY Dandekar|NJ Llong|   NULL|Sunrisers Hyderabad|Royal Challengers...|MC Henriques|    S Dhawan|   TS Mills|            NULL|          NULL|         NULL|\n",
            "|Hyderabad|2017-04-05|Sunrisers Hyderabad|Royal Challengers...|Royal Challengers...|        field|normal|Sunrisers Hyderabad|   Yuvraj Singh|Rajiv Gandhi Inte...|AY Dandekar|NJ Llong|   NULL|Sunrisers Hyderabad|Royal Challengers...|    S Dhawan|MC Henriques|   TS Mills|            NULL|          NULL|         NULL|\n",
            "|Hyderabad|2017-04-05|Sunrisers Hyderabad|Royal Challengers...|Royal Challengers...|        field|normal|Sunrisers Hyderabad|   Yuvraj Singh|Rajiv Gandhi Inte...|AY Dandekar|NJ Llong|   NULL|Sunrisers Hyderabad|Royal Challengers...|MC Henriques|    S Dhawan|   TS Mills|            NULL|          NULL|         NULL|\n",
            "+---------+----------+-------------------+--------------------+--------------------+-------------+------+-------------------+---------------+--------------------+-----------+--------+-------+-------------------+--------------------+------------+------------+-----------+----------------+--------------+-------------+\n",
            "only showing top 20 rows\n",
            "\n"
          ]
        }
      ]
    },
    {
      "cell_type": "code",
      "source": [
        "df.select([column for column, datatypes in df.dtypes if datatypes in ['string']]).columns"
      ],
      "metadata": {
        "colab": {
          "base_uri": "https://localhost:8080/"
        },
        "id": "tTTmI3M7eyR2",
        "outputId": "5f67da45-39b8-4130-e348-5d7e0ebe1302"
      },
      "execution_count": null,
      "outputs": [
        {
          "output_type": "execute_result",
          "data": {
            "text/plain": [
              "['city',\n",
              " 'date',\n",
              " 'team1',\n",
              " 'team2',\n",
              " 'toss_winner',\n",
              " 'toss_decision',\n",
              " 'result',\n",
              " 'winner',\n",
              " 'player_of_match',\n",
              " 'venue',\n",
              " 'umpire1',\n",
              " 'umpire2',\n",
              " 'umpire3',\n",
              " 'batting_team',\n",
              " 'bowling_team',\n",
              " 'batsman',\n",
              " 'non_striker',\n",
              " 'bowler',\n",
              " 'player_dismissed',\n",
              " 'dismissal_kind',\n",
              " 'fielder']"
            ]
          },
          "metadata": {},
          "execution_count": 26
        }
      ]
    },
    {
      "cell_type": "code",
      "source": [
        "for i in df.select([column for column, datatypes in df.dtypes if datatypes in ['string']]).columns:\n",
        "    df = df.withColumn(\n",
        "                                i, when(df[i].isNull(), \"NA\").\n",
        "                                otherwise(df[i])\n",
        "    )"
      ],
      "metadata": {
        "id": "N0f4Eazpe1tW"
      },
      "execution_count": null,
      "outputs": []
    },
    {
      "cell_type": "code",
      "source": [
        "df.select([column for column, datatypes in df.dtypes if datatypes in ['string']]).show()"
      ],
      "metadata": {
        "colab": {
          "base_uri": "https://localhost:8080/"
        },
        "id": "-0ssBNVdfL-2",
        "outputId": "790b87a4-7815-492c-f9e7-c70b7dc19b51"
      },
      "execution_count": null,
      "outputs": [
        {
          "output_type": "stream",
          "name": "stdout",
          "text": [
            "+---------+----------+-------------------+--------------------+--------------------+-------------+------+-------------------+---------------+--------------------+-----------+--------+-------+-------------------+--------------------+------------+------------+-----------+----------------+--------------+-------------+\n",
            "|     city|      date|              team1|               team2|         toss_winner|toss_decision|result|             winner|player_of_match|               venue|    umpire1| umpire2|umpire3|       batting_team|        bowling_team|     batsman| non_striker|     bowler|player_dismissed|dismissal_kind|      fielder|\n",
            "+---------+----------+-------------------+--------------------+--------------------+-------------+------+-------------------+---------------+--------------------+-----------+--------+-------+-------------------+--------------------+------------+------------+-----------+----------------+--------------+-------------+\n",
            "|Hyderabad|2017-04-05|Sunrisers Hyderabad|Royal Challengers...|Royal Challengers...|        field|normal|Sunrisers Hyderabad|   Yuvraj Singh|Rajiv Gandhi Inte...|AY Dandekar|NJ Llong|     NA|Sunrisers Hyderabad|Royal Challengers...|   DA Warner|    S Dhawan|   TS Mills|              NA|            NA|           NA|\n",
            "|Hyderabad|2017-04-05|Sunrisers Hyderabad|Royal Challengers...|Royal Challengers...|        field|normal|Sunrisers Hyderabad|   Yuvraj Singh|Rajiv Gandhi Inte...|AY Dandekar|NJ Llong|     NA|Sunrisers Hyderabad|Royal Challengers...|   DA Warner|    S Dhawan|   TS Mills|              NA|            NA|           NA|\n",
            "|Hyderabad|2017-04-05|Sunrisers Hyderabad|Royal Challengers...|Royal Challengers...|        field|normal|Sunrisers Hyderabad|   Yuvraj Singh|Rajiv Gandhi Inte...|AY Dandekar|NJ Llong|     NA|Sunrisers Hyderabad|Royal Challengers...|   DA Warner|    S Dhawan|   TS Mills|              NA|            NA|           NA|\n",
            "|Hyderabad|2017-04-05|Sunrisers Hyderabad|Royal Challengers...|Royal Challengers...|        field|normal|Sunrisers Hyderabad|   Yuvraj Singh|Rajiv Gandhi Inte...|AY Dandekar|NJ Llong|     NA|Sunrisers Hyderabad|Royal Challengers...|   DA Warner|    S Dhawan|   TS Mills|              NA|            NA|           NA|\n",
            "|Hyderabad|2017-04-05|Sunrisers Hyderabad|Royal Challengers...|Royal Challengers...|        field|normal|Sunrisers Hyderabad|   Yuvraj Singh|Rajiv Gandhi Inte...|AY Dandekar|NJ Llong|     NA|Sunrisers Hyderabad|Royal Challengers...|   DA Warner|    S Dhawan|   TS Mills|              NA|            NA|           NA|\n",
            "|Hyderabad|2017-04-05|Sunrisers Hyderabad|Royal Challengers...|Royal Challengers...|        field|normal|Sunrisers Hyderabad|   Yuvraj Singh|Rajiv Gandhi Inte...|AY Dandekar|NJ Llong|     NA|Sunrisers Hyderabad|Royal Challengers...|    S Dhawan|   DA Warner|   TS Mills|              NA|            NA|           NA|\n",
            "|Hyderabad|2017-04-05|Sunrisers Hyderabad|Royal Challengers...|Royal Challengers...|        field|normal|Sunrisers Hyderabad|   Yuvraj Singh|Rajiv Gandhi Inte...|AY Dandekar|NJ Llong|     NA|Sunrisers Hyderabad|Royal Challengers...|    S Dhawan|   DA Warner|   TS Mills|              NA|            NA|           NA|\n",
            "|Hyderabad|2017-04-05|Sunrisers Hyderabad|Royal Challengers...|Royal Challengers...|        field|normal|Sunrisers Hyderabad|   Yuvraj Singh|Rajiv Gandhi Inte...|AY Dandekar|NJ Llong|     NA|Sunrisers Hyderabad|Royal Challengers...|    S Dhawan|   DA Warner|A Choudhary|              NA|            NA|           NA|\n",
            "|Hyderabad|2017-04-05|Sunrisers Hyderabad|Royal Challengers...|Royal Challengers...|        field|normal|Sunrisers Hyderabad|   Yuvraj Singh|Rajiv Gandhi Inte...|AY Dandekar|NJ Llong|     NA|Sunrisers Hyderabad|Royal Challengers...|   DA Warner|    S Dhawan|A Choudhary|              NA|            NA|           NA|\n",
            "|Hyderabad|2017-04-05|Sunrisers Hyderabad|Royal Challengers...|Royal Challengers...|        field|normal|Sunrisers Hyderabad|   Yuvraj Singh|Rajiv Gandhi Inte...|AY Dandekar|NJ Llong|     NA|Sunrisers Hyderabad|Royal Challengers...|   DA Warner|    S Dhawan|A Choudhary|              NA|            NA|           NA|\n",
            "|Hyderabad|2017-04-05|Sunrisers Hyderabad|Royal Challengers...|Royal Challengers...|        field|normal|Sunrisers Hyderabad|   Yuvraj Singh|Rajiv Gandhi Inte...|AY Dandekar|NJ Llong|     NA|Sunrisers Hyderabad|Royal Challengers...|   DA Warner|    S Dhawan|A Choudhary|              NA|            NA|           NA|\n",
            "|Hyderabad|2017-04-05|Sunrisers Hyderabad|Royal Challengers...|Royal Challengers...|        field|normal|Sunrisers Hyderabad|   Yuvraj Singh|Rajiv Gandhi Inte...|AY Dandekar|NJ Llong|     NA|Sunrisers Hyderabad|Royal Challengers...|   DA Warner|    S Dhawan|A Choudhary|       DA Warner|        caught|Mandeep Singh|\n",
            "|Hyderabad|2017-04-05|Sunrisers Hyderabad|Royal Challengers...|Royal Challengers...|        field|normal|Sunrisers Hyderabad|   Yuvraj Singh|Rajiv Gandhi Inte...|AY Dandekar|NJ Llong|     NA|Sunrisers Hyderabad|Royal Challengers...|MC Henriques|    S Dhawan|A Choudhary|              NA|            NA|           NA|\n",
            "|Hyderabad|2017-04-05|Sunrisers Hyderabad|Royal Challengers...|Royal Challengers...|        field|normal|Sunrisers Hyderabad|   Yuvraj Singh|Rajiv Gandhi Inte...|AY Dandekar|NJ Llong|     NA|Sunrisers Hyderabad|Royal Challengers...|MC Henriques|    S Dhawan|A Choudhary|              NA|            NA|           NA|\n",
            "|Hyderabad|2017-04-05|Sunrisers Hyderabad|Royal Challengers...|Royal Challengers...|        field|normal|Sunrisers Hyderabad|   Yuvraj Singh|Rajiv Gandhi Inte...|AY Dandekar|NJ Llong|     NA|Sunrisers Hyderabad|Royal Challengers...|    S Dhawan|MC Henriques|   TS Mills|              NA|            NA|           NA|\n",
            "|Hyderabad|2017-04-05|Sunrisers Hyderabad|Royal Challengers...|Royal Challengers...|        field|normal|Sunrisers Hyderabad|   Yuvraj Singh|Rajiv Gandhi Inte...|AY Dandekar|NJ Llong|     NA|Sunrisers Hyderabad|Royal Challengers...|MC Henriques|    S Dhawan|   TS Mills|              NA|            NA|           NA|\n",
            "|Hyderabad|2017-04-05|Sunrisers Hyderabad|Royal Challengers...|Royal Challengers...|        field|normal|Sunrisers Hyderabad|   Yuvraj Singh|Rajiv Gandhi Inte...|AY Dandekar|NJ Llong|     NA|Sunrisers Hyderabad|Royal Challengers...|MC Henriques|    S Dhawan|   TS Mills|              NA|            NA|           NA|\n",
            "|Hyderabad|2017-04-05|Sunrisers Hyderabad|Royal Challengers...|Royal Challengers...|        field|normal|Sunrisers Hyderabad|   Yuvraj Singh|Rajiv Gandhi Inte...|AY Dandekar|NJ Llong|     NA|Sunrisers Hyderabad|Royal Challengers...|MC Henriques|    S Dhawan|   TS Mills|              NA|            NA|           NA|\n",
            "|Hyderabad|2017-04-05|Sunrisers Hyderabad|Royal Challengers...|Royal Challengers...|        field|normal|Sunrisers Hyderabad|   Yuvraj Singh|Rajiv Gandhi Inte...|AY Dandekar|NJ Llong|     NA|Sunrisers Hyderabad|Royal Challengers...|    S Dhawan|MC Henriques|   TS Mills|              NA|            NA|           NA|\n",
            "|Hyderabad|2017-04-05|Sunrisers Hyderabad|Royal Challengers...|Royal Challengers...|        field|normal|Sunrisers Hyderabad|   Yuvraj Singh|Rajiv Gandhi Inte...|AY Dandekar|NJ Llong|     NA|Sunrisers Hyderabad|Royal Challengers...|MC Henriques|    S Dhawan|   TS Mills|              NA|            NA|           NA|\n",
            "+---------+----------+-------------------+--------------------+--------------------+-------------+------+-------------------+---------------+--------------------+-----------+--------+-------+-------------------+--------------------+------------+------------+-----------+----------------+--------------+-------------+\n",
            "only showing top 20 rows\n",
            "\n"
          ]
        }
      ]
    },
    {
      "cell_type": "code",
      "source": [
        "df.select([sum(col(i).isNull().cast('int')).alias(i) for i in df.select([column for column, datatypes in df.dtypes if datatypes in ['string']]).columns]).show()"
      ],
      "metadata": {
        "colab": {
          "base_uri": "https://localhost:8080/"
        },
        "id": "Bv7JdGukgFxj",
        "outputId": "24e1a9b0-62c5-4564-9ab8-bfa78b5415b8"
      },
      "execution_count": null,
      "outputs": [
        {
          "output_type": "stream",
          "name": "stdout",
          "text": [
            "+----+----+-----+-----+-----------+-------------+------+------+---------------+-----+-------+-------+-------+------------+------------+-------+-----------+------+----------------+--------------+-------+\n",
            "|city|date|team1|team2|toss_winner|toss_decision|result|winner|player_of_match|venue|umpire1|umpire2|umpire3|batting_team|bowling_team|batsman|non_striker|bowler|player_dismissed|dismissal_kind|fielder|\n",
            "+----+----+-----+-----+-----------+-------------+------+------+---------------+-----+-------+-------+-------+------------+------------+-------+-----------+------+----------------+--------------+-------+\n",
            "|   0|   0|    0|    0|          0|            0|     0|     0|              0|    0|      0|      0|      0|           0|           0|      0|          0|     0|               0|             0|      0|\n",
            "+----+----+-----+-----+-----------+-------------+------+------+---------------+-----+-------+-------+-------+------------+------------+-------+-----------+------+----------------+--------------+-------+\n",
            "\n"
          ]
        }
      ]
    },
    {
      "cell_type": "code",
      "source": [
        "[column for column, datatypes in df.dtypes if datatypes in ['int']]"
      ],
      "metadata": {
        "colab": {
          "base_uri": "https://localhost:8080/"
        },
        "id": "xVM6EjMbfTQF",
        "outputId": "f782324e-5832-4691-b889-bb5318f884eb"
      },
      "execution_count": null,
      "outputs": [
        {
          "output_type": "execute_result",
          "data": {
            "text/plain": [
              "['id',\n",
              " 'season',\n",
              " 'dl_applied',\n",
              " 'win_by_runs',\n",
              " 'win_by_wickets',\n",
              " 'inning',\n",
              " 'over',\n",
              " 'ball',\n",
              " 'is_super_over',\n",
              " 'wide_runs',\n",
              " 'bye_runs',\n",
              " 'legbye_runs',\n",
              " 'noball_runs',\n",
              " 'penalty_runs',\n",
              " 'batsman_runs',\n",
              " 'extra_runs',\n",
              " 'total_runs']"
            ]
          },
          "metadata": {},
          "execution_count": 29
        }
      ]
    },
    {
      "cell_type": "code",
      "source": [
        "df.select([column for column, datatypes in df.dtypes if datatypes in ['int']]).show()"
      ],
      "metadata": {
        "colab": {
          "base_uri": "https://localhost:8080/"
        },
        "id": "THSL_-S2faDO",
        "outputId": "cf77b50a-5e8c-4f02-aacf-eec4a31459d7"
      },
      "execution_count": null,
      "outputs": [
        {
          "output_type": "stream",
          "name": "stdout",
          "text": [
            "+---+------+----------+-----------+--------------+------+----+----+-------------+---------+--------+-----------+-----------+------------+------------+----------+----------+\n",
            "| id|season|dl_applied|win_by_runs|win_by_wickets|inning|over|ball|is_super_over|wide_runs|bye_runs|legbye_runs|noball_runs|penalty_runs|batsman_runs|extra_runs|total_runs|\n",
            "+---+------+----------+-----------+--------------+------+----+----+-------------+---------+--------+-----------+-----------+------------+------------+----------+----------+\n",
            "|  1|  2017|         0|         35|             0|     1|   1|   1|            0|        0|       0|          0|          0|           0|           0|         0|         0|\n",
            "|  1|  2017|         0|         35|             0|     1|   1|   2|            0|        0|       0|          0|          0|           0|           0|         0|         0|\n",
            "|  1|  2017|         0|         35|             0|     1|   1|   3|            0|        0|       0|          0|          0|           0|           4|         0|         4|\n",
            "|  1|  2017|         0|         35|             0|     1|   1|   4|            0|        0|       0|          0|          0|           0|           0|         0|         0|\n",
            "|  1|  2017|         0|         35|             0|     1|   1|   5|            0|        2|       0|          0|          0|           0|           0|         2|         2|\n",
            "|  1|  2017|         0|         35|             0|     1|   1|   6|            0|        0|       0|          0|          0|           0|           0|         0|         0|\n",
            "|  1|  2017|         0|         35|             0|     1|   1|   7|            0|        0|       0|          1|          0|           0|           0|         1|         1|\n",
            "|  1|  2017|         0|         35|             0|     1|   2|   1|            0|        0|       0|          0|          0|           0|           1|         0|         1|\n",
            "|  1|  2017|         0|         35|             0|     1|   2|   2|            0|        0|       0|          0|          0|           0|           4|         0|         4|\n",
            "|  1|  2017|         0|         35|             0|     1|   2|   3|            0|        0|       0|          0|          1|           0|           0|         1|         1|\n",
            "|  1|  2017|         0|         35|             0|     1|   2|   4|            0|        0|       0|          0|          0|           0|           6|         0|         6|\n",
            "|  1|  2017|         0|         35|             0|     1|   2|   5|            0|        0|       0|          0|          0|           0|           0|         0|         0|\n",
            "|  1|  2017|         0|         35|             0|     1|   2|   6|            0|        0|       0|          0|          0|           0|           0|         0|         0|\n",
            "|  1|  2017|         0|         35|             0|     1|   2|   7|            0|        0|       0|          0|          0|           0|           4|         0|         4|\n",
            "|  1|  2017|         0|         35|             0|     1|   3|   1|            0|        0|       0|          0|          0|           0|           1|         0|         1|\n",
            "|  1|  2017|         0|         35|             0|     1|   3|   2|            0|        0|       0|          0|          0|           0|           0|         0|         0|\n",
            "|  1|  2017|         0|         35|             0|     1|   3|   3|            0|        0|       0|          0|          0|           0|           0|         0|         0|\n",
            "|  1|  2017|         0|         35|             0|     1|   3|   4|            0|        0|       0|          0|          0|           0|           3|         0|         3|\n",
            "|  1|  2017|         0|         35|             0|     1|   3|   5|            0|        0|       0|          0|          0|           0|           1|         0|         1|\n",
            "|  1|  2017|         0|         35|             0|     1|   3|   6|            0|        0|       0|          0|          0|           0|           1|         0|         1|\n",
            "+---+------+----------+-----------+--------------+------+----+----+-------------+---------+--------+-----------+-----------+------------+------------+----------+----------+\n",
            "only showing top 20 rows\n",
            "\n"
          ]
        }
      ]
    },
    {
      "cell_type": "code",
      "source": [
        "df.select([column for column, datatypes in df.dtypes if datatypes in ['int']]).columns"
      ],
      "metadata": {
        "colab": {
          "base_uri": "https://localhost:8080/"
        },
        "id": "bvJ7-L_yffIO",
        "outputId": "3e657293-a475-466a-d25f-e5a06af856dc"
      },
      "execution_count": null,
      "outputs": [
        {
          "output_type": "execute_result",
          "data": {
            "text/plain": [
              "['id',\n",
              " 'season',\n",
              " 'dl_applied',\n",
              " 'win_by_runs',\n",
              " 'win_by_wickets',\n",
              " 'inning',\n",
              " 'over',\n",
              " 'ball',\n",
              " 'is_super_over',\n",
              " 'wide_runs',\n",
              " 'bye_runs',\n",
              " 'legbye_runs',\n",
              " 'noball_runs',\n",
              " 'penalty_runs',\n",
              " 'batsman_runs',\n",
              " 'extra_runs',\n",
              " 'total_runs']"
            ]
          },
          "metadata": {},
          "execution_count": 31
        }
      ]
    },
    {
      "cell_type": "code",
      "source": [
        "for i in df.select([column for column, datatypes in df.dtypes if datatypes in ['int']]).columns:\n",
        "    df = df.withColumn(\n",
        "                              i,\n",
        "                                 when(df[i].isNull(),0).\n",
        "                                  otherwise(df[i])\n",
        "    )"
      ],
      "metadata": {
        "id": "PAN2NWcefhMu"
      },
      "execution_count": null,
      "outputs": []
    },
    {
      "cell_type": "code",
      "source": [
        "df.select(df.select([column for column, datatypes in df.dtypes if datatypes in ['int']]).columns).show()"
      ],
      "metadata": {
        "colab": {
          "base_uri": "https://localhost:8080/"
        },
        "id": "_FCkVxfqgPEL",
        "outputId": "454899a9-4d4e-4f9a-8c58-e7c9f8cefcc5"
      },
      "execution_count": null,
      "outputs": [
        {
          "output_type": "stream",
          "name": "stdout",
          "text": [
            "+---+------+----------+-----------+--------------+------+----+----+-------------+---------+--------+-----------+-----------+------------+------------+----------+----------+\n",
            "| id|season|dl_applied|win_by_runs|win_by_wickets|inning|over|ball|is_super_over|wide_runs|bye_runs|legbye_runs|noball_runs|penalty_runs|batsman_runs|extra_runs|total_runs|\n",
            "+---+------+----------+-----------+--------------+------+----+----+-------------+---------+--------+-----------+-----------+------------+------------+----------+----------+\n",
            "|  1|  2017|         0|         35|             0|     1|   1|   1|            0|        0|       0|          0|          0|           0|           0|         0|         0|\n",
            "|  1|  2017|         0|         35|             0|     1|   1|   2|            0|        0|       0|          0|          0|           0|           0|         0|         0|\n",
            "|  1|  2017|         0|         35|             0|     1|   1|   3|            0|        0|       0|          0|          0|           0|           4|         0|         4|\n",
            "|  1|  2017|         0|         35|             0|     1|   1|   4|            0|        0|       0|          0|          0|           0|           0|         0|         0|\n",
            "|  1|  2017|         0|         35|             0|     1|   1|   5|            0|        2|       0|          0|          0|           0|           0|         2|         2|\n",
            "|  1|  2017|         0|         35|             0|     1|   1|   6|            0|        0|       0|          0|          0|           0|           0|         0|         0|\n",
            "|  1|  2017|         0|         35|             0|     1|   1|   7|            0|        0|       0|          1|          0|           0|           0|         1|         1|\n",
            "|  1|  2017|         0|         35|             0|     1|   2|   1|            0|        0|       0|          0|          0|           0|           1|         0|         1|\n",
            "|  1|  2017|         0|         35|             0|     1|   2|   2|            0|        0|       0|          0|          0|           0|           4|         0|         4|\n",
            "|  1|  2017|         0|         35|             0|     1|   2|   3|            0|        0|       0|          0|          1|           0|           0|         1|         1|\n",
            "|  1|  2017|         0|         35|             0|     1|   2|   4|            0|        0|       0|          0|          0|           0|           6|         0|         6|\n",
            "|  1|  2017|         0|         35|             0|     1|   2|   5|            0|        0|       0|          0|          0|           0|           0|         0|         0|\n",
            "|  1|  2017|         0|         35|             0|     1|   2|   6|            0|        0|       0|          0|          0|           0|           0|         0|         0|\n",
            "|  1|  2017|         0|         35|             0|     1|   2|   7|            0|        0|       0|          0|          0|           0|           4|         0|         4|\n",
            "|  1|  2017|         0|         35|             0|     1|   3|   1|            0|        0|       0|          0|          0|           0|           1|         0|         1|\n",
            "|  1|  2017|         0|         35|             0|     1|   3|   2|            0|        0|       0|          0|          0|           0|           0|         0|         0|\n",
            "|  1|  2017|         0|         35|             0|     1|   3|   3|            0|        0|       0|          0|          0|           0|           0|         0|         0|\n",
            "|  1|  2017|         0|         35|             0|     1|   3|   4|            0|        0|       0|          0|          0|           0|           3|         0|         3|\n",
            "|  1|  2017|         0|         35|             0|     1|   3|   5|            0|        0|       0|          0|          0|           0|           1|         0|         1|\n",
            "|  1|  2017|         0|         35|             0|     1|   3|   6|            0|        0|       0|          0|          0|           0|           1|         0|         1|\n",
            "+---+------+----------+-----------+--------------+------+----+----+-------------+---------+--------+-----------+-----------+------------+------------+----------+----------+\n",
            "only showing top 20 rows\n",
            "\n"
          ]
        }
      ]
    },
    {
      "cell_type": "code",
      "source": [
        "df.select([sum(col(i).isNull().cast('int')).alias(i) for i in df.select([column for column, datatypes in df.dtypes if datatypes in ['int']]).columns]).show()"
      ],
      "metadata": {
        "colab": {
          "base_uri": "https://localhost:8080/"
        },
        "id": "28Tavb2uf1fV",
        "outputId": "cf6b666b-fa63-47e7-b723-07a3824cde6a"
      },
      "execution_count": null,
      "outputs": [
        {
          "output_type": "stream",
          "name": "stdout",
          "text": [
            "+---+------+----------+-----------+--------------+------+----+----+-------------+---------+--------+-----------+-----------+------------+------------+----------+----------+\n",
            "| id|season|dl_applied|win_by_runs|win_by_wickets|inning|over|ball|is_super_over|wide_runs|bye_runs|legbye_runs|noball_runs|penalty_runs|batsman_runs|extra_runs|total_runs|\n",
            "+---+------+----------+-----------+--------------+------+----+----+-------------+---------+--------+-----------+-----------+------------+------------+----------+----------+\n",
            "|  0|     0|         0|          0|             0|     0|   0|   0|            0|        0|       0|          0|          0|           0|           0|         0|         0|\n",
            "+---+------+----------+-----------+--------------+------+----+----+-------------+---------+--------+-----------+-----------+------------+------------+----------+----------+\n",
            "\n"
          ]
        }
      ]
    },
    {
      "cell_type": "code",
      "source": [],
      "metadata": {
        "id": "WRpPmSw4gWOi"
      },
      "execution_count": null,
      "outputs": []
    },
    {
      "cell_type": "code",
      "source": [],
      "metadata": {
        "id": "4gXMPzJcgWLb"
      },
      "execution_count": null,
      "outputs": []
    },
    {
      "cell_type": "code",
      "source": [],
      "metadata": {
        "id": "Kux2PQPKgWIw"
      },
      "execution_count": null,
      "outputs": []
    },
    {
      "cell_type": "code",
      "source": [],
      "metadata": {
        "id": "zXsy3g38gWGZ"
      },
      "execution_count": null,
      "outputs": []
    },
    {
      "cell_type": "code",
      "source": [],
      "metadata": {
        "id": "mAKkQ_A1gWD5"
      },
      "execution_count": null,
      "outputs": []
    },
    {
      "cell_type": "code",
      "source": [],
      "metadata": {
        "id": "_n5_jZOvgWBc"
      },
      "execution_count": null,
      "outputs": []
    },
    {
      "cell_type": "code",
      "source": [],
      "metadata": {
        "id": "Hmko6J18gV-y"
      },
      "execution_count": null,
      "outputs": []
    },
    {
      "cell_type": "code",
      "source": [],
      "metadata": {
        "id": "hs7Po6F5gV8Z"
      },
      "execution_count": null,
      "outputs": []
    }
  ]
}