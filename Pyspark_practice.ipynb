{
  "nbformat": 4,
  "nbformat_minor": 0,
  "metadata": {
    "colab": {
      "provenance": [],
      "mount_file_id": "1uxBgCHXOGMfOvvi-TxgCTPl5YV_JT8a1",
      "authorship_tag": "ABX9TyPqJUIVTJ17hr4vM68z6/vn",
      "include_colab_link": true
    },
    "kernelspec": {
      "name": "python3",
      "display_name": "Python 3"
    },
    "language_info": {
      "name": "python"
    }
  },
  "cells": [
    {
      "cell_type": "markdown",
      "metadata": {
        "id": "view-in-github",
        "colab_type": "text"
      },
      "source": [
        "<a href=\"https://colab.research.google.com/github/Akashpandey1507/Interview-Preparation/blob/main/Pyspark_practice.ipynb\" target=\"_parent\"><img src=\"https://colab.research.google.com/assets/colab-badge.svg\" alt=\"Open In Colab\"/></a>"
      ]
    },
    {
      "cell_type": "code",
      "source": [
        "!pip install pyspark"
      ],
      "metadata": {
        "colab": {
          "base_uri": "https://localhost:8080/"
        },
        "id": "wXLHdyLlhzaD",
        "outputId": "890dc09a-72fa-4790-90f8-e970993ae2b2"
      },
      "execution_count": 19,
      "outputs": [
        {
          "output_type": "stream",
          "name": "stdout",
          "text": [
            "Requirement already satisfied: pyspark in /usr/local/lib/python3.10/dist-packages (3.4.1)\n",
            "Requirement already satisfied: py4j==0.10.9.7 in /usr/local/lib/python3.10/dist-packages (from pyspark) (0.10.9.7)\n"
          ]
        }
      ]
    },
    {
      "cell_type": "code",
      "source": [
        "file = r\"/content/drive/MyDrive/Data Analysis Files/SampleSuperstore.csv\""
      ],
      "metadata": {
        "id": "6DO25lAaiNBV"
      },
      "execution_count": 20,
      "outputs": []
    },
    {
      "cell_type": "code",
      "source": [
        "from pyspark.sql import SparkSession\n",
        "import pyspark\n",
        "\n",
        "# Create a SparkSession\n",
        "spark = SparkSession.builder \\\n",
        "    .appName(\"MySparkApp\") \\\n",
        "    .config(\"spark.some.config.option\", \"config-value\") \\\n",
        "    .getOrCreate()\n",
        "\n",
        "# Now you can use the 'spark' object to work with Spark APIs.\n"
      ],
      "metadata": {
        "id": "H2L0QWO0iQo0"
      },
      "execution_count": 21,
      "outputs": []
    },
    {
      "cell_type": "code",
      "source": [
        "df = spark.read.csv(file, header=True, inferSchema=True)\n"
      ],
      "metadata": {
        "id": "D9nPJThiiT5s"
      },
      "execution_count": 24,
      "outputs": []
    },
    {
      "cell_type": "code",
      "source": [
        "pdf = df.cache()\n",
        "pdf.show()"
      ],
      "metadata": {
        "colab": {
          "base_uri": "https://localhost:8080/"
        },
        "id": "s5Kwc-WkSPFm",
        "outputId": "400706cc-b7df-4048-ad3a-07ca1f348097"
      },
      "execution_count": 23,
      "outputs": [
        {
          "output_type": "stream",
          "name": "stdout",
          "text": [
            "+--------------+-----------+-------------+---------------+--------------+-----------+-------+---------------+------------+--------+--------+--------+--------+\n",
            "|     Ship Mode|    Segment|      Country|           City|         State|Postal Code| Region|       Category|Sub-Category|   Sales|Quantity|Discount|  Profit|\n",
            "+--------------+-----------+-------------+---------------+--------------+-----------+-------+---------------+------------+--------+--------+--------+--------+\n",
            "|  Second Class|   Consumer|United States|      Henderson|      Kentucky|      42420|  South|      Furniture|   Bookcases|  261.96|       2|     0.0| 41.9136|\n",
            "|  Second Class|   Consumer|United States|      Henderson|      Kentucky|      42420|  South|      Furniture|      Chairs|  731.94|       3|     0.0| 219.582|\n",
            "|  Second Class|  Corporate|United States|    Los Angeles|    California|      90036|   West|Office Supplies|      Labels|   14.62|       2|     0.0|  6.8714|\n",
            "|Standard Class|   Consumer|United States|Fort Lauderdale|       Florida|      33311|  South|      Furniture|      Tables|957.5775|       5|    0.45|-383.031|\n",
            "|Standard Class|   Consumer|United States|Fort Lauderdale|       Florida|      33311|  South|Office Supplies|     Storage|  22.368|       2|     0.2|  2.5164|\n",
            "|Standard Class|   Consumer|United States|    Los Angeles|    California|      90032|   West|      Furniture| Furnishings|   48.86|       7|     0.0| 14.1694|\n",
            "|Standard Class|   Consumer|United States|    Los Angeles|    California|      90032|   West|Office Supplies|         Art|    7.28|       4|     0.0|  1.9656|\n",
            "|Standard Class|   Consumer|United States|    Los Angeles|    California|      90032|   West|     Technology|      Phones| 907.152|       6|     0.2| 90.7152|\n",
            "|Standard Class|   Consumer|United States|    Los Angeles|    California|      90032|   West|Office Supplies|     Binders|  18.504|       3|     0.2|  5.7825|\n",
            "|Standard Class|   Consumer|United States|    Los Angeles|    California|      90032|   West|Office Supplies|  Appliances|   114.9|       5|     0.0|   34.47|\n",
            "|Standard Class|   Consumer|United States|    Los Angeles|    California|      90032|   West|      Furniture|      Tables|1706.184|       9|     0.2| 85.3092|\n",
            "|Standard Class|   Consumer|United States|    Los Angeles|    California|      90032|   West|     Technology|      Phones| 911.424|       4|     0.2| 68.3568|\n",
            "|Standard Class|   Consumer|United States|        Concord|North Carolina|      28027|  South|Office Supplies|       Paper|  15.552|       3|     0.2|  5.4432|\n",
            "|Standard Class|   Consumer|United States|        Seattle|    Washington|      98103|   West|Office Supplies|     Binders| 407.976|       3|     0.2|132.5922|\n",
            "|Standard Class|Home Office|United States|     Fort Worth|         Texas|      76106|Central|Office Supplies|  Appliances|   68.81|       5|     0.8|-123.858|\n",
            "|Standard Class|Home Office|United States|     Fort Worth|         Texas|      76106|Central|Office Supplies|     Binders|   2.544|       3|     0.8|  -3.816|\n",
            "|Standard Class|   Consumer|United States|        Madison|     Wisconsin|      53711|Central|Office Supplies|     Storage|  665.88|       6|     0.0| 13.3176|\n",
            "|  Second Class|   Consumer|United States|    West Jordan|          Utah|      84084|   West|Office Supplies|     Storage|    55.5|       2|     0.0|    9.99|\n",
            "|  Second Class|   Consumer|United States|  San Francisco|    California|      94109|   West|Office Supplies|         Art|    8.56|       2|     0.0|  2.4824|\n",
            "|  Second Class|   Consumer|United States|  San Francisco|    California|      94109|   West|     Technology|      Phones|  213.48|       3|     0.2|  16.011|\n",
            "+--------------+-----------+-------------+---------------+--------------+-----------+-------+---------------+------------+--------+--------+--------+--------+\n",
            "only showing top 20 rows\n",
            "\n"
          ]
        }
      ]
    },
    {
      "cell_type": "code",
      "source": [
        "df.count()"
      ],
      "metadata": {
        "colab": {
          "base_uri": "https://localhost:8080/"
        },
        "id": "UNeD7ovDSO44",
        "outputId": "13a20f13-d708-4ded-ce3d-941bda060fa5"
      },
      "execution_count": 26,
      "outputs": [
        {
          "output_type": "execute_result",
          "data": {
            "text/plain": [
              "9994"
            ]
          },
          "metadata": {},
          "execution_count": 26
        }
      ]
    },
    {
      "cell_type": "code",
      "source": [
        "len(df.columns)"
      ],
      "metadata": {
        "colab": {
          "base_uri": "https://localhost:8080/"
        },
        "id": "XWn1dJq9SO2N",
        "outputId": "71336d2c-4b93-445f-ff92-a33ecd9875b4"
      },
      "execution_count": 27,
      "outputs": [
        {
          "output_type": "execute_result",
          "data": {
            "text/plain": [
              "13"
            ]
          },
          "metadata": {},
          "execution_count": 27
        }
      ]
    },
    {
      "cell_type": "code",
      "source": [
        "df.columns"
      ],
      "metadata": {
        "colab": {
          "base_uri": "https://localhost:8080/"
        },
        "id": "t4V_ZCNDSOzt",
        "outputId": "95672772-6564-41e5-ca24-5d25eaf11cc3"
      },
      "execution_count": 28,
      "outputs": [
        {
          "output_type": "execute_result",
          "data": {
            "text/plain": [
              "['Ship Mode',\n",
              " 'Segment',\n",
              " 'Country',\n",
              " 'City',\n",
              " 'State',\n",
              " 'Postal Code',\n",
              " 'Region',\n",
              " 'Category',\n",
              " 'Sub-Category',\n",
              " 'Sales',\n",
              " 'Quantity',\n",
              " 'Discount',\n",
              " 'Profit']"
            ]
          },
          "metadata": {},
          "execution_count": 28
        }
      ]
    },
    {
      "cell_type": "code",
      "source": [
        "from pyspark.sql import functions as f\n",
        "from pyspark.sql import types as t"
      ],
      "metadata": {
        "id": "tMCAAVlQSOw1"
      },
      "execution_count": 29,
      "outputs": []
    },
    {
      "cell_type": "code",
      "source": [
        "df.select([f.sum(f.col(i).isNull().cast('int')).alias(i) for i in df.columns]).show()"
      ],
      "metadata": {
        "colab": {
          "base_uri": "https://localhost:8080/"
        },
        "id": "SuS43qyqSOuN",
        "outputId": "eb56aca1-4d39-45e8-cbce-58b1094d8e4d"
      },
      "execution_count": 30,
      "outputs": [
        {
          "output_type": "stream",
          "name": "stdout",
          "text": [
            "+---------+-------+-------+----+-----+-----------+------+--------+------------+-----+--------+--------+------+\n",
            "|Ship Mode|Segment|Country|City|State|Postal Code|Region|Category|Sub-Category|Sales|Quantity|Discount|Profit|\n",
            "+---------+-------+-------+----+-----+-----------+------+--------+------------+-----+--------+--------+------+\n",
            "|        0|      0|      0|   0|    0|          0|     0|       0|           0|    0|       0|       0|     0|\n",
            "+---------+-------+-------+----+-----+-----------+------+--------+------------+-----+--------+--------+------+\n",
            "\n"
          ]
        }
      ]
    },
    {
      "cell_type": "code",
      "source": [
        "df.printSchema()"
      ],
      "metadata": {
        "colab": {
          "base_uri": "https://localhost:8080/"
        },
        "id": "7p_ceZ4HSOrl",
        "outputId": "e85fcea9-e1da-4d6c-fe9b-16a7ee769736"
      },
      "execution_count": 31,
      "outputs": [
        {
          "output_type": "stream",
          "name": "stdout",
          "text": [
            "root\n",
            " |-- Ship Mode: string (nullable = true)\n",
            " |-- Segment: string (nullable = true)\n",
            " |-- Country: string (nullable = true)\n",
            " |-- City: string (nullable = true)\n",
            " |-- State: string (nullable = true)\n",
            " |-- Postal Code: integer (nullable = true)\n",
            " |-- Region: string (nullable = true)\n",
            " |-- Category: string (nullable = true)\n",
            " |-- Sub-Category: string (nullable = true)\n",
            " |-- Sales: double (nullable = true)\n",
            " |-- Quantity: integer (nullable = true)\n",
            " |-- Discount: double (nullable = true)\n",
            " |-- Profit: double (nullable = true)\n",
            "\n"
          ]
        }
      ]
    },
    {
      "cell_type": "code",
      "source": [
        "df.select(f.sum(f.col(\"Profit\")).alias('Net profit')).show()"
      ],
      "metadata": {
        "colab": {
          "base_uri": "https://localhost:8080/"
        },
        "id": "Oaz_92bBUJKp",
        "outputId": "693a76ab-871b-437c-d262-91151ba521c2"
      },
      "execution_count": 40,
      "outputs": [
        {
          "output_type": "stream",
          "name": "stdout",
          "text": [
            "+-----------------+\n",
            "|       Net profit|\n",
            "+-----------------+\n",
            "|286397.0217000013|\n",
            "+-----------------+\n",
            "\n"
          ]
        }
      ]
    },
    {
      "cell_type": "code",
      "source": [
        "df.select(f.sum(f.col(\"Discount\")).alias('Net Discount')).show()"
      ],
      "metadata": {
        "colab": {
          "base_uri": "https://localhost:8080/"
        },
        "id": "q5ncrRYAUJIJ",
        "outputId": "9943bb98-b4eb-4d1f-d9aa-8c6e0cd4aac9"
      },
      "execution_count": 38,
      "outputs": [
        {
          "output_type": "stream",
          "name": "stdout",
          "text": [
            "+------------------+\n",
            "|      Net Discount|\n",
            "+------------------+\n",
            "|1561.0900000000954|\n",
            "+------------------+\n",
            "\n"
          ]
        }
      ]
    },
    {
      "cell_type": "code",
      "source": [
        "df.select(f.sum(f.col(\"Sales\")).alias('Net Sales')).show()"
      ],
      "metadata": {
        "colab": {
          "base_uri": "https://localhost:8080/"
        },
        "id": "K1Ay-ERaUJFh",
        "outputId": "21619645-a784-4662-c1ba-305183fc77e9"
      },
      "execution_count": 41,
      "outputs": [
        {
          "output_type": "stream",
          "name": "stdout",
          "text": [
            "+-----------------+\n",
            "|        Net Sales|\n",
            "+-----------------+\n",
            "|2297200.860299955|\n",
            "+-----------------+\n",
            "\n"
          ]
        }
      ]
    },
    {
      "cell_type": "code",
      "source": [
        "df.select(f.sum(f.col(\"Quantity\")).alias('Net Unites')).show()"
      ],
      "metadata": {
        "colab": {
          "base_uri": "https://localhost:8080/"
        },
        "id": "J1zNfq2vUJCJ",
        "outputId": "92eda98a-cd39-44da-c0c3-f72aca21c368"
      },
      "execution_count": 42,
      "outputs": [
        {
          "output_type": "stream",
          "name": "stdout",
          "text": [
            "+----------+\n",
            "|Net Unites|\n",
            "+----------+\n",
            "|     37873|\n",
            "+----------+\n",
            "\n"
          ]
        }
      ]
    },
    {
      "cell_type": "code",
      "source": [
        "top_10_city = df.groupBy(\"City\").agg(f.sum(\"Profit\").alias(\"net profit\")).orderBy(\"net profit\", ascending=False).limit(10)\n",
        "top_10_city.show()"
      ],
      "metadata": {
        "colab": {
          "base_uri": "https://localhost:8080/"
        },
        "id": "vDovIIRYU1Uo",
        "outputId": "c30eb3e7-3089-4a66-b105-9805e25f3b8d"
      },
      "execution_count": 45,
      "outputs": [
        {
          "output_type": "stream",
          "name": "stdout",
          "text": [
            "+-------------+------------------+\n",
            "|         City|        net profit|\n",
            "+-------------+------------------+\n",
            "|New York City| 62036.98369999999|\n",
            "|  Los Angeles| 30440.75789999997|\n",
            "|      Seattle|        29156.0967|\n",
            "|San Francisco|17507.385399999985|\n",
            "|      Detroit|13181.790800000002|\n",
            "|    Lafayette|        10018.3876|\n",
            "|      Jackson|7581.6828000000005|\n",
            "|      Atlanta|         6993.6629|\n",
            "|  Minneapolis| 6824.584599999999|\n",
            "|    San Diego| 6377.196000000003|\n",
            "+-------------+------------------+\n",
            "\n"
          ]
        }
      ]
    },
    {
      "cell_type": "code",
      "source": [
        "city = top_10_city.select(top_10_city.columns).collect()\n",
        "city"
      ],
      "metadata": {
        "colab": {
          "base_uri": "https://localhost:8080/"
        },
        "id": "rzpqXIPaVUHE",
        "outputId": "2367a428-f0bf-4afa-c55d-b143293f4441"
      },
      "execution_count": 46,
      "outputs": [
        {
          "output_type": "execute_result",
          "data": {
            "text/plain": [
              "[Row(City='New York City', net profit=62036.98369999999),\n",
              " Row(City='Los Angeles', net profit=30440.75789999997),\n",
              " Row(City='Seattle', net profit=29156.0967),\n",
              " Row(City='San Francisco', net profit=17507.385399999985),\n",
              " Row(City='Detroit', net profit=13181.790800000002),\n",
              " Row(City='Lafayette', net profit=10018.3876),\n",
              " Row(City='Jackson', net profit=7581.6828000000005),\n",
              " Row(City='Atlanta', net profit=6993.6629),\n",
              " Row(City='Minneapolis', net profit=6824.584599999999),\n",
              " Row(City='San Diego', net profit=6377.196000000003)]"
            ]
          },
          "metadata": {},
          "execution_count": 46
        }
      ]
    },
    {
      "cell_type": "code",
      "source": [
        "city_x = [i[\"City\"] for i in city]\n",
        "city_y = [i[\"net profit\"] for i in city]"
      ],
      "metadata": {
        "id": "n9qsfy0bVUEd"
      },
      "execution_count": 48,
      "outputs": []
    },
    {
      "cell_type": "code",
      "source": [
        "city_x\n"
      ],
      "metadata": {
        "colab": {
          "base_uri": "https://localhost:8080/"
        },
        "id": "CE7NS-AqVUCE",
        "outputId": "53b7be7f-d2e4-4d9f-fdec-e332c953b500"
      },
      "execution_count": 49,
      "outputs": [
        {
          "output_type": "execute_result",
          "data": {
            "text/plain": [
              "['New York City',\n",
              " 'Los Angeles',\n",
              " 'Seattle',\n",
              " 'San Francisco',\n",
              " 'Detroit',\n",
              " 'Lafayette',\n",
              " 'Jackson',\n",
              " 'Atlanta',\n",
              " 'Minneapolis',\n",
              " 'San Diego']"
            ]
          },
          "metadata": {},
          "execution_count": 49
        }
      ]
    },
    {
      "cell_type": "code",
      "source": [
        "city_y"
      ],
      "metadata": {
        "colab": {
          "base_uri": "https://localhost:8080/"
        },
        "id": "Y4O6poJAVT_p",
        "outputId": "728cb5fd-3b46-4d38-8eec-357c18a72ec0"
      },
      "execution_count": 50,
      "outputs": [
        {
          "output_type": "execute_result",
          "data": {
            "text/plain": [
              "[62036.98369999999,\n",
              " 30440.75789999997,\n",
              " 29156.0967,\n",
              " 17507.385399999985,\n",
              " 13181.790800000002,\n",
              " 10018.3876,\n",
              " 7581.6828000000005,\n",
              " 6993.6629,\n",
              " 6824.584599999999,\n",
              " 6377.196000000003]"
            ]
          },
          "metadata": {},
          "execution_count": 50
        }
      ]
    },
    {
      "cell_type": "code",
      "source": [
        "import matplotlib.pyplot as plt"
      ],
      "metadata": {
        "id": "c6eTZZ7jVT9N"
      },
      "execution_count": 51,
      "outputs": []
    },
    {
      "cell_type": "code",
      "source": [
        "plt.figure(figsize=(25,10))\n",
        "\n",
        "plt.bar(city_x,city_y)"
      ],
      "metadata": {
        "colab": {
          "base_uri": "https://localhost:8080/",
          "height": 705
        },
        "id": "NlcJBz9JVT69",
        "outputId": "4d969991-4ff9-4fec-dece-3c5631178a33"
      },
      "execution_count": 53,
      "outputs": [
        {
          "output_type": "execute_result",
          "data": {
            "text/plain": [
              "<BarContainer object of 10 artists>"
            ]
          },
          "metadata": {},
          "execution_count": 53
        },
        {
          "output_type": "display_data",
          "data": {
            "text/plain": [
              "<Figure size 2500x1000 with 1 Axes>"
            ],
            "image/png": "[encoded data removed]"
          },
          "metadata": {}
        }
      ]
    },
    {
      "cell_type": "code",
      "source": [
        "bot_10_city = df.groupBy(\"City\").agg(f.sum(\"Profit\").alias(\"net profit\")).orderBy(\"net profit\").limit(10)\n",
        "bot_10_city.show()"
      ],
      "metadata": {
        "colab": {
          "base_uri": "https://localhost:8080/"
        },
        "id": "gCV-Cr9lVT4l",
        "outputId": "1daea056-8c9b-48a8-8ba4-051a4cec7a65"
      },
      "execution_count": 54,
      "outputs": [
        {
          "output_type": "stream",
          "name": "stdout",
          "text": [
            "+------------+-------------------+\n",
            "|        City|         net profit|\n",
            "+------------+-------------------+\n",
            "|Philadelphia|-13837.767400000012|\n",
            "|     Houston|-10153.548499999997|\n",
            "| San Antonio|         -7299.0502|\n",
            "|   Lancaster| -7239.068400000001|\n",
            "|     Chicago| -6654.568799999997|\n",
            "|  Burlington|-3622.8772000000013|\n",
            "|      Dallas|-2846.5257000000006|\n",
            "|     Phoenix| -2790.883200000001|\n",
            "|      Aurora|         -2691.7386|\n",
            "|Jacksonville|-2323.8349999999996|\n",
            "+------------+-------------------+\n",
            "\n"
          ]
        }
      ]
    },
    {
      "cell_type": "code",
      "source": [
        "city1 = bot_10_city.select(bot_10_city.columns).collect()\n",
        "city1"
      ],
      "metadata": {
        "colab": {
          "base_uri": "https://localhost:8080/"
        },
        "id": "67wNbhKdVT2F",
        "outputId": "2e304a26-a599-4dd8-80fb-bde2e85e33cd"
      },
      "execution_count": 55,
      "outputs": [
        {
          "output_type": "execute_result",
          "data": {
            "text/plain": [
              "[Row(City='Philadelphia', net profit=-13837.767400000012),\n",
              " Row(City='Houston', net profit=-10153.548499999997),\n",
              " Row(City='San Antonio', net profit=-7299.0502),\n",
              " Row(City='Lancaster', net profit=-7239.068400000001),\n",
              " Row(City='Chicago', net profit=-6654.568799999997),\n",
              " Row(City='Burlington', net profit=-3622.8772000000013),\n",
              " Row(City='Dallas', net profit=-2846.5257000000006),\n",
              " Row(City='Phoenix', net profit=-2790.883200000001),\n",
              " Row(City='Aurora', net profit=-2691.7386),\n",
              " Row(City='Jacksonville', net profit=-2323.8349999999996)]"
            ]
          },
          "metadata": {},
          "execution_count": 55
        }
      ]
    },
    {
      "cell_type": "code",
      "source": [
        "city1_x = [i[\"City\"] for i in city1]\n",
        "city1_y = [i[\"net profit\"] for i in city1]"
      ],
      "metadata": {
        "id": "LRfvA2AKVTzc"
      },
      "execution_count": 56,
      "outputs": []
    },
    {
      "cell_type": "code",
      "source": [
        "city1_x"
      ],
      "metadata": {
        "colab": {
          "base_uri": "https://localhost:8080/"
        },
        "id": "d58u7Bk9VTw0",
        "outputId": "5f93c472-706b-4bb9-df82-08eccb0fdf4a"
      },
      "execution_count": 57,
      "outputs": [
        {
          "output_type": "execute_result",
          "data": {
            "text/plain": [
              "['Philadelphia',\n",
              " 'Houston',\n",
              " 'San Antonio',\n",
              " 'Lancaster',\n",
              " 'Chicago',\n",
              " 'Burlington',\n",
              " 'Dallas',\n",
              " 'Phoenix',\n",
              " 'Aurora',\n",
              " 'Jacksonville']"
            ]
          },
          "metadata": {},
          "execution_count": 57
        }
      ]
    },
    {
      "cell_type": "code",
      "source": [
        "city1_y"
      ],
      "metadata": {
        "colab": {
          "base_uri": "https://localhost:8080/"
        },
        "id": "egT5Jr0bU1SN",
        "outputId": "b108a2f0-ceae-4a4b-9c82-2b1366dfa60e"
      },
      "execution_count": 58,
      "outputs": [
        {
          "output_type": "execute_result",
          "data": {
            "text/plain": [
              "[-13837.767400000012,\n",
              " -10153.548499999997,\n",
              " -7299.0502,\n",
              " -7239.068400000001,\n",
              " -6654.568799999997,\n",
              " -3622.8772000000013,\n",
              " -2846.5257000000006,\n",
              " -2790.883200000001,\n",
              " -2691.7386,\n",
              " -2323.8349999999996]"
            ]
          },
          "metadata": {},
          "execution_count": 58
        }
      ]
    },
    {
      "cell_type": "code",
      "source": [
        "plt.figure(figsize=(25,10))\n",
        "\n",
        "plt.bar(city1_x,city1_y)"
      ],
      "metadata": {
        "colab": {
          "base_uri": "https://localhost:8080/",
          "height": 706
        },
        "id": "XuPv_NElU1Pv",
        "outputId": "dbe63f10-71b4-43c5-fd2e-32d0ec57c949"
      },
      "execution_count": 59,
      "outputs": [
        {
          "output_type": "execute_result",
          "data": {
            "text/plain": [
              "<BarContainer object of 10 artists>"
            ]
          },
          "metadata": {},
          "execution_count": 59
        },
        {
          "output_type": "display_data",
          "data": {
            "text/plain": [
              "<Figure size 2500x1000 with 1 Axes>"
            ],
            "image/png": "[encoded data removed]"
          },
          "metadata": {}
        }
      ]
    },
    {
      "cell_type": "code",
      "source": [],
      "metadata": {
        "id": "mZ_WYiEPU1NF"
      },
      "execution_count": null,
      "outputs": []
    },
    {
      "cell_type": "code",
      "source": [],
      "metadata": {
        "id": "IUykPdtQWc08"
      },
      "execution_count": null,
      "outputs": []
    },
    {
      "cell_type": "code",
      "source": [],
      "metadata": {
        "id": "xT2FsmUzWcyQ"
      },
      "execution_count": null,
      "outputs": []
    },
    {
      "cell_type": "code",
      "source": [],
      "metadata": {
        "id": "e7wfU_RZWctj"
      },
      "execution_count": null,
      "outputs": []
    },
    {
      "cell_type": "code",
      "source": [],
      "metadata": {
        "id": "RttY4QEyWcrD"
      },
      "execution_count": null,
      "outputs": []
    },
    {
      "cell_type": "code",
      "source": [],
      "metadata": {
        "id": "k-7RuvJmWcoV"
      },
      "execution_count": null,
      "outputs": []
    },
    {
      "cell_type": "code",
      "source": [],
      "metadata": {
        "id": "_flXkiXlWcjY"
      },
      "execution_count": null,
      "outputs": []
    },
    {
      "cell_type": "code",
      "source": [],
      "metadata": {
        "id": "8VxnPiWgWcgf"
      },
      "execution_count": null,
      "outputs": []
    },
    {
      "cell_type": "code",
      "source": [
        "pdf.show()"
      ],
      "metadata": {
        "colab": {
          "base_uri": "https://localhost:8080/"
        },
        "id": "qErNYm4sSOpF",
        "outputId": "0ae2631c-61f0-4173-8869-10bbb05106ef"
      },
      "execution_count": 32,
      "outputs": [
        {
          "output_type": "stream",
          "name": "stdout",
          "text": [
            "+--------------+-----------+-------------+---------------+--------------+-----------+-------+---------------+------------+--------+--------+--------+--------+\n",
            "|     Ship Mode|    Segment|      Country|           City|         State|Postal Code| Region|       Category|Sub-Category|   Sales|Quantity|Discount|  Profit|\n",
            "+--------------+-----------+-------------+---------------+--------------+-----------+-------+---------------+------------+--------+--------+--------+--------+\n",
            "|  Second Class|   Consumer|United States|      Henderson|      Kentucky|      42420|  South|      Furniture|   Bookcases|  261.96|       2|     0.0| 41.9136|\n",
            "|  Second Class|   Consumer|United States|      Henderson|      Kentucky|      42420|  South|      Furniture|      Chairs|  731.94|       3|     0.0| 219.582|\n",
            "|  Second Class|  Corporate|United States|    Los Angeles|    California|      90036|   West|Office Supplies|      Labels|   14.62|       2|     0.0|  6.8714|\n",
            "|Standard Class|   Consumer|United States|Fort Lauderdale|       Florida|      33311|  South|      Furniture|      Tables|957.5775|       5|    0.45|-383.031|\n",
            "|Standard Class|   Consumer|United States|Fort Lauderdale|       Florida|      33311|  South|Office Supplies|     Storage|  22.368|       2|     0.2|  2.5164|\n",
            "|Standard Class|   Consumer|United States|    Los Angeles|    California|      90032|   West|      Furniture| Furnishings|   48.86|       7|     0.0| 14.1694|\n",
            "|Standard Class|   Consumer|United States|    Los Angeles|    California|      90032|   West|Office Supplies|         Art|    7.28|       4|     0.0|  1.9656|\n",
            "|Standard Class|   Consumer|United States|    Los Angeles|    California|      90032|   West|     Technology|      Phones| 907.152|       6|     0.2| 90.7152|\n",
            "|Standard Class|   Consumer|United States|    Los Angeles|    California|      90032|   West|Office Supplies|     Binders|  18.504|       3|     0.2|  5.7825|\n",
            "|Standard Class|   Consumer|United States|    Los Angeles|    California|      90032|   West|Office Supplies|  Appliances|   114.9|       5|     0.0|   34.47|\n",
            "|Standard Class|   Consumer|United States|    Los Angeles|    California|      90032|   West|      Furniture|      Tables|1706.184|       9|     0.2| 85.3092|\n",
            "|Standard Class|   Consumer|United States|    Los Angeles|    California|      90032|   West|     Technology|      Phones| 911.424|       4|     0.2| 68.3568|\n",
            "|Standard Class|   Consumer|United States|        Concord|North Carolina|      28027|  South|Office Supplies|       Paper|  15.552|       3|     0.2|  5.4432|\n",
            "|Standard Class|   Consumer|United States|        Seattle|    Washington|      98103|   West|Office Supplies|     Binders| 407.976|       3|     0.2|132.5922|\n",
            "|Standard Class|Home Office|United States|     Fort Worth|         Texas|      76106|Central|Office Supplies|  Appliances|   68.81|       5|     0.8|-123.858|\n",
            "|Standard Class|Home Office|United States|     Fort Worth|         Texas|      76106|Central|Office Supplies|     Binders|   2.544|       3|     0.8|  -3.816|\n",
            "|Standard Class|   Consumer|United States|        Madison|     Wisconsin|      53711|Central|Office Supplies|     Storage|  665.88|       6|     0.0| 13.3176|\n",
            "|  Second Class|   Consumer|United States|    West Jordan|          Utah|      84084|   West|Office Supplies|     Storage|    55.5|       2|     0.0|    9.99|\n",
            "|  Second Class|   Consumer|United States|  San Francisco|    California|      94109|   West|Office Supplies|         Art|    8.56|       2|     0.0|  2.4824|\n",
            "|  Second Class|   Consumer|United States|  San Francisco|    California|      94109|   West|     Technology|      Phones|  213.48|       3|     0.2|  16.011|\n",
            "+--------------+-----------+-------------+---------------+--------------+-----------+-------+---------------+------------+--------+--------+--------+--------+\n",
            "only showing top 20 rows\n",
            "\n"
          ]
        }
      ]
    }
  ]
}