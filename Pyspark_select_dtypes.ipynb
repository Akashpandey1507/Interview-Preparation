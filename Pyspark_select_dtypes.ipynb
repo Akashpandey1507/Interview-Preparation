{
  "nbformat": 4,
  "nbformat_minor": 0,
  "metadata": {
    "colab": {
      "provenance": [],
      "mount_file_id": "1uxBgCHXOGMfOvvi-TxgCTPl5YV_JT8a1",
      "authorship_tag": "ABX9TyPX77qM1lryDHQh/0xtDibr",
      "include_colab_link": true
    },
    "kernelspec": {
      "name": "python3",
      "display_name": "Python 3"
    },
    "language_info": {
      "name": "python"
    }
  },
  "cells": [
    {
      "cell_type": "markdown",
      "metadata": {
        "id": "view-in-github",
        "colab_type": "text"
      },
      "source": [
        "<a href=\"https://colab.research.google.com/github/Akashpandey1507/Interview-Preparation/blob/main/Pyspark_select_dtypes.ipynb\" target=\"_parent\"><img src=\"https://colab.research.google.com/assets/colab-badge.svg\" alt=\"Open In Colab\"/></a>"
      ]
    },
    {
      "cell_type": "code",
      "source": [
        "!pip install pyspark"
      ],
      "metadata": {
        "colab": {
          "base_uri": "https://localhost:8080/"
        },
        "id": "wXLHdyLlhzaD",
        "outputId": "5080b940-f7e6-434c-9625-fada5858b66c"
      },
      "execution_count": 1,
      "outputs": [
        {
          "output_type": "stream",
          "name": "stdout",
          "text": [
            "Collecting pyspark\n",
            "  Downloading pyspark-3.4.1.tar.gz (310.8 MB)\n",
            "\u001b[2K     \u001b[90m━━━━━━━━━━━━━━━━━━━━━━━━━━━━━━━━━━━━━━━\u001b[0m \u001b[32m310.8/310.8 MB\u001b[0m \u001b[31m2.5 MB/s\u001b[0m eta \u001b[36m0:00:00\u001b[0m\n",
            "\u001b[?25h  Preparing metadata (setup.py) ... \u001b[?25l\u001b[?25hdone\n",
            "Requirement already satisfied: py4j==0.10.9.7 in /usr/local/lib/python3.10/dist-packages (from pyspark) (0.10.9.7)\n",
            "Building wheels for collected packages: pyspark\n",
            "  Building wheel for pyspark (setup.py) ... \u001b[?25l\u001b[?25hdone\n",
            "  Created wheel for pyspark: filename=pyspark-3.4.1-py2.py3-none-any.whl size=311285387 sha256=eadd62fa8dcf9cbb4c5bbc83e337eba72ed3ec7f7dae7d661c7256900527798e\n",
            "  Stored in directory: /root/.cache/pip/wheels/0d/77/a3/ff2f74cc9ab41f8f594dabf0579c2a7c6de920d584206e0834\n",
            "Successfully built pyspark\n",
            "Installing collected packages: pyspark\n",
            "Successfully installed pyspark-3.4.1\n"
          ]
        }
      ]
    },
    {
      "cell_type": "code",
      "source": [
        "file = r\"/content/drive/MyDrive/Data Analysis Files/SampleSuperstore.csv\""
      ],
      "metadata": {
        "id": "6DO25lAaiNBV"
      },
      "execution_count": 2,
      "outputs": []
    },
    {
      "cell_type": "code",
      "source": [
        "from pyspark.sql import SparkSession\n",
        "import pyspark\n",
        "\n",
        "# Create a SparkSession\n",
        "spark = SparkSession.builder \\\n",
        "    .appName(\"MySparkApp\") \\\n",
        "    .config(\"spark.some.config.option\", \"config-value\") \\\n",
        "    .getOrCreate()\n",
        "\n",
        "# Now you can use the 'spark' object to work with Spark APIs.\n"
      ],
      "metadata": {
        "id": "H2L0QWO0iQo0"
      },
      "execution_count": 3,
      "outputs": []
    },
    {
      "cell_type": "code",
      "source": [
        "df = spark.read.csv(file, header=True, inferSchema=True)\n"
      ],
      "metadata": {
        "id": "D9nPJThiiT5s"
      },
      "execution_count": 4,
      "outputs": []
    },
    {
      "cell_type": "code",
      "source": [
        "pdf = df.cache()\n",
        "pdf.show()"
      ],
      "metadata": {
        "colab": {
          "base_uri": "https://localhost:8080/"
        },
        "id": "s5Kwc-WkSPFm",
        "outputId": "c252a115-9193-4b72-a642-e6e3b8e72757"
      },
      "execution_count": 5,
      "outputs": [
        {
          "output_type": "stream",
          "name": "stdout",
          "text": [
            "+--------------+-----------+-------------+---------------+--------------+-----------+-------+---------------+------------+--------+--------+--------+--------+\n",
            "|     Ship Mode|    Segment|      Country|           City|         State|Postal Code| Region|       Category|Sub-Category|   Sales|Quantity|Discount|  Profit|\n",
            "+--------------+-----------+-------------+---------------+--------------+-----------+-------+---------------+------------+--------+--------+--------+--------+\n",
            "|  Second Class|   Consumer|United States|      Henderson|      Kentucky|      42420|  South|      Furniture|   Bookcases|  261.96|       2|     0.0| 41.9136|\n",
            "|  Second Class|   Consumer|United States|      Henderson|      Kentucky|      42420|  South|      Furniture|      Chairs|  731.94|       3|     0.0| 219.582|\n",
            "|  Second Class|  Corporate|United States|    Los Angeles|    California|      90036|   West|Office Supplies|      Labels|   14.62|       2|     0.0|  6.8714|\n",
            "|Standard Class|   Consumer|United States|Fort Lauderdale|       Florida|      33311|  South|      Furniture|      Tables|957.5775|       5|    0.45|-383.031|\n",
            "|Standard Class|   Consumer|United States|Fort Lauderdale|       Florida|      33311|  South|Office Supplies|     Storage|  22.368|       2|     0.2|  2.5164|\n",
            "|Standard Class|   Consumer|United States|    Los Angeles|    California|      90032|   West|      Furniture| Furnishings|   48.86|       7|     0.0| 14.1694|\n",
            "|Standard Class|   Consumer|United States|    Los Angeles|    California|      90032|   West|Office Supplies|         Art|    7.28|       4|     0.0|  1.9656|\n",
            "|Standard Class|   Consumer|United States|    Los Angeles|    California|      90032|   West|     Technology|      Phones| 907.152|       6|     0.2| 90.7152|\n",
            "|Standard Class|   Consumer|United States|    Los Angeles|    California|      90032|   West|Office Supplies|     Binders|  18.504|       3|     0.2|  5.7825|\n",
            "|Standard Class|   Consumer|United States|    Los Angeles|    California|      90032|   West|Office Supplies|  Appliances|   114.9|       5|     0.0|   34.47|\n",
            "|Standard Class|   Consumer|United States|    Los Angeles|    California|      90032|   West|      Furniture|      Tables|1706.184|       9|     0.2| 85.3092|\n",
            "|Standard Class|   Consumer|United States|    Los Angeles|    California|      90032|   West|     Technology|      Phones| 911.424|       4|     0.2| 68.3568|\n",
            "|Standard Class|   Consumer|United States|        Concord|North Carolina|      28027|  South|Office Supplies|       Paper|  15.552|       3|     0.2|  5.4432|\n",
            "|Standard Class|   Consumer|United States|        Seattle|    Washington|      98103|   West|Office Supplies|     Binders| 407.976|       3|     0.2|132.5922|\n",
            "|Standard Class|Home Office|United States|     Fort Worth|         Texas|      76106|Central|Office Supplies|  Appliances|   68.81|       5|     0.8|-123.858|\n",
            "|Standard Class|Home Office|United States|     Fort Worth|         Texas|      76106|Central|Office Supplies|     Binders|   2.544|       3|     0.8|  -3.816|\n",
            "|Standard Class|   Consumer|United States|        Madison|     Wisconsin|      53711|Central|Office Supplies|     Storage|  665.88|       6|     0.0| 13.3176|\n",
            "|  Second Class|   Consumer|United States|    West Jordan|          Utah|      84084|   West|Office Supplies|     Storage|    55.5|       2|     0.0|    9.99|\n",
            "|  Second Class|   Consumer|United States|  San Francisco|    California|      94109|   West|Office Supplies|         Art|    8.56|       2|     0.0|  2.4824|\n",
            "|  Second Class|   Consumer|United States|  San Francisco|    California|      94109|   West|     Technology|      Phones|  213.48|       3|     0.2|  16.011|\n",
            "+--------------+-----------+-------------+---------------+--------------+-----------+-------+---------------+------------+--------+--------+--------+--------+\n",
            "only showing top 20 rows\n",
            "\n"
          ]
        }
      ]
    },
    {
      "cell_type": "code",
      "source": [
        "df.count()"
      ],
      "metadata": {
        "colab": {
          "base_uri": "https://localhost:8080/"
        },
        "id": "I7JRTrohvCvU",
        "outputId": "775b20ea-9d08-40c1-e0b5-f8e1c3ee4ed3"
      },
      "execution_count": 46,
      "outputs": [
        {
          "output_type": "execute_result",
          "data": {
            "text/plain": [
              "9994"
            ]
          },
          "metadata": {},
          "execution_count": 46
        }
      ]
    },
    {
      "cell_type": "code",
      "source": [
        "df.columns"
      ],
      "metadata": {
        "colab": {
          "base_uri": "https://localhost:8080/"
        },
        "id": "Ux44325PvEI7",
        "outputId": "2be1662c-2103-47dd-808f-b9c007fd020f"
      },
      "execution_count": 47,
      "outputs": [
        {
          "output_type": "execute_result",
          "data": {
            "text/plain": [
              "['Ship Mode',\n",
              " 'Segment',\n",
              " 'Country',\n",
              " 'City',\n",
              " 'State',\n",
              " 'Postal Code',\n",
              " 'Region',\n",
              " 'Category',\n",
              " 'Sub-Category',\n",
              " 'Sales',\n",
              " 'Quantity',\n",
              " 'Discount',\n",
              " 'Profit']"
            ]
          },
          "metadata": {},
          "execution_count": 47
        }
      ]
    },
    {
      "cell_type": "code",
      "source": [
        "len(df.columns)"
      ],
      "metadata": {
        "colab": {
          "base_uri": "https://localhost:8080/"
        },
        "id": "hR0hUOquvFAL",
        "outputId": "62104597-583f-4b7c-d7ee-c7aa7d7fba42"
      },
      "execution_count": 49,
      "outputs": [
        {
          "output_type": "execute_result",
          "data": {
            "text/plain": [
              "13"
            ]
          },
          "metadata": {},
          "execution_count": 49
        }
      ]
    },
    {
      "cell_type": "code",
      "source": [
        "df.dtypes"
      ],
      "metadata": {
        "colab": {
          "base_uri": "https://localhost:8080/"
        },
        "id": "-TnakhwEvHdT",
        "outputId": "f4c4b4fd-1a6f-4a21-8d92-10417ad395b3"
      },
      "execution_count": 52,
      "outputs": [
        {
          "output_type": "execute_result",
          "data": {
            "text/plain": [
              "[('Ship Mode', 'string'),\n",
              " ('Segment', 'string'),\n",
              " ('Country', 'string'),\n",
              " ('City', 'string'),\n",
              " ('State', 'string'),\n",
              " ('Postal Code', 'int'),\n",
              " ('Region', 'string'),\n",
              " ('Category', 'string'),\n",
              " ('Sub-Category', 'string'),\n",
              " ('Sales', 'double'),\n",
              " ('Quantity', 'int'),\n",
              " ('Discount', 'double'),\n",
              " ('Profit', 'double')]"
            ]
          },
          "metadata": {},
          "execution_count": 52
        }
      ]
    },
    {
      "cell_type": "code",
      "source": [
        "string_datatype = [type_col for type_col, type_datatype in df.dtypes if type_datatype in ['string']]\n",
        "string_datatype"
      ],
      "metadata": {
        "colab": {
          "base_uri": "https://localhost:8080/"
        },
        "id": "ZJlzXOFDvIer",
        "outputId": "1deeb148-3bc5-4b06-b265-d13304e73253"
      },
      "execution_count": 57,
      "outputs": [
        {
          "output_type": "execute_result",
          "data": {
            "text/plain": [
              "['Ship Mode',\n",
              " 'Segment',\n",
              " 'Country',\n",
              " 'City',\n",
              " 'State',\n",
              " 'Region',\n",
              " 'Category',\n",
              " 'Sub-Category']"
            ]
          },
          "metadata": {},
          "execution_count": 57
        }
      ]
    },
    {
      "cell_type": "code",
      "source": [
        "numeric_datatype = [type_col for type_col, type_datatype in df.dtypes if type_datatype in ['int', 'double']]\n",
        "numeric_datatype"
      ],
      "metadata": {
        "colab": {
          "base_uri": "https://localhost:8080/"
        },
        "id": "IHLCgsA0vg2_",
        "outputId": "fc50db5c-f55e-4f5d-827a-9fd47b7aaa7a"
      },
      "execution_count": 59,
      "outputs": [
        {
          "output_type": "execute_result",
          "data": {
            "text/plain": [
              "['Postal Code', 'Sales', 'Quantity', 'Discount', 'Profit']"
            ]
          },
          "metadata": {},
          "execution_count": 59
        }
      ]
    },
    {
      "cell_type": "code",
      "source": [
        "df.select(string_datatype).show()  # select all string columns"
      ],
      "metadata": {
        "colab": {
          "base_uri": "https://localhost:8080/"
        },
        "id": "AvJUgRt2vtCQ",
        "outputId": "da77338f-f963-4a7d-9158-aec073ea042c"
      },
      "execution_count": 61,
      "outputs": [
        {
          "output_type": "stream",
          "name": "stdout",
          "text": [
            "+--------------+-----------+-------------+---------------+--------------+-------+---------------+------------+\n",
            "|     Ship Mode|    Segment|      Country|           City|         State| Region|       Category|Sub-Category|\n",
            "+--------------+-----------+-------------+---------------+--------------+-------+---------------+------------+\n",
            "|  Second Class|   Consumer|United States|      Henderson|      Kentucky|  South|      Furniture|   Bookcases|\n",
            "|  Second Class|   Consumer|United States|      Henderson|      Kentucky|  South|      Furniture|      Chairs|\n",
            "|  Second Class|  Corporate|United States|    Los Angeles|    California|   West|Office Supplies|      Labels|\n",
            "|Standard Class|   Consumer|United States|Fort Lauderdale|       Florida|  South|      Furniture|      Tables|\n",
            "|Standard Class|   Consumer|United States|Fort Lauderdale|       Florida|  South|Office Supplies|     Storage|\n",
            "|Standard Class|   Consumer|United States|    Los Angeles|    California|   West|      Furniture| Furnishings|\n",
            "|Standard Class|   Consumer|United States|    Los Angeles|    California|   West|Office Supplies|         Art|\n",
            "|Standard Class|   Consumer|United States|    Los Angeles|    California|   West|     Technology|      Phones|\n",
            "|Standard Class|   Consumer|United States|    Los Angeles|    California|   West|Office Supplies|     Binders|\n",
            "|Standard Class|   Consumer|United States|    Los Angeles|    California|   West|Office Supplies|  Appliances|\n",
            "|Standard Class|   Consumer|United States|    Los Angeles|    California|   West|      Furniture|      Tables|\n",
            "|Standard Class|   Consumer|United States|    Los Angeles|    California|   West|     Technology|      Phones|\n",
            "|Standard Class|   Consumer|United States|        Concord|North Carolina|  South|Office Supplies|       Paper|\n",
            "|Standard Class|   Consumer|United States|        Seattle|    Washington|   West|Office Supplies|     Binders|\n",
            "|Standard Class|Home Office|United States|     Fort Worth|         Texas|Central|Office Supplies|  Appliances|\n",
            "|Standard Class|Home Office|United States|     Fort Worth|         Texas|Central|Office Supplies|     Binders|\n",
            "|Standard Class|   Consumer|United States|        Madison|     Wisconsin|Central|Office Supplies|     Storage|\n",
            "|  Second Class|   Consumer|United States|    West Jordan|          Utah|   West|Office Supplies|     Storage|\n",
            "|  Second Class|   Consumer|United States|  San Francisco|    California|   West|Office Supplies|         Art|\n",
            "|  Second Class|   Consumer|United States|  San Francisco|    California|   West|     Technology|      Phones|\n",
            "+--------------+-----------+-------------+---------------+--------------+-------+---------------+------------+\n",
            "only showing top 20 rows\n",
            "\n"
          ]
        }
      ]
    },
    {
      "cell_type": "code",
      "source": [
        "df.select(numeric_datatype).show()   # show only that columns who is having numeric values"
      ],
      "metadata": {
        "colab": {
          "base_uri": "https://localhost:8080/"
        },
        "id": "aMkDpJ3BvxcG",
        "outputId": "e064e6cf-bdfe-4005-ec95-ac9ccb914ed6"
      },
      "execution_count": 63,
      "outputs": [
        {
          "output_type": "stream",
          "name": "stdout",
          "text": [
            "+-----------+--------+--------+--------+--------+\n",
            "|Postal Code|   Sales|Quantity|Discount|  Profit|\n",
            "+-----------+--------+--------+--------+--------+\n",
            "|      42420|  261.96|       2|     0.0| 41.9136|\n",
            "|      42420|  731.94|       3|     0.0| 219.582|\n",
            "|      90036|   14.62|       2|     0.0|  6.8714|\n",
            "|      33311|957.5775|       5|    0.45|-383.031|\n",
            "|      33311|  22.368|       2|     0.2|  2.5164|\n",
            "|      90032|   48.86|       7|     0.0| 14.1694|\n",
            "|      90032|    7.28|       4|     0.0|  1.9656|\n",
            "|      90032| 907.152|       6|     0.2| 90.7152|\n",
            "|      90032|  18.504|       3|     0.2|  5.7825|\n",
            "|      90032|   114.9|       5|     0.0|   34.47|\n",
            "|      90032|1706.184|       9|     0.2| 85.3092|\n",
            "|      90032| 911.424|       4|     0.2| 68.3568|\n",
            "|      28027|  15.552|       3|     0.2|  5.4432|\n",
            "|      98103| 407.976|       3|     0.2|132.5922|\n",
            "|      76106|   68.81|       5|     0.8|-123.858|\n",
            "|      76106|   2.544|       3|     0.8|  -3.816|\n",
            "|      53711|  665.88|       6|     0.0| 13.3176|\n",
            "|      84084|    55.5|       2|     0.0|    9.99|\n",
            "|      94109|    8.56|       2|     0.0|  2.4824|\n",
            "|      94109|  213.48|       3|     0.2|  16.011|\n",
            "+-----------+--------+--------+--------+--------+\n",
            "only showing top 20 rows\n",
            "\n"
          ]
        }
      ]
    },
    {
      "cell_type": "code",
      "source": [],
      "metadata": {
        "id": "yAurmFynwHM1"
      },
      "execution_count": 64,
      "outputs": []
    }
  ]
}