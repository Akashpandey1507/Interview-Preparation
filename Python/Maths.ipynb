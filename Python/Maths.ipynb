{
  "nbformat": 4,
  "nbformat_minor": 0,
  "metadata": {
    "colab": {
      "provenance": []
    },
    "kernelspec": {
      "name": "python3",
      "display_name": "Python 3"
    },
    "language_info": {
      "name": "python"
    }
  },
  "cells": [
    {
      "cell_type": "code",
      "execution_count": 36,
      "metadata": {
        "id": "2FoEKWUKMzml"
      },
      "outputs": [],
      "source": [
        "import math"
      ]
    },
    {
      "cell_type": "code",
      "source": [
        "num1 = 45\n",
        "num2 = 60"
      ],
      "metadata": {
        "id": "kkH8KBlWM-OX"
      },
      "execution_count": 37,
      "outputs": []
    },
    {
      "cell_type": "code",
      "source": [
        "num1 + num2"
      ],
      "metadata": {
        "colab": {
          "base_uri": "https://localhost:8080/"
        },
        "id": "ROeA49BlNCTr",
        "outputId": "511718ff-182c-4824-fd70-fa342e761021"
      },
      "execution_count": 38,
      "outputs": [
        {
          "output_type": "execute_result",
          "data": {
            "text/plain": [
              "105"
            ]
          },
          "metadata": {},
          "execution_count": 38
        }
      ]
    },
    {
      "cell_type": "code",
      "source": [
        "num1 - num2"
      ],
      "metadata": {
        "colab": {
          "base_uri": "https://localhost:8080/"
        },
        "id": "JQeZbFWUNCRD",
        "outputId": "6ba04d2d-0d37-4d0c-e44a-dff07d2c4e75"
      },
      "execution_count": 39,
      "outputs": [
        {
          "output_type": "execute_result",
          "data": {
            "text/plain": [
              "-15"
            ]
          },
          "metadata": {},
          "execution_count": 39
        }
      ]
    },
    {
      "cell_type": "code",
      "source": [
        "num1 * num2"
      ],
      "metadata": {
        "colab": {
          "base_uri": "https://localhost:8080/"
        },
        "id": "_6b539IANCOr",
        "outputId": "02db0599-8af6-4aea-cc1a-74ed701afd27"
      },
      "execution_count": 40,
      "outputs": [
        {
          "output_type": "execute_result",
          "data": {
            "text/plain": [
              "2700"
            ]
          },
          "metadata": {},
          "execution_count": 40
        }
      ]
    },
    {
      "cell_type": "code",
      "source": [
        "num1 / num2"
      ],
      "metadata": {
        "colab": {
          "base_uri": "https://localhost:8080/"
        },
        "id": "sW5L_N-KNHcj",
        "outputId": "2999f572-f763-4b66-ee7d-55a0bb933c9b"
      },
      "execution_count": 41,
      "outputs": [
        {
          "output_type": "execute_result",
          "data": {
            "text/plain": [
              "0.75"
            ]
          },
          "metadata": {},
          "execution_count": 41
        }
      ]
    },
    {
      "cell_type": "code",
      "source": [
        "num1 // num2"
      ],
      "metadata": {
        "colab": {
          "base_uri": "https://localhost:8080/"
        },
        "id": "JY_sZPVVNHZ1",
        "outputId": "84fd18df-f951-4c7f-c228-6c451cdea54e"
      },
      "execution_count": 42,
      "outputs": [
        {
          "output_type": "execute_result",
          "data": {
            "text/plain": [
              "0"
            ]
          },
          "metadata": {},
          "execution_count": 42
        }
      ]
    },
    {
      "cell_type": "code",
      "source": [
        "num1 % num2"
      ],
      "metadata": {
        "colab": {
          "base_uri": "https://localhost:8080/"
        },
        "id": "M4HxO_YQNHXb",
        "outputId": "5c6182a2-8466-49f6-8260-7ee6cabfdad6"
      },
      "execution_count": 43,
      "outputs": [
        {
          "output_type": "execute_result",
          "data": {
            "text/plain": [
              "45"
            ]
          },
          "metadata": {},
          "execution_count": 43
        }
      ]
    },
    {
      "cell_type": "code",
      "source": [
        "num1 ** num2"
      ],
      "metadata": {
        "colab": {
          "base_uri": "https://localhost:8080/"
        },
        "id": "DoOXdBxCNHUz",
        "outputId": "c3b9cd14-c302-4cf2-df66-140b5c856959"
      },
      "execution_count": 44,
      "outputs": [
        {
          "output_type": "execute_result",
          "data": {
            "text/plain": [
              "1558657976916843360832062017400788597510058834953945635510598466400011830046423710882663726806640625"
            ]
          },
          "metadata": {},
          "execution_count": 44
        }
      ]
    },
    {
      "cell_type": "code",
      "source": [
        "# use of math.ceil(x) - this is rounding off\n",
        "\n",
        "math.ceil(60.9)\n"
      ],
      "metadata": {
        "colab": {
          "base_uri": "https://localhost:8080/"
        },
        "id": "6uOx4crFM35f",
        "outputId": "3bf13f77-7658-4ee8-c966-5116bb75c3a3"
      },
      "execution_count": 45,
      "outputs": [
        {
          "output_type": "execute_result",
          "data": {
            "text/plain": [
              "61"
            ]
          },
          "metadata": {},
          "execution_count": 45
        }
      ]
    },
    {
      "cell_type": "code",
      "source": [
        "math.factorial(6)"
      ],
      "metadata": {
        "colab": {
          "base_uri": "https://localhost:8080/"
        },
        "id": "ndGU3zZGM322",
        "outputId": "de27fc2c-6d5f-43e0-b279-d4d78a350696"
      },
      "execution_count": 46,
      "outputs": [
        {
          "output_type": "execute_result",
          "data": {
            "text/plain": [
              "720"
            ]
          },
          "metadata": {},
          "execution_count": 46
        }
      ]
    },
    {
      "cell_type": "code",
      "source": [
        "math.floor(60.9)"
      ],
      "metadata": {
        "id": "OOkjdZbBM30O",
        "colab": {
          "base_uri": "https://localhost:8080/"
        },
        "outputId": "8c65b7b0-6e8d-4d97-e08b-9e3cc24bdf3c"
      },
      "execution_count": 47,
      "outputs": [
        {
          "output_type": "execute_result",
          "data": {
            "text/plain": [
              "60"
            ]
          },
          "metadata": {},
          "execution_count": 47
        }
      ]
    },
    {
      "cell_type": "code",
      "source": [
        "math.pi"
      ],
      "metadata": {
        "id": "QhT3o_SYM3xn",
        "colab": {
          "base_uri": "https://localhost:8080/"
        },
        "outputId": "786299fc-499e-4515-9a2e-ab718d4f6751"
      },
      "execution_count": 48,
      "outputs": [
        {
          "output_type": "execute_result",
          "data": {
            "text/plain": [
              "3.141592653589793"
            ]
          },
          "metadata": {},
          "execution_count": 48
        }
      ]
    },
    {
      "cell_type": "code",
      "source": [
        "math.nan\n"
      ],
      "metadata": {
        "id": "_L2djBOyM3vB",
        "colab": {
          "base_uri": "https://localhost:8080/"
        },
        "outputId": "431669d8-0e14-4bfb-9457-38c1ce28ca44"
      },
      "execution_count": 49,
      "outputs": [
        {
          "output_type": "execute_result",
          "data": {
            "text/plain": [
              "nan"
            ]
          },
          "metadata": {},
          "execution_count": 49
        }
      ]
    },
    {
      "cell_type": "markdown",
      "source": [
        "Radius Formula of Circle"
      ],
      "metadata": {
        "id": "VGV4xN_WbIl5"
      }
    },
    {
      "cell_type": "markdown",
      "source": [
        "![image.png](data:image/png;base64,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)"
      ],
      "metadata": {
        "id": "pv8cDGFobL74"
      }
    },
    {
      "cell_type": "markdown",
      "source": [
        "![image.png](data:image/png;base64,iVBORw0KGgoAAAANSUhEUgAAAt0AAAEvCAYAAACZhX19AAAAAXNSR0IArs4c6QAAAARnQU1BAACxjwv8YQUAAAAJcEhZcwAADsMAAA7DAcdvqGQAAGgYSURBVHhe7d0PXFR1vj/+165f5lrQprTaWEpZmIbZRf0tuo/AW5CtxI3yIeqKIUtoRoZYQi1Sa1jIbqiJZEhp5JqYiled/bpDa1Ir+EjZrzY3VwqlLNSc9Ep2HVbvcFl+n885Z2BmmIEBZgTs9Xw85sH5fz7ncz7nnPf5nM85/KRZABERERER+cxPtb9EREREROQjDLqJiIiIiHyMQTcRERERkY8x6CYiIiIi8jEG3UREREREPsagm4iIiIjIx/jJQOq6+lpU7a/AoTMWYOSjSH0wSBtBXdJUh/I1BSg2WRAydTFSHwtGgDaKiIiI+jYG3b1GNYoTc1Gu9UVmbELSPVpPr2OBaW0KsnaZYdWG4JE87F0YqvWQe477OTg+H0t/Fah0126ciZT36pVuiHA7bs1OzL9b6yUiIqI+zctBdz2Mr6ShpFbrbYd9sEGSCQWTM2DQ+mJ/vxep47WeXqb+wywk/KGqNeCWekPQ/fdiJOTZwllneoSEhWD0xGhMCdVD108bfNU57ueQBZuQ/5he6TatjUHGrtZcjXxpDzIn6bQ+IiIi6su83KbbisbzZpi/7fhXf9khZKM+ox6Ve+wC7kGReG7dJuyc1wtquf/H4rKsqT8TyneVoOC3CZiamA3DcYs2U+8ROnU+Qq9Tu3XjU5F0HwNuIiKiawVfpKROqsM3f9c6hZAZSYi+U48ALVjsC6zfVaLg2SwYvtMG9Ba3xCLPsBd75O/3sdD3WG08EREReZuXm5eYYViYgILP1T77R+ces9ajtroWdV8fwze4DaNvD0JwSDAC3VT6WS0WWJu0nusCECCnaxLLOFqL+huCEXan2oTF+oOYTukCdAEBSvMCa30tqo/Xq8P7B7pej9WM6iN1UOtFdQi8KxTBblrFuFpHG5ctsLROZBeseti8RNs2mT/m60YjJDgYIbcHqttjnxcOy7ZzuQ7V/2nGNycP4fvACQgO0iP0riDPmltYRdovV6Egzq5N8hOFyHtY7ON+OgQome/ER/vTpcMFmPzblhxE3t5UtNS/N1lRt38lMpaXo6XV9LR87HwqROtzVP+lCbV1dThm9sPou0e0plnJA3UaWR4CbnS3Iep2n/j8GBr1oxE8MhQht8hp3TcvkWm0tBYOh2V3r2zZ6eT+ICIiIu/oPUG3pRaGNbko+qiutelCCx2CH16MzIWRCHIINtqub2lgCdL+YIRZLqSlnbFTQPvKBgTvzcIb++1eBJREoBKWmIfMGcEIaLLA9F4Gst6rdUqPDvpJ87H02VgEO3xawrOg2bRmMjL+pPU4tIPuaH4LanetRPbbleq22dHdHI5ncpPQmJfckhdt2ljL/H09G0XO2yzp9Ih+IR/PTWq/jb15VxoS1lZrfU7uTsWmNbFo2ds+3Z9utBd0a6rXTUXaDq1pyS1J2LAxHvbfXLEcN2DlsiJUfuecyXqEL8xB0uWVSG7JAxfrcFtuxCLuikfO8tGoiMtyHXS7TX93y5Ygblyq3s5C9o626ZL7I3RePpbKcq8NISIiIu/qHc1LLCKoeDIFBS4DNMmK2j/nIiWxAKZ2muLW/1VM84oWoLWj7JUUrHIVfFotIjBJQfLbVaham4wMF4GTTIt5fwHSXjLAbKuRvQpqt2QgbW3bgFuSzSVWPZWBzd9qA9oQwexLaShwtc2S1QyjyJOCw15q53yV92dnBOrtQuxvL7TUeiu+LEHGswVtA25J5FHlihRkbKvTBrgiv+rirtyIRRwXy09ZiUqt/+qxwrQuBVkuA25JjH87TfkaDREREflGLwi6ZUCYBcN5rVfWJIfFIXVJDnLSkxB5l90j9u8MyMptbR7gzPz3arfj7FmtIvS4LhiRTzyHnFeeQ9IDwWKtreq3ZSHrT2JJugCEPJCE517JwXNPRCLY7nG99e8FWPmhJ2vzgs+LkPWOfcCkQ7BdukJkMwRrPep/0EY7+3w3iv9umzsQkUs2YGfpTux8Jw/x421bXg/DujK0F1IGhiWJ/EpyqNnVPyzzUOyrJ8LEkqWrvz87o95st4V3DmmtmW+qRtFLxai1i0p1d0UiKV1L9z0BYkusqD/v/i6h/sNctdzY6PQIm5aKzFcykTotDEGy/JwX+0kde/X8UIntu2xr1SEkMR+b5P5/rxDP/UqvlX0rqt8uRmVL0xkiIiLyJp8G3bXvZSAhMcHx94rRMej4u31AKAKCBRuwKWc+Yh8IQ9iv4pG5disKE0O0wECEBlUF2G73Ip8jEeD96jkUbt2DvXv3um+KMCgWeSWFyJwVjbCJ0YhfUoitv4/VgkabQMQu24T8JfGInhiG6FmZKCzJQfSN2mjBtN+ktfX2JSsqDQa7PAtBvMwTu3Tlb92A1Htag1ln1vr61nTeOV3cZAQh4MYABAwLRdLzixF5ix56+bMew7GWYLkt3S2hIr9CHJpjBA4fK4aJfSU/wycH9MT+9IRsy/xBLrJtTUuEoMiwlqDbenC33Y2CyOXHRZlYm4n4X2npfn0nNixoTXdbdSjfavdVlxsjkfnuJuQ8FYvIiZGIfSoHG0ryEDtIG381fW8Wt0I2UZg9KwR6uf9vDkb0s5mYfZe2/39ejRNfapMRERGRV/k06Lb+4PzZNvE732hXYysC178aWgPC25OwuE0b8AAEzxJBW0uwa0HZJ27aFYv5c9KjEdzBW2EhM6Yj1KnxasD46Zh+p9Yj3T0b08c7TxSGOPv0nTb7vtayyYSqD1tzTP94KpLuckpXPz1iX3qmTftlG11gYGtb3S+Lkb2uHLW2hAeK4HDjJmxSfksR3c2gsCf2p2sGZEyejMm2X8xMpKywq1UXN16pj7TePpg+KW8tl7fEI/Xxtu2b9Y8txTPuvp3+bRX2fa11C+ELUhHpnJcBoUhdEnf1200PFAG11gnsQ8HyUpi+1ba2n7yJs+3/3vwPmYiIiPq2Hm5eYkZdTWtAqQsNdqhFbSECgwmTtG7BUl3rMtjV/1uY6/mdBA9zDgQlPYLtP2QRHGQXqLTSBdjVhzu3CfaF/zLjG61T1vyG/Wuw1u0kcCwi3P33wrsfFcFUS90yanfkImXmZMTMTEHWOgOqvvTWVvTM/uwcHYIeSEXhW6kt38SW6bZvdaILG4tgl19zCcTYia6/doKzZ9H6P6FCMPYeN6H1PRMQqXVeNTeGY/pjtnIr30koQkZiDGLiEpCxvATGz82tX4whIiIin/Bp0C2/zKA0C7D/2X/hwknwre7GOBEBQmto1yrQ1SfrrilBGDJY6+wUPWJXbELOtBD1E3wa+cnEqh0FyHpqJmIWFMPkrk14F/Xs/gxFktbWvHUpAYh8eSs2LHH+8oyjIL2H6XbrNujb/xDMVaZD6IINKFwQqbYr18gnUaaPirFqofoPg4yntBFERETkdT1c0y3CIbsaxeo6d19PkN8v1jqlGwKu/iP6TrI0uAoju8BhD9XihP2bfg5EHrUXNPcLRNhT+dhp2IOt63KQOisSoXbNNpQva6SXtvsiZcd60/4MQohsaz4rFfNbngBYUL52M6rb1Oo6pru2xt1XPkTKLW6eCoj5W3PzU9S6C2Dlt7S1zq7qWtkKQPBjmdgg//HOO/l47olohN0uXw5VqV/AyeWLlERERD7Sw0F3IELH29Uq7q+AydVFv74SxgNatxD0r73xe8KBuOkWrVOoqm5tbNCqDtWHtU5PDQpGiN3Lm5UfVLpu0vK5EbvdfTJQBno/aD+rDoF3hiH2iUzkbd2DnWvj0dJg4uvdqLRrl9x5vXF/6hGbEidSpjlfiqI2n8aT/xjJLgUHjKh0lclN1TD+2c2NxPDRdm3qzdi913U79Xq5bK3bc90sW/If+tj2v8UK3bAQRM96Djlv78Se9zIRaStf1nJU/M1LN4tERETkoIeDbhFw/dujre12fzAgd0254/evf6hFySsrUdUSC4Qi7kHvt/TtPj2CQlrrOi1/KkLJccc6zbodK9v5lrY7IYh6pLWtgrVqJbLeNsFin0enjMh+pdRt+/Lq9xIwNW6q+ltYgjq7eQPunGAX1NfjwkWts4t65f68OwmZj7QG1dXvFKDcKbNC/s3u6zXWKqxcUuTY3KapDsZXslHq7usuN4Yh6r7W/V+/LRvZHzg+N7CYipD1ut0XTjzWvbJl2Z/buv9nrkSl/aw3hyLU7jUBswjMiYiIyPt6POjGsFiktrzkJYKVD3OREDtV+8TgTMTEpTh9gm4xontVe1kbHcJjYltrbK3VKF4wE1Mfz0Du8gwkzIxB8rrqLgRcQPC0VES2xFxW1G7LwNSpM9U8enwqYp5Yhcp2PvUXMnl6ayD8dTFSErNQ/EEVqj4yYNXCDJTagktdOMaO1Lq7qlfuTx1CH09FWEtbChFUr6t0bOZx13SkPtAa2Fq/LEVGXAxmap+6nBqbjFUH3N3WSAGI/M3s1nwWNzCVK5KVlxWVbRf7f2pGqcN3wD3XvbIVMDG6tfxYy5Edn4JVu8pRddCI4qw0vNFSQx6EiNBeeXARERH1eT0fdMuA6Kl8ZN5nd7G3WrRPDNbbBRI6BM/IQ46n/1a+J9wzG0tF+uxCN1i+M6H8IxPM9WJLdCEIcfeFkfYEhCP1D3EIbl0wcLlezaPvLEoe6e6JRbT9Jw/t3R6PnIWhLemyfleFkhVZyFpeAONxWw6LAHheEsLtXrTrml66PwMjMX9Wa0hs/agAxabW1MigOXxhHuLutM9kK+q1T11alEwOQeyv3Hw9RpL5/EJ4a4250PLZTLn/hcBHYhGudHVSd8qWLD/LYqG3zXy5Fsa1uch6aRVKqlr/S2ngI6mYMkzrISIiIq/qBUG30E+vfFVi0yvxCBtmH/RIOgTcE43n5D9VmRfiw7a/3hCA0AWbsOGVOPW/RLaQ2xCHnHfzkdROzNaegHvmo/CdHMSH2QdegvyvmdNysGnFdMeg3In+kTxsXfscopX/rOhINywM8TmbkO+tALiX7s+gaal23wevh2FtqUNTGwSEYP7aDch5PKw1QFW07r/p7WWyoH9wKTa4yufrghC5oBAbFkQ4BOWe617ZChifik2y/EwMarv/bwxBdLpIm7gx693HFxERUd/1k2ZB6+495Itf2gt4ugARvLj8ZnIfIF9glJWQ3t6GJvn1D6XqFQEOAZiHWuYXrgtw+IygT/TR/Wn9QXuK0NU0t2x3F/dTe7pTtuz3v7hpC+j20w0iIiLqSO8MuomIiIiIriG9o3kJEREREdE1jEE3EREREZGPMegmIiIiIvIxBt1ERERERD7GoJuIiIiIyMcYdBMRERER+RiDbiIiIiIiH2PQTURERETkYwy6iYiIiIh8jEE3EREREZGPMegmIiIiIvIxBt1ERERERD7GoJuIiIiIyMcYdBMRERER+RiDbiIiIiIiH2PQTURERETkYwy6iYiIiIh8jEE3EREREZGPMegmIiIiIvIxBt1ERERERD7GoNvbLHUo31IM43GLNoB6mvWy1kFdd9kCi1Xr7o4mK6xNWjd1Xl/PP5F+yw/eKEhEV9lVPvZ43bo2eTXotv4gLszufloBqv8gGwmJxahWe71POak7rdsr0YJr1e8kiO0Rv3fULarekobcd0qwakEuyn9QBvmU1eK0rS2/Pnph+3uxmp+vGFGvDeqO2o0zERObjNJT2gDqHEs1ihfEYHLsVGT92awN9JxyvLfsy1oUJ8Qg5qlS1Cn91Dl9O//MH4qyEBuDqXFFMGnD6GoRx7E4rxb/Xev1mDpf9gfeOBv3ZVf32ON169rlxaDbhKK4qeKE6ub3tnqatV6uh/lbC3wWEpqK2q57qjhY4tJQVOX9E4fVYhbbI35aYK8PDoVO/NXdMwEhNyqDfMiMsiVO29ry66MXtv+xqPl5vtErZUR/TySC7wpD8M+1AV1mQsHkyUjb1fnAsy8zf1iEkq9D8dx7e5H/mF4b6jnleG/Zl3qMnRSM4LBg0dWLfWdAmtjXBYe1/l6jj+SfK00mbH+9ErrH8rCzLBWh2mC6WqywiPOq5X+0XhfMu9IweXKB03VDna/+ch+txPGaq3vsee+6Rb2NF4PuUKTu3Yu9ym8TUu8GQhZs0vrFb+FVPs3eGILox2IR+1gkQm8OAH6oRmlWCgpMvj15BD6wFHvE9u55PfaqXhiDJspttf+NRqA27scsYPx8FK6dj9DrtAHUKea6auDOCRh7szagWwIQ+lQhCuepN6bUWX04//6rDrXi1Bs6LhQB/bRhRH3G1T32eN26dvVYm27rD7UwLE9BQlwMYmYmIGNdFczO7aWaLKj9YBUyEhMwM24qEhIzsOqDWlg8aVd1SxTiF6QidUEm8t7bhKW/EoE36mHYXomW1tZy+btykSzSMHnyZJGODKU23OTUZEThZto2IXyb5hHq4zk5zPHRXj2Mr6jD7R/d1VcVIWOmuo7Jk2OQ/FIxqs5rI9sR+pjcVvtfJIK0cWiqR9XGrJa0T46diYzXjah1aP5iS2c2jF/LfZOMqc8aIOt11SZBMj8q7fIgBlPn5cKgtV03H2xNt5I3B+1rhDuXB644LD8uGbm7alFnS1c7TVEcmzNp63vHBMtxA3IXzESM2I6ZC7JQ7JBeZzL9uSgTXbXvZbRdpwfl1JYOk1buZ/7WPm/lcBNKXhLD5eP3x1OQtbEK9XJ+bd+liG2PiUtAiqvyIJZpfF2ka+ZUMa84luS+9eCVAvPBYmQtaE1z7hb7Y1DNq9wPReeXxcq2ORwPzprMajoTZ2KqLZ3faeNa2PLfaTnfVaFYbLuafnXbzWK75bSt5cL2mNuMuo9EXj8+FTGiHCdkrGp5f8Jy3IhVGQmYGiP2qW0fKGPstKRTTBcn5nfe9+eNyF5cjFrRWfaaSKvzdtvSKtY/VZy32m5n2zKW4enTEac8bJO2NvnXwboc8tVVWm152vboUZrNtZRxu/WYSkSZEcdNjCgzMn22p4fn1XW1Kb+SPCc65Kk4x9iVYdt+cyi/9ucm5Zwq5vlW5M86Uc7j7GpjPblGtJlfPZbangNVLekRy5splutyuu5cm+w4rsu2DHW/tJwru5V+z9Ilz0MZ7yl7CLli3W3P1Vb1HCzKprrvW8/9Djo8Ptxwc/5Qzo+uymF75b2DdXuU5204H3uCLc326+voWm1XbpTzj+38pezj1ma39tctq6kIySKdBhdNTep2ifKwsATVtkCko/Ob0OZaFCuv2bbzrjZROzzNP9t0DseHNu7HrIeC7kqsXJCNT4OnIzV9KRbPGgvLn0RQmK4GIiozjFkzkbL2BILjU7E4PRNJU4fgxFpRSLKMdtN5IgBBwVoIesmi7XgLTGuTxfLLUae1f7bWm1CalYAscSDbNxlpb9rsD5TeVm2aR6iP5+Qwx0d7VjSeV4fbHt1ZTQVIySqFSZxhAm/RQ3+jOKgOiotcmrjIdPWlCnEQGtLFNr1X1ZJ2XBY3Fn9ehZSUbJS3nJRs6TTh3SVpKPioruVErTYJEuN25CKtJQ/E9F+Xo2BBMrJfSRM3BzLddnnzUjLS/mTbS57ngSvysafD8n+oQ/naNLE/xElCLredpiiOzZm09X2Yi5Rln2JE3GIsfWUxZg+vd0qvMz0iUh5FiOgKvC8eqSnipuaRsaJUSZ6VUzUdlShIT8PuyyMQPi5ImV8dLi50C1bixJjpWLxkKVJj9ajbJk6cIq/ldhbUjcX0Z5di6YJHoT9ZqpYH29lLnOyKUlLwRk0Q4p/NRGbyowg4/AZSni1BndsTqCjPa8QJ+ZVyICy+Jc11W8QxmGhbdgDGPpKKR+VG/zwC8XKb/83Ns5vLJhQlJiNrRz1GTJ2PzPRUxAbXomBeGrbL6s0WWv7bvWMhLygJT2ShtH4Epj8l0v9MLIKPF4hzwWZ8fsa+XKhlyLQxDWml/oh8JhNLl/wG4f/Yh1XPivkPinxZYoD/g6nIfGkpfvNLC/atSFOO5RZaOrP36hD1GzFd+mLEhwHlryQjYZ1JLSMBY/FofITylChEbL+yr7XtVtMqjhldFJLE+jOfjUfYP8uR/UQCilqeoGnb+EkB0tJ3wxIcjgm3qyWlXQ5pW6zkYXyYFWWiXLakrU3+uV+XQ1pluXhGpPVKGbKc0uqu6YDSbM7uHNZy3Kw4gbHyuHlJlA19nfr08CNxHni2AHVtyq8IjuTst0Qg1SFPH8VYLUvMf84QN71v4MSd4rhSyu90DKkV5TchA0bbuUk5p9aidKm42a4JRNgDtqd4Hl4jlPnFeS09BcWIVK45S+dFAn+T50DHc6tDesTyFv9GpKfGKT2errcDtnV9qotEvLKuCMAgznVr96HO/lzZhfS3XWaFFri6FjDmUcTfp+whPCrLvPhF3KKOk+q2ZSBlExCZIvf9k4i83qSc++2fHHt2fLjQzvlj81EX5bCj8t7Ouj3O8zacj716lP9OpPkDcbwmq+sLrRfnoN/kotJtZKmVmzWfQhcZr5x/ku4Tq08X+VheJ/Zxa7Nb++uWbkwEwhpM2P5X59bkdajcKY6xkFCEyOp3T85vQus1R43BFi/JETHYCNSLY9YxBmvL4/z7XNwoyOPodu36EhOAT9ekIO09vs2DZp8427w79cHmhTvPav2tzu5c2Pzggw83L//rJW2I6tJflzc//OBjzeuq1f7/qZT9C5u3n1H7W5zZ3rxQzl/5P9oAJ/9vjVj+g80Ppu4WqdBcONb8jkiPHD7j3RPqsJp3mmfI6cSyFm460Xzpf8Ww/73UfGLTQrFeddoH8z/t/LRt1v9p8xptmjX/TxmgUfNIDrfl06f5av9TpVrK//eb5s1zXc1r07qMJ15c07zmDe239dNmW+5+s/UJZfyDs5Y37zNrAy9+2rxu/sPK8Id/X9Gs5mRrOh985KnmdWWHmg99elYZp+4zOW5h8zs12pIvnmjJUyVfSr9Rh//v2eZ9v5+hDp+2rvmYMtDzPGiTfxf3Nb/8sDrNjN/vaz4r8144W75c2yd207qgpn2NSIHSp67v4eXNFQ7F71JzRY7Ij5b0uqJug3OZ9rSc2sr9krILSr+Nu+PhQlm6sm0P51S07EvFhT83p9unw7xbrOeJ5u11aq+ibndz+hyRplqt34ma5hliXzius/lSRfNykdcz3mrNBaVMtpO/klLGHl7YvNtlHtjPr+W/7Vhp/qZ5uyjfDy8S47X9anO2VC1zrfmtlaG5m5u/sZ/2f481r5smhos82HxSG6Y5VviYSJfY99r0SjqnrWw+5LzZh1Y2P2afh0qeOpdVNa2P5R1y3B+i71CeWM/c7WIKyVbGljT/+ZwywCPu0qaWA5G3yrHrnH/u1uUurRea//yCmN7p3ORcpiXH/e7uuNGW57b82tItuMrTf6jlbaHtfGcjziHbxfpazk3aOWFGoePR6fE1Qpv/iU3aOcrm5ObmJ8TwJXu1tLtNj1rGHtbyvcvXJnvaumaIZTrmnFae7POqk+n3aJkuOJ4rbdwdd9q1ack+bV2eHh9tdfr84XF5d1p3t/LH+dhT82X5J1qv9I9DzWvmPN68stJx6Tbuz7uHmlcq57DWvHfeF8feEulzvj4dXedw3vL0/ObumuMcg7XRifxT1uG0z7/Zmd78eOr2Zi0C+9HqoZrucET8wrH2J+AXEWKoBXVn1NtE0yflsIY9iil2d9uKW8IRdbcV5YftHvO48nkBEpQmGuI3Mw0ln4s7xptjkTktWBltPlql3vmPfwZLHw9W2xn2C0Dw4+Lu83Y5olVnpu2OQL1aG1+7MRurdlWh9gc94t9W28SnjldGuVV30ADDLu1XWafWMIl7VpPolkIT5yPS1i73xlDMfyZWrWn9sAJVDrXoOsQuLcT8X4UhLFTv2H7tgemYfZe2324Mxuy4SK07FvOnaU8S+ukROfNRtT37Dw0dPtbsUI0JlfIW/cY4LE2PhF5rD6p/YDFSH+xi67r7IhDmUPwCEBYeLtJbB7OLx7Xt6Vw5DUf0JFct7dseD4GhEUrNenh4mFajrgkci4i7geo6rT7iZ4HQ6+qwfYMB1dqTAAyLRd7GfMTdqfY6U9J892xMH++4TgSEY/YsPeo/qGh5zNkxM6rK66D7VRJi2+RBLKY/oHW78m0V9n2tw5THY1v2q43+4enQSpcD/b+FI8h+2n4hmDBJ/L0lCuFOx2LIL8QSrLWo+y/Zp6Yz4FdTnPa92OywSLGuOlQcbqeOR0lrAKbEOO0PWXYeEOv5ugKmlppQ4b5oRA3SujvkPm2Bv8oTx38+YttrU++8LrdpDUT078X5ZE0X3zdpc9wEYuxEpZS6Kb/V+Oa0NsAVcV4tt4bh0QedUiPOIeGRIeLc9KldOdTj0SlyXa06d+zpERXe0uBOdbuYTsxbfVKrfXObnhDML92LPdp7Sd2+NknKukIwe2Zo2/IUN93F/vE0/Z1ZpufaHndBCJdPgGpOqF/z6Ozx0aIL5w+Py7vTur2aP4EYIs43le8WoOqUdt69LgypGzfhufscl27j/rwbhrgOXlIPmTIbQT+UocKu+UZ1ZRks4+MQOUz2dfb81nEM1kYn8i9wkIgdvt6O4l3VsF2Wgh7Lw6Y1cVAjsB+vHgq6AxDg/ILAdWKY+GOxyB1uhlkeyVW5mGoLnFt+CSgQAXSHlBcpw1raNQfPysfWjakI1UqL+YxsvybcMkR7VGkThOAxWqemM9N2R9C0PCx9OAi6y7Uwrs3S2vF69tWVyCU7sbNU+y2foh0AZnyj5VXQz52CvUFDtLwxo/6/lQ5NMG4bqnU6CwhwCMJ1/lpmOueL2Jdq/zcwKwFP15m//UbtkOtwCMx0CB7ZxcPXaTskdVsssFxR+z3T2XLqotwr3A0XY/w7uLG4LhyZ6zIx4Ydipc27bO+etVE2AdLGt6GlOTjI5UVGFyD23A/WlkeRHTPj7JdycS6X1v4+OnsWte7K23XBGOHipiEwwE1+3Nh2nzpS02nZJr/Q4LyvMmDQpnJLSasFpQud5xW/37qY20UZc09NW9Agp2PUU87rUtIahCFdXJxbbrfJffltj3psVyE3rm2eJqx1DlwDndbR2WPPeX5Jh4AbRZnQmteo6dEjsN2vTnnh2iSo6wpGkKubqWHBGKt1tvI0/Z1ZpudcHXcO54rOHh8tunD+cFneO163d/MnCHEr8jB7kAnZT8Ro70kZ3NxYSO2fd4Pu6mDtwyIRN94CQ7n2NsPlSuz+kwVhD6rNtmz56Pn5raMYrK3O5J/uvkwULpmA+vcyMDNGvv+VhWK7Jqs/Zj32ImX7AhEoS+YDmdhqCySdf/M6+BqK8iJlDhbPUItk7ScmhzZtgcoKhG/POrV1q8fZb7VOTWem7ZZ+gQh/dgP27NmJDWueQ9ID4oSjfXWlqIOTecDPxAEjAg/l13KC1GOIFriYv3c6kOrPat8bFReZnykdvZJD3jsdsPXKWawneaGceoM4IT/3+k5RbrYiP/1R3FS1EsmyrafLc6eW5u/qxWXKhSZxCXUdWbkRiJtuAerOu74xrDup3bC6ctNNovTV4ayrWZvqUCcuIt6jpjMoMd/1fhK/nIe1suaKktYgJK1xPe/O0hxM6fLnvdS01du1de8WJa1i/3b1PZCrRD22I5G51VV+yt/8dj4t6P1jT02PuPFuN9+8s151XWbUu7o5/q4OJ7TOzvDFMj3W5eOjG+cPGw/X7fX8uTEU8a+I63XZHmz4w28Q8l/bkfVEGgwuY4L2z7vmUx2tPRBRD0fC+oERlaJ8Wo9UoFIcO9EtterdPL95oLP5F/TAc8gv3YM9W/ORGXMTql5PRrLtPY8fsV4adOsQMl6cuA4cQnU/u2BS/pqqULAwBQUHXB+kzkJmpSJSBhFfb8ZKu3/uERQartzV4fC7KPqodbj5oyK86/R93s5M25Yet92tdpV/VNV6p3eqEvscAul6lC9PUN4azz1gRdDd0YhfUoilD6rjqmvaefTtlh6hv1RvOqreKUaV7WARAU3pWwa18It8DulCLVXneJoHbenuCVUvvD8YULRFviWtDIbleAmKxJ1+z/JeOe0q63EjCtaWwiT3rS4QwRNj8dwfFiP8vAEVNeo0jrQ0VxlR4Zy0pmrs3lEL3aSxStMWzwSJMhYAywdlqHLeHRaxfz/Sul0ZForwGy0o2yPKhDbIxnJgH/Zp3d6hprPur+LmO8BpX31rQMZCcbFsL8hX0lqHfYfrHecVv7o/ZSAl3YBapyYynlPTZv5rZZuXX60HC8Q5IQ2lnbkBUdJqxj6taVkrK6rWinPMwlKooYx6oa6tqXV8siHOD9VHtW4fUo/tShz6O5zyVKYzBSlrK50qOex5/9izpafib86lsQ4G+bWG1+WXr7yzXnVdVdj9Ydvzel25Uds/neOLZXqsy8dHN84fNh6u26v5I7+UsrYA5V+L7n465XqdlLMUcTdWY1+Vq2u17by7G2XOQbk43srLOl677hcRIswuF+WzHlV/LYfukUcR3nLt7ub5zQOe558VtX8uQME2NcDWBQYj7LHnkPdsOOr/VOHbctgH9NKgW1wOHkwSBbgcuemyzZQFVqsVllPipLZkJcobw8QdnofPTgPCkTRPhhBWVK8rbn2z+J7pSA2T0bga7MpPMMlPMSUsFydW55q+zkzbhh7hsWHikBPnkA+yMHOmDKxnIuaJIqd2s4EIDQtC/bdmZR0py0WhXZ6CbPnJNjkupGt3qcHTMhEr27+JICwrXn66JwFTY5NR9HdZoxmC1IXRYum+5mkeuBAoTmbK0wqx/zamYOrUmUiYGYOpC+QnyDrMfC9Sbxxqxcmu+jtLy3859Vo57SLdz/8F5j8XIXed+lUZ62UzqnftFqfGIAwZrE3kJPDBVMy/sxpvLMyG4XOz8h9MzV/KL9FkoPSHEMz/TXincjZkRirCLhuRLfKg/EtteZ8bkP1UEcx3tVNu+4Vg+lNhsMrPla0tR63M1x9k+rOR8pYZwSIg9CYlnd8WI+MVg7IP5b5S0vlKMeoCH0WkdmOInwchWGRA5YcyT7WaTy2t5o0ZyN5VrXzFQM3rbGRvrENgbGT7NypNJhTETEbyNtdPZ0KmJiGkJW1i2VY1D3PXGFA/cjqmuGmf75JI66OJIa1pvSyWZ5FpzcXKXfUIiZsC9aF9ECLjRKo/LECunE5u63e1MK7IwmZvPsFzRzm2A1D+hwwUHKxTmklYLXUi4M7Cyo+sCHs4vN1zk9ePvcAozH7MLj1iefJLSVVrc1Fk0iF6qlr54ul6TWtiMHmem/9gqJ3XqtelIVsEJ0o5k+tal4K0wwGduOm1081l6ocFi+O+EkbZDEDM26l/ed6N46PL5w8bT9ftzTz/eQCsBwxYmV+inksuW1D30XaUnddB76aZmFJuBlWjKD0bpYfVPJblpkgExIcCPFj7deF49BFRPt/NQPFHekx3esfB4/NbV3mcfzoE6swoeztX/QqaPK6/q4bBUAXcrjVFVf4BWYxSwfhj02uDbnkgzX+rEPODZJupqYiR7YKeyEbVTbORV5jaqY/G6x+ZLwq76LCWY+U6W61aICKXbULONHmiEaPExd58ORDhC/Kx+FfKBHY6M21bgQ9mIn9BOPRiZmXe/9IhbEEm4p0OgsAHc1C4JFr5T5a1Hxlg+EjcE94YgricQiTdpU3UWQGhSC0sROoDQdDJC7n8rI9Vh4B74pDzTn7bl1d8xNM8cCVk3gYUavPKzx2a6+XNRA5ynuhim+4u0SPyyXgEn9qMNPld1iVlUO73vVhOuyQwEpmvi/XUrFS+nx4Tm4C0bVbE5uQhTnnBxoV+sj1iPuaH1IkTvvyeq7gZe0oEDNfFIufdDl7ac0WkIefdHMReJ46vp7TlvWCEfmE+Mv+t/cBHlvlNObHAB7nq927l94f36pH6eiai2m1b2wVaOiNl+3exLrmvEhaKC/svMlG4wu7lwn6hmP5sJAIOyG/SizRp/01XTWuk0k4xQf6XW5nX75gxYUkh8h/pIDg4fgjl1lDEPej0MpzNzbHIf8eWNrFs+S3k9GLUTxLrfEF70tYJ+kfyseEVLa2xYnlTRb6+V4/InE3InNS6NP0jOch7XA/T22nKd3enPpGBMv1iLG7vBVgvUo7teUEwyf8LoKQzGdmfBGJ23gakhsoDvh1eP/Z0CH3KLj1iefIdiezDQZi/Nh/xthd1PVpvNQ7ttyI0zu7/JThRz2shqBXBolLO4lJQcD4aea8kaTdFnacuMxR1Yr93epmh08V+D0Cl3HYxb1En/6Vxl48P2/mjXxlyO3n+sPF03V7Lc1kG8kWasV37nwFTkbyiGiEiJki9z0251cpN6j11KP6tmsdTnyqAeXIech73bO0hMbMRdKoOdbc/2ubFcY/Pb93gaf6p1/tQ1L6uHdePp2GzVVxflscpx4Pl6CFU3xiLRyd2cIxfg34iP2GidfdeTValZlEnX6Do8iPcdijLl484PSgAnZnWFXH3CZ0H84o7Z4u41HblBSW3fJ2PnvI0D1ywirtr5UWanky/Oz2dv+KmSrmhcveyoSveTnNX0qCxigPLqhNlvouHVqd09zju5PFZ914CUs7Mx04RQHe4xu6mzZmHabUq5eBqZL5r3dr/Pjj2PEqPu/V+XYKEBd9gfmmmXRMA93xxXuvRc2VXr1/dOH+08LS8eyt/unK8Os1j3Z+LmFcCkLdX3LQpQ7rJ2+cQFzzNv7bHkVXc2MWgOHgDNsxwd0t67eq9Nd32+sm3tH148lCW72Hh7My0rngabMo3iTt7wuqIr/PRU10MuCVdb0i/Oz2dv/LE1tmLlbfT3JU0aGTg0p1rbad09zju1PFphqnKgtgYD5vtdDdtzjxMa08G3FK39r8Pjj2P0uNmvWbTIVgc2ty2zxfntR49V3b1+tWN80cLT8u7t/LH0+P185LW/yzpNE9tdRVwy03ea+rp7XOIC57mX5vjqKkanx5o56nfNa5v1HQTEfVh1h+s4iLl24sg9SKX1dq9Hgt6qfeR/z04IQ2Gn8Vi6e/mI+wWcT5ossK8fyXSlldCv3BDx83UrgWyFv6yrCT/cZ4PGXQTERER+dr5KhS9nI3S43YvEIqbs7DEPGTOCEZn392gvodBNxEREdHVcll+1KAW9bpgBN/CJyI/Jgy6iYiIiIh8rG+8SElERERE1Icx6CYiIiIi8jEG3UREREREPsagm4iIiIjIxxh0ExERERH5GINuIiIiIiIfY9BNRERERORjDLqJiIiIiHyMQTcRERERkY8x6CYiIiIi8jEG3UREREREPsagm4iIiIjIxxh0ExERERH5GINuIiIiIiIfY9BNRERERORjDLqJiIiIiHyMQTcRERERkY/9pFnQur2uuroaf/nLXphMJpjNZ9HU1KSNISIiIiLqef369YNePwShoaF46KHJCAkJ0cZ4l8+C7tWr83Hw4CfQ33wrLtT/F86fPyeC7v/VxhIRERER9bx+/f4PBg0ajJsCfw7zd2cwceIvsWhRmjbWe3wSdP/2t5kIHDAY85JTlQ0hIiIiIurtZAXx2xsKUH/xHH7/+1xtqHd4PeiWNdzWK//EU08+qw0hIiIiIuo71r31OnT9f+rVGm+vvkgp23DLJiWyhpuIiIiIqC+SsayMaWVs6y1eDbrlS5OyDTeblBARERFRXyVjWRnTytjWW7wadMuvlMiXJomIiIiI+jIZ08rY1lu8GnTLzwLKr5QQEREREfVlMqaVsa23eDXolt/h5mcBiYiIiKivkzGtN//HjFeDbiIiIiIiaotBNxERERGRjzHoJiIiIiLyMQbdREREREQ+xqCbiIiIiMjHGHQTEREREfkYg24iIiIiIh9j0E1ERERE5GPXZNDdaDbhyOEqHDVblf5z+zLw68enIu9AvdJPKud8IiIiIiLf+EmzoHV32+TJk5W/O7buVf66c/HjbGTurNX6JD1GTozEo/8ejeE3aIO64VxZGlKKqzEyaROWTwnEkcKpyPnYigHTCrFhRrA2lfe03R7VHVPzkXF/oNbX+zjmk14bSkRERETTZqpx7d697ce1nuqRmm7rlXqcM5vxfYM2oKEaFbtWIT0lDcbz2jCv0WHckzuRv2oT1k3zfsAttdkeIiIiIiI7Pdq85I64PBTmb0Lh+j3InxEENFbDsL9OGyti8a+MeHNZAlLSxG9ZEY6cN6FEdqcVo0abBk31OLItC+nK8BSsLqtFg9O/yb9YkYuc1zKwukI2L6nHvtfltNnYd0Edr/iiWF3PlmptgAUnP16Fl5XlJiD9tWKxfm2UGy3bo/3sa7nPHS5GTqa6rJRludhx2KyNkapbtuugts0lX6g16HL6vD2V2PdWhjpvZhZKTGozmXOHi1rS9/Ifq3CuZbs93ca2PMrzC1UoeS1FnSYtA29+3DbPiYiIiKhVr2nTPfTO0crf7/9ba3d9ohjpv1uFfce0GuQ6A3KezYLBbMY5swVqK+R6VKxOQM6OKpw014th9ThYnILMLY5NPVpqoq/IuaywXpDLENP/Ux2vsFqUac79Q13yaUMa0guN+KJfEEbeqsO5z0rE+nNxsNO12RYc3TATKa+V4Mgpi+i34vtj5SJoTcaSMlvgbcU/lO0qxWptm2UybOk++MdsvHlA3IzI/q+qsCM3BXmvp2HhawZ8JYLdBrE9R/dkif5yXNSW58k2tuFJnl+pxOq0LOz4zIyBd4bg5ivV2FeYgiW7Wm+WiIiIiMhRjwbd1isWNFyy4PQJI9Zv2SeG6DBxdIj4a0FFaQnONeowcs4GvL9eqw2f5dQ85MR2vF0lQsGbYpElxm/I3yqmzcGDP3MTVHqsHjVHZRAZjPjnc7Do+Q1Yk56E6KgANHznftmnPynB+uIC5Wc4JgNs4UwZ1v9F3EjINBbuRKFM45vPYZyfFTXFK7FPjZJb3BGTh/z1O5Go3oMo/MY/hw3vbEVh0R4UJoXAT95cHATiV+3BH9/YhD8W5iDqBqDRtBufdLl5jod5/vUxHGwUf+/LxPKFmXj5zXw8PSUWY2DWAn4iIiIictajQffJLSmYM3cq0l5cBeMZEexNy8O8MJ0YU4sak5wiCnFTgmSHYuiU2ZikdUvnvqyGrJAdHjMd42wvYN4QhtiY7rbdDsSYX8jgthYbX5iJl9eU4LB/JBLnpCLqDpk+16xnPsVhU5XyqzmvBufnjlbgtPjrkMabohEbJZdjwtEv7IP4KZg1KxRDbwiAXz9tkHDHvWMxQOsfPD4Kd8iO2yMw8VZlkLLNE8fLjmqcOasM6QLP8hy3T8CDN4m/H2djTnoWNu6txx1TUzF3WhgGqFMQERERkZMeDbqHzyrEitmyZhvwC1uMrBkh8Ff6bPwcgk/008FVyKuzn0YS03XX4IfysebV5zBtdCBOHS7Gmy8mICGtAEfbaV5i36bb+aslzmkc+DN1/Ln/1mrEO8vPcRuderuhgzzvH4q5f9iArCQR/F+phrE4C+nzY/DyX+zbqBMRERGRvR4NunX9AzA8ZjHihwGNBwqw5Zit1lePW0fIv+WoMLUGpQ2mcuzXuqXBtwSLEBGoqaxsfYmwyYyDle5fFJS12AMHy7+1qPmyddmnTyjVvBoLTpuqcPq/R+DhxYXYsHEv8sXNQeN5A7Z08lvfLWk8XIWLLWmsw6FPZJAahIkiqPc+T7bRmWd53ni+GkeOm+E35km8/MZOpTlP1A1WHP3jdhzVpiEiIiIiRz3/ImW/IMTOiYU/6mEsLsVpJTDVY9K/R4pg1YJ9uTORvqYA69ekIDnXqDQnaTH6UUwXATtOFGFhWhbeLF6FnLRkbDyhjnZNhzHjw8Wyrah4IwU5b6nLTt9m/yKgDt8fll88ScHi1aWoOGxE2QH5cqYOgwcEqJN46t7pSBylAz4rwFMv5mK9ksYUlJwCBjyUiihbExGv8mQbnXmW57LJTelrWXj5hQys/7gKFR8ZcfiSGKEfgoHqJERERETkpOeDbsHv3tmYFyoC01Ob8eZetZmC/8RMrEiJxND+Vpw8YIDxsBUTF8xHlDJWIwL2aUvzMG2UCITPV2FfmRFHb4jD09PUJivu+N+3GNliGn+YcWSfAR8e12PBnGhtrCSC1t/k4+n7gtBQVYTVrzm3Oe8MPaKfz8dcsSx8VQ6jSOORi2JZMTlY+ZtQp+Y03tPxNrblUZ4PikXW7+Ixsn8djIVZWL25Eg23RmJRehyGapMQERERkaMe+Y+UndV4yQq/GzoIdhstaEAA/GVbDi/zaP0eamwQy/L3zrJ8qafznIiIiKgnXRP/kbKzPAp4/XwX/Hkr4Jb6QsAt9XSeExEREV1L+kTQTURERETUlzHoJiIiIiLyMQbdREREREQ+xqCbiIiIiMjHGHQTEREREfkYg24iIiIiIh9j0E1ERERE5GMMuomIiIiIfIxBNxERERGRjzHoJiIiIiLyMQbdREREREQ+xqCbiIiIiMjHGHQTEREREfkYg24iIiIiIh/7SbOgdXfb5MmTtS4iIiIior5v7969Wlf3sKabiIiIiMjHfFLTvWOrd+4IiIiIiFyZNpMxB/mWrYyxppuIiIiIqI9g0E1ERERE5GMMuomIiIiIfIxBNxERERGRjzHoJiIiIiLyMQbdREREREQ+xqCbiIiIiMjHGHQTEREREfkYg24iIiIiIh9j0E1ERERE5GMMuomIiIiIfIxBNxERERGRjzHoJiIiIiLyMQbdREREREQ+xqCbiIiIiMjHrs2g+2Itjhwzo1HpMePglmJUnLIqfd7WeMKA9btMuKj1kwsXTDBuKcDqsmptQBdcqYaxuARHmdFEROQVVpw7VoWT3rquNFnRcMmi/BqbtGFEdnok6L74cTZS0hJaf8tyseNAHRq08d1WZ0TOlip8L7uv1OLgnhIYP7coo7ztu893w1hagVNaf+dUo8Q+H+x+eR/Xa9P0cU3V2PhSBkq/HYLxo/TaQDsXjMhz2PYMrN5iwJFTTvvrQjXKyjbj0Bmtv8dZcNRQAMMx35QrIiLytXoc3pKFfXVabwcaPitC+mtGnNP67V08uAopiVORkpmC9PSZ+HVqNirM2kgiTY8E3dYr9TjXPxrPv1qIFS8uxdNRI/DV5mQsLDZptdNe1D8ci97bi+UPBWoDvGto7AbseC8VY7T+zgnBdJkH8jcjBOfMIYjX+p++zzfpverqa1FzIQRxc+IQcbuLbfpnI743B+DBNHW7s5+djfEDa1Hy4kykiPLQciN2axzyt+7B3NFaf4+z4HSVAQedbw6IiOja01SN0nVlGDUlCoO1QS0ulmPtG4cw/vmt+OMbm1BYtAcr7q/D6uJy71Um0jWh55qX+AXA/wbxGxSMMffFIWNhHBrLjDh8RRsvnPvMgDeXydrPFORsK8fpBrV2scK+WvlSHSq2ZSFd1pIuW4V9XzkHQWJ8ces8DcdKsd5gF8wpnJbbZMHJj1fhZbnMzCxs/LgWDW4eFTks75IJhuJSHDXXYt8f20tTKz+ZB9oPCMAAW7+fOl6S+bDxtRSlJvjlNSU4cl4bIdnWeUFsp1znFtmEQ9vmr+txxC5vjMfU2vOGr4za8kS+/tGIk05nhXOHi5GTKfM9A6t3VeFce4/Jmsw4sitXzSsx/ZtlptbpZdpK9+G0TE9pAdbvd1edoMP12nYPvj0UEVOew4o3czD+b1nI+YtWVWDbzktqr9RR+bDtm3Niex2nEyObRN7Y0i2ftJjaPllwn+9yPSVKLcbpT0qwXuR1S423KDunD5RgtW19Mn/t0mxL08Uz5cqyS77QRhARkU85XjM6uLY5OVdWBOOwVMTdq9OG2Kk7hiO3TkfsvfI6rho+KhQwHcNXWj+R1HvadPvfAH8RzDRqVd3nytKw8LXtaAhNwrw5SZjUvwI5L+TCcMCAGqXdiNBgwvoXkrH20yBEz0nFvJi7cfrtBCzZUatNINWjpqx1noZTFTBWOTdlUWstbdPUvJ+MTKMfIp5ZiufjxuLcthQs2eM6YHRY3pU6HCzbjNWvrsTJoOmY98xixN1+Am9nJmPjCWXyTlPyYaURCEtF1vOZiBLLW/vMTKw/prVRt63zpTTsvqjHqFvlQa9u87uvZWFf/yiRjkzEh15C6bIUEfAVYWlRLYbGpGLRk7G4+dgbSF9agtPayefi/iws3FCHMXFi25+JRMAn2Vi4rtL1EwiZ/6kJWPuZHhEy/+dEwv+vYv60AhyVGeKnx/C7bhP7NQBD75qAcUGtJ6QO+YcibkYIavaIIFn2K9tZgdPaTZkn5UPZN4ZcLH27FiOnZarbe3gl0l8rwY61adj30wmYpeSNFX/OTcDqg603R+3nuw4333k3hvqLZN56N8bdOwHDb5InYhGMv5ssbnxO4I6Ypch6dj4mNhmQmZIGoxaw29K0eOl2fD8oBMPEMoiIyLfaXjOMWJqWiwq7ShG3Lpbj7S1A4txIDNAGORidih1/iHOoAW/8h7ie6G/CQK2fSOodQXejGRU7RRASGoUxN4j+S6KAF9dhUnohMmIjMW58GCJil2LF3JtQ87U6i1SzKxvGwPlY8+p8RIlpxo2PRuKrhSLQ6cYLezDjq8/rMXTSdESNCMbw8XF4esF8jBGBrFOFsBsWjJqVh7n3h2LkiFBEzcnHokkWGPebtPGdoOSDRWmCknh/CIbeGqLkQ26SHsZigxqMKiwYNmMDVixMxdxJQdowERrev1jJv5Ej1PlenKaDcXMtojNTETU6BCNHR2Pu7xZj4qnNKNNqXE+dqELjmGjEjhfbPkKMFzcOD15vxXfqaAcn9+Qq+Z+blWSX/xsQP8CA9bKRXH89xtwbLE46gRh+rxjvqnlJOwaMEsGs+ZhDTbHCw/KhuBSC+Bcdt3f8F8XYPSDTKW8CUWEsV1+I7TDfdRg8eiyGi7I6MGissv4xehF0n9iMvI9CsegPS5X8G3q72P9J+ch6oA4bt9nduFwKQvyKQixKSkXEMG0YERH5httrxm043WG7ayuO7ijAV9HzET1IG+Ssn/bXpskM4/8tx9CocAzVBhFJPRd0nyhAyszJmCZ/SSkoRRJyF2p3kSeP4YhfJCJCHWtG/UMjMaml2YUMji0YOSkSg+0LfD89Jk0K0Xq6Qo/xYv7TWzKQs82ImjNW+I+Ow9zYUHhWKRmCe+6yT7cOd9wZjMaTdS5fvmiXzAcRsOJcFY4cbv2d/ultGHDqrPqiqCIY40a1DWjHjwrWulTDR4UBt0/AGPtbdX+R3hFWcZJQe0dNjMWAj7OR/pYBR76uR+MtkZibFOnixGHGF5/Vu8z/ieEi/w574Ysu/XQi9yyw2DU5UnhUPjQjxmKk/Y5TtheYeK9jGVHyRuSB8vzA43x3dO7LajTc9C9o+MJ+PhMarhf7/2x963zO+4CIiHynM9cMZyeKsfqTSCya5nlccbosFyX1cXg6prUSjEjquaB7RCoKt+7F+1mxIpgNwpRZsRhuHxz1lwGXMx38+mudGn8xnTO//p1oxuDC4IfysWnFYoy7Uom3l03FtETZ9tZ9u2yf8rfg1GeHcMT+d8YPv5wy2u6xlcgX5zttd/xctEez4zc6FRuK8vHo4GMwrEhGQmIC8va7rwpwlf8KWwDbHWe/wVd+wRjqqnbBw/Lhjq6jku9RvrtyASed5vv7lSBEhwW13rR1sA+IiMjLunTNMMO40YA75szGGA+vLaf3pCF9TyAW/G4+Rnp6XaYfjR5vXuJ3bxKeDqvFxi2Vrc03bhqCoZeqUOP8ebgz1TjS0tQgEAOH6HD0qPMXT6zKMHf8rxcB+SWLY0DYVIeTdm2uG8V4DApF9JwcrCjagw2zA7DjvfLO11R3l8yHBj3Gz0jF3KTWX2J0BMaNlc02vK+xwYIG/2BEPJaJl9/Yifczw3D0re042uaFEzX/a752butuwVfHa+E3PKjtG96dIR/P7SiDf3RU2y/DeFQ+uqGL+T4wUA8/BCNqjuN8cQ9MwLi79S5O+ERE5HNdvGZc3F+AjUjCPE++JtZkwZHiBKQbb8OiV5YiwsUXcol6QZvuAEycNR93HFiJLZ9pofCtkYgLNaNkTQGOmNVhjeYqrH9jNyyyzbdCh4kPxcJfHBTyn65clEFhk3yBMBelx9zXdPvfG4VxFzbjzT116sfrxTxHNxdhnzpaqMf+NVPx1LtVLV8ssVzpdp1t1yj5UIV31xlx2nZncb4ca5dloPSMzsPmLp3z1Y4EJL9a2vJiZcMVl69QCiL/Y2dj4J5srD5gbsnLGoPorwpGYmyoOllnyX8ucMYEw+o0bLwwBYsec/FIz6Py0Q0e5XsAAkTH99/Xt/wTBL/xjyK6sRRr3zep5VFo+KoEr72Yi4MNASIgJyKiq64r14wrJpT+sRbRiXGOTShdaaiF4fczkXMsDM+/+CTG6NR/kMN/kkPOekHQLQyKxdMzAmFcV4wapYAGIuL5Qsy71YTX0mKUdt8JL27G9YlLEWd/9zhiPtb8bgq+L81AcvxkTItPwJvHI/D8k+HaBC4MiMSizDhYtyXj13KexDSUDZ6NaSO08WLdUU/lYFJtNubI8WLd6X8JxKJnYrtXc9slaj7E+5Ui/XGt/fuzBTh3fz6yYnxzGz1yWh4SB+xGurbtc9acwJQXkzDG1UlnWDyW585G4xYtL+NnYunHgUhcluP+hROXqrH+GW374qciJXczTo/OxJr8VIxxeWfhYfnoMk/yXdwsxiVh4L4MZduXlJmBfiFI/EMOxh3PxlO2/Mveh8FPFuJpp7aERER0tXT+mlGzIxf7xy9GXEts4N7Fv22G8VwgBjdW4e3cFKS/2Prb3sUvl9G16SfNgtbdbZMnT1b+7ti6V/nrFbLms1EH/47aU10Rd5R+AZ63bZZkDba7NsmSp+u+GmRargD+/lepkUJn19co8v+nncx/b/D1PupqvvemskNEdA2SwbPUqZiD52bqBFsZ27vXO3Ft76jpbk8/Dw+O/l0I+NoLuCVP1301yLRcrYBb6uz6OnvD4y2+3kddzffeVHaIiEjFczP1oN4fdBMRERER9XEMuomIiIiIfIxBNxERERGRjzHoJiIiIiLyMQbdREREREQ+xqCbiIiIiMjHGHQTEREREfkYg24iIiIiIh9j0E1ERERE5GMMuomIiIiIfIxBNxERERGRjzHoJiIiIiLyMQbdREREREQ+xqCbiIiIiMjHGHQTEREREfnYT5oFrbvbJk+erHUREREREfV9e/fu1bq6hzXdREREREQ+5pOa7h1bvXNHQEREROTKtJmMOci3bGWMNd1ERERERH0Eg24iIiIiIh9j0E1ERERE5GMMuomIiIiIfIxBNxERERGRjzHoJiIiIiLyMQbdREREREQ+xqCbiIiIiMjHGHQTEREREfkYg24iIiIiIh9j0E1ERERE5GMMuomIiIiIfIxBNxERERGRjzHoJiIiIiLyMQbdREREREQ+dm0G3RdrceSYGY1KjxkHtxSj4pRV6fO2xhMGrN9lwkWtn1y4YIJxSwFWl1VrA7qmr+R1w5ly7ChehY0H67UhRET0o9BkRcMli/JrbNKGEWl6JOi++HE2UtISWn/LcrHjQB0atPHdVmdEzpYqfC+7r9Ti4J4SGD+3KKO87bvPd8NYWoFTWn/nVKPEPh/sfnkfXyMBW1M1Nr6UgdJvh2D8KL020IUmM45sy0K6LQ8ys1Aiy4TdSat7eX2VXCzH6hdW4hPcjXG3B2gDiYioxzVZcPLjVXi55VqbgTfLTDjXmeBYXKuMryVj47G2FXkNX5Xi5SdikJyegvTMBCQkpmDjF76JPahv+kmzoHV32+TJk5W/O7buVf66c64sDSkfTcCKF2Mx+IoZXx03oWxzEb74RR7WJYXCT5uuyz4rwLRtt6HwVbF8bVBv1SjuhpVDV6R5zhpg0fpUjJP9/QPg3+2M6AXOG7DkmX2IeCMf0YO0Yc7MBrz8QhG+C03CvKnhGHmTFacP78OWbSX44tZUrPmt2I/9tGl7O1n2coCXt6ZijDaIiIi8b9pMz2IORYMJ61/Iwoc3xGLeE9GYqNfh3PEqGLcVYX/DFGT9QZyz/bVp23Fxfxae+ssErHGOL2QFU2oGamI3YPkUtYKp4UAukosDkb1+PkYqQ6ivsZWxvXs9KGMe6PeyoHV326ZNm5S/M6fPUf6601Bbhj1nRmFq9BgM9A/EzUEhuO/Oy9ix/iiGPhKBof9Hne7cZwZsLHoV7/zHXvznpetxx+2D8E1ZEY5fPwG33ahOg0t1qNj9Ggreehc7//Y1rhs2BndYTdh2bAD+PXIk/CHGF/8RdT9X52k4Voo/HrRi5Eg9dNoiAAuOGuyWK++G97+B/NffxNb9h3Hh/9yGEcMCoXPxXMBheZdMMJRUwjpEh7//x0q8+Y5dmga2rs1ev3/RQSd/F0WaK3SYMltsv+y3CzJlPpRuXI2ibVvx/05cwc/uGIMhtpODbZ1BATheKvKheggeGnNZ3eaBI3DhL69ipZY3/X4+EiMGXyfuxo3Y8vYqsbw9+M/z/TAseATsk3fucDFWF6zClj99gtr/GYA7RtwKf3fPRGQNtaEARYVvYWvZJ6j7yWDcNlyvTi/T9v5/4ODXdbj4j/M4eXkIxrXsOE1THXYsy0LNA2/gjbnhGDIgQOTHjfj57WNx//2jcG5LLnY23Y/okBud9p22XweOxn8fXInCP1kQ+ssR6C+Xed4E4w6RJiX/a/A/ASMQcotW62zLr+AQ3Pwv6iBJWfYXAWr67PdjSS7y/rgJHx/9AdfdPgK3/UyHi6YSrHvrNWz8DzV/Ron86S+391Q51u/ai9qzZvy3RWyzbjRGDhYZK8rT6U9K8c67ch5RlmWe3yHyXFu/bbvuCKjG1nWvofqmf8eYn4sRHcx3en8Btn1zE+74vkxLjzxOBmPUKKf91V5+SB2sh4ioN9pW6lnMIa/xB9eloOSmxdjw2+kY+fMbxXUmAANvGYlfREZBd/D3ePP4HYieEGQXF7jQUIV3/rAHIQtexH03acNsLnyCbTsGIO75yRiinX91132PI7uq8LP7x6I2dyp+W7RJSbO736WRczDuZnVe6h3kfpHmzOmojHnGXSh19fnfIAJkCxrVhthKbfjC17ajQdZ+zknCpP4VyHkhF4YDBtQo7UYE5c41GWs/DUL0nFTMi7kbp99OwJIdtdoEUj1qylrnaThVAWOVc1MWEXRUtU5T834yMo1+iHhmKZ6PG4tz21KwZE+dOtKJw/Ku1OFg2WasfnUlTgZNx7xnFiPu9hN4OzMZG08ok3eakg8rjUBYKrKez0SUWN7aZ2Zive3Rlm2dL6Vh90U9Rt0qgyl1m999LQv7+keJdGQiPvQSSpelYL24uVhaVIuhMalY9GQsbj72BtKXluC09nhN3sUv3FCHMXFi25+JRMAn2Vi4rlJrH+9E5n9qAtZ+pkeEzP85kfD/q5g/rQBHZYb46TH8rtvEfg3A0LsmYJy4MWjj2G5sN0diVmywNsCOfxieXr8X+dOClF7HfWfbxhS8+em/YOidQ9QnJGYDljwrthvhmPd8DhZFjcBXGxKQXGxSt0HJrwqcviJ7WinLPqE16bHfj3fNxiKxH6MHVWHtC1nYsSMXmft0GD8rE4tmTEDjX7Lw1NpKNU03BGHcnYGiIxCj7p2A4TfJ07e4oXs3GelbTuCOmKXIenY+JjYZkJmSBuN5OZO2bkMuFi/dju8HhWCYckPV8XzfnzDA+H4WXm1Jj7h47Bf767Xy1nbvHeWHB+shIurTzpeL2EGP+GniGuX81LSfHrGv7sX7C8PFtap9NbtW4uAvxfV0hDbAXmAslm99DuPsl3/Fgu+hx8Ab9IgW69ixdRPminlHJm1SauflrzApBHgoT+mee682H12zekfQ3WhGxU4RcIRGYcwNov9SOd4ursOk9EJkxEZi3PgwRMQuxYq5N6Hma3UWqWZXNoyB87Hm1fmIEtOMGx+NxFcLRdDQnRf2zPjq83oMnTQdUSOCMXx8HJ5eMB9jRJDnGKi7Y8GoWXmYe38oRo4IRdScfCyaZIFxv0kb3wlKPlgwXWxT4v0hGHpriJIPuUl6GIsNOK1NJtc5bMYGrFiYirmT1ABV0t2/WMm/kSPU+V6cpoNxcy2iM1MRNToEI0dHY+7vFmPiqc0o+0Kd59SJKjSOiUbseLHtI8R4EXA+eL0V36mjHZzck6vkf25Wkl3+b0D8AAPW7xM3Kf31GHNvMAaKIHT4vWL87TIgdXTu21o03jkao5Qq6s5rnJiJwsznMDc2VLlpqyguwGlxAlsxJxojbw3CyPvikPFsEgaaynHYsx2ocdqPSXlYMLYaJcZALFoUhwiRp8qy0+Mx8MB27L8gZhkQjHEjZP4H4S6RH2P0Iug+sRl5H4Vi0R+WKnk69Ha5rHxkPVCHjdvsbmYuBSF+RSEWJaUiYpjo93Q+vylYYJ+ezCTcbNqNT5SA2YP88HQ9RER91dlvUOMXiuG3av1dcd6AjcZgzJvmpglsmyaQFhz5vyKumRSB8V28vtG1p+eC7hMFSJk5WWkvMy0pBaVIQu7CSAyQ404ewxG/SESEOtaM+odGYlJLaZfBsQUjJ0U6tvcVd62TJok7xy7TY7yY//SWDORsM6LmjBX+o+O0oM4TIbjnLvt063DHncFoPFmHc9oQj8l8EAErzlXhyOHW3+mf3oYBp86qL4oqRLA3qm1AO36UY+3x8FFhwO0TMEbJZI2/SO8IK6DVdI+aGIsBH2cj/S0Djnxdj8ZbIjE3KRJD1dF2zPjis3qX+T8xXOTf4U58ZaR/QJfb8U+8135f16LGpMOk8U77f0Q8VuQ/h4me7UCN834MEDcpYrnjx2Kk/fbeMRbj5d9/Kn1tnPuyGg03/QsavrDfhyY0XC/KxNn61n3otF88nu/esRhun55bg8UNYjXOnJU9HeeHx+shIurL+uvabzrSrnpUrC8CHk9FhP31sx0NpmKsPRCCBbPDu/+eGl0zei7oHpGKwq178X5WrAhmgzBlViyG2wdFLg8QHfyc7hj9xXTO/EQQ1x2DH8rHphWLMe5KJd5eNhXTElNQ0lNvIPtbcOqzQzhi/zvjh19OGY2B2iRKvrS5y3bDr/3Tjt/oVGwoysejg4/BsCIZCYkJyNtv1sa25Sr/FSKIb/tud1sDB+iBL0/Y1dp3Ttt29iIvun5m7ZiuKwu/gJNO+/DvV4IQHRbUeiPnMtEezNchT/LDG+shIuqlBt6EwZfqcO6S1t9JjZ9txtunYpE4uZ0vcNlpMBVg4YpqTHox0+MgnX4cerx5id+9SXg6rBYbt2jtYqWbhmDopSrUnNH6bc5U40jLQROIgUN0OHrU1jbVxqoMc8f/ehGQ274YYtNUh5N2ba7lF0UwKBTRc3KwomgPNswOwI73yjtfU91dMh8a9Bg/IxVzk1p/idERGDdWNtvwvsYGCxr8gxHxWCZefmMn3s8Mw9G3tuNom08qqflf87VzW3cLvjpeC7/hQR59OcYvNBrRMMB40MVNjdgvhmUJSNvsvI/dCcTgYRacPOP0ucWGOhw9bMI52Y5bfhUG9fiHU5vu0ye79w1xdwYG6uGHYETNcdyHcQ9MwLi77V/mddTV+Rx1nB/eWQ8RUS82LBKxI6pQ+hdX72ZZcPCtBKS8ZnR9jW+qRsm6ckx8crbjU043TpdlIPn1Ojy6LA+Jo7pXAUjXnl7QpjsAE2fNxx0HVmLLZ1oofGsk4kLNKFlTgCNmdVijuQrr39gNi2zzrdBh4kOx8N+v/tOVizIobJIv1+Wi9Jj7gu5/bxTGXdiMN/fUqR+uF/Mc3VyEfepooR7710zFU+9WtXwj2nLFkzpbH1DyoQrvrjPitC3qPF+OtcsyUHpG55NayK92JCD51dKWFysbrrgLd0X+x87GwD3ZWH3A3JKXNQbRXxWMxNhQdbKO9A/FrIVTcPT1ZOTJ/aitrvFiNYyrM7DRHIa5j3n6GckgTIoNwxfrs2Gw/TOkJjMq3s1AjkG2MRf9N4RiUmg9tq8X26it6+JnRdj4sdrtbX7jH0V0YynWvm9Sy6jQ8FUJXnsxFwcb3Der6ep8jjrOD++sh4ioN9Mj+plU+O9MQXpxVeuL9FfqcKQ4A6v3ByJ2TrTLiqJze4tgHJaKeKfmrm2I69/BwgSkb9MhcWkmogaJc6n2T3IaPKs1oh+BXhB0C4Ni8fSMQBjXFaNGufAHIuL5Qsy71YTX0mKUdt8JL27G9YlLEWf/dGfEfKz53RR8XyruLOMnY1p8At48HoHnnwzXJnBhQCQWZcbBui0Zv5bzJKahbPBsTGt5GzkQUU/lYFJtNubI8WLd6X8JxKJneuKb32o+xPuVIv1xrf37swU4d38+smI8e8zVWSOnibvzAbuRrm37nDUnMOXFJIxxdYc/LB7Lc2ejcYuWl/EzsfTjQCQuy3H/TW4X/O9NxYY3FmNwVTae0rbz189koeKG32BFnmffTrUZMCkHK+bqse9FtdxMi09GiXU2cp+37T+Rp8/kINZajDRlXTHI3DcEcdO68x5AO/qFIPEPORh3XGybLU+z92Hwk4V4ur2TeFfnc9JhfnhpPUREvZo+FssL8xF1qQhL5qrnOtl0dOP5MDyfn49oV5fUi+V4+z0gPkl736w9J3Zj4xfAwBvqYMhPQ/qLIsDXfm8e4H8nJlWP/HOcTpH/UrVRB/+O3v69YkGjX4DnbZslWYPtrk2y5Om6rwaZFnF37u9/lR74d3Z9jSL/f9rJ/Pcx2VRGeUnTXZrENjaiE+3hu6ur5clL5dCT/Og15Z2IqAMycJa8GnMQ2bGVMW/9c5zeUdPdnn4eBgHtBRPutBdwS56u+2qQablaAbfU2fV19obnKvDz7yBNYhuvapq7Wp68VA49yQ8G3ERERL7R+4NuIiIiIqI+jkE3EREREZGPMegmIiIiIvIxBt1ERERERD7GoJuIiIiIyMcYdBMRERER+RiDbiIiIiIiH2PQTURERETkYwy6iYiIiIh8jEE3EREREZGPMegmIiIiIvIxBt1ERERERD7GoJuIiIiIyMcYdBMRERER+RiDbiIiIiIiH/tJs6B1d9vkyZO1LiIiIiKivm/v3r1aV/d4vaZ79Oh/1bqIiIiIfEPGG4w5yJe8Xb58UtO9Y6t37giIiIiIXJk2kzEH+ZatjPXamm4iIiIiInLEoJuIiIiIyMcYdBMRERER+RiDbiIiIiIiH2PQTURERETkYwy6iYiIiIh8jEE3EREREZGPMegmIiIiIvIxBt1ERERERD7GoJuIiIiIyMcYdBMRERER+RiDbiIiIiIiH2PQTURERETkYwy6iYiI6EfIBGOZWetWnStLw6+fLsDRBm1Aj7OgZnMKfr3UgHNN2iDqsxh0ExER0Y/P+TrgFr3WI5woQuZ7QOLvUjHGXxvW4wIwcvZSJEKk7f1qbRj1Vddm0H2xFkeOmdGo9JhxcEsxKk5ZlT5vazxhwPpdJlzU+smFCyYYtxRgdRlPGERE1EucFb8haidQj33bShEwYzGi7eLw3kGP6Gfm42ZDEYzntUHUJ/VI0H3x42ykpCW0/pblYseBOnjtaU6dETlbqvC97L5Si4N7SmD83KKM8rbvPt8NY2kFTmn9nVONEvt8sPvlfVyvTdPHNVVj40sZKP12CMaP6uBM9lUJ0sW2rz/smxskIiIim3PfAkMHaT2nylD6WSRmPRSkDXByqRJviuvTy2V12gDPNXxWhPTXjDin9XfJoCmInVSLLX9h5VVf1iNBt/VKPc71j8bzrxZixYtL8XTUCHy1ORkLi01a7bQX9Q/Hovf2YvlDgdoA7xoauwE73kvFGK2/c0IwXeaB/M0IwTlzCOK1/qfv8016r7r6WtRcCEHcnDhE3N7+NtVUbsdJsxkfHqzyfjkgIiKy85343ax24nSVCIrvi8D4/toAJxcP78Y+cX06+mEVTmvDPNJUjdJ1ZRg1JQqDtUFdo8P48eFoqDJ1bv3Uq/Rc8xK/APjfIH6DgjHmvjhkLIxDY5kRh69o44Vznxnw5jJZ85uCnG3lON1gwVFDASrsq5Uv1aFiW5ZSQ5qybBX2feVcoy3GF7fO03CsFOsNJqdadaflNllw8uNVeFkuMzMLGz+uRYObFxgclnfJBENxKY6aa7Hvj+2lqZWfzAPtJ9tuDbD1+6njJZkPG19LUWrAX15TgiP2j5ds67wgtlOuc4u8C9a2+et6HLHLG+Mxtfa84SujtjyRr3804qTTI4Zzh4uRkynzPQOrd1W1//JGkxlHduWqeSWmf7PM1Dq9TFvpPnGCEOkpLcD6/e3UEIgT08H9VkTPTsLN+404eEkbrjm9X84v9sMxA1Yvy8a+C9oIuf9t63ezrzwqR0REdA0zYf2LBrvaZrO4NgVpgbC45h83Y+SoENhdeu3U4/ABE0bOmI8I82bsO6EN9sC5siIYh6Ui7l6dNsRGpGfmZExr95fm0JzEb8RojDQfEtd7bQD1Ob2nTbf/DfAXBb9Rq+KUbxAvfG07GkKTMG9OEib1r0DOC7kwHDCgRmk3IjSIQvtCMtZ+GoToOamYF3M3Tr+dgCU7arUJpHrUlLXO03CqAsYq56YsFnGX2zpNzfvJyDT6IeKZpXg+bizObUvBkj2uA0aH5V2pw8GyzVj96kqcDJqOec8sRtztJ/B2ZjI2duIgtafkw0ojEJaKrOczESWWt/aZmVh/TGuCYVvnS2nYfVGPUbfK4F3d5ndfy8K+/lEiHZmID72E0mUp4gahCEuLajE0JhWLnozFzcfeQPrSEpzWAtWL+7OwcEMdxsSJbX8mEgGfZGPhukrXNc8y/1MTsPYzPSJk/s+JhP9fxfxp2pvffnoMv+s2sV8DMPSuCRgXJNPmxrF9MCIWETHhiBpWhX2HHZvXfH/CAOP74gai8BB0w0ZjsDx/Kfs/BSUnRyD22Rw8/3g4Go1pSF7WemL1qBwREdG167wBS2ZWAMMLYPhMGyaCbtlWWlWHr74E7tC7eRp7vhL7PgtFVFQsJv7Sin2feNjE42I53t4CJM6NxABtUKtQzN26Fzu25iFa9EVnyW719/JDwMikTaI7H9G25i/STUG4A7U44/jBFepDekfQ3WhGxc7t+D40CmNuEP2XREEtrsOk9EJkxEZi3PgwRMQuxYq5N6Hma3UWqWZXNoyB87Hm1fmIEtOMGx+NxFcLMbGpO22ezPjq83oMnTQdUSOCMXx8HJ5eMB9jRCDrVCHshgWjZuVh7v2hGDlCHKRz8rFokgXG/SZtfCco+WBRmqAk3h+CobeGKPmQm6SHsdhg94jJgmEzNmDFwlTMndTaHk13/2Il/0aOUOd7cZoOxs21iM5MRdToEIwcHY25v1uMiac2o+wLdZ5TJ6rQOCYasePFto8Q48WNw4PXW5XHcM5O7slV8j83K8ku/zcgfoAB6/eJm5T+eoy5NxgDEYjh94rxbpuXWHGwogy6SREY2S8IEx8MwdEDh9q+nGqNxKL8HDydFKeUE7n/PxyViRXPxollB2G43J7sHDx4pgglVeKmxMNyRERE17IwLNoqro+xqfjqb9q12OHLJVY0Oj1dtXf6k92ouTcS4wfoMDFiCqz7K1DT3hNghRVHdxTgq+j5joFzt+hx6whxbetw3dRb9VzQfaIAKbZHKEkpKEUSchdqd4Mnj+GIXyQiQh1rRv1DIzGp5dmPDI4tGDkpEoP7aYOkfnpMmhSi9XSFHuPF/Ke3ZCBnmxE1Z6zwHx0nDtZQePYFoRDcc5d9unW4485gNJ6s6/xLFDIfRMCKc1U4crj1d/qnt2HAqbPqi6KKYIwb1TagHT8qWOtSDR8VBtw+AWPsb7n9RXrtDuJRE2Mx4ONspL9lwJGv69F4SyTmJkViqDrajhlffFbvMv8nhov8O9yJL7pcqcLB/TpE/VLdb4MnTsGYz8rwifNb2uPHiqBc69b2/8D+l1BjlzdHjllwfZAV5+rrPSxHRER0TRukV5uRDIrFLBSrTTbOfoMzcliH6nBoXx3GRUSo8cnoKETDgIpjykj3ThRj9SeRWDStO/GIMyv+0c7NAfV+PRd0j0hF4da9eD8rVgSzQZgyKxbD7aPa/joRrjrTwc/pJQd/MZ0zv/7tNGPwwOCH8rFpxWKMu1KJt5dNxbTEFJR84Zuvn3TI34JTnx3CEfvfGT/8cspoDNQmUfLFPvBtj1/b/LLnNzoVG4ry8ejgYzCsSEZCYgLy9rt/luUq/xUiiPf0GyQNVUZU3DQF4/QWNFwSv34jMG5ENco+cWrSo3Oxrgu1jnnz2af4x7BYTBymlQEPyxEREV37xvwiWHkPC7gNt7Z8LlAE5beLa9Y/tV57J4zYbQ7DxLvEtUpen/6hx8gwHT6scNPsUmGGcaMBd8yZjTFevdbU43tzAPyu03qpz+nx5iV+9ybh6bBabNxS2dp846YhGHqpCjXOt6FnqnGk5S4vEAOH6HD0qPMXT6zKMHf8rxfBmDhwHALCpjqctGtz3SjGY1AooufkYEXRHmyYHYAd75V373M/XSHzoUGP8TNSMTep9ZcYHYFxY2WzDe9rbBAnFf9gRDyWiZff2In3M8Nw9K3tONrmcZaa/zVfO7d1t+Cr47XwG257QaUj9ThYUQW/pkq8+WIK0pVfNozndTi9r7Kdt7TV9ePOaIe8mZs0G1H3TsBI2ejbo3JEREQ/GvdOx9yTFTDafy5QXE8G3woc/bLtu1s1n5TBekMdSnNt16c0bJTtwvdXOHz4wd7F/QXYiCTM8/ZXyMy1+AIhuKPXfUecPNUL2nQHYOKs+bjjwEps+UwLhW+NRFyoGSVrCnDErA5rNFdh/Ru7YZFtvhU6THwoFv6icMt/unJRBoVN8gXCXJQec1/T7X9vFMZd2Iw399ShUZvn6OYi7FNHC/XYv2Yqnnq3quUrGJYrntbZepmSD1V4d50Rp213FufLsXZZBkrP6Dxs7tI5X+1IQPKrpS0vVjZccXcvL/I/djYG7snG6gPmlrysMYj+qmAkxoaqk3Xk4iFUfBaE+N9tQmG+/S8TEebt7bwlru5/q2GlOAFqL13Kr87syEZmobiBu14E3R6VIyIi+vHQI3oGsL6y9XOB8npyx10hOPfFMcdmkdpXtSY+ucHx+vRGPqbry7GvysUT8CsmlP6xFtGJcY5NL73g4heHcHLEBIzk9avP6h0vUg6KxdMzAmFcV6y9nBCIiOcLMe9WE15Li1HafSe8uBnXJy5FnP0d3oj5WPO7Kfi+NAPJ8ZMxLT4Bbx6PwPNPhmsTuDAgEosy42Ddloxfy3kS01A2eDamjdDGi3VHPZWDSbXZmCPHi3Wn/yUQi56J7eY3NrtCzYd4v1KkP661f3+2AOfuz0dWjG9udUdOy0PigN1I17Z9zpoTmPJiEsa4OnkMi8fy3Nlo3KLlZfxMLP04EInLcjx+ceT0/lIcHfEoJt6qDbDpH4aJkzp4S1zu/8ww1KxJUPMmfioyD+ix4NXnME65I/GwHBER0Y/HvRGIdnoaq75LVIr9dk9GGw/vhvHKFESNd26kGIQJUUE4UlHR5t2lmh252D9+MeJaYgpvMeOTD00YGR7WA7EIectPmgWtu9smT56s/JWfvPGaJisaGnXw76hd1BULGv0CPG/bLMkabHdtkiVP1301yLRcAfz920mvN3V2fY0i/3/ayfz3po72f2/al0RE1G2yIkXyTsxhxdENM5FnzURhSphPniR3R+NnBUh+zYKn12diIq9jV42tjO3d6524tnfUdLenn4eBUv8uBHztBdySp+u+GmRarlbALXV2fZ294fG2jvZ/b9qXRETUy+gw5teLMU5p6tpDH05wp8GEjevKMPLJ+Qy4+7jeH3QTERER+Zp/OOa9OBs4WoGT7j9NcpVZcfJvh4DYPCya5OUXM+mqY9BNREREJPiPisXc2dEY3mv+l4MOw++fj7lTQnpdkxfqPAbdREREREQ+xqCbiIiIiMjHGHQTEREREfkYg24iIiIiIh9j0E1ERERE5GMMuomIiIiIfMzrQXe/fj35H1KIiIiIiLrP2zGtV4Numbgh+ltx/r/OaUOIiIiIiPoWGcvKmNabgbdXg269fghGj/5XHDxUoQ0hIiIiIupbZCwrY1oZ23qLV4Pu0NBQXNf/Ouz5839oQ4iIiIiI+hYZy8qYVsa23uLVoPuhhybjwCcfI/Rf/z8Urc/XhhIRERER9Q0yhpWxrIxpZWzrLV4NukNCQhAWFobm5mZ8991ZBt5ERERE1GfI2FXGsDKWlTGtjG29xatBt7RoURq+/+E8Bv18MJr/+U88tWA2/rRnB1+uJCIiIqJeR8aoMlaVMauMXWUMK2NZGdN6009EJN+sdXvV6tX5qKqqwn2/vB+Xr1zGsWP/ibPmM2hqatKmICIiIuoa+ZKbJOMLoq6yfXlPlifZhls2KZE13N4OuCWfBd1SdXU1/vKXvTCZTDCbzzLgJiIiIqJeRQbe8isl8qVJ2Ybbm01K7Pk06CYiIiIiIh+06SYiIiIiIkcMuomIiIiIfIxBNxERERGRjzHoJiIiIiLyMQbdREREREQ+xqCbiIiIiMjHGHQTEREREfkYg24iIiIiIh9j0E1ERERE5GMMuomIiIiIfIxBNxERERGRjzHoJiIiIiLyMQbdREREREQ+xqCbiIiIiMjHGHQTEREREfkYg24iIiIiIh9j0E1ERERE5GMMuomIiIiIfIxBNxERERGRjzHoJiIiIiLyMQbdREREREQ+xqCbiIiIiMjHGHQTEREREfkYg24iIiIiIh9j0E1ERERE5GMMuomIiIiIfMx7QXeTFZYfLLBYtX57VjFcjLM2af12rBYxTpmpHsZXEpDwTrU6goiIiIjoGuG9oLtfLTYnT0XCxrZBc/U7CZgaNxNFJm2ATZMJRTOnImWXWfRY0XjeDLPLqJ2IiIiIqO/yYvOSEEyYpIPlaC1kCN2qGhUfWsRfK8qPOAXkp6pRZQ1A+PggbQARERER0bXHq226Q0LDgc8PofoHbYD0tQmVP4Qg8gE9LJUm1GmDJbPpEMy6SEy4SxugsMJy3IDcBQmYGhODmYkZKDroGMYrmsyo2piFlES1Fj1hQRaKnaar/yAbCYnFMP1QC8PyFMz8raH1hsCD+YmIiIiIvMGrQbfuXycgDFUw1WgDBCWwvj0Cs6eGI+DbQzB9p42ABdV/q4buVxEI7acNkg6uRMqyTzEiLhWZLy3G7DEWGF5KRtqf7ALiyyYUJSYje68OUb8R06UvRnwYUP5KMhLWmUTYrrJerof520oUpKdh9+URCB8XhAA5wsP5iYiIiIi8watBN24MwYS7gYr/tDUjUQNr/b+FIeiuCYjUVePQUdnURGiqhqkKCA8NUfttfgjF/HVLEfdAGMImRiI2PQ+ZDwDVG3fDttS6PxWg9EoUlrZMF4boxBwULo2CZUcBDKe0CRVm6OM2YcMrzyF1RqgSdHdufiIiIiKi7vFu0A09QsPsmpFcNuFQldZmu18Ixt4HVFVpNcnHP0UFwjDhX3Wyr9V9EQhTqqNtAhAWHi6C8TqYlWYrZlSV1yHgV1OcphNThkUiUqy54rB9M5FwRE8K1Lqlzs5PRERERNQ9Xg66gaDxWjOS86Kn+lNU3jgFEXfLMToRPEcCBz5FdRNQd7gSlrsnIORGOc5OQICY0pHOX0bHFliuyD4zzn4p+ralYfLkyU6/DBjkJA4CEHCd1qno7PxERERERN0B/P+hFwVWy7HSNwAAAABJRU5ErkJggg==)"
      ],
      "metadata": {
        "id": "bOm2fxY2bRBX"
      }
    },
    {
      "cell_type": "markdown",
      "source": [
        "![image.png](data:image/png;base64,iVBORw0KGgoAAAANSUhEUgAAAroAAACaCAYAAABGzusGAAAAAXNSR0IArs4c6QAAAARnQU1BAACxjwv8YQUAAAAJcEhZcwAADsMAAA7DAcdvqGQAAC8CSURBVHhe7d0PVFTnnTfwb16bSUlmozvZ2LFJEA1EHfQs1g2TnmK6QWj8kxCtfzhvlFqleZXjDrwm2pSwCSEJ0qqoMFGCfRUTxa5Cq0yOJV2UPQl0I5NapquMa5xUHBMd1zpd4k2w07LzPvfOBWaGQWYQlY7fT88c7nPvc58/vzs9+fHMw3iHVwARERERUZT5X+pPIiIiIqKowkSXiIiIiKISE10iIiIiikpMdImIiIgoKjHRJSIiIqKoxESXiIiIiKJSeIlulwdShwTJo5b9ecR5cc3TpZb9eCRxTbnJjfrXs5C10+67QERERER0g4WX6I5woDp7HrLe7puo2ndmYd6CTFTa1BPdumyozJyHnIMuUfDgz5dccIXMlImIiIiIhl6YWxcMMD6ugXTcATlt7WVH02FJ/PSg8bdBSfA5O6weLVKmxaoniIiIiIhunrD36BqSUoCTLbB3qCdk7TY0dxiQ+oQeUrMNTvW0zGVrgUuTCuMj6gmFB9LHFpSsysK8OXOQuXQtKo8Gps6KLhesbxcgZ6lvtThrVQGqguq5f1WErKVVsHU4YFmXg8wfWXqT8DDuJyIiIqLoFnaiq/l7I5Jhhe2UekJQktm46Vg8LwXa8y2wXVQvQIL9Izs0T05H0gj1lOxoKXJea0XCAhPyX34Bi6dIsLycjbx3/ZLQThsql2ajqEGDGd8X9da8gGeTgcbXs5H1lk2kyj6eTjdc55thXpOHus4EpHwjFlr5Qpj3ExEREVF0CzvRxUgDjJOApt91b1HwJbP6bycj9hEjUjV2tByXtzEIXXbYrEBKksFX7taRhBVvFWLBE8lIfiwVGWs2IP8JwP52Hbpbdb5rRu3VGSjsqZeMWUuLUVE4A9LPzbCcUysqXNAv2I0drz8P06IkJdGN7H4iIiIiilbhJ7rQIynZb4tCpw0tVnUP7ggDpn4LsFrVFdOPW9GEZBj/XiOXen1rOpKVZdduWiSnpIgE2AmXsiXCBWujE9onZwbVEzWTU5Eqem465r8FIQWzHtepx7JI7yciIiKiaBVBogvETlO3KFwSBXsrmkfOxPRJ8hWNSFhTgV+3wt4FOI81Q5pkhGGkfM2PVitqBtLcI2ekEqSrcsmFC5+I0v48pKenB73WwiJXCaCFNkY9VER6PxERERFFq4gSXahbFNpOemD/bSPwuEhm1UvKHl5PI1o+dsN2zIXYlCTo1Wvh0+G+r4uEemkZDtQeCPkqnn2tVq/3fiIiIiKKFpEluuoWhWZbLVqaPUiZ5rcHV9nDK8FmrUPbCT1mJA/ma8VikfRNLZzv2+DWaqEd6fc6b8Ha3DxYPlGrhnS99xMRERFRtIgs0YUGScnJ8Lxbhb3nUzD9G/4bEXx7eB37a9E8MgVJcerpCBkWmZB8vgprX7fAflGCx+OB66QFRa9Xwal7BqnKVon+hXu/rXwO0p+rDfhKNCIiIiKKHhEmuoB2irpdIdmIpID9seoeXpFY+m9piJguFcW7ipHaIZLVJfMwZ84cZOVWwvVoPio2Zgy8HSKs++1o+cCDpAWp4D9nQURERBSd7vAK6vHw0+WBJInkemTwn7CFqb/72/cia9VZrKjNR0pQsk5ERERE0SHiFd2baoRm8EmurJ/75X/oQnr6GSa5RERERFFseK/o3iidEjwaLTT+/2obEREREUWV2zPRJSIiIqKoN7y3LhARERERDRITXSIiIiKKSkx0iYiIiCgqMdElIiIioqjERJeIiIiIohITXSIiIiKKSkx0iYiIiCgqMdElIiIioqjERJeIiIiIohITXSIiIiKKSkx0iYiIiCgqMdElIiIioqjERJeIiIiIohITXSIiIiKKSkx0iYiIiCgqMdElIiIioqjERJeIiIiIohITXSIiIiKKSkx0iYiIiCgqMdElIiIioqjERJeIiIiIohITXSIiIiKKSkx0iYiIiCgq3VaJruekBeaf2eBWy9fHDcdRKxxD09gN5IHL1jvOoY3BYElw/ttemDdXovmSemoAnvM2WG0uMZuby/XrKlQddl5Xv7dq7ERERLe72yrRdR2vg2VPE5xqORLOw2aYRcLTy4n6lwtQf0YtDltuWHf2jvN6YjBU3IdLkLOxCTAYEa9VT/prb4R5a2PAGN3WKhTstN7kBN0DR3Mt9h6yidR88G7N2ImIiOi2SnRjF+1AwyETktRyJNx2Cyz2v/5U5XpiMFScdis8T66A6ckk6GPUk/4ut8FysG0YJIYapLx4CA2bM6BTzxAREdFfjxGvCurxLdPe3o6ioiKUlpaitbUVEydOxKhRo9Sr4ZFstaj8wIOEe+14Z+N6HB/9FKaOVi+quuskJupFCiN0OFBfUYLX3tqNht9ewogHJyLhPuVKAHk1952GU/jM1YGOT+2wfj4GxvGdsO5uAJ54Cnd8sAVbNm7H7sPH0HFfIqY+GLhM6TpmQXXFFpS9vQ8fnryKUY9MwQOhVjKFfufRJcH5fjXWb9yEXfs/RPsdozEhwYMPKxrQMcEA/Vd998t9bd/8BrZVN+DY56OROGUkPvvVAXQkfQ/GrwfHwInGre/gzGgjxvmHW15R/deOiOPUTfq4HlVbNinzbfhtB+4enyDa99UPjOUfcZff2BVy3z9rwKlPXei44oT9oy8wJnkcRvznezhwZjy+8/DvUaO2/WF7DMYbEqDzv79DzOnANmxTn8elr4zFxHE6aPr7lU6Jay22bVuP7XLMLo7A2ITeNpXx/l5+3iNF2zbU7miGZ5wW9t3rsf4/xuCpqfcr9a71jCV17N+dNQHdjz2S9wQRERENzrBY0S0rK8OJEyeUY/mnXI6U1N4Ey/4S5KyugVtvwNgQSYNSp9np+xi6y47KnDxYNKnIf6UQy6a4sGtVHmrPKVUDaMcZkSgnm6MTYZxmhFEkOt2atxSgfoQRy36Uj2Xf1qDx9WwUHO5di3QdzEN2UT2QYkLxG/mYFX8apUsyYbaF3rEZeh4SbFuzkb3ZitgME0w5CzHJVYnsVypRf7AJzqvKrb6+XqnBlUeXiTrLMCOmHmuXluBIh++6LCAGcKPtoAVtl5VCL3lFdRBxksljyFxtwRfTFooxmLBwihNVqzKx9l2Xcj0wlvHQB+fL98bCOEFeP9UhUY71tNie5BDnq1FU5kDsfBPyVz+LeMebyMmphL1LvS7ZYM7JQZUjAQtfKUbhcynwHBDjWWOBr/dgvrjm7DiNhPmFKH5lBVK6LMh7Vsz3oq9GwEr+VSeaDlajJC8PNW49DLG+kUX6jCOtT0RERIPkHQbS0tL6vCJ14UCuuG+N95eX1RMhKHVMdd4LcsFV581NW+mt+Uy5JFzxtu4r99a0XlHLgVrLxLjKWtWSrNVbLsa5ZNdptexzdt/y3j7++4j3pbTl3uozyqUeyjh+UOM9q5b9hZyH/S3v3LRcv7H6XKiV6+Z661yioPQ111vaEjj+Ky2l4t40b/lvfOWAGKhz6L7W4zflg4uTGMOrs/sZw+x13qYvfeW+sQwi959WLkbXyxeXV71H/Jv+ssm7bvbsnvG3bZ/rnV3cJEbo50sxx/mzveua/6Se8KPENfg9c9l7pHiJN3ef77kGjFWJRZp3zXt+N6hxf+u4Wla17V7pXbLJN5aAmA/iPUFERESDMyxWdCdPnqwe+QSXw/awEVPD3Uz5tWTMmOxE1Q8LUPUrO5ydWiQtMmFBUoil4GtInhyvHvnEPpwEnDzrW0F0tMEq7+50WWE92vtyjhgLXfuF/vegBs3DdcoOafIMpH5dPaHSPz4DBvVY6UuTitTkwPFrk8W5/ncZDCySOIkxNKOfMXia0XpKPTFYk6bC4N90TDwSH/bAcU6OtguO4xJ0MVdg94u19XcStOM8cF3qG21fXKfDGPCe0SH1pd0oWxT4XHvFwzjF7wY17sagt6xhSQV2r07pXY3uNtj3BBEREUVsWCS6eXl5Pcmt/FMuD4omkoxOj4yNB7BjtRGeZjPWZqZjzqoq2K/nz+tD0Uo4e6wFLf4v551ImZvY/x84hZrH3Vrffll/Gm1gIhWj6VtHnNGE+oOvsEUYp5BjkHmA7i0GN9IfHIGxPtYKKS4D0+NCJOayUHG9JjG/Eepht37n3I/BvCeIiIgoYsMi0Y2Li8PmzZvR0NCg/JTLN1yXB5JI1vTTMrDi9QrsO7APK/5mLyoPh97NOSijxyBW0sO41ATTqt7XinnTYXw0PuykRne/HhpbC2yd6gmV54Q4px4rfXVYYQ/eO3vODqvfHt1AIkEbCUhfBO4NdbXb1SMhkjgpY3DgbPCypGjPBgPGPqiWbwgddA+IdPORWQGxNq1ajFnTjDCM6ZuKKnE9dRrOoATc/bEV1k/CXFvtZ87SuX6+O3eI3hNEREQ0sGGR6N4SHUdQtCALZmv30qQEz5fqYQiaGK3IgC7AHcmq5EOpWJxsReXGeji7M56LjShdsxbV5zR9P9buh+axZ5AxshHmn1jQ/XdR7pMWlOy19bah9OVCVbEZ1vO+zjznrTD/uA6SSGZDM2D6kzo0vlUJq9qup13+ByUcvoIskjg9NBPLnrDjzdf39ozTc74Rm/65GtLcZZj5Nd+5Ad0tx8aNC2Hmmj4apGRkwLO/FJXH1Bu7JDj2FCFvYzOke/omukpcNbUo2mrtea7Sx3tRtLoULVfCfDpK3OU51wY8Y/OLBeIZy6MKMkTvCSIiIhrY7Zvo6mYhvzgV9jfmIT09Hekzc1B3fz7yn9arFQIZMkxIdb6JzJmibnnPOuoAdEh9rQLfF8lUzhxxn9zPcjNcT5aheH7ofkIaYcCKig2Y2VGlbB2Q28na0IbpBS8gRa3S3dc/xdpQtHSOUmdebjW0OYVYHLS3159h+QY8P8mKIrXdeRsu4Jnls9SrQkRx0iLlxd0onNDUM845z5lxNqUQFSuTwv94f9IzMD3hxJtKG+beVeuBTFqBHcXJsJdkqWOdh7xGPV4ofx5B24Z9uuN6pgRZ8nOV57+mCYbCCpiSwh2tGvf76/2ecRU8i8QzDhmjIXpPEBER0YDukP8iTT2+fXVK8Gi0ffdeDiV5C0CnSAW1Yad7ocntdGlwzWbkOh5RJ5K9ueIej2j3mtucI4yTR/JAc73zHaxIn+lgYhYs0mccaX0iIiKKCBNdIiIiIopKt+/WBSIiIiKKakx0iYiIiCgqMdElIiIioqjERJeIiIiIohITXSIiIiKKSkx0iYiIiCgqMdElIiIioqjERJeIiIiIohITXSIiIiKKSkx0iYiIiCgqMdElIiIioqjERJeIiIiIolL0J7puB6w2FzxqMUCnHZate2Fzq+Xr5P7ECusnQ9TYgNxwHLXB1ekruX5dharDztDzvB11uWE7WAXzOgvs6qmB3Nzn12sont2tGjsREdFwFv2J7pl6FOy0irQwhD/YUXewGk1OtRyJ9kaYtzbC/1bnoQIUHBpMY4PhRP3LVbB+Lh974Giuxd5DNkjKtWEgRHxuJvvOHKzd78SYbxqgV88FuOXPr9vQPLtbM3YiIqLh7fbeuvDQAuxoOARTklqOxOU2WA62hU6gbzoNUl48hIbNGdCpZ265WxofFxzH3TAsWoEFT8SHjsmweX7D8NkRERFFiRGvCurxLdPe3o6ioiKUlpaitbUVEydOxKhRo9SrEehwonHfeqzfvAv7/r0dMXFTkOCxYffvRuG7syZAq1br0WFD7Y5meCYYoP+qKHdJcDS8iZLXt2H34WO49JWxmDhOB03wrwPyauDPGnDqUxc6rjhh/+gLjEkeh86W3WjAP+KpO97Hli3rsb26Acc+H43EKQ9A69/GRRsse8zYYpbHeQpX703AlAf7jK6XGJfz/Wqs37gJu/Z/iPa7x2PKOA9se2wY9d1ZmCBudR42453fj4Fx/EjfPUGx+MroCZhw9UOY/7UDiYl6kV6J61vfwZn7EnDp3Tfwhn89fQykj+tRtWUTyt4+hGMXR2DsxAToNL6mFXL7B7Zh28btfWPVT3yUkV1z7t1jSkTHB6UorZHwD99OQIx61Z/r6F6Yy+QYH8CH7V/B6PEToFeakWDbvwu/OOqA849XcemTzt6+u92S51eLbdvUNuV4Joh4yu85wf/ZSbZaVH7gQcK9dryzcT2Oj34KU0cP3IZLGft38D2jun49QH0iIqLbwbBY0S0rK8OJEyeUY/mnXI6YZIM5Jxul1lhk5Jhgmj8JzrIs5O1xqBVCuOpE08EmOK/6ivad2cg7cCdSf1SIwqypcL2dg7yfh/g4+N5YGCfI6286JE4zwjgttjeJPlqKgl9qYFyej/zvz4CmoQjZrzT2rhyetyBveQHqkQLTG8XIn52A0+VZyNxq62ePpkjctmYje7MVsRliXjkLMelMKbLWVMF/Zm67BRa72kuIWFz4aTYKfloPS7NT/YjcjbaDFlS+LMYSMwOmH+Vj2aNXUL02B+b9lVi7yYHY+Sbkr86A3vYmclbvhbNLuVFtPwdVjgQsfKUYhc+lwHMgD5lrLHDJ1/uLz4Bz7x5TDko/uguxE8aIhDyYiEd5JrLKW6FPk+NhQmpMPQqWZ8F8TJ6ZBvpHJmHsPYA2dlLgs+l2C55fzo7TSJhfiOJXViClS7TxbB4sF301/J+d1N4Ey/4SEe8auPUGjFUGNnAbgSKtT0REFKW8w0BaWlqfV6Tats/1pplqvBf+op6Q/eWCt8Yk2jPVeS+opwK46ry5abneOpdcuOCtE3VX1vbWvNJa4y3f1+q9opYD/KZcjLPc26oWZa1loq/v7fSe9h+Ds8a7vKePK94jL6V5l+8+q1zqoYxjubfGqZb92d/yzhX313ymllUXanNF/93tqn2X+UYTXixaveUizkt2nVZK3U7vWiLaXeP95WX1hOzKEe+rabO95epk5fZnFzcFxuVL0d782d51zX/ylfvEJ5y5+8Y0t6JNuRTSqZ3eRf3F4wc1Xl/rvmeZeyDkU/e5qc8vKJ7ey94jxUu8uft8sfd/dhcOyM81qH6EbSj1Z6/zNgU8oD+JOuK5/bhJHBEREd0ehsWK7uTJk9Ujn+DywOQ9mRIM6anQj1BPyUbokZpuUAsD0SNZ1HXuXIuCt+thP+eBNmkBTIuS+q4IXsu0qYj3H8ND8UiCHWc/lQsOtFnldUQXrEetva8zwNj7nbjwX8odAVyn7JAmz0Dq19UTKv3jMxB6ZpHFInlyvHrkEz85GXjYiKn+G0a1Bkyd5AGUFV1f+7qYK7D7z+F3ErTjPHBd6m/Xa/hzn/6N/p+Zy26DO1Q8UkQ82ptgu6SeGKwb8vymwxiwAVeH1Jd2o2xRYOx7BMU/0jaU+n93F66c8BvjURskbTw8n7mHwb5kIiKim2NYJLp5eXk9ya38Uy4Phjam7wfdmpjw01T902U48NMXYOxshnnNPKRn5KDqxFB/j4EWkrMFLcf8X2dx57cykHifWiXY3dq+H+FrtNdMwK8rFpq+9/bxB0fQHFohxWVgetw1RxXW3O/0TzRDCRWPbv+j/rxhhuj5XUuo+EfaBi7DETDGFrR2xiIjJcRWDiIioig1LBLduLg4bN68GQ0NDcpPuRwZHXQPaGA7FrxP0qOcC5enQyS1X0tCxspiVOw7hH3PabF3eyOUfadDQocxcRL031wG0ypT72v5QkyfZkT836rV/Oju10Nja4FN/b7cbp4T4px6HGhoYtE/X/t4ZFbgHFYtxiwxB8OY/tKxyOceihKPU6d79wurpFNtcGjiEft36okbYpDPL8R43R9bw/7e20jbUOojHrNW+o1RvBbPNMI4Rb5GRER0exgWie710yAlIwPaw2aUHLTDLScEXW7YD5ag+nfhrl+5caRkHrK2WiGpCYXUGfrPixR3a6AV91yI6HPgWKRmJsP601LUt6ttd7nQWJ6HtXud8iJtH5rHnkHGyEaYf2JB99+auU9aULLX1s/K3FDE4lp87Xv2l6LymDog+dsq9hQhb2MzpHvUNKpPfCKfeyiaxxZj8d/Womij+AVEbcZ9Ui43I37lQiQNtBrc7WY+P40Yn3hfKc9CkD7ei6LVpWi5Et6kI21Dqf/nWpTutAXWzy1Bs6jPRJeIiG4XUZLoCpNWYMeGmXDvWYvMmelIn5mFUvt0FP7fFLXCQHSY9UIxUk8VYZ58f3o6ciw65P8oI/Q/ODDpGZiecOLNTLmuuZ/V1b50acWoWKpBbe4cpY/0mdkwu2aibN2CwD213UYYsKJiA2Z2VGGt0lc6sja0YXrBC+h3ZtcdiwHI7Rcnw16Spc5hHvIa9Xih/Hkkd+ddIeIT8dxDGRGLZzdXYLGnCtlzfPHIfLEeuuVlKH465JMK7WY/vzMlyFLfV/PWNMFQWAFTUpgpZ6RtKPWLkWwv8qt/BPrVFXi+5wERERFFvzvkv0hTj6NHpwSPRgtNuMlTsC4PJI8G2lBf4DqEPJIExEQwTnlcXWJckSzJXW8sBjLI9iOeeyg36Tn1Z1DP73rHG2kbtzhGREREt1J0JrpEREREdNuLnq0LRERERER+mOgSERERUVRioktEREREUYmJLhERERFFJSa6RERERBSVmOgSERERUVRioktEREREUYmJLhERERFFJSa6RERERBSVmOgSERERUVRioktEREREUYmJLhERERFFJSa6cKF5ZxUa2z1q+Tp1umA7aoOrUy3fJJ6TFph/ZoNbLQ9PEpz/thfmzZVovqSeui1FHgfPeRusNheG6F0atqF4X92qsRMREUVfonvRiqqXc5C1NEt55bwsJ7GSejGETgeafr4XdcevUac/HTbUbq2FrUMtyz6X+6+C9XO1fJO4jtfBsqcJTrU8HLkPlyBnYxNgMCJeq568DQ0YhxDvK7e1CgU7rTf9F5mheF/dqrETERFFVaLrenct5iw3wzllGQrXV6DijXxkxNtR+Vwm1r7rUmsFiUlB/qEGlD2tU09E4KoTTQdFEnBVLd9CsYt2oOGQCUlqeThy2q3wPLkCpieToI9RT96GBowD31dERERDYsSrgnp8y7S3t6OoqAilpaVobW3FxIkTMWrUKPVqmNr3Iu+f7ZhZvgv/9/EHoNNqoBl5PxKSvoNZEy9iR8m/4H8efwZT+jTrROPWd3BmtBHj1Guuo1UoKdmEXfs/xKmro5BgeADa4F8J5FW3ql+g+RMn3F9cgqP1HO6aYID+L6fw3i/OYPyMBPy+phSbzLuw79/bERM3BQn3adSbhQ7R74Ft2LZxO3YfPoZLXxmLieN00FzjVw/XMQuqK7ag7O19+PDkVYx6ZAoeUFcEJVstKj/wIDFRD033nO5LRMcHpSitkfAP306AklNdtMGyx4wtyrhO4eq9CZjyoNqIPKcdzfDI8/iq75RMafuEFsbxI3vrPKhB6/8rwWtv7UbDbztwd0ICxo3UwG3diy1b1mN7tS92iSJ2MWJOzsNmvNNwCp+5OtDx6R99sZL76JLgfL8W27bJ9zTg2MURGCva0qn9K/f9/j4kft4s3h//AmnqPyLhHnFhgPh135fwh/fU8Yi2Px+NxClBz/Ja8ZANML5QpI/rUbVlk/KclNiMF7EZ5Xv2/cahWz/vK237ezhwZjy+8/DvUaO2/WF7DMYbgsZyI99X3c9+nBb23eux/j/G4Kmp9yv1rtnGf/rG/t1ZE9Ad2WvVJyIiGirX+M/fzVNWVoYTJ04ox/JPuRwpm6UarrRlWPyIesKPNvl5HGjYgWfj1BMB3Gg7aEHbZbV0uADZ5U5MzSpE4Y9SoX2/CNkbxX/cfZd7afSIN4wV/+HWYqzBCOO0eOh78lgnql8rhWPcQph+9AKeffg03lyVjcqT6mXJBnNODqocCVj4SjEKn0uB50AeMtdY0M+6M1wH85BdVA+kmFD8Rj5mxZ9G6ZJMmG2+kUntTbA0O+HbgOGbU+XLOSj96C7EThgjkl/hvAV5ywtQjxSY3ihG/uwEnC7PQuZWm29+/awkKm3b1Q+elTrVKPmhmJ9hMfLF/DL0VpSuLMDePSXI+6UGxuX5yP++EZ53C5D1k2ZlTNpxRiSOFgejE/1iJcG2NRs5O04jYX4hil9ZgZQuMcZn82C5KF8XM7FbYNlZgJyNLbgrLhFj5PvCiF/3fQU945kBTYN4lq809n6EPlA8whhfMPk5Za624Itp4tnnmLBwihNVq3o/UQgdBz/Xel+dr0ZRmQOx803IX/0s4h1vIienEvYu9fqNfl91P/u8PNS49TDE+jLTgdoIFml9IiKiQfMOA2lpaX1ekbngrTOleXMtl9VyJFq95aK/8t+opTLR/4YWX0F25oi3/M0j3rNqMYCrzpubluutc6llmXIuzftq4xX1hOxP3qYfz/bOLmtVSm3b53pnFzd5/Wt4vxTjmD/bu675T+oJP/99xPtS2lzvW8fVsqpt90rvkk2+di4cyPWmmepEJGS+Oc2taFNKPle8R14KPifYq70rv1fqbZIbCTUfQWlbHXvo+Ym2C0Xc5r/lbfuLekp2aqd3idzef/mKSmy725HZ3/LOnb3O13ePP4l6Ij4/bhJH6j1B7YYTP+W+7+30nvYfj7PGu7xnfmHEI4zxBRDP6dXZc72lLQE3eK+0lPra+dJX7hOHYCGeg/IM0l71HvFv+ssm77rZs3veuzf8faU++zXv+f3/LNI2lPrLvdVn5EIvpc4PakL//4yIiGiQhsWK7uTJk9Ujn+ByuLQxwctjkTM8ngHdr4qQs9kC6ydueB5KhWlVKmLV6+ExYKrB/3NYDeInxMPjcMIl/uc4LkEXcwX2o1ZYu1+/k6Ad54HrUog/2XG0wapJhTEoLIYlFdi9OqXn4+Bg079hUI9kDrRZNUh9zP+cMOlZVLz9PFIi+tg4eH5aGJJEu49NhWGEekr2yFQkyz//Ryn14Tplh/R3d+HKCb84HLVB0opYfebuXXkNaDeC+E2binj/8TwUjyTYcfZTuTBwPMIeXzfxnJqRitTkwGBqk8U5TzNaT6knBmuSiIN/0zHxSHzYA8c5eb32Zr2v4mGc4refPdI25PoQ97v8xihezhFjoWu/0DemRERE12FYJLp5eXk9ya38Uy5HRgedHrCfuf7vHNAkmbBvXxkW6ttQU5iNeRlZKDrc3we/1+EPDrQca/F7tUKKy8D0uNDpBUQSH2kaf6d/kqcQbdylHt4ImsH8onEZjoA4tKC1MxYZKbG9SVKodiONX0jhxCOM8fnr9zl5gO4tBjfSDX9fifrB76tI29BKOBswRvFy3omUuYlyCkxERDRkhkWiGxcXh82bN6OhoUH5KZcjo0HykxnAwTo0h/qWsPZarF2ajcow9gB6JElZsUv93/nYsOcADhUnw7a5BrYhS1JEUv6ASAsemQXTKpPfazFmTTPCoGxCDTJ6DGI7HDgbtNwlnYvk+0l1GBMnweEMbsTZ+72/X5V3hrohBX0HsNNhV4+Glu5++Q/n4jFrpX8cTFg80wjjFPlaKIOIX0gDxyPi8fXznNBuhw0GjH1QLd8Qt+h9FWkbcn1JD+NS/zGasGLedBgfjRezICIiGjrDItEdCpppy1D4pA1F/6cIlpNueOTEtMsD90kLil6qhHOaSFCSBk6CHHuykPliLZxqYitd/bPvIBQ1MbzsDi/V9NEgJSMDnv2lqDymZgddIuHaU4S8jc2Q7gkxxodSsTjZjjdfF+Pq7upiI8wvFqD6nNxiOGKRmpkMe3kRarv/cYwuFxq3rkXBPieUr2QYmYQZyW5Ul/X24z5Wicpf+Y6HmuaxZ5Dx51qU7rTB3R3vj/eiKLcEzVe0/cxrEPELaeB4RDy+h2Zi2RPyc9qL7r/d85xvxKZ/roY0dxlmfs13bkB/Te+rSNtQ6ltRubE+oH7pmrWivib0KjkREdEgRU2iK+8TTcrdh925ejS9moU5M9ORPnMOsl4+gr9ZWoEduUlh/UfUsGQDVujqkCPfn56OeetOI+Mny5DUZxuAMDIFi5fqYFkzR9Tt/y/x+5i0AjuKRZJVkqX0kT5zHvIa9Xih/HkEbe9U6ZD6WgX+6f565MzxjSt9eRU8i8pQ/LRerTMwXVoxKkR86nPl8cr9ZqPKsxhlr2fA14ro54fFWOCpQrbSzxzk/XIMFi8J2sc6VEYYsKKiGMn2ImR1x3vNEehXV+D50IHwiTh+oQ0Yj4jHp0XKi7tROKEJazN99ec8Z8bZlEJUrEwKL3GU/VW9ryJtw1f/+5pav/pmuJ4U9eeH/14mIiIKxx3yX6Spx+Svy6N8hK/Vhp2eDE6nBI9G23ffY3+GaFzyFg3EXKNf0Y9HpGZhj+t6yfPyaKCN9B+SiDR+/QgnHpGOzyOJCN7o909/bsX7KtI2hqJPIiKia2CiS0RERERRKYq2LhARERER9WKiS0RERERRiYkuEREREUUlJrpEREREFJWY6BIRERFRVGKiS0RERERRiYkuEREREUUlJrpEREREFJWY6BIRERFRVGKiS0RERERRiYkuEREREUUlJrpEREREFJVu70S30w7L1r2wudXydXJ/YoX1kyFqLApI5xqxd+smVH4QXkw8522w2lzwqOWbxXPSAvPPbLiuJ9fpgu2oDa5OtUxERES3XFQmuo6f5SBrqRnWgZKOP9hRd7AaTU61HIn2Rpi3NsL/VuehAhQcGkxjUcjdiJKVpWjCJBjjtepJPx021G6tha1DLQtuaxUKdlqvL+EcBNfxOlj2NAU8y4h9bkXVy1Wwfq6WiYiI6JaLvkS3y44jP3fAdf49HPntAGuDDy3AjoZDMCWp5UhcboPlYNtNT8r+apxpg9UzEytWzULS1zXqST9XnWg6KJLLq2r5FopdtAMNh0wYzNuAiIiIhq8Rrwrq8S3T3t6OoqIilJaWorW1FRMnTsSoUaPUqxGy/wLF9fFYtkRC7Yej8N0Z4xAizfKRVxV3NMMzwQD9V+WyA/UVJXjtrd1o+O0ljHhwIhLuC3G3vJr7swac+tSFjitO2D/6AmOSx6GzRdyHf8RTd7yPLVvWY3t1A459PhqJUx6A1v9Xios2WPaYscW8C/v+/RSu3puAKQ+GWPXs1iXB+X411m/chF37P0T7HaMxIcGDDysa0KGM3YnGre/gzH2J6PigFKU1Ev7h2wmIke8Noy/XMQu2b34D25Tx3o2E+Ptx5mAl7PcYMa6/xyDHalcpNsntHj6GjrsTkBA7Ehp5nkHx+aMmEQa9XxzluFf9As2fOOH+4hIcredwl5iHtv09HDgzHt95+Peo2bIJZW/vw4ftMRhvSIBOfj7dOsR8D2zDto3bsVv0fekrYzFxnM7Xdz/kOVZXbPG1efIqRj0yBQ+oYZBstaj8wIPERL14rwwyll+cwnu/OIPx352FCeqpa/VJREREN96wWNEtKyvDiRMnlGP5p1weLFujBXh6BhZ8exZirfVoutaSq/+qYpcdlTl5sGhSkf9KIZZNcWHXqjzUnvNVDXBvLIwTdOJAh8RpRhinxaInfzlaioJfamBcno/878+ApqEI2a809q78nrcgb3kB6pEC0xvFyJ+dgNPlWcjcautnb6oE29ZsZG+2IjbDBFPOQkxyVYo2K1HfsyLqRttBCypfzkHpR3chdsIYX3IfRl+ug3mirRpceXSZaHsZZsQ0oWBlCWpEHNsuq5WCye0+K2IlGbEwR4xpwVQ4d+Qgs8ACV5e4HhSf+NFBvyxo9Ig3jBUx02KsQY5fPHry4PPVKCpzIHa+Cfmrn0W8403k5IikW25XJtlgzslBlSMBC18pRuFzKfAcyEPmGtG3WiWYMseieiDFhOI38jEr/jRKl2TCbPNFQWpvgqXZKSItG3ws/Q3UJxEREd0E3mEgLS2tz2tQvmzyrps91/vWcblwwVtnSvOuee+ycikkV503Ny3XW+fqPl7prfnMd8nrveJt3VfurWm9opaD/KZcjLPc26oWZa1lYuzf2+k9/Rf1hMxZ413e3Ydo88hLad7lu88ql3oofS/31jjVsj/7W9654v7ecflcqM0V/Xe32+otFzGbW9GmXPMJo6//PuJ9KW2ut7QlcI5XWkpFn2ne8t+oJwKIdgtne+duaBFHfq60eEvnz/aua/6TrxwiPgH8Y6+6cECe06veI/4NK890ds9Y2rbP9c4ubgrs+0sxf/++/alz9L0nerXtXuldssnXjtKvqU68Y2T9xzLwnGCv9q78Xqm3SW7Efz5Kn8u91WeUWj2Ufn5Q4w16IkRERHSDDIsV3cmTJ6tHPsHlcHk+akJjzExMV27XI2VOEmyHmvtd6QvwtWTMmOxE1Q8LUPUrO5ydWiQtMmFBUoSfNU+bivgR6rHsoXgkwY6zn8oFB9qs8jqnC9aj1t7XGWDs/U5c+C/ljgCuU3ZIk2cg9evqCZX+8RkwqMfdpn/D/0wYfTnaYNWkIjU5cI7aZHEuaBG2l2j310BqWnLvKrZMm4zUxz1ottnVE4M0aSoM/g3HxCPxYQ8c5+Sn6ILjuARdzBXY/ef0OwnacR64LoVYvlfnaAx6SxmWVGD36pTAOfjpG0sNUh8LivikZ1Hx9vNICW5E7lNEHi6/MYqXc8RY6NovcF83ERHRTTIsEt28vLye5Fb+KZcjJ6H5V43QPWlEbIcESbw08UYYTtahOdT2gz70yNh4ADtWG+FpNmNtZjrmrKqC3fd59hDSQnK2oOWY/+ss7vxWBhLvU6sEu1vbd5+xRv7gP9Cd/gm2Ioy+YjQh9jCLc8qm1P6I63eph0E83VsMbqQ/OILm1AopLgPT4/pJW0PO8dr6xrL/OYeklXA2YIzi5bwTKXMT5RSYiIiIboJhkejGxcVh8+bNaGhoUH7K5Yi5m1BvFelMcylycnN8r9fq4Ipxou79ML44qssDSSS1+mkZWPF6BfYd2IcVf7MXlYfDWg8Okw5j4iTov7kMplWm3tfyhZgu72X9W7WaH939emhsLbAFfVWa54Q4px6HFkZfo8eIXwqssAf/InDODqvf134F8rXrcAatS3Y5YT8OGGL16okbQQfdA+IZPzIrcE6rFmOWmJNhTIh0VpmjA2eDhiudi+Q7e/uZs+QM/d25cp+SHsal/mM0YcW86TA+Gi9aIyIiopthWCS6Q8H9USNsccuw4e3d2O3/WpMK18F6DPiBescRFC3IgtnavYQrwfOlehjK3Rpo4caFiD6HjkVqZjKsPy1FfbuaYnW50Fieh7V7nfIibR+ax55BxshGmH9igV3ty33SgpK9tn4/dvcJo6+HUrE42YWqYjOs5311POetMP+4DtJIpRhCLGZmpcJeXoS9J9UBeUS7mwtQ/UUGlj0ZZqL7VXlF2o3L7kj+OEuDlIwMePaXovKY2neXSED3FCFvYzOke0Ikusoc7Xjz9Vo4u7u6KOL5ohivSPDDW+n1xVKec61/LLeuRcE+8UtU8Oq30qcVlRvrA/osXbNW9Cm/b4iIiOhmiJJE14nGWhsMc1JEShJI8+h0pHa+hybflzr0TzcL+cUigXtjHtLT05E+Mwd19+cj/+l+ErdJz8D0hBNvZoq66eYBVld76dKKUbFUg9rcOWo/2TC7ZqJs3QLo+3xcLowwYEXFBszsqFK2U8j3ZG1ow/SCF5CiVunPwH3pkPpaBf4p1oaipb4683Kroc0pxOKgPcH+tI/nY3ehAU0vZvranSPa/SwFhWUmJF1zy4OfkSlYvFQHyxq53zxYLqrnBzJpBXYUi6SzJEud0zzkNerxQvnzCNpqrFLneH89cub44pe+vAqeRWUo7u/ZhqDEMlePer9YVnkWo+z1DPRtxdfn9zW1fn2a4XpS9Dn/Rq54ExERkb875L9IU4+pW6cEj0YLTajEcwh55L0SMRH0I2+v6NJAG94yZIAB+5Lb9oi2w01Uu92kWIUUad/yHDtFoj6YAPqJ6LkNUZ9EREQUOSa6RERERBSVomaPLhERERGRPya6RERERBSVmOgSERERUVRioktEREREUYmJLhERERFFJSa6RERERBSVmOgSERERUVRioktEREREUYmJLhERERFFJSa6RERERBSVmOgSERERUVRioktEREREUYmJLhERERFFJSa6RERERBSVmOgSERERUVRioktEREREUYmJLhERERFFJSa6RERERBSVmOgSERERUVRioktEREREUQj4/+pZZ914NmcjAAAAAElFTkSuQmCC)"
      ],
      "metadata": {
        "id": "voW3zWtWbVS_"
      }
    },
    {
      "cell_type": "markdown",
      "source": [
        "![image.png](data:image/png;base64,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)"
      ],
      "metadata": {
        "id": "kg-wNZ0nbaIA"
      }
    },
    {
      "cell_type": "code",
      "source": [
        " # formula_for_diameter = d / 2\n",
        "\n",
        " d = 19\n",
        "\n",
        " diameter = d/2\n",
        " print(f'The diameter is {diameter} cms.')"
      ],
      "metadata": {
        "id": "nozWt5TsM3sf",
        "colab": {
          "base_uri": "https://localhost:8080/"
        },
        "outputId": "5c8c5faf-06c4-440c-e3d6-0fbc5468dab9"
      },
      "execution_count": 52,
      "outputs": [
        {
          "output_type": "stream",
          "name": "stdout",
          "text": [
            "The diameter is 9.5 cms.\n"
          ]
        }
      ]
    },
    {
      "cell_type": "markdown",
      "source": [
        "![image.png](data:image/png;base64,iVBORw0KGgoAAAANSUhEUgAAAiYAAAAoCAYAAADKWzEfAAAAAXNSR0IArs4c6QAAAARnQU1BAACxjwv8YQUAAAAJcEhZcwAADsMAAA7DAcdvqGQAABmySURBVHhe7Z0NbNPnnce/t1y9Q/MazWsPwwmvJ7xW9ZjOG5rp1MCEAZU0amiuptF4EQ0RS6MsRAWiNo1oLodMtsGCQhqFrAouCqSCphdqFBIEGA2CxnxCeBpzVeRK1NzAiM6nTO6xuWJ3v+fFr7Hjv+0A3u35SCZ//9/8PL+35/c8/+f583f/S0ChUCgUCoWiBPiS/KtQKBQKhULx0FGJiUKhUCgUipJBJSYKhUKhUChKBpWYKBQKhUKhKBlUYqJQKBQKhaJkUImJQqFQKBSKkkElJgqFQqFQKEoGlZgoFAqFQqEoGVRiolAoFAqFomRQiYlCoVAoFIqSQSUmCoVCoVAoSoa/jcQkEoTnPRfGr0Xkjv9H3PHBfXAY3tvyu2J2KXHbiYYD8F3yIhCWO/6qiCB4bhiuUwFE7sldipIk7HPD9Z4XIaUngYq795WC/hO/aCSEYCCIyFdNMC8wQq+TB0oU/zs1aDnGGhYb2kacsJeL/fedqQDGDw5g+KIfoagexqeWYN2WH6HySb08ITfRqQiicjuFMh30+ig87TXo8tL3cgd6RhpgEUeL4844OncMIwAz1u3tQOXjcn9Owhjf1YLhAGBvHULdIrn7rwj/wY3o+iVt/KANQ5stD892chKF/1ALWg8HuH1U/+Q0mheLI7nxw7WpC5689TvLfDSAmq0jlJ6QdF8fhXOldr/IRvhUJ1qYAUr9PVhKRK5FEpeheR16dlbCMOVBu6MLLMzoX+7B6JYHLddSIzJ7cfe2F663XfB8FETorg5Gy9LMbUTsvKDoIOlNdtT9uA62ufzrwycagv+iF7/2f4ovm5fC9j0rzAZ5rADyGjGJ+IbRvqEKVTUb0djajtZXN6Kmqgr1u90IlEKH8rYbLatWYdWqXvjkLobRbAXLnXSLlsDyoBqWiA+9jY3oPulDaIqajrthhHzj6G6qx8BH8pyc+DDgqEFNps+bEwiBkp0njbxuhuVLKBzOEn/5AuGbIYRuhvHFX+S+NHz7mZxXoeV4SO5hRPHFHXZdCJE/y11/ZbCkm5U/FBHp4EOxHS3cnsAAT0p0MD/XjBX/LPenQDbI/aEF7pSeXRSRHPp9IMz9Jqxz6K/OgiXfLj4pYUSZnyXp78FSInItkrgM73zBk17ojTDP5VEG9u/NWpS5L2SOS7PNLMXdm9RebW7H8KWAaCOikXgb0etLst/k87h9hRC4RG3xZvLrm/Kch0j0IxcaKSdo2d2L4eNuuPa2orG2Fr2XC08KNCcmoROtqG11wXubQmE5GeozdtieNJByogie60XjjygZKIXkJAOG5R0YO30aY/uqYZT77jfBk71w36GNpxswOHEapydG0bacmXIYI6OTwuHvsaFsN9yXczmRHpbnqlH9YtKnwkR7AcumIV63o02iAVXMLg/DdjTxX59S/5yxGg07qmEponfy0DDY0eEm3xjrQXWp9PwU0ymzoO7wGE6fPopmq4oyjNmIu77RAfipIdAtSrQRzudYVA/DfdIr2gj6d3Iodt467Dk4itGDe7BuEf1q1I+BIdmWPDSCcHcPI0CFMKxshnOXE9teNJNMqA5v9WLyrjwtT7QlJjdG0L7fRwLQwfLqIMZGhtC/qw3OvqO0vQeOhSSkO260d3moOAw2pLkRG+njusp3SNhQv9jfeSr5oXgEgVPdaK2t4tnuqqoa1O9kSZA8LAl7BxLnrKoS57DGn3HVhY3bXQjwLxPo4r/vEsGbHWPfd43L8gki1yg7ba1FlbxfzZZ2uC4lJwmJ8rouBuDeXY+aqlj5huGbkqdNg+rzmyDfsjuqYSqjjTI97CtX8H0IhXk5Iue6UE9ZZu8bjTlGUUxYsbEZzU1Jn5etPDFhw668bgdFM5WQfSfGr3oxEKtfdS1a93kQTH9GfDvpHFYvNvqVtV4MIZOuM+Jb4HAr//1UfRJ/TJJXuq7iaNN7Mon6+uL20HtZHqREL3CcZOoQ96uqbcWANwzfQaHDhIyILOdOc/JptpOfbc9os1nIaZesTD+bkF+ErU+TP3sct6mLjjICcG1nZSObSPvt6K1U/bfsG58++nnHC9fOmC6FrLo1zAsJe11o31ITr0dta3faXJ0kW+XlSvI3XxjeA9QZqk4a/YwEML6P7ZPlcNSj/ZCWeQ/52VnkYjcvQ0q8mJpENy/rRnSfT9QhdLKd72s5JiJPDE1yvUd1PNQet0Hho3Reuv+R/OP3YvWm3rOLbDWFAnUUupSwTybPruN0jTyWIEkvyTafKXZcZ3aXrFO6Ou6zk0k+x+y6C25pDynlYL6YEocFM9tT7riU2x5z2F8S0+Muu38+vh6F8dkO3pA7WxNthG3ZUnH486iIRXe9uHCGbZlQt60O1gV66BdY+baJ9kbPXIB3hsY/Z52T4ps/qfzJOohcc6NL3iNuIzG7igQRjBphnO9AG3WQbM/YUNnUQN0lghKnYIFzcDQlJv6xI5QXEYt/jI6XmDiSKLei4Y31QkjeI/DcYDtjQ5rpQ/qJof7w3VgTEIFvfz0a946DbAH6uUYYyiIIpg1VRX29aGwf4ecY5pMgyilXY+e0kOEwxfw5gtDt2HyMqHwUIb+zY+x7bGiSiFzuRX0TKYluGLsmct2LYXLuxkP++L5YeUd2t6D3XBB8hDjKyudCayNlshkdn5IQJ2XAlFG3LUvk06Gbn4qNr5Jx0R/9P5lhZIfnWPHNAnuM04euY7L34u3X2zESqx+d5zvZhca3YskjIYcI4+ewerHRr9cGZIKXCSGTsHSG6JSQT0Kfgom9SfKia1J0xdGm93Ti9T1DdeH2EPtdul8f3a+Pki82LEpEwz6MtG9E+3FRxoSMsp/beYp/TTDNdrTbdk6bzYAmu2Rlitdb2Hq6/MXjuKR73GZlS3/EQAlLe6r+/Se70bLTjXizwGzkFTaMTLosM8A4lyyXZDW+txH1fb4MjZggdLwFG9uH4b1OPjiH7F1H5YwNU8eHeGOyjJUrIcOJnzWi/QNKPmNyYo9GfyQejYbv6qAv15HtBeE9TA37Dipv1gY4fzvTm80wsHKd98Ef+/2PvRjnZQ1h3BtrjKII+CgxovKbFyYP6GuQ670Q3DvINg974zYofLQbjY2d8MQC+l2qd4u4FwxkQ0z+N8ge2hsTw/1F6Kh+Z8KHmDw9fY1oeSfd+xN6idt8ltjRsvVteLmcErYW99kPutAS9zlm1x70kj107korB/NFsveWE4nkJNmeuBzIl1Ltaea4lPt6xgz2l0Z63M3f13UwWm28IbfOF21E9LYfw++d5cdsy0XHE7eDonMNK8wL+IZggZn2MLI3/pp8MBbfLr2N1qR4GtfBrk6KR73wsHuw/dJG6g+wgQpCX4Fth4YwdKgBVpZcMSKi402SgJ49qi0ADYlJCH75jMa2cin9VAaesKNyIdsI4srHMSVr5MYEek9QNXQWNBwcw+jhIRwdHYXzBfolyrh694tei/+8m/81vzqIo0wQR/tR9wTtuOPGBaa5xc04fbhZTkKqxh5KCk6fbpbKS+PuJHrfYvfTwbKpH6NsGI3OH9xRQfWjYHP453DzBCtBdGGdGG5j9z0oJzvdGcGHF4Uic3LPjw+PSRNbJo3u6ToMuccwNtoB+4xD8UGcHepFb5/8nBGjMTMThW65M1630V2V/DejlEFPXGfHI/D8QgwR4nE72g7Luh1ug71cZusZMaJ6/2nseUF8szQN8et6Xkx90JFZXm6M/6e8s0a9Z+VOBLplDWijHkclm19x7X10sfsl63RiFP2bqMFIDwwznatRnVrIabPpaLVLZus/qRbXSFtPlz/mVqPn9B46yrCgmes3/ZFJFhu5+j4FInE8NoxseIHOGz2KocOjGGP6pFgaPtGJIymjRhKqh+sdlkSJEdbT7lGM0ofrlmrnPjAhOjozEJ7SoWJLG/UoK3mnJ/5o9PFqOEfIXujD7YrKEb06ANelLIorxM7mWrGU6Qle/I7LgXT5mwv0rw461oZcuiIbCz+uXGS7K/AdEXgkueRK9fmgHb1XqczJvhcffZ7Ez9+VQ/T+C6LeCxsweJRsiOTfv4lJhOR4npWiQB1NeTDAdUTXrWzDkCzr0Jt26KNZZBkne+yo0M8QO6JmOPpGZV37se5ptjOMyfMB7iN8/8QQ2lYyO2GTuz8Uco7bkwHVTqobkwPpf/BVC2mE5NB1hDqIM8QlTdeL62Kk218u8vb1ZOTcyKoNLXxEyvzyHikD4g9/EMnswnlpj5KN+AaXX4idMp18fTBK9X1dyIzrYDm3WKrXJMDsKh4jmczoDsffx2TSyF70pg/eSx64D1Ly+crPQVdR+7ai4Mm5mhKTW5+ILePXeHOaEe6wRCSSX2IS8p4VAnp2DeyPRhCZog/dwrJ6jZhUdHmSPzIxGIV5BA51ovu4F4EpI9a9Q8IiQWpfjSDxX4GHeU95NRp+aIZeZnqm55rxCr9XEB/+MjV0xh/JMBZUY+1ysRkKTwtrGWA99E6MsADzdAO2x4yOUUbBLnbfrFCP65Qb7uPy49fym0asddjiddM/48Da+WxLGjIlSj6eVOnheJOSkZgBzbVje5OdG18x5JKXVr1nheS4Z6cDdupxsNnfod96eWDgo3obpE7L9DBv2C4CRBL5nFsMedtsAXZZHLlshIKNHEZes4paXlIQ19Ojq7FmGTsvgolfZYi6JN94PWIjrGyYmhqL0REKkHtXw5jjEYNlyx50vGynHqWZmpMQvB5Rb9vmOtioN8pZ4MCeo3S/kaNo/m5miy3Mzkyw/YA1A+R3H7NmgTpnrIdZvhqrn6WvUz742UjLzYBonJ9dCltKzzCHXOmvb1LUx7qpIeF7bPT5x9UiiYkN0f/jPNEwfuJC5z43vJ+EYfyhbMS3UrerUB197MMk15EDHTvsMMqyGpdvR/PKHN5faOxYvhbrY6tNys1Y77DL7WQ7McJeu0Y0wlOfi0cGMXt6Yg1WPEU1YvWjj2HlGlTw8yZw4RrbyEIB16faX26Kap++9IgcZWGSow7IuffhLXZSa74+OJ90s1KmPkwH69YKHcCGhk3SllmMfGmtkBlF0PDnfIPDHxnt7ELvex74yZ9My5vRv7vweXkaEpNYZkZCv5EYWksljFtSkEaDFjUmCP1eDhue60Jt8qqTpth8ETKiP1FFXyJDed4E3d0Axvva0VhbhSpHC58XkC+hG/I358+DQTqkwIB5PIDQOWkJh/4rye7GlurKzVzci8C7vx6trNc2x4rmNxzxIKAdM+qop8ENin22ZBwHSiN9GI0Nf8tNxmchiAdLJsxLW9aoM3+r8Jnmklzy0qr3rJhNKUYfvx/TqdiSmGD+ttyU5HNuMeRrs4XYZXFotZEgXFuTdESf2LP8SPojJCL+yDJdvmyJe7mef3Il4+w1BAmyd450ZFj8nlmGjAu1M9PiCp4g+P0BRKf8uEK/r1u2FOttNtobwBU/XUeJJLuHzZY+ATKHXKk+n8o5ZabH0uLl4zIRoXPCf6Q/LPnaSb32OdRgnexF+6u1qKquQcsBSq5ZwzIbOkrRhQ7mp3J4f6Gxg3SVEhW+InWZbidz9PL7pwh9llTW6y60JNWvxsGWZjMiiP4P38hIIden2l9uimqfHq9EBxtliY3i3JlEV5+HSkV8/esizn1yiywimZgNGdkp08jbB9l3ucmJ68AIQ7LtskdCfCOAW7f4RgpipIrq8WY1zGkxPx80JSbWCuEq/rEMkyeJ6OWzmOC9DiusbLZwHhgM0gCWt+ForOFN+Tix+jE6XmZAxWuDGBsbxeD+bahbTuZPAWOkPdfE0ekY539DbNy8JXrOcSIIy+d1+SZYGbkXxPiuerSzpOTxCrQd2INq2cDkR8KY+CdLEM6LRw2yYQ/iVvoErTu3RC/zPqJZ7xqJ32+aThNJc4x8zi2KPG32gdmlVuI2YkLd/kw6ok+GJDkuX+qVTm8SC8GAr0u/iXye3x0LtrMnl8DOQtnFK/B/7OPv8KiwWmCwfIc3vD6/n5IWNi2ykKXORszjj76pAflv3vwkCMd8jxqER/kGDMu2YXB0DKMHe7Btsx3msgj8H1DjxyZeFqsjZmtpMT0cyuH9Dzh2xMv6RB16MtWPPg0z9NWKvV4TebdPbK4GezQ/jOTcxVSxQiR23t+JxHmuSU5PCKTOJbkdFMfpqCnD45LZ98GZMT7v5HJ0Pi9/t0g0TX41PV8nnJQyztZdqas2wh8No/UtN8/uDC+uxwoeNxOjLJ5z3sQM3huTOJumJJNV9Exw8Sx+HY01vqSG91rRuLURjXsvIFwWhme3mC3ddTEK09OVWPdmPzpWsgvDcrg1GerNZJm0xHnKigpWnyk3Bj5IuFHE66IMl23pKQjJ4a9CmfJhoKkR3RfD0C2kXk9/B+zpSYnm5cL3gTkWWPkQYwTuweGETqcCGB4U+tRCOD6hND+06Z2fqon4/S6/i4FzCXmGzg3g3diqHUk+505Hq23na7PEfbPL8Mz+kI24jQRxlj16iCXGn3vQxXS0tQVHPp6uf90i6qCwjZvvY+RSwpICh+rFigVHtknj2TDB+n3R+HtG3InO0RSVQ65CaU1flSQp2M7KrFj6HCkj6seR/2DzSyz41tP0fT7JhK6Pnj+CI5ep7k8shTXv5+jU2fu+SDC9B13wxnyPOjIjv5C+t9gKC3VAwme6xKqJn04iusCCyh+2of9N8Qgk/NsAQsXqiNnae4lVFpFrwxg4kcP7Zyl2aCVe1utnceEGeYGsY+R8l9DhjgxzRJLiUiHX50cBvs7GI26yR/Pk2yfkqB4R8cuEpFwnRjDmWLGEDdLBD9d+1vZS20Zydu+XK05tS8S7gNKYfR/MwVQIF855UnKDYvh7+Xdm9BVo/qkDwddHELjYi0b66EixydmYbnEzel6NDWkaUVFto0yRAvepdtReouz/K2z1QGyVQBKL1qPjBQ9aT3jR/UoNhh+j+/4pLFcdGFD92gq6GynJZkKYGgJmAMFfraYw4cfEOXYDA6wWmaWxTJ4K4I960OnwwvhYNdoO1cmMM4lyOxq2fAhvH/V6DtSj6hiVjwwottLB8EIH1hf11tIw3P/WihE5/Bz9ZAStjhHxhcMmI/bA/tsu1P+Uv08Rt6i30yAbvAeDAZWbHNQQjyB81YVGxxEY5pOzMh3phFNM01US4plqECEy9KoTRtg296DjOXFME5r0ngeL1qLZ5kYXdT+YjUz2SZ2So/D5T8mVyefcaWi1bbJLLTabzKzbpQHz2JyZ6yG4tlThw/k2vJLXG0nJRrY2Y2JLL/zHWlB7hsrzDxQ8Pwvx1Va6Rc1Yk+m9FoZK1G2gDsvhEMZ31uLCXAP0X8TqoYP9tfWw5JF0MiwvN6PiZBcmPxpAfc37MH5NlyjHwgY0J8/bSqYIO7NQUoMTHvhYsjqfGgAuNwuWLNNh5ATpiOzFuMkmH73kh/mlNlSfaoX7jhvt6zwUq8j3ZH3YRN3mrZVUOuK7S2Da54H3JiUov/81VlMw858SDyAMiy1U9iJ09PK7aDlGDeehRtQco9g5R6z20uV0guJiR95QWbc3TaCe/GLktVp45hugo05dmK/C1MGydQ1iVcwcl7RfXxgF+DrFfNu/VsPgpUT7cCOqTpLeHomViaxswxrZbulh31KHI9Q5CXqp7XX08r0cnZnihV0k3uncBx/MDrV3uxvRyyZZ/xI4uo/qJQ4UjKYRE4Z+UQP6h/ux7XkLfwV96qvSdTA/Y0uZO8Fmevc0VfBEgS/d+kwHW1ObnImdjB7Wpn44N5CDl8mlS8w5FtjR3DcYf6GPYaWTegqV/O2bATbKcI7yynILHM5+1D3JT6HskiVQ62A1sB9l90ouYyrGF3swuMtB99MhGha/iTkm2Kksg01y1UwRPGIwwsgmNGX8GPAISX42lgsXBXv5Wx8FfP5WR9G44kkHnM66nHNMTC850bbcJGyB5DdtuWpOtOldOwbY/30IzpfYy32kzd01oKKpB9unJUz5nDsdrbatyWbTmF27NMHR2Qb7E+z5sdBv3m8knV8N575tqFxEv8zKQ3qKUCkspP/Bvdknt7FVRT1Ndj43gi9VZrrldR9C27MFeBd7GdugEw4qh04u1YxEdXySXc9eR2Ki9TQKtzPdvywB76wS+gprPAHhCQtHj4rFhaQlhN6K5v5+NJMP6XisEvXRLyL/O9iTeORL9XYeaBPyv+ahHjb1Su8J+fdvkF5aqI62DKJf2jF/MzW5v5mucW7O5f1EEbGjEIwvOtGzQ/gSfxUENeDcl3YNoueFRA2zxSWt1xdKIb6up8784J462BZIX2dJifR1Z/IquyfWoaeP9GuV//2LTg+jtRLb9u2BY4bJ+rPug1nRwyTfP28wixd/FktB/1cO5y4JkQTE1m/Xv8GWSrGlWOTotgzFYsvPeBaem2hE3HfG/3+Hfps53qzMtWDM9v3y4R5bXqdlZc59hsmgLIfc7yOa9K4VkilbecHedZGTfM7NhFbbLsTGHqZdZqJAWc2qbhlF6GzWyzIb8PpQFGCTQ2eKA1rqXaiOqKPJJ6cWEocedOwo1i/ut1+Vmt8SD8Tu2aOhWWrHCk9MkuAv6umT68R/QsnJ4tnMxhQKhUKhUPytMCuJiUKhUCgUCsVsoHmOiUKhUCgUCsX9RiUmCoVCoVAoSgaVmCgUCoVCoSgZVGKiUCgUCoWiZFCJiUKhUCgUipJBJSYKhUKhUChKBpWYKBQKhUKhKBlUYqJQKBQKhaJkUImJQqFQKBSKkkElJgqFQqFQKEoGlZgoFAqFQqEoGVRiolAoFAqFokQA/g9jPAVjQx4yPAAAAABJRU5ErkJggg==)"
      ],
      "metadata": {
        "id": "-rzzvFzSb1U2"
      }
    },
    {
      "cell_type": "code",
      "source": [
        "d = 30\n",
        "\n",
        "print(f'The diameter is {d/2} cms.')"
      ],
      "metadata": {
        "colab": {
          "base_uri": "https://localhost:8080/"
        },
        "id": "NUZMlVL2bOYo",
        "outputId": "29454281-c340-48b1-db5a-67100134ad95"
      },
      "execution_count": 54,
      "outputs": [
        {
          "output_type": "stream",
          "name": "stdout",
          "text": [
            "The diameter is 15.0 cms.\n"
          ]
        }
      ]
    },
    {
      "cell_type": "markdown",
      "source": [
        "![image.png](data:image/png;base64,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)"
      ],
      "metadata": {
        "id": "L2_er9xncHKF"
      }
    },
    {
      "cell_type": "code",
      "source": [
        "# formula = sqrt (a / pie)\n",
        "\n",
        "pie = math.pi\n",
        "pie"
      ],
      "metadata": {
        "colab": {
          "base_uri": "https://localhost:8080/"
        },
        "id": "NfgGchvUbOWQ",
        "outputId": "290651e6-c3b6-4847-91fc-3e2c24733711"
      },
      "execution_count": 56,
      "outputs": [
        {
          "output_type": "execute_result",
          "data": {
            "text/plain": [
              "3.141592653589793"
            ]
          },
          "metadata": {},
          "execution_count": 56
        }
      ]
    },
    {
      "cell_type": "code",
      "source": [
        "a = 154\n",
        "\n",
        "math.sqrt(math.floor(a/pie))"
      ],
      "metadata": {
        "colab": {
          "base_uri": "https://localhost:8080/"
        },
        "id": "KRk7FZYQbOUE",
        "outputId": "57787c7a-de53-4fea-feb4-4f9ed0435390"
      },
      "execution_count": 59,
      "outputs": [
        {
          "output_type": "execute_result",
          "data": {
            "text/plain": [
              "7.0"
            ]
          },
          "metadata": {},
          "execution_count": 59
        }
      ]
    },
    {
      "cell_type": "code",
      "source": [
        "math.sqrt(9)"
      ],
      "metadata": {
        "colab": {
          "base_uri": "https://localhost:8080/"
        },
        "id": "iKCHWwYBbORY",
        "outputId": "5cddd15b-4ac7-4d7e-dea9-4940127127c7"
      },
      "execution_count": 60,
      "outputs": [
        {
          "output_type": "execute_result",
          "data": {
            "text/plain": [
              "3.0"
            ]
          },
          "metadata": {},
          "execution_count": 60
        }
      ]
    },
    {
      "cell_type": "code",
      "source": [
        "math.cos(1)"
      ],
      "metadata": {
        "colab": {
          "base_uri": "https://localhost:8080/"
        },
        "id": "dFM3uRr7bOO6",
        "outputId": "8bc2436c-2e78-442e-e562-cf2e569be244"
      },
      "execution_count": 62,
      "outputs": [
        {
          "output_type": "execute_result",
          "data": {
            "text/plain": [
              "0.5403023058681398"
            ]
          },
          "metadata": {},
          "execution_count": 62
        }
      ]
    },
    {
      "cell_type": "code",
      "source": [
        "math.remainder(5,2)"
      ],
      "metadata": {
        "colab": {
          "base_uri": "https://localhost:8080/"
        },
        "id": "FnNyYNHabOMQ",
        "outputId": "0cb18caa-c8ce-4919-e204-9854b555d0a5"
      },
      "execution_count": 64,
      "outputs": [
        {
          "output_type": "execute_result",
          "data": {
            "text/plain": [
              "1.0"
            ]
          },
          "metadata": {},
          "execution_count": 64
        }
      ]
    },
    {
      "cell_type": "code",
      "source": [
        "math.remainder(10,3)"
      ],
      "metadata": {
        "colab": {
          "base_uri": "https://localhost:8080/"
        },
        "id": "F2-V0UsQbOJw",
        "outputId": "0036f42b-1ea2-4a59-969e-32e94c1632dc"
      },
      "execution_count": 65,
      "outputs": [
        {
          "output_type": "execute_result",
          "data": {
            "text/plain": [
              "1.0"
            ]
          },
          "metadata": {},
          "execution_count": 65
        }
      ]
    },
    {
      "cell_type": "code",
      "source": [
        "math.lcm(12,20,24)"
      ],
      "metadata": {
        "colab": {
          "base_uri": "https://localhost:8080/"
        },
        "id": "yueoJprsbOHY",
        "outputId": "6e6e1f2f-36b2-41c0-925e-93c23df64c72"
      },
      "execution_count": 67,
      "outputs": [
        {
          "output_type": "execute_result",
          "data": {
            "text/plain": [
              "120"
            ]
          },
          "metadata": {},
          "execution_count": 67
        }
      ]
    },
    {
      "cell_type": "code",
      "source": [
        "math.log(1)"
      ],
      "metadata": {
        "colab": {
          "base_uri": "https://localhost:8080/"
        },
        "id": "iHSA-aVXbOEw",
        "outputId": "8aec27c9-7424-4d96-dead-7812a73563a4"
      },
      "execution_count": 68,
      "outputs": [
        {
          "output_type": "execute_result",
          "data": {
            "text/plain": [
              "0.0"
            ]
          },
          "metadata": {},
          "execution_count": 68
        }
      ]
    },
    {
      "cell_type": "code",
      "source": [
        "math.log(15)"
      ],
      "metadata": {
        "colab": {
          "base_uri": "https://localhost:8080/"
        },
        "id": "7Ag5dlqQbOCI",
        "outputId": "052609dd-735c-43a8-eea0-a1d0323e68f3"
      },
      "execution_count": 69,
      "outputs": [
        {
          "output_type": "execute_result",
          "data": {
            "text/plain": [
              "2.70805020110221"
            ]
          },
          "metadata": {},
          "execution_count": 69
        }
      ]
    },
    {
      "cell_type": "code",
      "source": [
        "math.log(2)"
      ],
      "metadata": {
        "colab": {
          "base_uri": "https://localhost:8080/"
        },
        "id": "UkS3Dx4QbN_g",
        "outputId": "dee83c41-9a6a-4486-b60b-71a07a978b7e"
      },
      "execution_count": 70,
      "outputs": [
        {
          "output_type": "execute_result",
          "data": {
            "text/plain": [
              "0.6931471805599453"
            ]
          },
          "metadata": {},
          "execution_count": 70
        }
      ]
    },
    {
      "cell_type": "code",
      "source": [
        "math.inf\n",
        "\n"
      ],
      "metadata": {
        "colab": {
          "base_uri": "https://localhost:8080/"
        },
        "id": "u5PgypxMbN9J",
        "outputId": "bf414158-e902-45f9-9dbe-441a03d8a4c6"
      },
      "execution_count": 77,
      "outputs": [
        {
          "output_type": "execute_result",
          "data": {
            "text/plain": [
              "inf"
            ]
          },
          "metadata": {},
          "execution_count": 77
        }
      ]
    },
    {
      "cell_type": "code",
      "source": [
        "math.gcd(15,35)"
      ],
      "metadata": {
        "colab": {
          "base_uri": "https://localhost:8080/"
        },
        "id": "X8oQD3OwbN6o",
        "outputId": "e120993a-3faf-4cb8-cf40-6a5200fecb80"
      },
      "execution_count": 78,
      "outputs": [
        {
          "output_type": "execute_result",
          "data": {
            "text/plain": [
              "5"
            ]
          },
          "metadata": {},
          "execution_count": 78
        }
      ]
    },
    {
      "cell_type": "code",
      "source": [
        "math.gcd(3,13)"
      ],
      "metadata": {
        "colab": {
          "base_uri": "https://localhost:8080/"
        },
        "id": "yEO0UXtsbN4Q",
        "outputId": "13ead238-f462-4133-e83a-7face9760a3c"
      },
      "execution_count": 79,
      "outputs": [
        {
          "output_type": "execute_result",
          "data": {
            "text/plain": [
              "1"
            ]
          },
          "metadata": {},
          "execution_count": 79
        }
      ]
    },
    {
      "cell_type": "code",
      "source": [
        "math.gcd(7,5)"
      ],
      "metadata": {
        "colab": {
          "base_uri": "https://localhost:8080/"
        },
        "id": "sLC_icUWbN1w",
        "outputId": "7d64196f-62f3-4678-f2d4-ad4a6ae6301b"
      },
      "execution_count": 80,
      "outputs": [
        {
          "output_type": "execute_result",
          "data": {
            "text/plain": [
              "1"
            ]
          },
          "metadata": {},
          "execution_count": 80
        }
      ]
    },
    {
      "cell_type": "code",
      "source": [
        "math.gcd(13,20) # function is used to find the greatest common divisor of two numbers passed as the arguments."
      ],
      "metadata": {
        "colab": {
          "base_uri": "https://localhost:8080/"
        },
        "id": "UfF34RDYbNzQ",
        "outputId": "6d36e40e-b7e7-4a29-d8f7-8e7ac1d403c7"
      },
      "execution_count": 83,
      "outputs": [
        {
          "output_type": "execute_result",
          "data": {
            "text/plain": [
              "1"
            ]
          },
          "metadata": {},
          "execution_count": 83
        }
      ]
    },
    {
      "cell_type": "code",
      "source": [
        "math.fabs(-10)"
      ],
      "metadata": {
        "id": "aKym4TM7M3pv",
        "colab": {
          "base_uri": "https://localhost:8080/"
        },
        "outputId": "2841a0e5-4f6b-4a44-8011-d546227b0fa7"
      },
      "execution_count": 84,
      "outputs": [
        {
          "output_type": "execute_result",
          "data": {
            "text/plain": [
              "10.0"
            ]
          },
          "metadata": {},
          "execution_count": 84
        }
      ]
    },
    {
      "cell_type": "code",
      "source": [
        "math.fabs(15)"
      ],
      "metadata": {
        "colab": {
          "base_uri": "https://localhost:8080/"
        },
        "id": "E_ulEpmueHEu",
        "outputId": "0f63fcd4-7c81-47a9-db96-9faaf468c87b"
      },
      "execution_count": 85,
      "outputs": [
        {
          "output_type": "execute_result",
          "data": {
            "text/plain": [
              "15.0"
            ]
          },
          "metadata": {},
          "execution_count": 85
        }
      ]
    },
    {
      "cell_type": "code",
      "source": [
        "math.fabs(10.51516)"
      ],
      "metadata": {
        "colab": {
          "base_uri": "https://localhost:8080/"
        },
        "id": "VuaPVvgYeHCT",
        "outputId": "d231ae12-8779-4125-e8bf-dfc83e742bc3"
      },
      "execution_count": 86,
      "outputs": [
        {
          "output_type": "execute_result",
          "data": {
            "text/plain": [
              "10.51516"
            ]
          },
          "metadata": {},
          "execution_count": 86
        }
      ]
    },
    {
      "cell_type": "code",
      "source": [
        "abs(-15)"
      ],
      "metadata": {
        "colab": {
          "base_uri": "https://localhost:8080/"
        },
        "id": "ZrTqbNALeG_i",
        "outputId": "efe8e573-2df0-48f4-9ac9-db966f4fd664"
      },
      "execution_count": 89,
      "outputs": [
        {
          "output_type": "execute_result",
          "data": {
            "text/plain": [
              "15"
            ]
          },
          "metadata": {},
          "execution_count": 89
        }
      ]
    },
    {
      "cell_type": "code",
      "source": [
        "math.degrees(5)"
      ],
      "metadata": {
        "colab": {
          "base_uri": "https://localhost:8080/"
        },
        "id": "E_Uqpq2keG9K",
        "outputId": "4d41168d-e2cc-4f59-bb87-9a79d3dc8c7c"
      },
      "execution_count": 96,
      "outputs": [
        {
          "output_type": "execute_result",
          "data": {
            "text/plain": [
              "286.4788975654116"
            ]
          },
          "metadata": {},
          "execution_count": 96
        }
      ]
    },
    {
      "cell_type": "code",
      "source": [
        "math.radians(286.4788975654116)"
      ],
      "metadata": {
        "colab": {
          "base_uri": "https://localhost:8080/"
        },
        "id": "yYMLYY3zeG6j",
        "outputId": "cb60674f-a4b6-49a1-ef7d-3c39be1742c6"
      },
      "execution_count": 98,
      "outputs": [
        {
          "output_type": "execute_result",
          "data": {
            "text/plain": [
              "5.0"
            ]
          },
          "metadata": {},
          "execution_count": 98
        }
      ]
    }
  ]
}