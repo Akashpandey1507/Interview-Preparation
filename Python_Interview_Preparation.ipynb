{
  "nbformat": 4,
  "nbformat_minor": 0,
  "metadata": {
    "colab": {
      "provenance": [],
      "authorship_tag": "ABX9TyPXivEF3hdmNru0N0dJIbd8",
      "include_colab_link": true
    },
    "kernelspec": {
      "name": "python3",
      "display_name": "Python 3"
    },
    "language_info": {
      "name": "python"
    }
  },
  "cells": [
    {
      "cell_type": "markdown",
      "metadata": {
        "id": "view-in-github",
        "colab_type": "text"
      },
      "source": [
        "<a href=\"https://colab.research.google.com/github/Akashpandey1507/Interview-Preparation/blob/main/Python_Interview_Preparation.ipynb\" target=\"_parent\"><img src=\"https://colab.research.google.com/assets/colab-badge.svg\" alt=\"Open In Colab\"/></a>"
      ]
    },
    {
      "cell_type": "markdown",
      "source": [
        "# Write a Python program to calculate the area of a rectangle given its length and width"
      ],
      "metadata": {
        "id": "jaCq1ggryybL"
      }
    },
    {
      "cell_type": "code",
      "source": [
        "w = 60\n",
        "h = 45\n",
        "\n",
        "area_of_ractangle = w * h\n",
        "\n",
        "print(area_of_ractangle)"
      ],
      "metadata": {
        "colab": {
          "base_uri": "https://localhost:8080/"
        },
        "id": "DW3-Cr1fyJXR",
        "outputId": "6b97869d-3b8e-474e-d8ad-c4425c794941"
      },
      "execution_count": 2,
      "outputs": [
        {
          "output_type": "stream",
          "name": "stdout",
          "text": [
            "2700\n"
          ]
        }
      ]
    },
    {
      "cell_type": "markdown",
      "source": [
        "# Create a program that takes a user's name and age as input and prints a greeting message+"
      ],
      "metadata": {
        "id": "pJnKjnqRzJdV"
      }
    },
    {
      "cell_type": "code",
      "source": [
        "name = input('Enter your name: ')\n",
        "age = float(input('Enter your age: '))\n",
        "\n",
        "print(f\"Hello, I am {name} and I am {age} Years Old.\")"
      ],
      "metadata": {
        "colab": {
          "base_uri": "https://localhost:8080/"
        },
        "id": "vWxc1mRhzJAU",
        "outputId": "09b8b0d2-f629-4782-b916-54200f946134"
      },
      "execution_count": 3,
      "outputs": [
        {
          "output_type": "stream",
          "name": "stdout",
          "text": [
            "Enter your name: Akash Pandey\n",
            "Enter your age: 27\n",
            "Hello, I am Akash Pandey and I am 27.0 Years Old.\n"
          ]
        }
      ]
    },
    {
      "cell_type": "markdown",
      "source": [
        "# Write a program to check if a number is even or odd+"
      ],
      "metadata": {
        "id": "CxmW7M3Wzuxh"
      }
    },
    {
      "cell_type": "code",
      "source": [
        "number = int(input('Enter the Number: '))\n",
        "\n",
        "if number % 2 == 0:\n",
        "   print(f\"The {number} is even number.\")\n",
        "else:\n",
        "   print(f\"The {number} is odd number.\")"
      ],
      "metadata": {
        "colab": {
          "base_uri": "https://localhost:8080/"
        },
        "id": "oFiLFEbkzxrJ",
        "outputId": "bba28584-b736-4a69-e648-d1d569f495a0"
      },
      "execution_count": 6,
      "outputs": [
        {
          "output_type": "stream",
          "name": "stdout",
          "text": [
            "Enter the Number: 17\n",
            "The 17 is odd number.\n"
          ]
        }
      ]
    },
    {
      "cell_type": "markdown",
      "source": [
        "# Given a list of numbers, find the maximum and minimum values"
      ],
      "metadata": {
        "id": "EIdwdXsk0Tpb"
      }
    },
    {
      "cell_type": "code",
      "source": [
        "lists = [15,78,65,95,74,25,35,42,85,41,65,65,41]\n",
        "\n",
        "print(f\"the maximum number in the list is {max(lists)} and Minimum number in the list is {min(lists)}\")"
      ],
      "metadata": {
        "colab": {
          "base_uri": "https://localhost:8080/"
        },
        "id": "HC0yMsid0PQo",
        "outputId": "2de49b07-6e70-4367-cf3b-a00997607399"
      },
      "execution_count": 7,
      "outputs": [
        {
          "output_type": "stream",
          "name": "stdout",
          "text": [
            "the maximum number in the list is 95 and Minimum number in the list is 15\n"
          ]
        }
      ]
    },
    {
      "cell_type": "markdown",
      "source": [
        "# Create a Python function to check if a given string is a palindrome\n"
      ],
      "metadata": {
        "id": "qfkCcbQK0q9f"
      }
    },
    {
      "cell_type": "code",
      "source": [
        "def is_palindrome(input_string):\n",
        "    # Convert the input string to lowercase and remove spaces\n",
        "    cleaned_string = ''.join(input_string.split()).lower()\n",
        "\n",
        "    # Compare the cleaned string with its reverse\n",
        "    return cleaned_string == cleaned_string[::-1]\n",
        "\n",
        "# Example usage:\n",
        "input_string = \"A man a plan a canal Panama\"\n",
        "result = is_palindrome(input_string)\n",
        "print(f'Is \"{input_string}\" a palindrome? {result}')\n"
      ],
      "metadata": {
        "colab": {
          "base_uri": "https://localhost:8080/"
        },
        "id": "BkbjsFuS03yC",
        "outputId": "e7a191d4-4320-48c6-aae1-8638fde9a96b"
      },
      "execution_count": 8,
      "outputs": [
        {
          "output_type": "stream",
          "name": "stdout",
          "text": [
            "Is \"A man a plan a canal Panama\" a palindrome? True\n"
          ]
        }
      ]
    },
    {
      "cell_type": "markdown",
      "source": [
        "# Calculate the compound interest for a given principal amount, interest rate, and time period"
      ],
      "metadata": {
        "id": "kCBq3j2w082q"
      }
    },
    {
      "cell_type": "code",
      "source": [
        "principal = float(input('Enter the Principal Amount: '))\n",
        "rate = float(input('Enter the Annual interest rate: ')) / 100\n",
        "number_of_times = float(input('Enter the Number of times interest is compounded per year: '))\n",
        "time = float(input('Enter time in years: '))\n",
        "\n",
        "A = principal * (1 + rate / number_of_times) ** (number_of_times * time)\n",
        "\n",
        "print(f\"The final amount (including interest) is: {A:.2f}\")\n"
      ],
      "metadata": {
        "colab": {
          "base_uri": "https://localhost:8080/"
        },
        "id": "VpEXf6sO1BqC",
        "outputId": "f4998cc9-8de5-436d-bf2d-e61ce0a12846"
      },
      "execution_count": 11,
      "outputs": [
        {
          "output_type": "stream",
          "name": "stdout",
          "text": [
            "Enter the Principal Amount: 15000\n",
            "Enter the Annual interest rate: 7\n",
            "Enter the Number of times interest is compounded per year: 3\n",
            "Enter time in years: 10\n",
            "The final amount (including interest) is: 29964.35\n"
          ]
        }
      ]
    },
    {
      "cell_type": "code",
      "source": [],
      "metadata": {
        "id": "JxrvB_JV2mmF"
      },
      "execution_count": null,
      "outputs": []
    }
  ]
}