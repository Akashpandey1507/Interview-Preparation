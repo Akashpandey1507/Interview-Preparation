{
 "cells": [
  {
   "cell_type": "markdown",
   "metadata": {
    "application/vnd.databricks.v1+cell": {
     "cellMetadata": {},
     "inputWidgets": {},
     "nuid": "c19993bc-7f00-459d-aae0-19a165105620",
     "showTitle": false,
     "title": ""
    }
   },
   "source": [
    "\n",
    "# Create the dataFrame"
   ]
  },
  {
   "cell_type": "code",
   "execution_count": 0,
   "metadata": {
    "application/vnd.databricks.v1+cell": {
     "cellMetadata": {
      "byteLimit": 2048000,
      "rowLimit": 10000
     },
     "inputWidgets": {},
     "nuid": "edd97d8f-4d60-4fe4-aa99-99d96a77b67e",
     "showTitle": false,
     "title": ""
    }
   },
   "outputs": [
    {
     "output_type": "stream",
     "name": "stdout",
     "output_type": "stream",
     "text": [
      "+---+---+------+\n|age| id|  name|\n+---+---+------+\n| 34|  1|   joy|\n| 43|  2| nihal|\n| 43|  3|  abhi|\n| 67|  4|aditya|\n| 34|  5|   raj|\n| 34|  6|   dip|\n+---+---+------+\n\n"
     ]
    }
   ],
   "source": [
    "data = [\n",
    "                {\n",
    "                    \"id\":1,\n",
    "                    \"name\": \"joy\",\n",
    "                    \"age\":34\n",
    "                },\n",
    "                {\n",
    "                    \"id\":2,\n",
    "                    \"name\": \"nihal\",\n",
    "                    \"age\":43\n",
    "                },\n",
    "                {\n",
    "                    \"id\":3,\n",
    "                    \"name\": \"abhi\",\n",
    "                    \"age\":43\n",
    "                },\n",
    "                {\n",
    "                    \"id\":4,\n",
    "                    \"name\": \"aditya\",\n",
    "                    \"age\":67\n",
    "                },\n",
    "                {\n",
    "                    \"id\":5,\n",
    "                    \"name\": \"raj\",\n",
    "                    \"age\":34\n",
    "                },\n",
    "                {\n",
    "                    \"id\":6,\n",
    "                    \"name\": \"dip\",\n",
    "                    \"age\":34\n",
    "                }\n",
    "]\n",
    "\n",
    "df = spark.createDataFrame(data)\n",
    "df.show()"
   ]
  },
  {
   "cell_type": "code",
   "execution_count": 0,
   "metadata": {
    "application/vnd.databricks.v1+cell": {
     "cellMetadata": {
      "byteLimit": 2048000,
      "rowLimit": 10000
     },
     "inputWidgets": {},
     "nuid": "214668cc-b200-4a96-9661-35ef22961bfa",
     "showTitle": false,
     "title": ""
    }
   },
   "outputs": [
    {
     "output_type": "stream",
     "name": "stdout",
     "output_type": "stream",
     "text": [
      "+---+------+---+\n| id|salary| yx|\n+---+------+---+\n|  1|  4000|  4|\n|  2|  3000|  5|\n|  3|  5000|  6|\n|  4|  1000|  2|\n|  7|  7000|  5|\n|  8|  2500|  3|\n+---+------+---+\n\n"
     ]
    }
   ],
   "source": [
    "data1 = [\n",
    "                {\n",
    "                    \"id\":1,\n",
    "                    \"yx\": 4,\n",
    "                    \"salary\":4000\n",
    "                },\n",
    "                {\n",
    "                    \"id\":2,\n",
    "                    \"yx\": 5,\n",
    "                    \"salary\":3000\n",
    "                },\n",
    "                {\n",
    "                    \"id\":3,\n",
    "                    \"yx\": 6,\n",
    "                    \"salary\":5000\n",
    "                },\n",
    "                {\n",
    "                    \"id\":4,\n",
    "                    \"yx\": 2,\n",
    "                    \"salary\":1000\n",
    "                },\n",
    "                {\n",
    "                    \"id\":7,\n",
    "                    \"yx\": 5,\n",
    "                    \"salary\":7000\n",
    "                },\n",
    "                {\n",
    "                    \"id\":8,\n",
    "                    \"yx\": 3,\n",
    "                    \"salary\":2500\n",
    "                }\n",
    "]\n",
    "\n",
    "df1 = spark.createDataFrame(data1)\n",
    "df1.show()"
   ]
  },
  {
   "cell_type": "markdown",
   "metadata": {
    "application/vnd.databricks.v1+cell": {
     "cellMetadata": {},
     "inputWidgets": {},
     "nuid": "a71f8388-437c-4541-96b0-35dc87168a1d",
     "showTitle": false,
     "title": ""
    }
   },
   "source": [
    "\n",
    "# Default \"Inner join\""
   ]
  },
  {
   "cell_type": "code",
   "execution_count": 0,
   "metadata": {
    "application/vnd.databricks.v1+cell": {
     "cellMetadata": {
      "byteLimit": 2048000,
      "rowLimit": 10000
     },
     "inputWidgets": {},
     "nuid": "15cb6975-226e-4a60-9de3-52fe8ab9cbd7",
     "showTitle": false,
     "title": ""
    }
   },
   "outputs": [
    {
     "output_type": "stream",
     "name": "stdout",
     "output_type": "stream",
     "text": [
      "+---+---+------+------+---+\n| id|age|  name|salary| yx|\n+---+---+------+------+---+\n|  1| 34|   joy|  4000|  4|\n|  2| 43| nihal|  3000|  5|\n|  3| 43|  abhi|  5000|  6|\n|  4| 67|aditya|  1000|  2|\n+---+---+------+------+---+\n\n"
     ]
    }
   ],
   "source": [
    "jdf = df.join(df1, \"id\")\n",
    "jdf.show()"
   ]
  },
  {
   "cell_type": "markdown",
   "metadata": {
    "application/vnd.databricks.v1+cell": {
     "cellMetadata": {},
     "inputWidgets": {},
     "nuid": "82ee33bb-9005-401e-81c6-b6d955a2bd88",
     "showTitle": false,
     "title": ""
    }
   },
   "source": [
    "\n",
    "# Left Join"
   ]
  },
  {
   "cell_type": "code",
   "execution_count": 0,
   "metadata": {
    "application/vnd.databricks.v1+cell": {
     "cellMetadata": {
      "byteLimit": 2048000,
      "rowLimit": 10000
     },
     "inputWidgets": {},
     "nuid": "bd01bd93-209b-453d-8ce8-b6dddb670142",
     "showTitle": false,
     "title": ""
    }
   },
   "outputs": [
    {
     "output_type": "stream",
     "name": "stdout",
     "output_type": "stream",
     "text": [
      "+---+---+------+------+----+\n| id|age|  name|salary|  yx|\n+---+---+------+------+----+\n|  1| 34|   joy|  4000|   4|\n|  2| 43| nihal|  3000|   5|\n|  3| 43|  abhi|  5000|   6|\n|  4| 67|aditya|  1000|   2|\n|  5| 34|   raj|  null|null|\n|  6| 34|   dip|  null|null|\n+---+---+------+------+----+\n\n"
     ]
    }
   ],
   "source": [
    "ldf = df.join(df1, \"id\", 'left')\n",
    "ldf.show()"
   ]
  },
  {
   "cell_type": "markdown",
   "metadata": {
    "application/vnd.databricks.v1+cell": {
     "cellMetadata": {},
     "inputWidgets": {},
     "nuid": "eb90cab5-e6b6-4640-83cb-cbb902b8b6d2",
     "showTitle": false,
     "title": ""
    }
   },
   "source": [
    "\n",
    "# Right Join"
   ]
  },
  {
   "cell_type": "code",
   "execution_count": 0,
   "metadata": {
    "application/vnd.databricks.v1+cell": {
     "cellMetadata": {
      "byteLimit": 2048000,
      "rowLimit": 10000
     },
     "inputWidgets": {},
     "nuid": "48e51821-9e72-45a3-afd3-61a0862eb566",
     "showTitle": false,
     "title": ""
    }
   },
   "outputs": [
    {
     "output_type": "stream",
     "name": "stdout",
     "output_type": "stream",
     "text": [
      "+---+------+---+----+------+\n| id|salary| yx| age|  name|\n+---+------+---+----+------+\n|  1|  4000|  4|  34|   joy|\n|  2|  3000|  5|  43| nihal|\n|  3|  5000|  6|  43|  abhi|\n|  4|  1000|  2|  67|aditya|\n|  7|  7000|  5|null|  null|\n|  8|  2500|  3|null|  null|\n+---+------+---+----+------+\n\n"
     ]
    }
   ],
   "source": [
    "rdf = df1.join(df, \"id\", 'left')\n",
    "rdf.show()"
   ]
  },
  {
   "cell_type": "markdown",
   "metadata": {
    "application/vnd.databricks.v1+cell": {
     "cellMetadata": {},
     "inputWidgets": {},
     "nuid": "8ed41bee-3bb1-4f6d-91bb-fd7adeb5096a",
     "showTitle": false,
     "title": ""
    }
   },
   "source": [
    "\n",
    "# Outer Join"
   ]
  },
  {
   "cell_type": "code",
   "execution_count": 0,
   "metadata": {
    "application/vnd.databricks.v1+cell": {
     "cellMetadata": {
      "byteLimit": 2048000,
      "rowLimit": 10000
     },
     "inputWidgets": {},
     "nuid": "1ae1949a-1aa4-43a0-bf20-ca9623579ea7",
     "showTitle": false,
     "title": ""
    }
   },
   "outputs": [
    {
     "output_type": "stream",
     "name": "stdout",
     "output_type": "stream",
     "text": [
      "+---+----+------+------+----+\n| id| age|  name|salary|  yx|\n+---+----+------+------+----+\n|  1|  34|   joy|  4000|   4|\n|  2|  43| nihal|  3000|   5|\n|  3|  43|  abhi|  5000|   6|\n|  4|  67|aditya|  1000|   2|\n|  5|  34|   raj|  null|null|\n|  6|  34|   dip|  null|null|\n|  7|null|  null|  7000|   5|\n|  8|null|  null|  2500|   3|\n+---+----+------+------+----+\n\n"
     ]
    }
   ],
   "source": [
    "oldf = df.join(df1, \"id\", \"outer\")\n",
    "oldf.show()"
   ]
  },
  {
   "cell_type": "markdown",
   "metadata": {
    "application/vnd.databricks.v1+cell": {
     "cellMetadata": {},
     "inputWidgets": {},
     "nuid": "3c6fad7a-61cf-4e52-99ac-72c0a31ac870",
     "showTitle": false,
     "title": ""
    }
   },
   "source": [
    "\n",
    "# left-semi Join"
   ]
  },
  {
   "cell_type": "code",
   "execution_count": 0,
   "metadata": {
    "application/vnd.databricks.v1+cell": {
     "cellMetadata": {
      "byteLimit": 2048000,
      "rowLimit": 10000
     },
     "inputWidgets": {},
     "nuid": "f9a07c0a-fd74-4139-8286-89cad71de2fe",
     "showTitle": false,
     "title": ""
    }
   },
   "outputs": [
    {
     "output_type": "stream",
     "name": "stdout",
     "output_type": "stream",
     "text": [
      "+---+---+------+\n|age| id|  name|\n+---+---+------+\n| 34|  1|   joy|\n| 43|  2| nihal|\n| 43|  3|  abhi|\n| 67|  4|aditya|\n| 34|  5|   raj|\n| 34|  6|   dip|\n+---+---+------+\n\n"
     ]
    }
   ],
   "source": [
    "df.show()"
   ]
  },
  {
   "cell_type": "code",
   "execution_count": 0,
   "metadata": {
    "application/vnd.databricks.v1+cell": {
     "cellMetadata": {
      "byteLimit": 2048000,
      "rowLimit": 10000
     },
     "inputWidgets": {},
     "nuid": "43740e95-b63c-497e-9486-52e9dd821ca0",
     "showTitle": false,
     "title": ""
    }
   },
   "outputs": [
    {
     "output_type": "stream",
     "name": "stdout",
     "output_type": "stream",
     "text": [
      "+---+------+---+\n| id|salary| yx|\n+---+------+---+\n|  1|  4000|  4|\n|  2|  3000|  5|\n|  3|  5000|  6|\n|  4|  1000|  2|\n|  7|  7000|  5|\n|  8|  2500|  3|\n+---+------+---+\n\n"
     ]
    }
   ],
   "source": [
    "df1.show()"
   ]
  },
  {
   "cell_type": "code",
   "execution_count": 0,
   "metadata": {
    "application/vnd.databricks.v1+cell": {
     "cellMetadata": {
      "byteLimit": 2048000,
      "rowLimit": 10000
     },
     "inputWidgets": {},
     "nuid": "9faae036-da03-4613-b752-3c4b56743299",
     "showTitle": false,
     "title": ""
    }
   },
   "outputs": [
    {
     "output_type": "stream",
     "name": "stdout",
     "output_type": "stream",
     "text": [
      "+---+---+------+\n| id|age|  name|\n+---+---+------+\n|  1| 34|   joy|\n|  2| 43| nihal|\n|  3| 43|  abhi|\n|  4| 67|aditya|\n+---+---+------+\n\n"
     ]
    }
   ],
   "source": [
    "sldf = df.join(df1, \"id\", \"left_semi\")\n",
    "sldf.show()"
   ]
  },
  {
   "cell_type": "code",
   "execution_count": 0,
   "metadata": {
    "application/vnd.databricks.v1+cell": {
     "cellMetadata": {
      "byteLimit": 2048000,
      "rowLimit": 10000
     },
     "inputWidgets": {},
     "nuid": "f5453697-d342-4a0a-95c2-1c63e2e2f717",
     "showTitle": false,
     "title": ""
    }
   },
   "outputs": [
    {
     "output_type": "stream",
     "name": "stdout",
     "output_type": "stream",
     "text": [
      "+------+\n|  name|\n+------+\n|   joy|\n| nihal|\n|  abhi|\n|aditya|\n+------+\n\n"
     ]
    }
   ],
   "source": [
    "sldf = df.join(df1, \"id\", \"left_semi\").select(\"name\")\n",
    "sldf.show()"
   ]
  },
  {
   "cell_type": "markdown",
   "metadata": {
    "application/vnd.databricks.v1+cell": {
     "cellMetadata": {},
     "inputWidgets": {},
     "nuid": "d8973356-3d15-45e1-839b-e5b07e152f92",
     "showTitle": false,
     "title": ""
    }
   },
   "source": [
    "\n",
    "# left_anti Join"
   ]
  },
  {
   "cell_type": "code",
   "execution_count": 0,
   "metadata": {
    "application/vnd.databricks.v1+cell": {
     "cellMetadata": {
      "byteLimit": 2048000,
      "rowLimit": 10000
     },
     "inputWidgets": {},
     "nuid": "393807e8-d623-40ad-ae45-e2363e916626",
     "showTitle": false,
     "title": ""
    }
   },
   "outputs": [
    {
     "output_type": "stream",
     "name": "stdout",
     "output_type": "stream",
     "text": [
      "+---+------+---+\n| id|salary| yx|\n+---+------+---+\n|  1|  4000|  4|\n|  2|  3000|  5|\n|  3|  5000|  6|\n|  4|  1000|  2|\n|  7|  7000|  5|\n|  8|  2500|  3|\n+---+------+---+\n\n"
     ]
    }
   ],
   "source": [
    "df1.show()"
   ]
  },
  {
   "cell_type": "code",
   "execution_count": 0,
   "metadata": {
    "application/vnd.databricks.v1+cell": {
     "cellMetadata": {
      "byteLimit": 2048000,
      "rowLimit": 10000
     },
     "inputWidgets": {},
     "nuid": "fdc73edb-35dd-4a0d-bbf6-80d2fc902dbb",
     "showTitle": false,
     "title": ""
    }
   },
   "outputs": [
    {
     "output_type": "stream",
     "name": "stdout",
     "output_type": "stream",
     "text": [
      "+---+---+------+\n|age| id|  name|\n+---+---+------+\n| 34|  1|   joy|\n| 43|  2| nihal|\n| 43|  3|  abhi|\n| 67|  4|aditya|\n| 34|  5|   raj|\n| 34|  6|   dip|\n+---+---+------+\n\n"
     ]
    }
   ],
   "source": [
    "df.show()"
   ]
  },
  {
   "cell_type": "code",
   "execution_count": 0,
   "metadata": {
    "application/vnd.databricks.v1+cell": {
     "cellMetadata": {
      "byteLimit": 2048000,
      "rowLimit": 10000
     },
     "inputWidgets": {},
     "nuid": "297be5da-63b0-4220-9d20-4b9567452a32",
     "showTitle": false,
     "title": ""
    }
   },
   "outputs": [
    {
     "output_type": "stream",
     "name": "stdout",
     "output_type": "stream",
     "text": [
      "+---+---+----+\n| id|age|name|\n+---+---+----+\n|  5| 34| raj|\n|  6| 34| dip|\n+---+---+----+\n\n"
     ]
    }
   ],
   "source": [
    "lldf = df.join(df1, \"id\", \"left_anti\")\n",
    "lldf.show()"
   ]
  },
  {
   "cell_type": "code",
   "execution_count": 0,
   "metadata": {
    "application/vnd.databricks.v1+cell": {
     "cellMetadata": {
      "byteLimit": 2048000,
      "rowLimit": 10000
     },
     "inputWidgets": {},
     "nuid": "86092101-4f66-4365-8823-da38ac975767",
     "showTitle": false,
     "title": ""
    }
   },
   "outputs": [
    {
     "output_type": "stream",
     "name": "stdout",
     "output_type": "stream",
     "text": [
      "+---+----+------+------+---+\n| id| age|  name|salary| yx|\n+---+----+------+------+---+\n|  1|  34|   joy|  4000|  4|\n|  2|  43| nihal|  3000|  5|\n|  3|  43|  abhi|  5000|  6|\n|  4|  67|aditya|  1000|  2|\n|  7|null|  null|  7000|  5|\n|  8|null|  null|  2500|  3|\n+---+----+------+------+---+\n\n"
     ]
    }
   ],
   "source": [
    "rldf = df.join(df1, \"id\", \"right\")\n",
    "rldf.show()"
   ]
  }
 ],
 "metadata": {
  "application/vnd.databricks.v1+notebook": {
   "dashboards": [],
   "language": "python",
   "notebookMetadata": {
    "pythonIndentUnit": 4
   },
   "notebookName": "SparkJoin",
   "widgets": {}
  }
 },
 "nbformat": 4,
 "nbformat_minor": 0
}
