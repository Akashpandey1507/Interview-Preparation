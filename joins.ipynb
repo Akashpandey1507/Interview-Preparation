{
 "cells": [
  {
   "cell_type": "code",
   "execution_count": 0,
   "metadata": {
    "application/vnd.databricks.v1+cell": {
     "cellMetadata": {},
     "inputWidgets": {},
     "nuid": "3848d2e7-6b46-4a1e-bb5c-1bdbd522e529",
     "showTitle": false,
     "title": ""
    }
   },
   "outputs": [
    {
     "output_type": "stream",
     "name": "stdout",
     "output_type": "stream",
     "text": [
      "+---+------+---+\n| id|  name|age|\n+---+------+---+\n|  1|   joy| 34|\n|  2| nihal| 43|\n|  3|  abhi| 43|\n|  4|aditya| 67|\n|  5|   raj| 34|\n|  6|   dip| 34|\n+---+------+---+\n\n"
     ]
    }
   ],
   "source": [
    "per = spark.read.csv('/FileStore/tables/per.txt',header=True,inferSchema=True)\n",
    "per.show()"
   ]
  },
  {
   "cell_type": "code",
   "execution_count": 0,
   "metadata": {
    "application/vnd.databricks.v1+cell": {
     "cellMetadata": {},
     "inputWidgets": {},
     "nuid": "19bb3034-5c7a-4390-b6b3-77e73d43f61e",
     "showTitle": false,
     "title": ""
    }
   },
   "outputs": [
    {
     "output_type": "stream",
     "name": "stdout",
     "output_type": "stream",
     "text": [
      "+---+---+------+\n| id| yx|salary|\n+---+---+------+\n|  1|  4|  4000|\n|  2|  5|  3000|\n|  3|  6|  5000|\n|  4|  2|  1000|\n|  7|  5|  7000|\n|  8|  3|  2500|\n+---+---+------+\n\n"
     ]
    }
   ],
   "source": [
    "pro = spark.read.csv('/FileStore/tables/pro.txt',header=True,inferSchema=True)\n",
    "pro.show()"
   ]
  },
  {
   "cell_type": "code",
   "execution_count": 0,
   "metadata": {
    "application/vnd.databricks.v1+cell": {
     "cellMetadata": {},
     "inputWidgets": {},
     "nuid": "5c0a889b-b0f2-41c4-b303-58168199f79b",
     "showTitle": false,
     "title": ""
    }
   },
   "outputs": [
    {
     "output_type": "stream",
     "name": "stdout",
     "output_type": "stream",
     "text": [
      "+---+------+---+---+------+\n| id|  name|age| yx|salary|\n+---+------+---+---+------+\n|  1|   joy| 34|  4|  4000|\n|  2| nihal| 43|  5|  3000|\n|  3|  abhi| 43|  6|  5000|\n|  4|aditya| 67|  2|  1000|\n+---+------+---+---+------+\n\n"
     ]
    }
   ],
   "source": [
    "#if metadata are same\n",
    "\n",
    "df = per.join(pro,on=['id'])\n",
    "df.show()"
   ]
  },
  {
   "cell_type": "code",
   "execution_count": 0,
   "metadata": {
    "application/vnd.databricks.v1+cell": {
     "cellMetadata": {},
     "inputWidgets": {},
     "nuid": "5253d17e-eb46-480d-8422-bc5fef4d06aa",
     "showTitle": false,
     "title": ""
    }
   },
   "outputs": [
    {
     "output_type": "stream",
     "name": "stdout",
     "output_type": "stream",
     "text": [
      "+---+------+---+---+---+------+\n| id|  name|age| id| yx|salary|\n+---+------+---+---+---+------+\n|  1|   joy| 34|  1|  4|  4000|\n|  2| nihal| 43|  2|  5|  3000|\n|  3|  abhi| 43|  3|  6|  5000|\n|  4|aditya| 67|  4|  2|  1000|\n+---+------+---+---+---+------+\n\n"
     ]
    }
   ],
   "source": [
    "#if metadata are different\n",
    "df = per.join(pro,per.id == pro.id)\n",
    "df.show()"
   ]
  },
  {
   "cell_type": "code",
   "execution_count": 0,
   "metadata": {
    "application/vnd.databricks.v1+cell": {
     "cellMetadata": {},
     "inputWidgets": {},
     "nuid": "eb56f4f1-742e-4d71-8a17-1b4fc1a0fccb",
     "showTitle": false,
     "title": ""
    }
   },
   "outputs": [
    {
     "output_type": "stream",
     "name": "stdout",
     "output_type": "stream",
     "text": [
      "+---+------+---+---+------+\n| id|  name|age| yx|salary|\n+---+------+---+---+------+\n|  1|   joy| 34|  4|  4000|\n|  2| nihal| 43|  5|  3000|\n|  3|  abhi| 43|  6|  5000|\n|  4|aditya| 67|  2|  1000|\n+---+------+---+---+------+\n\n"
     ]
    }
   ],
   "source": [
    "#using how\n",
    "\n",
    "df = per.join(pro,on=['id'],how='inner')\n",
    "df.show()"
   ]
  },
  {
   "cell_type": "code",
   "execution_count": 0,
   "metadata": {
    "application/vnd.databricks.v1+cell": {
     "cellMetadata": {},
     "inputWidgets": {},
     "nuid": "5b3cf6a2-09b4-4990-b976-31326db3aa11",
     "showTitle": false,
     "title": ""
    }
   },
   "outputs": [
    {
     "output_type": "stream",
     "name": "stdout",
     "output_type": "stream",
     "text": [
      "+---+------+----+----+------+\n| id|  name| age|  yx|salary|\n+---+------+----+----+------+\n|  1|   joy|  34|   4|  4000|\n|  2| nihal|  43|   5|  3000|\n|  3|  abhi|  43|   6|  5000|\n|  4|aditya|  67|   2|  1000|\n|  5|   raj|  34|null|  null|\n|  6|   dip|  34|null|  null|\n|  7|  null|null|   5|  7000|\n|  8|  null|null|   3|  2500|\n+---+------+----+----+------+\n\n"
     ]
    }
   ],
   "source": [
    "df = per.join(pro,on=['id'],how='outer')\n",
    "df.show()"
   ]
  },
  {
   "cell_type": "code",
   "execution_count": 0,
   "metadata": {
    "application/vnd.databricks.v1+cell": {
     "cellMetadata": {},
     "inputWidgets": {},
     "nuid": "434c4686-3ba8-403e-97db-1fd6379dd947",
     "showTitle": false,
     "title": ""
    }
   },
   "outputs": [
    {
     "output_type": "stream",
     "name": "stdout",
     "output_type": "stream",
     "text": [
      "+---+------+---+----+------+\n| id|  name|age|  yx|salary|\n+---+------+---+----+------+\n|  1|   joy| 34|   4|  4000|\n|  2| nihal| 43|   5|  3000|\n|  3|  abhi| 43|   6|  5000|\n|  4|aditya| 67|   2|  1000|\n|  5|   raj| 34|null|  null|\n|  6|   dip| 34|null|  null|\n+---+------+---+----+------+\n\n"
     ]
    }
   ],
   "source": [
    "df = per.join(pro,on=['id'],how='left')\n",
    "df.show()"
   ]
  },
  {
   "cell_type": "code",
   "execution_count": 0,
   "metadata": {
    "application/vnd.databricks.v1+cell": {
     "cellMetadata": {},
     "inputWidgets": {},
     "nuid": "84218377-d7cd-44b5-9bf2-1f4743a14458",
     "showTitle": false,
     "title": ""
    }
   },
   "outputs": [
    {
     "output_type": "stream",
     "name": "stdout",
     "output_type": "stream",
     "text": [
      "+---+------+----+---+------+\n| id|  name| age| yx|salary|\n+---+------+----+---+------+\n|  1|   joy|  34|  4|  4000|\n|  2| nihal|  43|  5|  3000|\n|  3|  abhi|  43|  6|  5000|\n|  4|aditya|  67|  2|  1000|\n|  7|  null|null|  5|  7000|\n|  8|  null|null|  3|  2500|\n+---+------+----+---+------+\n\n"
     ]
    }
   ],
   "source": [
    "df = per.join(pro,on=['id'],how='right')\n",
    "df.show()"
   ]
  },
  {
   "cell_type": "code",
   "execution_count": 0,
   "metadata": {
    "application/vnd.databricks.v1+cell": {
     "cellMetadata": {},
     "inputWidgets": {},
     "nuid": "d21ffd09-cc50-4f1f-bccf-93d0523e8bf9",
     "showTitle": false,
     "title": ""
    }
   },
   "outputs": [
    {
     "output_type": "stream",
     "name": "stdout",
     "output_type": "stream",
     "text": [
      "+---+------+---+\n| id|  name|age|\n+---+------+---+\n|  1|   joy| 34|\n|  2| nihal| 43|\n|  3|  abhi| 43|\n|  4|aditya| 67|\n+---+------+---+\n\n"
     ]
    }
   ],
   "source": [
    "df = per.join(pro,on=['id'],how='left_semi')\n",
    "df.show()"
   ]
  },
  {
   "cell_type": "code",
   "execution_count": 0,
   "metadata": {
    "application/vnd.databricks.v1+cell": {
     "cellMetadata": {},
     "inputWidgets": {},
     "nuid": "47d400e1-d8a7-455c-a5e4-5b93ff60957e",
     "showTitle": false,
     "title": ""
    }
   },
   "outputs": [
    {
     "output_type": "stream",
     "name": "stdout",
     "output_type": "stream",
     "text": [
      "+---+----+---+\n| id|name|age|\n+---+----+---+\n|  5| raj| 34|\n|  6| dip| 34|\n+---+----+---+\n\n"
     ]
    }
   ],
   "source": [
    "df = per.join(pro,on=['id'],how='left_anti')\n",
    "df.show()"
   ]
  },
  {
   "cell_type": "code",
   "execution_count": 0,
   "metadata": {
    "application/vnd.databricks.v1+cell": {
     "cellMetadata": {},
     "inputWidgets": {},
     "nuid": "950e25da-a35d-43ce-b1c0-e2035d51e952",
     "showTitle": false,
     "title": ""
    }
   },
   "outputs": [
    {
     "output_type": "stream",
     "name": "stdout",
     "output_type": "stream",
     "text": [
      "+---+------+---+---+---+------+\n| id|  name|age| id| yx|salary|\n+---+------+---+---+---+------+\n|  2| nihal| 43|  1|  4|  4000|\n|  3|  abhi| 43|  1|  4|  4000|\n|  3|  abhi| 43|  2|  5|  3000|\n|  4|aditya| 67|  1|  4|  4000|\n|  4|aditya| 67|  2|  5|  3000|\n|  4|aditya| 67|  3|  6|  5000|\n|  5|   raj| 34|  1|  4|  4000|\n|  5|   raj| 34|  2|  5|  3000|\n|  5|   raj| 34|  3|  6|  5000|\n|  5|   raj| 34|  4|  2|  1000|\n|  6|   dip| 34|  1|  4|  4000|\n|  6|   dip| 34|  2|  5|  3000|\n|  6|   dip| 34|  3|  6|  5000|\n|  6|   dip| 34|  4|  2|  1000|\n+---+------+---+---+---+------+\n\n"
     ]
    }
   ],
   "source": [
    "\n",
    "df = per.join(pro,per.id > pro.id)\n",
    "df.show()"
   ]
  },
  {
   "cell_type": "code",
   "execution_count": 0,
   "metadata": {
    "application/vnd.databricks.v1+cell": {
     "cellMetadata": {},
     "inputWidgets": {},
     "nuid": "cd6a1164-327f-4745-ac9c-f10011485a29",
     "showTitle": false,
     "title": ""
    }
   },
   "outputs": [
    {
     "output_type": "stream",
     "name": "stdout",
     "output_type": "stream",
     "text": [
      "Out[7]: [FileInfo(path='dbfs:/FileStore/tables/ContainsNull.csv', name='ContainsNull.csv', size=61, modificationTime=1657809478000),\n FileInfo(path='dbfs:/FileStore/tables/amazonperfect-1.csv', name='amazonperfect-1.csv', size=235886, modificationTime=1675246429000),\n FileInfo(path='dbfs:/FileStore/tables/amazonperfect.csv', name='amazonperfect.csv', size=235886, modificationTime=1675246379000),\n FileInfo(path='dbfs:/FileStore/tables/amazonperfectnew.csv', name='amazonperfectnew.csv', size=235886, modificationTime=1675695798000),\n FileInfo(path='dbfs:/FileStore/tables/appl_stock.csv', name='appl_stock.csv', size=143130, modificationTime=1657809478000),\n FileInfo(path='dbfs:/FileStore/tables/databig.csv', name='databig.csv', size=41633, modificationTime=1675737970000),\n FileInfo(path='dbfs:/FileStore/tables/ddwalmart.csv', name='ddwalmart.csv', size=14216338, modificationTime=1673864973000),\n FileInfo(path='dbfs:/FileStore/tables/heroes.csv', name='heroes.csv', size=46275, modificationTime=1657812172000),\n FileInfo(path='dbfs:/FileStore/tables/jj.txt', name='jj.txt', size=39, modificationTime=1662889465000),\n FileInfo(path='dbfs:/FileStore/tables/movies.csv', name='movies.csv', size=3038099, modificationTime=1660705569000),\n FileInfo(path='dbfs:/FileStore/tables/people.json', name='people.json', size=73, modificationTime=1657809479000),\n FileInfo(path='dbfs:/FileStore/tables/per.txt', name='per.txt', size=77, modificationTime=1657723099000),\n FileInfo(path='dbfs:/FileStore/tables/pokemon-1.csv', name='pokemon-1.csv', size=41634, modificationTime=1657119415000),\n FileInfo(path='dbfs:/FileStore/tables/pokemon-2.csv', name='pokemon-2.csv', size=41634, modificationTime=1673865589000),\n FileInfo(path='dbfs:/FileStore/tables/pokemon.csv', name='pokemon.csv', size=41634, modificationTime=1657118992000),\n FileInfo(path='dbfs:/FileStore/tables/pro.txt', name='pro.txt', size=72, modificationTime=1657723099000),\n FileInfo(path='dbfs:/FileStore/tables/rawone.csv', name='rawone.csv', size=102, modificationTime=1660838580000),\n FileInfo(path='dbfs:/FileStore/tables/result.csv', name='result.csv', size=27041249, modificationTime=1676303546000),\n FileInfo(path='dbfs:/FileStore/tables/sales_info-1.csv', name='sales_info-1.csv', size=196, modificationTime=1659023490000),\n FileInfo(path='dbfs:/FileStore/tables/sales_info.csv', name='sales_info.csv', size=196, modificationTime=1657809479000),\n FileInfo(path='dbfs:/FileStore/tables/stock_data.csv', name='stock_data.csv', size=84492, modificationTime=1675263174000),\n FileInfo(path='dbfs:/FileStore/tables/waldata.csv', name='waldata.csv', size=14462345, modificationTime=1675762948000),\n FileInfo(path='dbfs:/FileStore/tables/walmart-1.csv', name='walmart-1.csv', size=87012, modificationTime=1616673646000),\n FileInfo(path='dbfs:/FileStore/tables/walmart-2.csv', name='walmart-2.csv', size=87012, modificationTime=1616673746000),\n FileInfo(path='dbfs:/FileStore/tables/walmart-3.csv', name='walmart-3.csv', size=14462345, modificationTime=1657725501000),\n FileInfo(path='dbfs:/FileStore/tables/walmart-4.csv', name='walmart-4.csv', size=14462345, modificationTime=1673432285000),\n FileInfo(path='dbfs:/FileStore/tables/walmart.csv', name='walmart.csv', size=87012, modificationTime=1616671486000),\n FileInfo(path='dbfs:/FileStore/tables/walmart_stock.csv', name='walmart_stock.csv', size=90266, modificationTime=1616670157000)]"
     ]
    }
   ],
   "source": [
    "dbutils.fs.ls(\"/FileStore/tables\")"
   ]
  },
  {
   "cell_type": "code",
   "execution_count": 0,
   "metadata": {
    "application/vnd.databricks.v1+cell": {
     "cellMetadata": {},
     "inputWidgets": {},
     "nuid": "447b2344-d8ba-4c09-ad5e-9f73ee6907c2",
     "showTitle": false,
     "title": ""
    }
   },
   "outputs": [],
   "source": []
  }
 ],
 "metadata": {
  "application/vnd.databricks.v1+notebook": {
   "dashboards": [],
   "language": "python",
   "notebookMetadata": {
    "pythonIndentUnit": 2
   },
   "notebookName": "joins",
   "widgets": {}
  }
 },
 "nbformat": 4,
 "nbformat_minor": 0
}
